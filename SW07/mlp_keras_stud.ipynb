{
 "cells": [
  {
   "cell_type": "markdown",
   "metadata": {},
   "source": [
    "# Regularisation, Parameter Initialisation, Batchnorm, Optimisers\n",
    "\n",
    "Create and compare different models (as described below).\n",
    "\n",
    "Inspect the results by using tensorboard.\n"
   ]
  },
  {
   "cell_type": "code",
   "execution_count": 45,
   "metadata": {},
   "outputs": [],
   "source": [
    "import tensorflow as tf\n",
    "import datetime\n",
    "import os\n",
    "import matplotlib.pyplot as plt"
   ]
  },
  {
   "cell_type": "code",
   "execution_count": 47,
   "metadata": {},
   "outputs": [],
   "source": [
    "# Load the TensorBoard notebook extension\n",
    "%load_ext tensorboard"
   ]
  },
  {
   "cell_type": "code",
   "execution_count": 19,
   "metadata": {},
   "outputs": [],
   "source": [
    "mnist = tf.keras.datasets.mnist\n",
    "(x_train, y_train),(x_test, y_test) = mnist.load_data()\n",
    "x_train, x_test = x_train / 255.0, x_test / 255.0"
   ]
  },
  {
   "cell_type": "code",
   "execution_count": 20,
   "metadata": {},
   "outputs": [],
   "source": [
    "x_train = x_train.reshape(-1, 28**2)\n",
    "x_test = x_test.reshape(-1, 28**2)"
   ]
  },
  {
   "cell_type": "markdown",
   "metadata": {},
   "source": [
    "### Parameters\n"
   ]
  },
  {
   "cell_type": "code",
   "execution_count": 5,
   "metadata": {},
   "outputs": [],
   "source": [
    "layersizes = [50,50,50,10]\n",
    "batchsize = 32 \n",
    "epochs = 20\n",
    "learning_rate = 0.1\n",
    "\n",
    "tensorboard_folder = \"tb_logs_keras\"\n",
    "outdir = os.path.join(os.getcwd(), tensorboard_folder)"
   ]
  },
  {
   "cell_type": "markdown",
   "metadata": {},
   "source": [
    "### Baseline Model\n",
    "\n",
    "* No regularisation\n",
    "* No Batch Norm\n",
    "* Default parameter initialisation of Keras: What is the default?\n",
    "* Sigmoid activation (last layer always softmax)\n",
    "* SGD with given batchsize and learning rate, no accelerators (no momentum nor RMS prop).\n",
    "\n",
    "Now, create the baseline model. \n",
    "\n",
    "Possibly, add convenient naming to the layers so that you can more easily read the outputs in tensorboard. "
   ]
  },
  {
   "cell_type": "code",
   "execution_count": 32,
   "metadata": {},
   "outputs": [],
   "source": [
    "def baseline_model(layersizes, activation):\n",
    "    \"\"\"\n",
    "    Provides an MLP model (using Sequential) with given layersizes. The last layer is a softmax layer.\n",
    "    As activation function use sigmoid.\n",
    "        \n",
    "    Arguments:\n",
    "    layersizes -- list of integers with the number of hidden units per layer. The last element is for MNIST 10.\n",
    "    activation -- string specifying the activation function for the hidden layers to be used.\n",
    "    \n",
    "    \"\"\"\n",
    "    ### START YOUR CODE HERE ###\n",
    "    model = tf.keras.models.Sequential()\n",
    "    model.add(tf.keras.layers.Input(shape=28**2))\n",
    "    for i, layer_size in enumerate(layersizes[:-1]):\n",
    "        model.add(tf.keras.layers.Dense(layer_size, activation=activation, name='hidden_layer_{}'.format(i)))\n",
    "    model.add(tf.keras.layers.Dense(layersizes[-1], activation='softmax', name='output_layer'))\n",
    "    ### STOP YOUR CODE HERE ###\n",
    "\n",
    "    return model"
   ]
  },
  {
   "cell_type": "markdown",
   "metadata": {},
   "source": [
    "#### Run model\n",
    "\n",
    "Use cross entropy as loss function."
   ]
  },
  {
   "cell_type": "code",
   "execution_count": 37,
   "metadata": {
    "scrolled": true
   },
   "outputs": [
    {
     "name": "stdout",
     "output_type": "stream",
     "text": [
      "Model: \"sequential_13\"\n",
      "_________________________________________________________________\n",
      "Layer (type)                 Output Shape              Param #   \n",
      "=================================================================\n",
      "hidden_layer_0 (Dense)       (None, 50)                39250     \n",
      "_________________________________________________________________\n",
      "hidden_layer_1 (Dense)       (None, 50)                2550      \n",
      "_________________________________________________________________\n",
      "hidden_layer_2 (Dense)       (None, 50)                2550      \n",
      "_________________________________________________________________\n",
      "output_layer (Dense)         (None, 10)                510       \n",
      "=================================================================\n",
      "Total params: 44,860\n",
      "Trainable params: 44,860\n",
      "Non-trainable params: 0\n",
      "_________________________________________________________________\n",
      "Epoch 1/20\n",
      "1500/1500 [==============================] - 3s 2ms/step - loss: 1.9319 - accuracy: 0.3193 - val_loss: 1.0315 - val_accuracy: 0.6466\n",
      "Epoch 2/20\n",
      "1500/1500 [==============================] - 3s 2ms/step - loss: 0.7411 - accuracy: 0.7724 - val_loss: 0.5075 - val_accuracy: 0.8652\n",
      "Epoch 3/20\n",
      "1500/1500 [==============================] - 3s 2ms/step - loss: 0.4386 - accuracy: 0.8791 - val_loss: 0.3605 - val_accuracy: 0.8992\n",
      "Epoch 4/20\n",
      "1500/1500 [==============================] - 2s 2ms/step - loss: 0.3214 - accuracy: 0.9104 - val_loss: 0.2714 - val_accuracy: 0.9248\n",
      "Epoch 5/20\n",
      "1500/1500 [==============================] - 2s 2ms/step - loss: 0.2587 - accuracy: 0.9277 - val_loss: 0.2294 - val_accuracy: 0.9358\n",
      "Epoch 6/20\n",
      "1500/1500 [==============================] - 2s 2ms/step - loss: 0.2161 - accuracy: 0.9389 - val_loss: 0.2037 - val_accuracy: 0.9433\n",
      "Epoch 7/20\n",
      "1500/1500 [==============================] - 3s 2ms/step - loss: 0.1866 - accuracy: 0.9464 - val_loss: 0.1965 - val_accuracy: 0.9433\n",
      "Epoch 8/20\n",
      "1500/1500 [==============================] - 3s 2ms/step - loss: 0.1660 - accuracy: 0.9524 - val_loss: 0.1669 - val_accuracy: 0.9511\n",
      "Epoch 9/20\n",
      "1500/1500 [==============================] - 3s 2ms/step - loss: 0.1490 - accuracy: 0.9569 - val_loss: 0.1647 - val_accuracy: 0.9513\n",
      "Epoch 10/20\n",
      "1500/1500 [==============================] - 3s 2ms/step - loss: 0.1368 - accuracy: 0.9606 - val_loss: 0.1523 - val_accuracy: 0.9556\n",
      "Epoch 11/20\n",
      "1500/1500 [==============================] - 3s 2ms/step - loss: 0.1255 - accuracy: 0.9643 - val_loss: 0.1533 - val_accuracy: 0.9553\n",
      "Epoch 12/20\n",
      "1500/1500 [==============================] - 3s 2ms/step - loss: 0.1166 - accuracy: 0.9665 - val_loss: 0.1452 - val_accuracy: 0.9588\n",
      "Epoch 13/20\n",
      "1500/1500 [==============================] - 3s 2ms/step - loss: 0.1080 - accuracy: 0.9692 - val_loss: 0.1379 - val_accuracy: 0.9597\n",
      "Epoch 14/20\n",
      "1500/1500 [==============================] - 3s 2ms/step - loss: 0.1010 - accuracy: 0.9715 - val_loss: 0.1344 - val_accuracy: 0.9612\n",
      "Epoch 15/20\n",
      "1500/1500 [==============================] - 3s 2ms/step - loss: 0.0949 - accuracy: 0.9722 - val_loss: 0.1362 - val_accuracy: 0.9592\n",
      "Epoch 16/20\n",
      "1500/1500 [==============================] - 3s 2ms/step - loss: 0.0899 - accuracy: 0.9737 - val_loss: 0.1331 - val_accuracy: 0.9619\n",
      "Epoch 17/20\n",
      "1500/1500 [==============================] - 3s 2ms/step - loss: 0.0847 - accuracy: 0.9750 - val_loss: 0.1367 - val_accuracy: 0.9592\n",
      "Epoch 18/20\n",
      "1500/1500 [==============================] - 2s 2ms/step - loss: 0.0796 - accuracy: 0.9764 - val_loss: 0.1308 - val_accuracy: 0.9619\n",
      "Epoch 19/20\n",
      "1500/1500 [==============================] - 3s 2ms/step - loss: 0.0755 - accuracy: 0.9785 - val_loss: 0.1260 - val_accuracy: 0.9640\n",
      "Epoch 20/20\n",
      "1500/1500 [==============================] - 3s 2ms/step - loss: 0.0711 - accuracy: 0.9793 - val_loss: 0.1327 - val_accuracy: 0.9616\n"
     ]
    }
   ],
   "source": [
    "run_name = \"baseline\"\n",
    "rundir = os.path.join(outdir, run_name)\n",
    "\n",
    "tensorboard_callback = tf.keras.callbacks.TensorBoard(log_dir=rundir, histogram_freq=1, profile_batch=0)\n",
    "# start tensorboard on command line with tensorboard -logs <path to outdir> \n",
    "\n",
    "\n",
    "### START YOUR CODE HERE ###\n",
    "model = baseline_model(layersizes, 'sigmoid')\n",
    "model.summary()\n",
    "\n",
    "sgd = tf.keras.optimizers.SGD(learning_rate=learning_rate)\n",
    "model.compile(optimizer=sgd, loss='sparse_categorical_crossentropy', metrics=['accuracy'])\n",
    "history = model.fit(x_train, y_train, \n",
    "                    batch_size=batchsize, \n",
    "                    epochs=epochs,\n",
    "                    validation_split=0.2,\n",
    "                    callbacks=[tensorboard_callback])\n",
    "### STOP YOUR CODE HERE ###"
   ]
  },
  {
   "cell_type": "markdown",
   "metadata": {},
   "source": [
    "#### OUTPUTs\n",
    "\n",
    "Provide here suitable plots and comments:\n",
    "\n",
    "* Learning curves: train / test accuracy and loss\n"
   ]
  },
  {
   "cell_type": "code",
   "execution_count": 43,
   "metadata": {},
   "outputs": [
    {
     "data": {
      "image/png": "[encoded data removed]",
      "text/plain": [
       "<Figure size 432x288 with 1 Axes>"
      ]
     },
     "metadata": {
      "needs_background": "light"
     },
     "output_type": "display_data"
    }
   ],
   "source": [
    "plt.plot(history.history['loss'], label='train')\n",
    "plt.plot(history.history['val_loss'], label='validation')\n",
    "plt.legend()\n",
    "plt.show()"
   ]
  },
  {
   "cell_type": "code",
   "execution_count": 48,
   "metadata": {},
   "outputs": [
    {
     "data": {
      "image/png": "[encoded data removed]",
      "text/plain": [
       "<Figure size 432x288 with 1 Axes>"
      ]
     },
     "metadata": {
      "needs_background": "light"
     },
     "output_type": "display_data"
    }
   ],
   "source": [
    "plt.plot(history.history['accuracy'], label='train')\n",
    "plt.plot(history.history['val_accuracy'], label='validation')\n",
    "plt.legend()\n",
    "plt.show()"
   ]
  },
  {
   "cell_type": "markdown",
   "metadata": {},
   "source": [
    "### Parameter Initialisation\n",
    "\n",
    "* No regularisation\n",
    "* No Batch Norm\n",
    "* __Parameter Initialisation: Compare GlorotNormal, Random Normal (mean 0, stdev 1), Zero, HeNormal__\n",
    "* __Sigmoid Activation (last layer always softmax): Compare Sigmoid, ReLu__\n",
    "* SGD with given batchsize and learning rate, no accelerators (no momentum nor RMS prop).\n",
    "\n",
    "Hence, for each of the 4 initializers train and test a model sigmoid and relu."
   ]
  },
  {
   "cell_type": "code",
   "execution_count": 63,
   "metadata": {},
   "outputs": [],
   "source": [
    "def model_param_init(layersizes, initializer, activation):\n",
    "    \"\"\"\n",
    "    Provides an MLP model (using Sequential) with given layersizes. The last layer is a softmax layer.\n",
    "    As activation function use sigmoid.\n",
    "        \n",
    "    Arguments:\n",
    "    layersizes -- list of integers with the number of hidden units per layer. The last element is for MNIST 10.\n",
    "    initializer -- weight initializer\n",
    "    activation -- string specifying the activation function to be used.\n",
    "    \n",
    "    \"\"\"\n",
    "    ### START YOUR CODE HERE ###\n",
    "    model = tf.keras.models.Sequential()\n",
    "    model.add(tf.keras.layers.Input(shape=28**2))\n",
    "    for i, layer_size in enumerate(layersizes[:-1]):\n",
    "        model.add(tf.keras.layers.Dense(layer_size, \n",
    "                                        activation=activation,\n",
    "                                        kernel_initializer=initializer,\n",
    "                                        bias_initializer=initializer,\n",
    "                                        name='hidden_layer_{}'.format(i)))\n",
    "    model.add(tf.keras.layers.Dense(layersizes[-1], activation='softmax', name='output_layer'))\n",
    "    ### STOP YOUR CODE HERE ###\n",
    "\n",
    "    return model"
   ]
  },
  {
   "cell_type": "markdown",
   "metadata": {},
   "source": [
    "#### Run model\n",
    "\n",
    "Run with the different settings.\n",
    "Don't forget to configure the proper tensorboard callback."
   ]
  },
  {
   "cell_type": "code",
   "execution_count": 71,
   "metadata": {},
   "outputs": [
    {
     "name": "stdout",
     "output_type": "stream",
     "text": [
      "--------------------------------------------------\n",
      "Act: SIGMOID, Init: GLOROT_NORMAL\n",
      "--------------------------------------------------\n",
      "final loss: 0.0657 (train), 0.1157 (val)\n",
      "final acc: 0.9811 (train), 0.9656 (val)\n",
      "--------------------------------------------------\n",
      "Act: SIGMOID, Init: RANDOM_NORMAL\n",
      "--------------------------------------------------\n",
      "final loss: 0.0870 (train), 0.1374 (val)\n",
      "final acc: 0.9753 (train), 0.9613 (val)\n",
      "--------------------------------------------------\n",
      "Act: SIGMOID, Init: ZEROS\n",
      "--------------------------------------------------\n",
      "final loss: 1.4306 (train), 1.4114 (val)\n",
      "final acc: 0.3955 (train), 0.4015 (val)\n",
      "--------------------------------------------------\n",
      "Act: SIGMOID, Init: HE_NORMAL\n",
      "--------------------------------------------------\n",
      "final loss: 0.0625 (train), 0.1181 (val)\n",
      "final acc: 0.9822 (train), 0.9671 (val)\n",
      "--------------------------------------------------\n",
      "Act: RELU, Init: GLOROT_NORMAL\n",
      "--------------------------------------------------\n",
      "final loss: 0.0163 (train), 0.1417 (val)\n",
      "final acc: 0.9948 (train), 0.9697 (val)\n",
      "--------------------------------------------------\n",
      "Act: RELU, Init: RANDOM_NORMAL\n",
      "--------------------------------------------------\n",
      "final loss: 0.0191 (train), 0.1230 (val)\n",
      "final acc: 0.9935 (train), 0.9737 (val)\n",
      "--------------------------------------------------\n",
      "Act: RELU, Init: ZEROS\n",
      "--------------------------------------------------\n",
      "final loss: 2.3018 (train), 2.3039 (val)\n",
      "final acc: 0.1127 (train), 0.1060 (val)\n",
      "--------------------------------------------------\n",
      "Act: RELU, Init: HE_NORMAL\n",
      "--------------------------------------------------\n",
      "final loss: 0.0193 (train), 0.1513 (val)\n",
      "final acc: 0.9937 (train), 0.9666 (val)\n"
     ]
    }
   ],
   "source": [
    "### START YOUR CODE HERE ###\n",
    "import itertools\n",
    "\n",
    "\n",
    "sgd = tf.keras.optimizers.SGD(learning_rate=learning_rate)\n",
    "\n",
    "activations = ['sigmoid', 'relu']\n",
    "initializations = ['glorot_normal', 'random_normal', 'zeros', 'he_normal']\n",
    "\n",
    "for act, init in itertools.product(activations, initializations):\n",
    "    print('-'*50)\n",
    "    print('Act: {0}, Init: {1}'.format(act.upper(), init.upper()))\n",
    "    print('-'*50)\n",
    "    \n",
    "    run_name = 'param-init-{0}-{1}'.format(act, init)\n",
    "    rundir = os.path.join(outdir, run_name)\n",
    "    tensorboard_callback = tf.keras.callbacks.TensorBoard(log_dir=rundir, histogram_freq=1, profile_batch=0)\n",
    "    \n",
    "    model = model_param_init(layersizes, init, act)\n",
    "    model.compile(optimizer=sgd, loss='sparse_categorical_crossentropy', metrics=['accuracy'])\n",
    "    history = model.fit(x_train, y_train, \n",
    "                        batch_size=batchsize, \n",
    "                        epochs=epochs,\n",
    "                        validation_split=0.2,\n",
    "                        callbacks=[tensorboard_callback],\n",
    "                        verbose=False)\n",
    "    \n",
    "    print('final loss: {0:.4f} (train), {1:.4f} (val)'.format(history.history['loss'][-1], \n",
    "                                                              history.history['val_loss'][-1]))\n",
    "    print('final acc: {0:.4f} (train), {1:.4f} (val)'.format(history.history['accuracy'][-1], \n",
    "                                                             history.history['val_accuracy'][-1]))\n",
    "### STOP YOUR CODE HERE ###"
   ]
  },
  {
   "cell_type": "markdown",
   "metadata": {},
   "source": [
    "#### OUTPUTs\n",
    "\n",
    "Provide here suitable plots and comments:\n",
    "\n",
    "* Comparison of the different learning curves: \n",
    "    * train accuracy vs epochs for different models\n",
    "    * train loss vs epochs for different models\n",
    "    * test accuracy vs epochs for different models\n",
    "    * test loss vs epochs for different models\n",
    "    \n",
    "Interpret the result and report your findings: Is it consistent with what you have learned in the lecture?\n",
    "\n",
    "Are there ways (e.g. change in model) so that the effects of parameter initialisation become more clear?"
   ]
  },
  {
   "cell_type": "markdown",
   "metadata": {},
   "source": [
    "### Batch Normalisation\n",
    "\n",
    "* No regularisation\n",
    "* __Batch Norm__: with / without \n",
    "* __Parameter Initialisation: Random Normal (0,1), GlorotNormal__\n",
    "* __Activation: Compare Sigmoid, ReLu__\n",
    "* SGD with given batchsize and learning rate, no accelerators (no momentum nor RMS prop).\n",
    "\n",
    "Run with/without batchnorm in combination with sigmoid or relu (with GlorotNormal).<br>\n",
    "Run with/without batchnorm in combination with GlorotNormal or RandomNormal (with sigmoid).<br>\n",
    "Hence run 8 different models."
   ]
  },
  {
   "cell_type": "code",
   "execution_count": 74,
   "metadata": {},
   "outputs": [],
   "source": [
    "def model_batchnorm(layersizes, initializer, activation):\n",
    "    \"\"\"\n",
    "    Provides an MLP model (using Sequential) with given layersizes. The last layer is a softmax layer.\n",
    "    As activation function use sigmoid.\n",
    "        \n",
    "    Arguments:\n",
    "    layersizes -- list of integers with the number of hidden units per layer. The last element is for MNIST 10.\n",
    "    initializer -- weight initializer\n",
    "    activation -- string specifying the activation function to be used.\n",
    "    \"\"\"\n",
    "    ### START YOUR CODE HERE ###\n",
    "    model = tf.keras.models.Sequential()\n",
    "    model.add(tf.keras.layers.Input(shape=28**2))\n",
    "    for i, layer_size in enumerate(layersizes[:-1]):\n",
    "        model.add(tf.keras.layers.Dense(layer_size, \n",
    "                                        activation=None,\n",
    "                                        kernel_initializer=initializer,\n",
    "                                        bias_initializer=initializer,\n",
    "                                        name='hidden_layer_{}'.format(i)))\n",
    "        model.add(tf.keras.layers.BatchNormalization())\n",
    "        model.add(tf.keras.layers.Activation(activation))\n",
    "    model.add(tf.keras.layers.Dense(layersizes[-1], activation='softmax', name='output_layer'))\n",
    "    ### STOP YOUR CODE HERE ###\n",
    "\n",
    "    return model"
   ]
  },
  {
   "cell_type": "markdown",
   "metadata": {},
   "source": [
    "#### Run model\n",
    "\n",
    "Run the different variants."
   ]
  },
  {
   "cell_type": "code",
   "execution_count": 75,
   "metadata": {
    "jupyter": {
     "outputs_hidden": true
    },
    "tags": []
   },
   "outputs": [
    {
     "name": "stdout",
     "output_type": "stream",
     "text": [
      "--------------------------------------------------\n",
      "Act: SIGMOID, Init: GLOROT_NORMAL, Batchnorm: True\n",
      "--------------------------------------------------\n",
      "final loss: 0.0592 (train), 0.0987 (val)\n",
      "final acc: 0.9807 (train), 0.9708 (val)\n",
      "--------------------------------------------------\n",
      "Act: SIGMOID, Init: GLOROT_NORMAL, Batchnorm: False\n",
      "--------------------------------------------------\n",
      "final loss: 0.0660 (train), 0.1211 (val)\n",
      "final acc: 0.9811 (train), 0.9660 (val)\n",
      "--------------------------------------------------\n",
      "Act: SIGMOID, Init: RANDOM_NORMAL, Batchnorm: True\n",
      "--------------------------------------------------\n",
      "final loss: 0.0593 (train), 0.0961 (val)\n",
      "final acc: 0.9816 (train), 0.9720 (val)\n",
      "--------------------------------------------------\n",
      "Act: SIGMOID, Init: RANDOM_NORMAL, Batchnorm: False\n",
      "--------------------------------------------------\n",
      "final loss: 0.0822 (train), 0.1315 (val)\n",
      "final acc: 0.9772 (train), 0.9632 (val)\n",
      "--------------------------------------------------\n",
      "Act: RELU, Init: GLOROT_NORMAL, Batchnorm: True\n",
      "--------------------------------------------------\n",
      "final loss: 0.0425 (train), 0.0879 (val)\n",
      "final acc: 0.9857 (train), 0.9763 (val)\n",
      "--------------------------------------------------\n",
      "Act: RELU, Init: GLOROT_NORMAL, Batchnorm: False\n",
      "--------------------------------------------------\n",
      "final loss: 0.0137 (train), 0.1373 (val)\n",
      "final acc: 0.9956 (train), 0.9722 (val)\n",
      "--------------------------------------------------\n",
      "Act: RELU, Init: RANDOM_NORMAL, Batchnorm: True\n",
      "--------------------------------------------------\n",
      "final loss: 0.0423 (train), 0.0930 (val)\n",
      "final acc: 0.9856 (train), 0.9761 (val)\n",
      "--------------------------------------------------\n",
      "Act: RELU, Init: RANDOM_NORMAL, Batchnorm: False\n",
      "--------------------------------------------------\n",
      "final loss: 0.0178 (train), 0.1247 (val)\n",
      "final acc: 0.9944 (train), 0.9736 (val)\n"
     ]
    }
   ],
   "source": [
    "### START YOUR CODE HERE ###\n",
    "import itertools\n",
    "\n",
    "\n",
    "sgd = tf.keras.optimizers.SGD(learning_rate=learning_rate)\n",
    "\n",
    "activations = ['sigmoid', 'relu']\n",
    "initializations = ['glorot_normal', 'random_normal']\n",
    "batchnorm = [True, False]\n",
    "\n",
    "for act, init, bn in itertools.product(activations, initializations, batchnorm):\n",
    "    print('-'*50)\n",
    "    print('Act: {0}, Init: {1}, Batchnorm: {2}'.format(act.upper(), init.upper(), bn))\n",
    "    print('-'*50)\n",
    "    \n",
    "    run_name = 'batch-norm-{0}-{1}-{2}'.format(act, init, bn)\n",
    "    rundir = os.path.join(outdir, run_name)\n",
    "    tensorboard_callback = tf.keras.callbacks.TensorBoard(log_dir=rundir, histogram_freq=1, profile_batch=0)\n",
    "    \n",
    "    if bn:\n",
    "        model = model_batchnorm(layersizes, init, act)\n",
    "    else:\n",
    "        model = model_param_init(layersizes, init, act)\n",
    "        \n",
    "    model.compile(optimizer=sgd, loss='sparse_categorical_crossentropy', metrics=['accuracy'])\n",
    "    history = model.fit(x_train, y_train, \n",
    "                        batch_size=batchsize, \n",
    "                        epochs=epochs,\n",
    "                        validation_split=0.2,\n",
    "                        callbacks=[tensorboard_callback],\n",
    "                        verbose=False)\n",
    "    \n",
    "    print('final loss: {0:.4f} (train), {1:.4f} (val)'.format(history.history['loss'][-1], \n",
    "                                                              history.history['val_loss'][-1]))\n",
    "    print('final acc: {0:.4f} (train), {1:.4f} (val)'.format(history.history['accuracy'][-1], \n",
    "                                                             history.history['val_accuracy'][-1]))\n",
    "### STOP YOUR CODE HERE ###"
   ]
  },
  {
   "cell_type": "markdown",
   "metadata": {},
   "source": [
    "#### OUTPUTs\n",
    "\n",
    "Provide here suitable plots and comments:\n",
    "\n",
    "* Comparison of the different learning curves: \n",
    "    * train accuracy vs epochs for different models\n",
    "    * train loss vs epochs for different models\n",
    "    * test accuracy vs epochs for different models\n",
    "    * test loss vs epochs for different models\n",
    "    \n",
    "* Inspect the histograms of the activations and compare them for the different models.\n",
    "\n",
    "* Find the max learning rate for the model with and without Batch Norm. \n",
    "\n",
    "Interpret the result and report your findings: Is it consistent with what you have learned in the lecture?\n",
    "\n",
    "Are there ways (e.g. change in model) so that the effects of batch norm become more clear?"
   ]
  },
  {
   "cell_type": "markdown",
   "metadata": {},
   "source": [
    "### Optimizers\n",
    "\n",
    "* No regularisation\n",
    "* No BatchNorm \n",
    "* Parameter Initialisation: GlorotNormal\n",
    "* Activation: ReLu\n",
    "* Optimizers: Compare \n",
    "    * SGD with given batchsize and learning rate, no accelerators (no momentum nor RMS prop)\n",
    "    * RmsProp\n",
    "    * Momentum\n",
    "\n",
    "Create an according model and train it with the different optimizers."
   ]
  },
  {
   "cell_type": "code",
   "execution_count": 82,
   "metadata": {},
   "outputs": [
    {
     "data": {
      "text/plain": [
       "['_HAS_AGGREGATE_GRAD',\n",
       " '__abstractmethods__',\n",
       " '__class__',\n",
       " '__delattr__',\n",
       " '__dict__',\n",
       " '__dir__',\n",
       " '__doc__',\n",
       " '__eq__',\n",
       " '__format__',\n",
       " '__ge__',\n",
       " '__getattribute__',\n",
       " '__gt__',\n",
       " '__hash__',\n",
       " '__init__',\n",
       " '__init_subclass__',\n",
       " '__le__',\n",
       " '__lt__',\n",
       " '__module__',\n",
       " '__ne__',\n",
       " '__new__',\n",
       " '__reduce__',\n",
       " '__reduce_ex__',\n",
       " '__repr__',\n",
       " '__setattr__',\n",
       " '__sizeof__',\n",
       " '__str__',\n",
       " '__subclasshook__',\n",
       " '__weakref__',\n",
       " '_abc_impl',\n",
       " '_add_variable_with_custom_getter',\n",
       " '_aggregate_gradients',\n",
       " '_assert_valid_dtypes',\n",
       " '_call_if_callable',\n",
       " '_checkpoint_dependencies',\n",
       " '_clip_gradients',\n",
       " '_compute_gradients',\n",
       " '_create_all_weights',\n",
       " '_create_hypers',\n",
       " '_create_or_restore_slot_variable',\n",
       " '_create_slots',\n",
       " '_decayed_lr',\n",
       " '_deferred_dependencies',\n",
       " '_deferred_slot_restorations',\n",
       " '_dense_apply_args',\n",
       " '_distributed_apply',\n",
       " '_distribution_strategy',\n",
       " '_distribution_strategy_scope',\n",
       " '_fallback_apply_state',\n",
       " '_gather_saveables_for_checkpoint',\n",
       " '_get_hyper',\n",
       " '_handle_deferred_dependencies',\n",
       " '_hyper',\n",
       " '_hypers_created',\n",
       " '_init_set_name',\n",
       " '_initial_decay',\n",
       " '_iterations',\n",
       " '_keras_api_names',\n",
       " '_keras_api_names_v1',\n",
       " '_list_extra_dependencies_for_serialization',\n",
       " '_list_functions_for_serialization',\n",
       " '_lookup_dependency',\n",
       " '_map_resources',\n",
       " '_maybe_initialize_trackable',\n",
       " '_momentum',\n",
       " '_name',\n",
       " '_name_based_attribute_restore',\n",
       " '_name_based_restores',\n",
       " '_no_dependency',\n",
       " '_object_identifier',\n",
       " '_preload_simple_restoration',\n",
       " '_prepare',\n",
       " '_prepare_local',\n",
       " '_resource_apply_dense',\n",
       " '_resource_apply_sparse',\n",
       " '_resource_apply_sparse_duplicate_indices',\n",
       " '_resource_scatter_add',\n",
       " '_resource_scatter_update',\n",
       " '_restore_from_checkpoint_position',\n",
       " '_restore_slot_variable',\n",
       " '_self_name_based_restores',\n",
       " '_self_saveable_object_factories',\n",
       " '_self_setattr_tracking',\n",
       " '_self_unconditional_checkpoint_dependencies',\n",
       " '_self_unconditional_deferred_dependencies',\n",
       " '_self_unconditional_dependency_names',\n",
       " '_self_update_uid',\n",
       " '_serialize_hyperparameter',\n",
       " '_set_hyper',\n",
       " '_setattr_tracking',\n",
       " '_single_restoration_from_checkpoint_position',\n",
       " '_slot_names',\n",
       " '_slots',\n",
       " '_sparse_apply_args',\n",
       " '_track_trackable',\n",
       " '_tracking_metadata',\n",
       " '_unconditional_checkpoint_dependencies',\n",
       " '_unconditional_dependency_names',\n",
       " '_update_uid',\n",
       " '_use_locking',\n",
       " '_valid_dtypes',\n",
       " '_weights',\n",
       " 'add_slot',\n",
       " 'add_weight',\n",
       " 'apply_gradients',\n",
       " 'clipnorm',\n",
       " 'clipvalue',\n",
       " 'from_config',\n",
       " 'get_config',\n",
       " 'get_gradients',\n",
       " 'get_slot',\n",
       " 'get_slot_names',\n",
       " 'get_updates',\n",
       " 'get_weights',\n",
       " 'iterations',\n",
       " 'minimize',\n",
       " 'nesterov',\n",
       " 'set_weights',\n",
       " 'variables',\n",
       " 'weights']"
      ]
     },
     "execution_count": 82,
     "metadata": {},
     "output_type": "execute_result"
    }
   ],
   "source": [
    "dir(sgd)"
   ]
  },
  {
   "cell_type": "code",
   "execution_count": 84,
   "metadata": {},
   "outputs": [
    {
     "name": "stdout",
     "output_type": "stream",
     "text": [
      "--------------------------------------------------\n",
      "Act: RELU, Init: GLOROT_NORMAL, Batchnorm: False, Optim: SGD\n",
      "--------------------------------------------------\n",
      "final loss: 0.0230 (train), 0.1599 (val)\n",
      "final acc: 0.9922 (train), 0.9661 (val)\n",
      "--------------------------------------------------\n",
      "Act: RELU, Init: GLOROT_NORMAL, Batchnorm: False, Optim: RMSprop\n",
      "--------------------------------------------------\n",
      "final loss: 2.3149 (train), 2.3111 (val)\n",
      "final acc: 0.1047 (train), 0.0956 (val)\n",
      "--------------------------------------------------\n",
      "Act: RELU, Init: GLOROT_NORMAL, Batchnorm: False, Optim: SGD_Momentum\n",
      "--------------------------------------------------\n",
      "final loss: 2.3078 (train), 2.3117 (val)\n",
      "final acc: 0.1043 (train), 0.1060 (val)\n"
     ]
    }
   ],
   "source": [
    "### START YOUR CODE HERE ###\n",
    "import itertools\n",
    "\n",
    "\n",
    "activations = ['relu']\n",
    "initializations = ['glorot_normal']\n",
    "batchnorm = [False]\n",
    "\n",
    "momentum = tf.keras.optimizers.SGD(learning_rate=learning_rate, momentum=0.9, nesterov=True)\n",
    "momentum._name = 'SGD_Momentum'\n",
    "optimizers = [\n",
    "    tf.keras.optimizers.SGD(learning_rate=learning_rate),\n",
    "    tf.keras.optimizers.RMSprop(learning_rate=learning_rate),\n",
    "    momentum]\n",
    "\n",
    "for act, init, bn, opt in itertools.product(activations, initializations, batchnorm, optimizers):\n",
    "    print('-'*50)\n",
    "    print('Act: {0}, Init: {1}, Batchnorm: {2}, Optim: {3}'.format(act.upper(), init.upper(), bn, opt._name))\n",
    "    print('-'*50)\n",
    "    \n",
    "    run_name = 'optimizers-{0}-{1}-{2}-{3}'.format(act, init, bn, opt._name)\n",
    "    rundir = os.path.join(outdir, run_name)\n",
    "    tensorboard_callback = tf.keras.callbacks.TensorBoard(log_dir=rundir, histogram_freq=1, profile_batch=0)\n",
    "    \n",
    "    if bn:\n",
    "        model = model_batchnorm(layersizes, init, act)\n",
    "    else:\n",
    "        model = model_param_init(layersizes, init, act)\n",
    "        \n",
    "    model.compile(optimizer=opt, loss='sparse_categorical_crossentropy', metrics=['accuracy'])\n",
    "    history = model.fit(x_train, y_train, \n",
    "                        batch_size=batchsize, \n",
    "                        epochs=epochs,\n",
    "                        validation_split=0.2,\n",
    "                        callbacks=[tensorboard_callback],\n",
    "                        verbose=False)\n",
    "    \n",
    "    print('final loss: {0:.4f} (train), {1:.4f} (val)'.format(history.history['loss'][-1], \n",
    "                                                              history.history['val_loss'][-1]))\n",
    "    print('final acc: {0:.4f} (train), {1:.4f} (val)'.format(history.history['accuracy'][-1], \n",
    "                                                             history.history['val_accuracy'][-1]))\n",
    "### STOP YOUR CODE HERE ###"
   ]
  },
  {
   "cell_type": "markdown",
   "metadata": {},
   "source": [
    "#### OUTPUTs\n",
    "\n",
    "TODO: \n",
    "* Comparison of the different learning curves: \n",
    "    * train accuracy vs epochs for optimizers\n",
    "    * train loss vs epochs for optimizers\n",
    "    * test accuracy vs epochs for optimizers\n",
    "    * test loss vs epochs for optimizers\n",
    "    \n",
    "Interpret the result and report your findings: Is it consistent with what you have learned in the lecture?\n",
    "\n",
    "Are there ways (e.g. change in model) so that the effects of the different optimizers become more clear?"
   ]
  },
  {
   "cell_type": "code",
   "execution_count": null,
   "metadata": {},
   "outputs": [],
   "source": []
  }
 ],
 "metadata": {
  "kernelspec": {
   "display_name": "Python 3",
   "language": "python",
   "name": "python3"
  },
  "language_info": {
   "codemirror_mode": {
    "name": "ipython",
    "version": 3
   },
   "file_extension": ".py",
   "mimetype": "text/x-python",
   "name": "python",
   "nbconvert_exporter": "python",
   "pygments_lexer": "ipython3",
   "version": "3.8.5"
  }
 },
 "nbformat": 4,
 "nbformat_minor": 4
}
