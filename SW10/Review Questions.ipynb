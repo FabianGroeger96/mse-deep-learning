{
 "cells": [
  {
   "cell_type": "markdown",
   "metadata": {},
   "source": [
    "# (a)\n",
    "*Why (or when) do we need the functional API of Keras ?*\n",
    "\n",
    "If we want to create a model where the information flow is non-sequential we can use the functional API of Keras.\n",
    "\n",
    "# (b)\n",
    "*What are the benefits of using transfer learning ?*\n",
    "\n",
    " - Less training data is required to achieve the same accuracy for a given task\n",
    " - Training process will be faster\n",
    " - We can leverage data from a similar domain where it might be easier to gather such or there are already large datasets available (e.g. ImageNet)\n",
    "\n",
    "\n",
    "# (c)\n",
    "*What are the potential usage of auto-encoders ?*\n",
    "\n",
    " - Data compression\n",
    " - Dimensionality reduction\n",
    " - Train a feature extractor\n",
    " - Denoise the input data\n",
    " - Fill in missing gaps in the input data (e.g. image in-painting)\n",
    " - Learn good initializations for the weights of a deep neural network\n",
    "\n",
    "# (d)\n",
    "*In which situations would you use auto-encoders to extract features ?*\n",
    "\n",
    "If the dataset for a given task is too small to train a neural network end-to-end, I would try to learn a good feature extractor by means of a autoencoder. I might prefer to train a variational autoencoder (VAE) because such a model would make it easier to interpret and hence cross check the learned latent space. "
   ]
  }
 ],
 "metadata": {
  "kernelspec": {
   "display_name": "Python 3",
   "language": "python",
   "name": "python3"
  },
  "language_info": {
   "codemirror_mode": {
    "name": "ipython",
    "version": 3
   },
   "file_extension": ".py",
   "mimetype": "text/x-python",
   "name": "python",
   "nbconvert_exporter": "python",
   "pygments_lexer": "ipython3",
   "version": "3.8.5"
  }
 },
 "nbformat": 4,
 "nbformat_minor": 4
}
