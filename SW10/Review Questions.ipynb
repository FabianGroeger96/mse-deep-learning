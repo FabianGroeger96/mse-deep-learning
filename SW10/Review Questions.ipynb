{
 "cells": [
  {
   "cell_type": "markdown",
   "id": "62d979cc",
   "metadata": {},
   "source": [
    "### 1)Why (or when) do we need the functional API of Keras ?\n",
    "\n",
    "To build connections that jump across layers(non-sequentially) in network\n",
    "\n",
    "To build multiple models that reference the same layer which can save computational time and promote generalization + global understanding.\n",
    "\n",
    "To manage multiple models with inter-relationships like encoder-decoders\n",
    "\n",
    "To access and manipulate layers of existing pretrained networks like VGG16 or AlexNet\n",
    "\n",
    "...\n",
    "\n",
    "### 2)What are the benefits of using transfer learning ?\n",
    "\n",
    "Since the model is already trained, saving training time and not needing a lot of data(training data),\n",
    "Better performance of neural networks\n",
    "\n",
    "### 3)What are the potential usage of auto-encoders ?\n",
    "\n",
    "Dimensionality reduction\n",
    "Compress/decompress data\n",
    "Denoising filters on image processing\n",
    "Feature extraction\n",
    "Image generation (e.g. inpainting)\n",
    "\n",
    "### 4)In which situations would you use auto-encoders to extract features ?\n",
    "\n",
    "Autoencoders used to extract features when the data is compressed (smaller data)."
   ]
  },
  {
   "cell_type": "code",
   "execution_count": null,
   "id": "47324773",
   "metadata": {},
   "outputs": [],
   "source": []
  }
 ],
 "metadata": {
  "kernelspec": {
   "display_name": "Python 3",
   "language": "python",
   "name": "python3"
  }
 },
 "nbformat": 4,
 "nbformat_minor": 5
}
