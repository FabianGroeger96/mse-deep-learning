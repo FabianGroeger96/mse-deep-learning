{
 "cells": [
  {
   "cell_type": "code",
   "execution_count": 1,
   "metadata": {},
   "outputs": [],
   "source": [
    "from matplotlib import pyplot as plt\n",
    "import numpy as np\n",
    "import gzip\n",
    "from sklearn.preprocessing import StandardScaler\n",
    "from sklearn.svm import SVC\n",
    "from sklearn import metrics\n",
    "import tensorflow as tf\n",
    "from tensorflow.keras.models import Sequential, Model\n",
    "from tensorflow.keras.layers import Input, Conv2D, MaxPooling2D, UpSampling2D\n",
    "from tensorflow.keras.layers import Dense, Dropout, Flatten, Activation\n",
    "from tensorflow.keras.optimizers import RMSprop\n",
    "from tensorflow.keras import utils\n",
    "\n",
    "%matplotlib inline"
   ]
  },
  {
   "cell_type": "code",
   "execution_count": 2,
   "metadata": {},
   "outputs": [],
   "source": [
    "def extract_data(filename, num_images):\n",
    "    with gzip.open(filename) as bytestream:\n",
    "        bytestream.read(16)\n",
    "        buf = bytestream.read(28 * 28 * num_images)\n",
    "        data = np.frombuffer(buf, dtype=np.uint8).astype(np.float32)\n",
    "        data = data.reshape(num_images, 28,28)\n",
    "        return data\n",
    "\n",
    "def extract_labels(filename, num_images):\n",
    "    with gzip.open(filename) as bytestream:\n",
    "        bytestream.read(8)\n",
    "        buf = bytestream.read(1 * num_images)\n",
    "        labels = np.frombuffer(buf, dtype=np.uint8).astype(np.int64)\n",
    "        return labels\n",
    "\n",
    "# Create dictionary of target classes\n",
    "label_dict = {\n",
    " 0: 'A',\n",
    " 1: 'B',\n",
    " 2: 'C',\n",
    " 3: 'D',\n",
    " 4: 'E',\n",
    " 5: 'F',\n",
    " 6: 'G',\n",
    " 7: 'H',\n",
    " 8: 'I',\n",
    " 9: 'J',\n",
    "}"
   ]
  },
  {
   "cell_type": "code",
   "execution_count": 3,
   "metadata": {},
   "outputs": [
    {
     "name": "stdout",
     "output_type": "stream",
     "text": [
      "[[0. 0. 0. 0. 0. 1. 0. 0. 0. 0.]\n",
      " [0. 0. 0. 0. 0. 0. 0. 0. 1. 0.]\n",
      " [0. 0. 0. 0. 0. 0. 0. 0. 1. 0.]\n",
      " [0. 0. 0. 0. 0. 0. 1. 0. 0. 0.]\n",
      " [0. 0. 0. 1. 0. 0. 0. 0. 0. 0.]\n",
      " [1. 0. 0. 0. 0. 0. 0. 0. 0. 0.]\n",
      " [0. 0. 0. 0. 0. 0. 0. 0. 1. 0.]\n",
      " [1. 0. 0. 0. 0. 0. 0. 0. 0. 0.]\n",
      " [0. 1. 0. 0. 0. 0. 0. 0. 0. 0.]\n",
      " [0. 0. 0. 0. 0. 1. 0. 0. 0. 0.]]\n"
     ]
    }
   ],
   "source": [
    "train_data = extract_data('train-images-idx3-ubyte.gz', 60000)\n",
    "test_data = extract_data('t10k-images-idx3-ubyte.gz', 10000)\n",
    "\n",
    "train_labels = extract_labels('train-labels-idx1-ubyte.gz',60000)\n",
    "test_labels = extract_labels('t10k-labels-idx1-ubyte.gz',10000)\n",
    "\n",
    "X_train = train_data.reshape(-1, 28,28, 1)  # add grey channel\n",
    "X_test = test_data.reshape(-1, 28,28, 1)\n",
    "\n",
    "n_classes = 10\n",
    "Y_train = utils.to_categorical(train_labels, n_classes) # 1-hot\n",
    "Y_test = utils.to_categorical(test_labels, n_classes)\n",
    "print(Y_train[:10])"
   ]
  },
  {
   "cell_type": "code",
   "execution_count": 4,
   "metadata": {},
   "outputs": [
    {
     "name": "stdout",
     "output_type": "stream",
     "text": [
      "Training set (images) shape: (60000, 28, 28, 1)\n",
      "Test set (images) shape: (10000, 28, 28, 1)\n",
      "data type:  float32 float32\n"
     ]
    }
   ],
   "source": [
    "# Shape of training set\n",
    "print(\"Training set (images) shape: {shape}\".format(shape=X_train.shape))\n",
    "# Shape of test set\n",
    "print(\"Test set (images) shape: {shape}\".format(shape=X_test.shape))\n",
    "# Type of data - should be float32\n",
    "print('data type: ', X_train.dtype, X_test.dtype)"
   ]
  },
  {
   "cell_type": "code",
   "execution_count": 5,
   "metadata": {},
   "outputs": [
    {
     "data": {
      "text/plain": [
       "Text(0.5, 1.0, '(Label: D)')"
      ]
     },
     "execution_count": 5,
     "metadata": {},
     "output_type": "execute_result"
    },
    {
     "data": {
      "image/png": "[encoded data removed]",
      "text/plain": [
       "<Figure size 432x288 with 2 Axes>"
      ]
     },
     "metadata": {
      "needs_background": "light"
     },
     "output_type": "display_data"
    }
   ],
   "source": [
    "# Display the first image in training data\n",
    "plt.subplot(121)\n",
    "curr_img = np.reshape(X_train[0], (28,28))\n",
    "curr_lbl = train_labels[0]\n",
    "plt.imshow(curr_img, cmap='gray')\n",
    "plt.title(\"(Label: \" + str(label_dict[curr_lbl]) + \")\")\n",
    "\n",
    "# Display the first image in testing data\n",
    "plt.subplot(122)\n",
    "curr_img = np.reshape(X_test[0], (28,28))\n",
    "curr_lbl = test_labels[0]\n",
    "plt.imshow(curr_img, cmap='gray')\n",
    "plt.title(\"(Label: \" + str(label_dict[curr_lbl]) + \")\")"
   ]
  },
  {
   "cell_type": "code",
   "execution_count": 6,
   "metadata": {},
   "outputs": [],
   "source": [
    "# rescale the data in range 0-1\n",
    "X_train = X_train / 255.0\n",
    "X_test = X_test / 255.0"
   ]
  },
  {
   "cell_type": "markdown",
   "metadata": {},
   "source": [
    "## Create a shallow MLP encoder"
   ]
  },
  {
   "cell_type": "code",
   "execution_count": 7,
   "metadata": {},
   "outputs": [
    {
     "name": "stdout",
     "output_type": "stream",
     "text": [
      "Model: \"functional_1\"\n",
      "_________________________________________________________________\n",
      "Layer (type)                 Output Shape              Param #   \n",
      "=================================================================\n",
      "input_1 (InputLayer)         [(None, 28, 28, 1)]       0         \n",
      "_________________________________________________________________\n",
      "reshape (Reshape)            (None, 784)               0         \n",
      "_________________________________________________________________\n",
      "dense (Dense)                (None, 128)               100480    \n",
      "_________________________________________________________________\n",
      "dense_1 (Dense)              (None, 32)                4128      \n",
      "_________________________________________________________________\n",
      "dense_2 (Dense)              (None, 128)               4224      \n",
      "_________________________________________________________________\n",
      "dense_3 (Dense)              (None, 784)               101136    \n",
      "_________________________________________________________________\n",
      "reshape_1 (Reshape)          (None, 28, 28, 1)         0         \n",
      "=================================================================\n",
      "Total params: 209,968\n",
      "Trainable params: 209,968\n",
      "Non-trainable params: 0\n",
      "_________________________________________________________________\n"
     ]
    }
   ],
   "source": [
    "# STARTING FROM HERE, COMPLETE THE CODE WHERE YOU SEE ...\n",
    "# size of our encoded representation\n",
    "encoding_dim = 32  # this is the number of neurons you chose to encode\n",
    "\n",
    "# define input layer, encoded layer and decoded layer\n",
    "input_img = tf.keras.layers.Input(shape=(28, 28, 1))\n",
    "x = tf.keras.layers.Reshape([-1])(input_img)\n",
    "x = tf.keras.layers.Dense(128, activation=\"relu\")(x)\n",
    "encoded = tf.keras.layers.Dense(encoding_dim, activation=\"sigmoid\")(x)\n",
    "x = tf.keras.layers.Dense(128, activation=\"relu\")(encoded)\n",
    "decoded = tf.keras.layers.Dense(28**2, activation=\"sigmoid\")(x)\n",
    "decoded = tf.keras.layers.Reshape([28, 28, 1])(decoded)\n",
    "\n",
    "# define autoencoder model \n",
    "autoencoder = Model(inputs=input_img, outputs=decoded)\n",
    "encoder = Model(inputs=input_img, outputs=encoded)\n",
    "\n",
    "encoded_input = Input(shape=32)\n",
    "x = encoded_input\n",
    "for layer in autoencoder.layers[-3:]:\n",
    "    x = layer(x)\n",
    "\n",
    "decoder = Model(inputs=encoded_input, outputs=x)\n",
    "\n",
    "autoencoder.summary()"
   ]
  },
  {
   "cell_type": "code",
   "execution_count": 8,
   "metadata": {},
   "outputs": [],
   "source": [
    "# compile the network - use adam optimizer, beware to use the good loss function\n",
    "autoencoder.compile(optimizer=tf.keras.optimizers.Adam(0.001), loss='binary_crossentropy', metrics=\"mae\")"
   ]
  },
  {
   "cell_type": "markdown",
   "metadata": {},
   "source": [
    "We choose `binary_crossentropy` over `mse`, because as shown earlier in the lecture the former enables a better gradient signal. Because of this choice sigmoid activation is used in the last layer."
   ]
  },
  {
   "cell_type": "code",
   "execution_count": 9,
   "metadata": {},
   "outputs": [],
   "source": [
    "# for visualisation\n",
    "def plot_result(x_test,decoded_imgs):\n",
    "    n = 10\n",
    "    plt.figure(figsize=(20, 4))\n",
    "    for i in range(n):\n",
    "        # display original\n",
    "        ax = plt.subplot(2, n, i + 1)\n",
    "        plt.imshow(x_test[i].reshape(28, 28))\n",
    "        plt.gray()\n",
    "        ax.get_xaxis().set_visible(False)\n",
    "        ax.get_yaxis().set_visible(False)\n",
    "\n",
    "        # display reconstruction\n",
    "        ax = plt.subplot(2, n, i + 1 + n)\n",
    "        plt.imshow(decoded_imgs[i].reshape(28, 28))\n",
    "        plt.gray()\n",
    "        ax.get_xaxis().set_visible(False)\n",
    "        ax.get_yaxis().set_visible(False)\n",
    "    plt.show()"
   ]
  },
  {
   "cell_type": "code",
   "execution_count": 10,
   "metadata": {
    "scrolled": true
   },
   "outputs": [
    {
     "name": "stdout",
     "output_type": "stream",
     "text": [
      "Epoch 1/50\n",
      "1688/1688 [==============================] - 5s 3ms/step - loss: 0.3424 - mae: 0.1828 - val_loss: 0.2783 - val_mae: 0.1336\n",
      "Epoch 2/50\n",
      "1688/1688 [==============================] - 11s 7ms/step - loss: 0.2611 - mae: 0.1223 - val_loss: 0.2467 - val_mae: 0.1112\n",
      "Epoch 3/50\n",
      "1688/1688 [==============================] - 5s 3ms/step - loss: 0.2384 - mae: 0.1058 - val_loss: 0.2330 - val_mae: 0.1015\n",
      "Epoch 4/50\n",
      "1688/1688 [==============================] - 12s 7ms/step - loss: 0.2268 - mae: 0.0972 - val_loss: 0.2234 - val_mae: 0.0951oss: 0.2278 - m\n",
      "Epoch 5/50\n",
      "1688/1688 [==============================] - 5s 3ms/step - loss: 0.2191 - mae: 0.0914 - val_loss: 0.2177 - val_mae: 0.0900\n",
      "Epoch 6/50\n",
      "1688/1688 [==============================] - 11s 7ms/step - loss: 0.2140 - mae: 0.0876 - val_loss: 0.2117 - val_mae: 0.0863\n",
      "Epoch 7/50\n",
      "1688/1688 [==============================] - 6s 3ms/step - loss: 0.2102 - mae: 0.0847 - val_loss: 0.2085 - val_mae: 0.0835\n",
      "Epoch 8/50\n",
      "1688/1688 [==============================] - 6s 4ms/step - loss: 0.2074 - mae: 0.0826 - val_loss: 0.2059 - val_mae: 0.0815\n",
      "Epoch 9/50\n",
      "1688/1688 [==============================] - 7s 4ms/step - loss: 0.2053 - mae: 0.0809 - val_loss: 0.2046 - val_mae: 0.0808\n",
      "Epoch 10/50\n",
      "1688/1688 [==============================] - 6s 4ms/step - loss: 0.2037 - mae: 0.0797 - val_loss: 0.2038 - val_mae: 0.0798\n",
      "Epoch 11/50\n",
      "1688/1688 [==============================] - 5s 3ms/step - loss: 0.2025 - mae: 0.0788 - val_loss: 0.2015 - val_mae: 0.0780\n",
      "Epoch 12/50\n",
      "1688/1688 [==============================] - 5s 3ms/step - loss: 0.2015 - mae: 0.0780 - val_loss: 0.2015 - val_mae: 0.0784\n",
      "Epoch 13/50\n",
      "1688/1688 [==============================] - 6s 3ms/step - loss: 0.2008 - mae: 0.0774 - val_loss: 0.2011 - val_mae: 0.0777\n",
      "Epoch 14/50\n",
      "1688/1688 [==============================] - 5s 3ms/step - loss: 0.2002 - mae: 0.0770 - val_loss: 0.1991 - val_mae: 0.0762\n",
      "Epoch 15/50\n",
      "1688/1688 [==============================] - 5s 3ms/step - loss: 0.1996 - mae: 0.0765 - val_loss: 0.1996 - val_mae: 0.0769\n",
      "Epoch 16/50\n",
      "1688/1688 [==============================] - 5s 3ms/step - loss: 0.1991 - mae: 0.0762 - val_loss: 0.2001 - val_mae: 0.0769\n",
      "Epoch 17/50\n",
      "1688/1688 [==============================] - 6s 3ms/step - loss: 0.1986 - mae: 0.0758 - val_loss: 0.1988 - val_mae: 0.0753\n",
      "Epoch 18/50\n",
      "1688/1688 [==============================] - 5s 3ms/step - loss: 0.1978 - mae: 0.0753 - val_loss: 0.1978 - val_mae: 0.0753\n",
      "Epoch 19/50\n",
      "1688/1688 [==============================] - 5s 3ms/step - loss: 0.1975 - mae: 0.0751 - val_loss: 0.1971 - val_mae: 0.0753\n",
      "Epoch 20/50\n",
      "1688/1688 [==============================] - 6s 3ms/step - loss: 0.1971 - mae: 0.0747 - val_loss: 0.1984 - val_mae: 0.0749\n",
      "Epoch 21/50\n",
      "1688/1688 [==============================] - 5s 3ms/step - loss: 0.1966 - mae: 0.0744 - val_loss: 0.1980 - val_mae: 0.0750\n",
      "Epoch 22/50\n",
      "1688/1688 [==============================] - 5s 3ms/step - loss: 0.1963 - mae: 0.0741 - val_loss: 0.1964 - val_mae: 0.0743\n",
      "Epoch 23/50\n",
      "1688/1688 [==============================] - 5s 3ms/step - loss: 0.1960 - mae: 0.0739 - val_loss: 0.1957 - val_mae: 0.0739\n",
      "Epoch 24/50\n",
      "1688/1688 [==============================] - 5s 3ms/step - loss: 0.1956 - mae: 0.0736 - val_loss: 0.1961 - val_mae: 0.0736\n",
      "Epoch 25/50\n",
      "1688/1688 [==============================] - 5s 3ms/step - loss: 0.1953 - mae: 0.0734 - val_loss: 0.1977 - val_mae: 0.0742\n",
      "Epoch 26/50\n",
      "1688/1688 [==============================] - 5s 3ms/step - loss: 0.1951 - mae: 0.0732 - val_loss: 0.1965 - val_mae: 0.0739\n",
      "Epoch 27/50\n",
      "1688/1688 [==============================] - 5s 3ms/step - loss: 0.1949 - mae: 0.0730 - val_loss: 0.1954 - val_mae: 0.0734\n",
      "Epoch 28/50\n",
      "1688/1688 [==============================] - 6s 4ms/step - loss: 0.1947 - mae: 0.0729 - val_loss: 0.1947 - val_mae: 0.0731\n",
      "Epoch 29/50\n",
      "1688/1688 [==============================] - 5s 3ms/step - loss: 0.1944 - mae: 0.0727 - val_loss: 0.1948 - val_mae: 0.0728\n",
      "Epoch 30/50\n",
      "1688/1688 [==============================] - 5s 3ms/step - loss: 0.1942 - mae: 0.0725 - val_loss: 0.1942 - val_mae: 0.0726\n",
      "Epoch 31/50\n",
      "1688/1688 [==============================] - 6s 4ms/step - loss: 0.1940 - mae: 0.0724 - val_loss: 0.1951 - val_mae: 0.0731\n",
      "Epoch 32/50\n",
      "1688/1688 [==============================] - 6s 4ms/step - loss: 0.1938 - mae: 0.0723 - val_loss: 0.1947 - val_mae: 0.0728\n",
      "Epoch 33/50\n",
      "1688/1688 [==============================] - 6s 3ms/step - loss: 0.1938 - mae: 0.0722 - val_loss: 0.1940 - val_mae: 0.0724\n",
      "Epoch 34/50\n",
      "1688/1688 [==============================] - 6s 3ms/step - loss: 0.1935 - mae: 0.0720 - val_loss: 0.1937 - val_mae: 0.0723\n",
      "Epoch 35/50\n",
      "1688/1688 [==============================] - 7s 4ms/step - loss: 0.1934 - mae: 0.0719 - val_loss: 0.1946 - val_mae: 0.0724\n",
      "Epoch 36/50\n",
      "1688/1688 [==============================] - 6s 4ms/step - loss: 0.1932 - mae: 0.0718 - val_loss: 0.1948 - val_mae: 0.0727\n",
      "Epoch 37/50\n",
      "1688/1688 [==============================] - 8s 5ms/step - loss: 0.1931 - mae: 0.0717 - val_loss: 0.1937 - val_mae: 0.0716\n",
      "Epoch 38/50\n",
      "1688/1688 [==============================] - 6s 4ms/step - loss: 0.1929 - mae: 0.0715 - val_loss: 0.1941 - val_mae: 0.0719\n",
      "Epoch 39/50\n",
      "1688/1688 [==============================] - 6s 4ms/step - loss: 0.1928 - mae: 0.0715 - val_loss: 0.1926 - val_mae: 0.0711\n",
      "Epoch 40/50\n",
      "1688/1688 [==============================] - 7s 4ms/step - loss: 0.1927 - mae: 0.0714 - val_loss: 0.1948 - val_mae: 0.0728\n",
      "Epoch 41/50\n",
      "1688/1688 [==============================] - 6s 3ms/step - loss: 0.1924 - mae: 0.0712 - val_loss: 0.1944 - val_mae: 0.0725\n",
      "Epoch 42/50\n",
      "1688/1688 [==============================] - 7s 4ms/step - loss: 0.1924 - mae: 0.0712 - val_loss: 0.1930 - val_mae: 0.0717\n",
      "Epoch 43/50\n",
      "1688/1688 [==============================] - 6s 4ms/step - loss: 0.1922 - mae: 0.0710 - val_loss: 0.1940 - val_mae: 0.0723\n",
      "Epoch 44/50\n",
      "1688/1688 [==============================] - 6s 3ms/step - loss: 0.1921 - mae: 0.0710 - val_loss: 0.1931 - val_mae: 0.0712\n",
      "Epoch 45/50\n",
      "1688/1688 [==============================] - 6s 3ms/step - loss: 0.1919 - mae: 0.0708 - val_loss: 0.1932 - val_mae: 0.0712\n",
      "Epoch 46/50\n",
      "1688/1688 [==============================] - 8s 5ms/step - loss: 0.1919 - mae: 0.0708 - val_loss: 0.1922 - val_mae: 0.0709\n",
      "Epoch 47/50\n",
      "1688/1688 [==============================] - 6s 3ms/step - loss: 0.1918 - mae: 0.0707 - val_loss: 0.1927 - val_mae: 0.0713\n",
      "Epoch 48/50\n",
      "1688/1688 [==============================] - 6s 4ms/step - loss: 0.1917 - mae: 0.0707 - val_loss: 0.1921 - val_mae: 0.0709\n",
      "Epoch 49/50\n",
      "1688/1688 [==============================] - 6s 3ms/step - loss: 0.1916 - mae: 0.0706 - val_loss: 0.1925 - val_mae: 0.0711\n",
      "Epoch 50/50\n",
      "1688/1688 [==============================] - 6s 3ms/step - loss: 0.1914 - mae: 0.0704 - val_loss: 0.1918 - val_mae: 0.0707\n"
     ]
    }
   ],
   "source": [
    "# train the network\n",
    "log = autoencoder.fit(X_train, X_train, epochs=50, batch_size=32, validation_split=0.1)"
   ]
  },
  {
   "cell_type": "code",
   "execution_count": 11,
   "metadata": {},
   "outputs": [
    {
     "data": {
      "image/png": "[encoded data removed]",
      "text/plain": [
       "<Figure size 432x288 with 1 Axes>"
      ]
     },
     "metadata": {
      "needs_background": "light"
     },
     "output_type": "display_data"
    }
   ],
   "source": [
    "plt.plot(log.history['loss'], label='Training')\n",
    "plt.plot(log.history['val_loss'], label='Testing')\n",
    "plt.legend()\n",
    "plt.grid()"
   ]
  },
  {
   "cell_type": "code",
   "execution_count": 12,
   "metadata": {},
   "outputs": [
    {
     "data": {
      "image/png": "[encoded data removed]",
      "text/plain": [
       "<Figure size 1440x288 with 20 Axes>"
      ]
     },
     "metadata": {
      "needs_background": "light"
     },
     "output_type": "display_data"
    }
   ],
   "source": [
    "# encode and decode some digits\n",
    "# note that we take them from the *test* set\n",
    "encoded_imgs = encoder.predict(X_test)\n",
    "decoded_imgs = decoder.predict(encoded_imgs)\n",
    "plot_result(X_test,decoded_imgs)"
   ]
  },
  {
   "cell_type": "markdown",
   "metadata": {},
   "source": [
    "*How could we evaluate the performance of such a “compression” tool (in terms of loss and in terms of gain of bandwidth) ?*\n",
    "\n",
    "We could compare the relative improvement in terms of bytes required to transmit the data (e.g. $\\frac{784}{32}=24.5$) with the expected mean error of the decoder.\n",
    "\n"
   ]
  },
  {
   "cell_type": "markdown",
   "metadata": {},
   "source": [
    "### Use the encoded features to train another classifier"
   ]
  },
  {
   "cell_type": "code",
   "execution_count": 13,
   "metadata": {},
   "outputs": [
    {
     "name": "stdout",
     "output_type": "stream",
     "text": [
      "(60000, 32)\n",
      "(60000, 10)\n",
      "(10000, 32)\n",
      "(10000, 10)\n"
     ]
    }
   ],
   "source": [
    "X_train_feat = encoder.predict(X_train)\n",
    "X_test_feat = encoder.predict(X_test)\n",
    "\n",
    "# Normalization (standardization) of training and test sets\n",
    "scaler = StandardScaler()  \n",
    "scaler.fit(X_train_feat)\n",
    "X_train_feat = scaler.transform(X_train_feat)  \n",
    "X_test_feat = scaler.transform(X_test_feat)\n",
    "\n",
    "print(X_train_feat.shape)\n",
    "print(Y_train.shape)\n",
    "print(X_test_feat.shape)\n",
    "print(Y_test.shape)"
   ]
  },
  {
   "cell_type": "code",
   "execution_count": 14,
   "metadata": {},
   "outputs": [
    {
     "data": {
      "text/plain": [
       "SVC(cache_size=7000, kernel='linear')"
      ]
     },
     "execution_count": 14,
     "metadata": {},
     "output_type": "execute_result"
    }
   ],
   "source": [
    "# using the features to train a SVM\n",
    "clf = SVC(kernel='linear', cache_size=7000)\n",
    "clf.fit(X_train_feat, train_labels)"
   ]
  },
  {
   "cell_type": "code",
   "execution_count": 15,
   "metadata": {},
   "outputs": [
    {
     "name": "stdout",
     "output_type": "stream",
     "text": [
      "Classification report for classifier SVC(cache_size=7000, kernel='linear'):\n",
      "              precision    recall  f1-score   support\n",
      "\n",
      "           0       0.93      0.90      0.92      1000\n",
      "           1       0.89      0.87      0.88      1000\n",
      "           2       0.91      0.91      0.91      1000\n",
      "           3       0.91      0.90      0.90      1000\n",
      "           4       0.90      0.84      0.87      1000\n",
      "           5       0.88      0.93      0.91      1000\n",
      "           6       0.87      0.88      0.88      1000\n",
      "           7       0.90      0.88      0.89      1000\n",
      "           8       0.83      0.85      0.84      1000\n",
      "           9       0.87      0.92      0.89      1000\n",
      "\n",
      "    accuracy                           0.89     10000\n",
      "   macro avg       0.89      0.89      0.89     10000\n",
      "weighted avg       0.89      0.89      0.89     10000\n",
      "\n",
      "\n"
     ]
    }
   ],
   "source": [
    "y_pred = clf.predict(X_test_feat)\n",
    "\n",
    "# Print classification results with confusion matrix\n",
    "print(\"Classification report for classifier %s:\\n%s\\n\" %\n",
    "      (clf, metrics.classification_report(test_labels, y_pred)))\n",
    "# print(\"\\nConfusion matrix:\\n%s\" % metrics.confusion_matrix(test_labels, y_pred))"
   ]
  },
  {
   "cell_type": "markdown",
   "metadata": {},
   "source": [
    "### Use the raw pixels to train another classifier"
   ]
  },
  {
   "cell_type": "code",
   "execution_count": null,
   "metadata": {},
   "outputs": [],
   "source": [
    "# using the features to train a SVM\n",
    "clf = SVC(kernel='linear', cache_size=7000)\n",
    "clf.fit(X_train.reshape(X_train.shape[0], -1), train_labels)"
   ]
  },
  {
   "cell_type": "code",
   "execution_count": null,
   "metadata": {},
   "outputs": [],
   "source": [
    "y_pred = clf.predict(X_test_feat)\n",
    "\n",
    "# Print classification results with confusion matrix\n",
    "print(\"Classification report for classifier %s:\\n%s\\n\" %\n",
    "      (clf, metrics.classification_report(test_labels, y_pred)))\n",
    "# print(\"\\nConfusion matrix:\\n%s\" % metrics.confusion_matrix(test_labels, y_pred))"
   ]
  },
  {
   "cell_type": "markdown",
   "metadata": {},
   "source": [
    "TODO: comment"
   ]
  },
  {
   "cell_type": "markdown",
   "metadata": {},
   "source": [
    "## Create a conv autoencoder"
   ]
  },
  {
   "cell_type": "code",
   "execution_count": null,
   "metadata": {},
   "outputs": [],
   "source": [
    "input_img = Input(shape=(28, 28, 1))\n",
    "# encoder\n",
    "conv1 = tf.keras.layers.Conv2D(filters=32, kernel_size=(3, 3), activation=\"relu\", padding=\"same\")(input_img) #28 x 28 x 32\n",
    "pool1 = tf.keras.layers.MaxPooling2D()(conv1) #14 x 14 x 32\n",
    "conv2 = tf.keras.layers.Conv2D(filters=64, kernel_size=(3, 3), activation=\"relu\", padding=\"same\")(pool1) #14 x 14 x 64\n",
    "pool2 = tf.keras.layers.MaxPooling2D()(conv2) #7 x 7 x 64\n",
    "conv3 = tf.keras.layers.Conv2D(filters=128, kernel_size=(3, 3), activation=\"relu\", padding=\"same\")(pool2) #7 x 7 x 128 (small and thick)\n",
    "# decoder\n",
    "conv4 = tf.keras.layers.Conv2D(filters=128, kernel_size=(3, 3), activation=\"relu\", padding=\"same\")(conv3) #7 x 7 x 128\n",
    "up1 = tf.keras.layers.UpSampling2D()(conv4) # 14 x 14 x 128 (UpSampling2D())\n",
    "conv5 = tf.keras.layers.Conv2D(filters=64, kernel_size=(3, 3), activation=\"relu\", padding=\"same\")(up1) # 14 x 14 x 64\n",
    "up2 = tf.keras.layers.UpSampling2D()(conv5) # 28 x 28 x 64\n",
    "decoded = tf.keras.layers.Conv2D(filters=1, kernel_size=(3, 3), activation=\"sigmoid\", padding=\"same\")(up2) # 28 x 28 x 1\n",
    "# autoencoder\n",
    "autoencoder = Model(inputs=input_img, outputs=decoded)\n",
    "autoencoder.compile(optimizer=tf.keras.optimizers.Adam(0.001), loss='binary_crossentropy', metrics=\"mae\")\n",
    "autoencoder.summary()"
   ]
  },
  {
   "cell_type": "code",
   "execution_count": null,
   "metadata": {},
   "outputs": [],
   "source": [
    "log = autoencoder.fit(X_train, X_train, epochs=10, batch_size=32, validation_split=0.1)"
   ]
  },
  {
   "cell_type": "code",
   "execution_count": null,
   "metadata": {},
   "outputs": [],
   "source": [
    "plt.plot(log.history['loss'], label='Training')\n",
    "plt.plot(log.history['val_loss'], label='Testing')\n",
    "plt.legend()\n",
    "plt.grid()"
   ]
  },
  {
   "cell_type": "markdown",
   "metadata": {},
   "source": [
    "### Predict on test data"
   ]
  },
  {
   "cell_type": "code",
   "execution_count": null,
   "metadata": {},
   "outputs": [],
   "source": [
    "decoded_imgs = autoencoder.predict(X_test, verbose=0)\n",
    "print(decoded_imgs.shape)"
   ]
  },
  {
   "cell_type": "code",
   "execution_count": null,
   "metadata": {},
   "outputs": [],
   "source": [
    "plot_result(X_test,decoded_imgs)"
   ]
  },
  {
   "cell_type": "markdown",
   "metadata": {},
   "source": [
    "## Denoising autoencoder\n",
    "First add some noise."
   ]
  },
  {
   "cell_type": "code",
   "execution_count": null,
   "metadata": {},
   "outputs": [],
   "source": [
    "noise_factor = .4 #chose a noise factor between 0.0 and 1.0\n",
    "X_train_noisy = X_train + noise_factor * np.random.normal(loc=0.0, scale=1.0, size=X_train.shape)\n",
    "X_test_noisy = X_test + noise_factor * np.random.normal(loc=0.0, scale=1.0, size=X_test.shape)\n",
    "X_train_noisy = np.clip(X_train_noisy, 0., 1.)\n",
    "X_test_noisy = np.clip(X_test_noisy, 0., 1.)"
   ]
  },
  {
   "cell_type": "code",
   "execution_count": null,
   "metadata": {},
   "outputs": [],
   "source": [
    "plt.figure(figsize=[5,5])\n",
    "\n",
    "# Display the first image in training data\n",
    "plt.subplot(121)\n",
    "curr_img = np.reshape(X_train_noisy[1], (28,28))\n",
    "plt.imshow(curr_img, cmap='gray')\n",
    "\n",
    "# Display the first image in testing data\n",
    "plt.subplot(122)\n",
    "curr_img = np.reshape(X_test_noisy[1], (28,28))\n",
    "plt.imshow(curr_img, cmap='gray')"
   ]
  },
  {
   "cell_type": "code",
   "execution_count": null,
   "metadata": {},
   "outputs": [],
   "source": [
    "# REDEFINE HERE A CONV AUTOENCODER FOR THE DENOISING WITH A SIMILAR ARCHITECTURE\n",
    "\n",
    "input_img = Input(shape=(28, 28, 1))\n",
    "# encoder\n",
    "conv1 = tf.keras.layers.Conv2D(filters=32, kernel_size=(3, 3), activation=\"relu\", padding=\"same\")(input_img) #28 x 28 x 32\n",
    "pool1 = tf.keras.layers.MaxPooling2D()(conv1) #14 x 14 x 32\n",
    "conv2 = tf.keras.layers.Conv2D(filters=64, kernel_size=(3, 3), activation=\"relu\", padding=\"same\")(pool1) #14 x 14 x 64\n",
    "pool2 = tf.keras.layers.MaxPooling2D()(conv2) #7 x 7 x 64\n",
    "conv3 = tf.keras.layers.Conv2D(filters=128, kernel_size=(3, 3), activation=\"relu\", padding=\"same\")(pool2) #7 x 7 x 128 (small and thick)\n",
    "# decoder\n",
    "conv4 = tf.keras.layers.Conv2D(filters=128, kernel_size=(3, 3), activation=\"relu\", padding=\"same\")(conv3) #7 x 7 x 128\n",
    "up1 = tf.keras.layers.UpSampling2D()(conv4) # 14 x 14 x 128 (UpSampling2D())\n",
    "conv5 = tf.keras.layers.Conv2D(filters=64, kernel_size=(3, 3), activation=\"relu\", padding=\"same\")(up1) # 14 x 14 x 64\n",
    "up2 = tf.keras.layers.UpSampling2D()(conv5) # 28 x 28 x 64\n",
    "decoded = tf.keras.layers.Conv2D(filters=1, kernel_size=(3, 3), activation=\"sigmoid\", padding=\"same\")(up2) # 28 x 28 x 1\n",
    "# autoencoder\n",
    "autoencoder = Model(inputs=input_img, outputs=decoded)\n",
    "autoencoder.compile(optimizer=tf.keras.optimizers.Adam(0.001), loss='binary_crossentropy', metrics=\"mae\")\n",
    "autoencoder.summary()"
   ]
  },
  {
   "cell_type": "markdown",
   "metadata": {},
   "source": [
    "*Would it make sense to use the output of the encoder to compress the images ?*\n",
    "\n",
    "No it would not because the output of the encoder is a $7\\times 7\\times 128$ large tensor which leads to $6272$ values. Those are $8$ times more numbers than in the original image and would even increase the data volume of the image."
   ]
  },
  {
   "cell_type": "code",
   "execution_count": null,
   "metadata": {},
   "outputs": [],
   "source": [
    "# train on the noisy images and use as target the original clean images\n",
    "log = autoencoder.fit(X_train_noisy, X_train, batch_size=128, epochs=1,\n",
    "                        verbose=1, validation_data=(X_test_noisy, X_test))"
   ]
  },
  {
   "cell_type": "code",
   "execution_count": null,
   "metadata": {},
   "outputs": [],
   "source": [
    "decoded_imgs = autoencoder.predict(X_test_noisy, verbose=0)\n",
    "print(decoded_imgs.shape)"
   ]
  },
  {
   "cell_type": "code",
   "execution_count": null,
   "metadata": {},
   "outputs": [],
   "source": [
    "plot_result(X_test_noisy,decoded_imgs)"
   ]
  },
  {
   "cell_type": "code",
   "execution_count": null,
   "metadata": {},
   "outputs": [],
   "source": []
  }
 ],
 "metadata": {
  "kernelspec": {
   "display_name": "Python 3",
   "language": "python",
   "name": "python3"
  },
  "language_info": {
   "codemirror_mode": {
    "name": "ipython",
    "version": 3
   },
   "file_extension": ".py",
   "mimetype": "text/x-python",
   "name": "python",
   "nbconvert_exporter": "python",
   "pygments_lexer": "ipython3",
   "version": "3.8.5"
  }
 },
 "nbformat": 4,
 "nbformat_minor": 2
}
