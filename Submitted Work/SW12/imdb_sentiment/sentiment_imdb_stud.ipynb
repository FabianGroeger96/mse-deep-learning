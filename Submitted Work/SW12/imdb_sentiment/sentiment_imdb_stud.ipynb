{
 "cells": [
  {
   "cell_type": "markdown",
   "metadata": {},
   "source": [
    "# Sentiment Classification for IMDB Movie Reviews\n"
   ]
  },
  {
   "cell_type": "code",
   "execution_count": 1,
   "metadata": {},
   "outputs": [],
   "source": [
    "import pandas as pd\n",
    "import numpy as np\n",
    "import re\n",
    "import matplotlib.pyplot as plt\n",
    "\n",
    "import nltk\n",
    "from nltk.corpus import stopwords\n",
    "\n",
    "from sklearn.model_selection import train_test_split\n",
    "\n",
    "from numpy import array\n",
    "import tensorflow as tf\n",
    "from tensorflow.keras.preprocessing.text import one_hot\n",
    "from tensorflow.keras.preprocessing.sequence import pad_sequences\n",
    "from tensorflow.keras.models import Sequential\n",
    "from tensorflow.keras.layers import Flatten, Dense, Dropout, GlobalMaxPooling1D, Conv1D, SimpleRNN, LSTM\n",
    "from tensorflow.keras.layers import Embedding\n",
    "from tensorflow.keras.preprocessing.text import Tokenizer"
   ]
  },
  {
   "cell_type": "markdown",
   "metadata": {},
   "source": [
    "## Loading the Data"
   ]
  },
  {
   "cell_type": "markdown",
   "metadata": {},
   "source": [
    "You will need to load the reviews. These are provided in the zip.\n",
    "In addition, you will use pretrained embeddings (GloVe, 100d) which you need to download e.g. from https://nlp.stanford.edu/projects/glove/ ."
   ]
  },
  {
   "cell_type": "code",
   "execution_count": 2,
   "metadata": {},
   "outputs": [
    {
     "data": {
      "text/plain": [
       "(50000, 2)"
      ]
     },
     "execution_count": 2,
     "metadata": {},
     "output_type": "execute_result"
    }
   ],
   "source": [
    "movie_reviews = pd.read_csv(\"imdb_data/IMDB Dataset.csv\")\n",
    "movie_reviews.isnull().values.any()\n",
    "movie_reviews.shape"
   ]
  },
  {
   "cell_type": "code",
   "execution_count": 3,
   "metadata": {},
   "outputs": [
    {
     "data": {
      "text/html": [
       "<div>\n",
       "<style scoped>\n",
       "    .dataframe tbody tr th:only-of-type {\n",
       "        vertical-align: middle;\n",
       "    }\n",
       "\n",
       "    .dataframe tbody tr th {\n",
       "        vertical-align: top;\n",
       "    }\n",
       "\n",
       "    .dataframe thead th {\n",
       "        text-align: right;\n",
       "    }\n",
       "</style>\n",
       "<table border=\"1\" class=\"dataframe\">\n",
       "  <thead>\n",
       "    <tr style=\"text-align: right;\">\n",
       "      <th></th>\n",
       "      <th>review</th>\n",
       "      <th>sentiment</th>\n",
       "    </tr>\n",
       "  </thead>\n",
       "  <tbody>\n",
       "    <tr>\n",
       "      <th>0</th>\n",
       "      <td>One of the other reviewers has mentioned that ...</td>\n",
       "      <td>positive</td>\n",
       "    </tr>\n",
       "    <tr>\n",
       "      <th>1</th>\n",
       "      <td>A wonderful little production. &lt;br /&gt;&lt;br /&gt;The...</td>\n",
       "      <td>positive</td>\n",
       "    </tr>\n",
       "    <tr>\n",
       "      <th>2</th>\n",
       "      <td>I thought this was a wonderful way to spend ti...</td>\n",
       "      <td>positive</td>\n",
       "    </tr>\n",
       "    <tr>\n",
       "      <th>3</th>\n",
       "      <td>Basically there's a family where a little boy ...</td>\n",
       "      <td>negative</td>\n",
       "    </tr>\n",
       "    <tr>\n",
       "      <th>4</th>\n",
       "      <td>Petter Mattei's \"Love in the Time of Money\" is...</td>\n",
       "      <td>positive</td>\n",
       "    </tr>\n",
       "  </tbody>\n",
       "</table>\n",
       "</div>"
      ],
      "text/plain": [
       "                                              review sentiment\n",
       "0  One of the other reviewers has mentioned that ...  positive\n",
       "1  A wonderful little production. <br /><br />The...  positive\n",
       "2  I thought this was a wonderful way to spend ti...  positive\n",
       "3  Basically there's a family where a little boy ...  negative\n",
       "4  Petter Mattei's \"Love in the Time of Money\" is...  positive"
      ]
     },
     "execution_count": 3,
     "metadata": {},
     "output_type": "execute_result"
    }
   ],
   "source": [
    "movie_reviews.head()"
   ]
  },
  {
   "cell_type": "code",
   "execution_count": 4,
   "metadata": {},
   "outputs": [
    {
     "data": {
      "text/plain": [
       "\"Basically there's a family where a little boy (Jake) thinks there's a zombie in his closet & his parents are fighting all the time.<br /><br />This movie is slower than a soap opera... and suddenly, Jake decides to become Rambo and kill the zombie.<br /><br />OK, first of all when you're going to make a film you must Decide if its a thriller or a drama! As a drama the movie is watchable. Parents are divorcing & arguing like in real life. And then we have Jake with his closet which totally ruins all the film! I expected to see a BOOGEYMAN similar movie, and instead i watched a drama with some meaningless thriller spots.<br /><br />3 out of 10 just for the well playing parents & descent dialogs. As for the shots with Jake: just ignore them.\""
      ]
     },
     "execution_count": 4,
     "metadata": {},
     "output_type": "execute_result"
    }
   ],
   "source": [
    "movie_reviews[\"review\"][3]"
   ]
  },
  {
   "cell_type": "code",
   "execution_count": 5,
   "metadata": {},
   "outputs": [
    {
     "data": {
      "text/plain": [
       "<AxesSubplot:xlabel='sentiment', ylabel='count'>"
      ]
     },
     "execution_count": 5,
     "metadata": {},
     "output_type": "execute_result"
    },
    {
     "data": {
      "image/png": "[encoded data removed]",
      "text/plain": [
       "<Figure size 432x288 with 1 Axes>"
      ]
     },
     "metadata": {
      "needs_background": "light"
     },
     "output_type": "display_data"
    }
   ],
   "source": [
    "import seaborn as sns\n",
    "sns.countplot(x='sentiment', data=movie_reviews)\n"
   ]
  },
  {
   "cell_type": "markdown",
   "metadata": {},
   "source": [
    "## Preprocessing\n",
    "\n",
    "__Prepare the review content__:\n",
    "\n",
    "Remove \n",
    "* html tags\n",
    "* replace punctuation with a space\n",
    "* remove single characters\n",
    "* remove multiple spaces\n",
    "\n",
    "Split into train/test.\n",
    "\n",
    "Tokenize the reviews - i.e. mapping the words to integers by using a vocabulary of the most frequent words.\n",
    "\n",
    "Cut and pad the sequences to a given fixed length."
   ]
  },
  {
   "cell_type": "code",
   "execution_count": 6,
   "metadata": {},
   "outputs": [],
   "source": [
    "num_words = 5000\n",
    "maxlen = 100"
   ]
  },
  {
   "cell_type": "code",
   "execution_count": 7,
   "metadata": {},
   "outputs": [],
   "source": [
    "TAG_RE = re.compile(r'<[^>]+>')\n",
    "\n",
    "def remove_tags(text):\n",
    "    return TAG_RE.sub('', text)"
   ]
  },
  {
   "cell_type": "code",
   "execution_count": 8,
   "metadata": {},
   "outputs": [],
   "source": [
    "def preprocess_text(sen):\n",
    "    # Removing html tags\n",
    "    sentence = remove_tags(sen)\n",
    "\n",
    "    # Remove punctuations and numbers\n",
    "    sentence = re.sub('[^a-zA-Z]', ' ', sentence)\n",
    "\n",
    "    # Single character removal\n",
    "    sentence = re.sub(r\"\\s+[a-zA-Z]\\s+\", ' ', sentence)\n",
    "\n",
    "    # Removing multiple spaces\n",
    "    sentence = re.sub(r'\\s+', ' ', sentence)\n",
    "\n",
    "    return sentence\n"
   ]
  },
  {
   "cell_type": "code",
   "execution_count": 9,
   "metadata": {},
   "outputs": [],
   "source": [
    "X = []\n",
    "sentences = list(movie_reviews['review'])\n",
    "for sen in sentences:\n",
    "    X.append(preprocess_text(sen))"
   ]
  },
  {
   "cell_type": "markdown",
   "metadata": {},
   "source": [
    "Now the above sample review looks as follows - e.g. in teh first sentence, \"there's a zombie\" is replaced by just \"there a zombie\""
   ]
  },
  {
   "cell_type": "code",
   "execution_count": 10,
   "metadata": {},
   "outputs": [
    {
     "data": {
      "text/plain": [
       "'Basically there a family where little boy Jake thinks there a zombie in his closet his parents are fighting all the time This movie is slower than soap opera and suddenly Jake decides to become Rambo and kill the zombie OK first of all when you re going to make film you must Decide if its thriller or drama As drama the movie is watchable Parents are divorcing arguing like in real life And then we have Jake with his closet which totally ruins all the film expected to see BOOGEYMAN similar movie and instead watched drama with some meaningless thriller spots out of just for the well playing parents descent dialogs As for the shots with Jake just ignore them '"
      ]
     },
     "execution_count": 10,
     "metadata": {},
     "output_type": "execute_result"
    }
   ],
   "source": [
    "X[3]"
   ]
  },
  {
   "cell_type": "markdown",
   "metadata": {},
   "source": [
    "__Prepare the labels__"
   ]
  },
  {
   "cell_type": "code",
   "execution_count": 11,
   "metadata": {},
   "outputs": [],
   "source": [
    "y = movie_reviews['sentiment']\n",
    "y = np.array(list(map(lambda x: 1 if x==\"positive\" else 0, y)))"
   ]
  },
  {
   "cell_type": "markdown",
   "metadata": {},
   "source": [
    "__Split into train/test__"
   ]
  },
  {
   "cell_type": "code",
   "execution_count": 12,
   "metadata": {},
   "outputs": [],
   "source": [
    "X_train, X_test, y_train, y_test = train_test_split(X, y, test_size=0.20, random_state=42)"
   ]
  },
  {
   "cell_type": "markdown",
   "metadata": {},
   "source": [
    "__Tokenize__"
   ]
  },
  {
   "cell_type": "code",
   "execution_count": 13,
   "metadata": {},
   "outputs": [],
   "source": [
    "tokenizer = Tokenizer(num_words=num_words)\n",
    "tokenizer.fit_on_texts(X_train)\n",
    "\n",
    "X_train = tokenizer.texts_to_sequences(X_train)\n",
    "X_test = tokenizer.texts_to_sequences(X_test)"
   ]
  },
  {
   "cell_type": "code",
   "execution_count": 14,
   "metadata": {},
   "outputs": [
    {
     "name": "stdout",
     "output_type": "stream",
     "text": [
      "Tokenizer has found 92547 words. When transforming texts to sequences words that have an index above 5000 are just ignored.\n"
     ]
    }
   ],
   "source": [
    "vocab_size = len(tokenizer.word_index) + 1\n",
    "print(\"Tokenizer has found %i words. When transforming texts to sequences words that have an index above %i are just ignored.\"%(vocab_size, num_words))"
   ]
  },
  {
   "cell_type": "code",
   "execution_count": 19,
   "metadata": {},
   "outputs": [
    {
     "name": "stdout",
     "output_type": "stream",
     "text": [
      "the : 1\n",
      "and : 2\n",
      "of : 3\n",
      "to : 4\n",
      "is : 5\n",
      "it : 6\n",
      "secretly : 4999\n",
      "joins : 5000\n",
      "shattering : 10000\n"
     ]
    }
   ],
   "source": [
    "indices = [0,1,2,3,4,5,6,4999,5000,10000]\n",
    "for word, index in tokenizer.word_index.items():\n",
    "    if index in indices:\n",
    "        print(\"%s : %i\"%(word,index))"
   ]
  },
  {
   "cell_type": "code",
   "execution_count": 20,
   "metadata": {},
   "outputs": [
    {
     "data": {
      "text/plain": [
       "[[8, 5]]"
      ]
     },
     "execution_count": 20,
     "metadata": {},
     "output_type": "execute_result"
    }
   ],
   "source": [
    "tokenizer.texts_to_sequences([\"This is %s.\"%tokenizer.index_word[10000]])"
   ]
  },
  {
   "cell_type": "markdown",
   "metadata": {},
   "source": [
    "__Cutting and Padding__"
   ]
  },
  {
   "cell_type": "code",
   "execution_count": 21,
   "metadata": {},
   "outputs": [],
   "source": [
    "X_train = pad_sequences(X_train, padding='post', maxlen=maxlen)\n",
    "X_test = pad_sequences(X_test, padding='post', maxlen=maxlen)"
   ]
  },
  {
   "cell_type": "markdown",
   "metadata": {},
   "source": [
    "### Utility"
   ]
  },
  {
   "cell_type": "code",
   "execution_count": 22,
   "metadata": {},
   "outputs": [],
   "source": [
    "def performance_plots(model, X_test, Y_test, log, epochs):    \n",
    "    acc = log.history['accuracy']\n",
    "    val_acc = log.history['val_accuracy']\n",
    "    print('Train accuracy (end):', acc[-1])\n",
    "    print('Train accuracy (max):', np.max(acc))\n",
    "    print('Test accuracy (end) :', val_acc[-1])\n",
    "    print('Test accuracy (max) :', np.max(val_acc))\n",
    "\n",
    "    plt.plot(log.history['accuracy'])\n",
    "    plt.plot(log.history['val_accuracy'])\n",
    "    plt.title('model accuracy')\n",
    "    plt.ylabel('accuracy')\n",
    "    plt.xlabel('epoch')\n",
    "    plt.legend(['train','test'], loc='upper left')\n",
    "    plt.axis([0,epochs,0.0,1.0])\n",
    "    plt.show()\n",
    "\n",
    "    plt.plot(log.history['loss'])\n",
    "    plt.plot(log.history['val_loss'])\n",
    "    plt.title('model loss')\n",
    "    plt.ylabel('loss')\n",
    "    plt.xlabel('epoch')\n",
    "    plt.legend(['train','test'], loc = 'upper left')\n",
    "    plt.axis([0,epochs,0.0,2.0])\n",
    "    plt.show()"
   ]
  },
  {
   "cell_type": "code",
   "execution_count": 23,
   "metadata": {},
   "outputs": [],
   "source": [
    "import sklearn\n",
    "import pandas as pd\n",
    "activities = [\"neg\", \"pos\"]\n",
    "\n",
    "def confusion_matrix(model, X_test, Y_test):\n",
    "    scores = model.predict(X_test)\n",
    "    predictions = np.round(scores)\n",
    "    labels = Y_test\n",
    "    cm = sklearn.metrics.confusion_matrix(labels, predictions)\n",
    "    df = pd.DataFrame({activities[i] : cm[:,i] for i in range(len(activities))}, activities)\n",
    "    return df"
   ]
  },
  {
   "cell_type": "markdown",
   "metadata": {},
   "source": [
    "## A First Simple Model: Just an embedding layer and a dense layer "
   ]
  },
  {
   "cell_type": "code",
   "execution_count": 30,
   "metadata": {},
   "outputs": [
    {
     "name": "stdout",
     "output_type": "stream",
     "text": [
      "Model: \"sequential_3\"\n",
      "_________________________________________________________________\n",
      "Layer (type)                 Output Shape              Param #   \n",
      "=================================================================\n",
      "embedding_3 (Embedding)      (None, 100, 32)           160000    \n",
      "_________________________________________________________________\n",
      "flatten_3 (Flatten)          (None, 3200)              0         \n",
      "_________________________________________________________________\n",
      "dense_3 (Dense)              (None, 1)                 3201      \n",
      "=================================================================\n",
      "Total params: 163,201\n",
      "Trainable params: 163,201\n",
      "Non-trainable params: 0\n",
      "_________________________________________________________________\n",
      "None\n"
     ]
    }
   ],
   "source": [
    "# START YOUR CODE\n",
    "\n",
    "nepochs = 10\n",
    "embedding_dim = 32 \n",
    "batchsize = 32\n",
    "\n",
    "\n",
    "model = tf.keras.models.Sequential([\n",
    "    tf.keras.layers.Input(shape=(maxlen)),\n",
    "    tf.keras.layers.Embedding(input_dim=num_words, output_dim=32),\n",
    "    tf.keras.layers.Flatten(),\n",
    "    tf.keras.layers.Dense(1, activation=\"sigmoid\")\n",
    "])\n",
    "\n",
    "model.compile(loss=\"binary_crossentropy\", optimizer=tf.keras.optimizers.Adam(lr=0.001), metrics=\"accuracy\")\n",
    "\n",
    "\n",
    "# END YOUR CODE\n",
    "\n",
    "print(model.summary())"
   ]
  },
  {
   "cell_type": "code",
   "execution_count": 31,
   "metadata": {},
   "outputs": [
    {
     "name": "stdout",
     "output_type": "stream",
     "text": [
      "Epoch 1/10\n",
      "1250/1250 [==============================] - 3s 2ms/step - loss: 0.4232 - accuracy: 0.7995 - val_loss: 0.3155 - val_accuracy: 0.8610\n",
      "Epoch 2/10\n",
      "1250/1250 [==============================] - 3s 2ms/step - loss: 0.2684 - accuracy: 0.8895 - val_loss: 0.3146 - val_accuracy: 0.8640\n",
      "Epoch 3/10\n",
      "1250/1250 [==============================] - 10s 8ms/step - loss: 0.1932 - accuracy: 0.9295 - val_loss: 0.3337 - val_accuracy: 0.8566\n",
      "Epoch 4/10\n",
      "1250/1250 [==============================] - 2s 2ms/step - loss: 0.1124 - accuracy: 0.9712 - val_loss: 0.3679 - val_accuracy: 0.8531\n",
      "Epoch 5/10\n",
      "1250/1250 [==============================] - 2s 2ms/step - loss: 0.0556 - accuracy: 0.9925 - val_loss: 0.4141 - val_accuracy: 0.8460\n",
      "Epoch 6/10\n",
      "1250/1250 [==============================] - 2s 2ms/step - loss: 0.0250 - accuracy: 0.9984 - val_loss: 0.4623 - val_accuracy: 0.8463\n",
      "Epoch 7/10\n",
      "1250/1250 [==============================] - 9s 7ms/step - loss: 0.0112 - accuracy: 0.9998 - val_loss: 0.5112 - val_accuracy: 0.847314s - loss: 0.0118 - accuracy: 0. - ETA: 15s - loss: 0.0118 - accuracy: 0.999 - ETA: \n",
      "Epoch 8/10\n",
      "1250/1250 [==============================] - 2s 2ms/step - loss: 0.0053 - accuracy: 1.0000 - val_loss: 0.5621 - val_accuracy: 0.8481\n",
      "Epoch 9/10\n",
      "1250/1250 [==============================] - 3s 2ms/step - loss: 0.0025 - accuracy: 1.0000 - val_loss: 0.6133 - val_accuracy: 0.8463\n",
      "Epoch 10/10\n",
      "1250/1250 [==============================] - 4s 3ms/step - loss: 0.0013 - accuracy: 1.0000 - val_loss: 0.6619 - val_accuracy: 0.8469\n"
     ]
    }
   ],
   "source": [
    "history = model.fit(X_train, y_train, batch_size=batchsize, epochs=nepochs, verbose=1, validation_data=(X_test, y_test))"
   ]
  },
  {
   "cell_type": "code",
   "execution_count": 32,
   "metadata": {},
   "outputs": [
    {
     "name": "stdout",
     "output_type": "stream",
     "text": [
      "Train accuracy (end): 1.0\n",
      "Train accuracy (max): 1.0\n",
      "Test accuracy (end) : 0.8468999862670898\n",
      "Test accuracy (max) : 0.8640000224113464\n"
     ]
    },
    {
     "data": {
      "image/png": "[encoded data removed]",
      "text/plain": [
       "<Figure size 432x288 with 1 Axes>"
      ]
     },
     "metadata": {
      "needs_background": "light"
     },
     "output_type": "display_data"
    },
    {
     "data": {
      "image/png": "[encoded data removed]",
      "text/plain": [
       "<Figure size 432x288 with 1 Axes>"
      ]
     },
     "metadata": {
      "needs_background": "light"
     },
     "output_type": "display_data"
    },
    {
     "data": {
      "text/html": [
       "<div>\n",
       "<style scoped>\n",
       "    .dataframe tbody tr th:only-of-type {\n",
       "        vertical-align: middle;\n",
       "    }\n",
       "\n",
       "    .dataframe tbody tr th {\n",
       "        vertical-align: top;\n",
       "    }\n",
       "\n",
       "    .dataframe thead th {\n",
       "        text-align: right;\n",
       "    }\n",
       "</style>\n",
       "<table border=\"1\" class=\"dataframe\">\n",
       "  <thead>\n",
       "    <tr style=\"text-align: right;\">\n",
       "      <th></th>\n",
       "      <th>neg</th>\n",
       "      <th>pos</th>\n",
       "    </tr>\n",
       "  </thead>\n",
       "  <tbody>\n",
       "    <tr>\n",
       "      <th>neg</th>\n",
       "      <td>4149</td>\n",
       "      <td>812</td>\n",
       "    </tr>\n",
       "    <tr>\n",
       "      <th>pos</th>\n",
       "      <td>719</td>\n",
       "      <td>4320</td>\n",
       "    </tr>\n",
       "  </tbody>\n",
       "</table>\n",
       "</div>"
      ],
      "text/plain": [
       "      neg   pos\n",
       "neg  4149   812\n",
       "pos   719  4320"
      ]
     },
     "execution_count": 32,
     "metadata": {},
     "output_type": "execute_result"
    }
   ],
   "source": [
    "performance_plots(model, X_test, y_test, history, nepochs)\n",
    "confusion_matrix(model, X_test, y_test)"
   ]
  },
  {
   "cell_type": "markdown",
   "metadata": {},
   "source": [
    "We easily get into the overfitting regime since we have a huge amount of parameters."
   ]
  },
  {
   "cell_type": "markdown",
   "metadata": {},
   "source": [
    "## Using GloVe as pretrained embedding"
   ]
  },
  {
   "cell_type": "code",
   "execution_count": 35,
   "metadata": {},
   "outputs": [],
   "source": [
    "embeddings_dictionary = dict()\n",
    "glove_file = open('../glove.6B.50d.txt', encoding=\"utf8\")\n",
    "\n",
    "for line in glove_file:\n",
    "    records = line.split()\n",
    "    word = records[0]\n",
    "    vector_dimensions = np.asarray(records[1:], dtype='float32')\n",
    "    embeddings_dictionary [word] = vector_dimensions\n",
    "glove_file.close()"
   ]
  },
  {
   "cell_type": "code",
   "execution_count": 38,
   "metadata": {},
   "outputs": [],
   "source": [
    "embedding_matrix = np.zeros((num_words, 50))\n",
    "for word, index in tokenizer.word_index.items():\n",
    "    embedding_vector = embeddings_dictionary.get(word)\n",
    "    if embedding_vector is not None and index<num_words:\n",
    "        embedding_matrix[index] = embedding_vector"
   ]
  },
  {
   "cell_type": "code",
   "execution_count": 49,
   "metadata": {},
   "outputs": [
    {
     "name": "stdout",
     "output_type": "stream",
     "text": [
      "Model: \"sequential_9\"\n",
      "_________________________________________________________________\n",
      "Layer (type)                 Output Shape              Param #   \n",
      "=================================================================\n",
      "embedding_9 (Embedding)      (None, 100, 50)           250000    \n",
      "_________________________________________________________________\n",
      "flatten_9 (Flatten)          (None, 5000)              0         \n",
      "_________________________________________________________________\n",
      "dense_9 (Dense)              (None, 1)                 5001      \n",
      "=================================================================\n",
      "Total params: 255,001\n",
      "Trainable params: 5,001\n",
      "Non-trainable params: 250,000\n",
      "_________________________________________________________________\n"
     ]
    }
   ],
   "source": [
    "# START YOUR CODE\n",
    "nepochs = 10\n",
    "embedding_dim = 50 \n",
    "batchsize = 32\n",
    "embedding_layer = tf.keras.layers.Embedding(num_words, embedding_dim, weights=[embedding_matrix], trainable=False)\n",
    "\n",
    "model = Sequential([\n",
    "    tf.keras.layers.Input(shape=(maxlen)),\n",
    "    embedding_layer,\n",
    "    tf.keras.layers.Flatten(),\n",
    "    tf.keras.layers.Dense(1, activation=\"sigmoid\")\n",
    "])\n",
    "\n",
    "# START YOUR CODE\n",
    "\n",
    "model.compile(loss=\"binary_crossentropy\", optimizer=tf.keras.optimizers.Adam(lr=0.001), metrics=\"accuracy\")\n",
    "\n",
    "model.summary()"
   ]
  },
  {
   "cell_type": "code",
   "execution_count": 50,
   "metadata": {},
   "outputs": [
    {
     "name": "stdout",
     "output_type": "stream",
     "text": [
      "Epoch 1/10\n",
      "1250/1250 [==============================] - 1s 1ms/step - loss: 0.6030 - accuracy: 0.6776 - val_loss: 0.5658 - val_accuracy: 0.7156\n",
      "Epoch 2/10\n",
      "1250/1250 [==============================] - 1s 1ms/step - loss: 0.5432 - accuracy: 0.7299 - val_loss: 0.5992 - val_accuracy: 0.7023\n",
      "Epoch 3/10\n",
      "1250/1250 [==============================] - 1s 1ms/step - loss: 0.5343 - accuracy: 0.7367 - val_loss: 0.5752 - val_accuracy: 0.7149\n",
      "Epoch 4/10\n",
      "1250/1250 [==============================] - 1s 1ms/step - loss: 0.5292 - accuracy: 0.7443 - val_loss: 0.6010 - val_accuracy: 0.7053\n",
      "Epoch 5/10\n",
      "1250/1250 [==============================] - 1s 1ms/step - loss: 0.5273 - accuracy: 0.7462 - val_loss: 0.5834 - val_accuracy: 0.7188\n",
      "Epoch 6/10\n",
      "1250/1250 [==============================] - 1s 1ms/step - loss: 0.5244 - accuracy: 0.7494 - val_loss: 0.6043 - val_accuracy: 0.7052\n",
      "Epoch 7/10\n",
      "1250/1250 [==============================] - 1s 1ms/step - loss: 0.5269 - accuracy: 0.7459 - val_loss: 0.5933 - val_accuracy: 0.7138\n",
      "Epoch 8/10\n",
      "1250/1250 [==============================] - 1s 1ms/step - loss: 0.5236 - accuracy: 0.7504 - val_loss: 0.5935 - val_accuracy: 0.7106\n",
      "Epoch 9/10\n",
      "1250/1250 [==============================] - 1s 1ms/step - loss: 0.5206 - accuracy: 0.7524 - val_loss: 0.5964 - val_accuracy: 0.7136\n",
      "Epoch 10/10\n",
      "1250/1250 [==============================] - 2s 2ms/step - loss: 0.5227 - accuracy: 0.7512 - val_loss: 0.6060 - val_accuracy: 0.7103\n"
     ]
    }
   ],
   "source": [
    "history = model.fit(X_train, y_train, batch_size=batchsize, epochs=nepochs, verbose=1, validation_data=(X_test, y_test))"
   ]
  },
  {
   "cell_type": "code",
   "execution_count": 51,
   "metadata": {},
   "outputs": [
    {
     "name": "stdout",
     "output_type": "stream",
     "text": [
      "Train accuracy (end): 0.7512249946594238\n",
      "Train accuracy (max): 0.7523750066757202\n",
      "Test accuracy (end) : 0.7103000283241272\n",
      "Test accuracy (max) : 0.7188000082969666\n"
     ]
    },
    {
     "data": {
      "image/png": "[encoded data removed]",
      "text/plain": [
       "<Figure size 432x288 with 1 Axes>"
      ]
     },
     "metadata": {
      "needs_background": "light"
     },
     "output_type": "display_data"
    },
    {
     "data": {
      "image/png": "[encoded data removed]",
      "text/plain": [
       "<Figure size 432x288 with 1 Axes>"
      ]
     },
     "metadata": {
      "needs_background": "light"
     },
     "output_type": "display_data"
    },
    {
     "data": {
      "text/html": [
       "<div>\n",
       "<style scoped>\n",
       "    .dataframe tbody tr th:only-of-type {\n",
       "        vertical-align: middle;\n",
       "    }\n",
       "\n",
       "    .dataframe tbody tr th {\n",
       "        vertical-align: top;\n",
       "    }\n",
       "\n",
       "    .dataframe thead th {\n",
       "        text-align: right;\n",
       "    }\n",
       "</style>\n",
       "<table border=\"1\" class=\"dataframe\">\n",
       "  <thead>\n",
       "    <tr style=\"text-align: right;\">\n",
       "      <th></th>\n",
       "      <th>neg</th>\n",
       "      <th>pos</th>\n",
       "    </tr>\n",
       "  </thead>\n",
       "  <tbody>\n",
       "    <tr>\n",
       "      <th>neg</th>\n",
       "      <td>3841</td>\n",
       "      <td>1120</td>\n",
       "    </tr>\n",
       "    <tr>\n",
       "      <th>pos</th>\n",
       "      <td>1777</td>\n",
       "      <td>3262</td>\n",
       "    </tr>\n",
       "  </tbody>\n",
       "</table>\n",
       "</div>"
      ],
      "text/plain": [
       "      neg   pos\n",
       "neg  3841  1120\n",
       "pos  1777  3262"
      ]
     },
     "execution_count": 51,
     "metadata": {},
     "output_type": "execute_result"
    }
   ],
   "source": [
    "performance_plots(model, X_test, y_test, history, nepochs)\n",
    "confusion_matrix(model, X_test, y_test)"
   ]
  },
  {
   "cell_type": "markdown",
   "metadata": {},
   "source": [
    "We no longer observe an as high variance as before, but the model now also suffers from high bias."
   ]
  },
  {
   "cell_type": "markdown",
   "metadata": {},
   "source": [
    "## Further Model / Hyper Parameter Combinations\n",
    "\n",
    "Examples:\n",
    "\n",
    "* Pretrained embedding (with GloVe), possibly fine-tuned\n",
    "* dito + (SimpleRNN | LSTM | GRU | Conv1D)\n",
    "* dito + stacked layers\n",
    "\n",
    "For each combination, specify a cell with the model specification, one with the training and one with the evaluation (use for the latter the utilities provided).  \n"
   ]
  },
  {
   "cell_type": "markdown",
   "metadata": {},
   "source": [
    "# Finetuned GloVe"
   ]
  },
  {
   "cell_type": "code",
   "execution_count": 52,
   "metadata": {},
   "outputs": [
    {
     "name": "stdout",
     "output_type": "stream",
     "text": [
      "Model: \"sequential_10\"\n",
      "_________________________________________________________________\n",
      "Layer (type)                 Output Shape              Param #   \n",
      "=================================================================\n",
      "embedding_10 (Embedding)     (None, 100, 50)           250000    \n",
      "_________________________________________________________________\n",
      "flatten_10 (Flatten)         (None, 5000)              0         \n",
      "_________________________________________________________________\n",
      "dense_10 (Dense)             (None, 1)                 5001      \n",
      "=================================================================\n",
      "Total params: 255,001\n",
      "Trainable params: 255,001\n",
      "Non-trainable params: 0\n",
      "_________________________________________________________________\n"
     ]
    }
   ],
   "source": [
    "# START YOUR CODE\n",
    "nepochs = 10\n",
    "embedding_dim = 50 \n",
    "batchsize = 32\n",
    "embedding_layer = tf.keras.layers.Embedding(num_words, embedding_dim, weights=[embedding_matrix], trainable=True)\n",
    "\n",
    "model = Sequential([\n",
    "    tf.keras.layers.Input(shape=(maxlen)),\n",
    "    embedding_layer,\n",
    "    tf.keras.layers.Flatten(),\n",
    "    tf.keras.layers.Dense(1, activation=\"sigmoid\")\n",
    "])\n",
    "\n",
    "# START YOUR CODE\n",
    "\n",
    "model.compile(loss=\"binary_crossentropy\", optimizer=tf.keras.optimizers.Adam(lr=0.001), metrics=\"accuracy\")\n",
    "\n",
    "model.summary()"
   ]
  },
  {
   "cell_type": "code",
   "execution_count": 53,
   "metadata": {},
   "outputs": [
    {
     "name": "stdout",
     "output_type": "stream",
     "text": [
      "Epoch 1/10\n",
      "1250/1250 [==============================] - 3s 3ms/step - loss: 0.5007 - accuracy: 0.7487 - val_loss: 0.3984 - val_accuracy: 0.8157\n",
      "Epoch 2/10\n",
      "1250/1250 [==============================] - 4s 3ms/step - loss: 0.3236 - accuracy: 0.8598 - val_loss: 0.3580 - val_accuracy: 0.8383\n",
      "Epoch 3/10\n",
      "1250/1250 [==============================] - 4s 3ms/step - loss: 0.2520 - accuracy: 0.8966 - val_loss: 0.3770 - val_accuracy: 0.8371\n",
      "Epoch 4/10\n",
      "1250/1250 [==============================] - 4s 3ms/step - loss: 0.1927 - accuracy: 0.9266 - val_loss: 0.3962 - val_accuracy: 0.8385\n",
      "Epoch 5/10\n",
      "1250/1250 [==============================] - 4s 3ms/step - loss: 0.1357 - accuracy: 0.9539 - val_loss: 0.4237 - val_accuracy: 0.8343\n",
      "Epoch 6/10\n",
      "1250/1250 [==============================] - 10s 8ms/step - loss: 0.0869 - accuracy: 0.9768 - val_loss: 0.4804 - val_accuracy: 0.8329ccu - ETA: 3s - loss: 0.085\n",
      "Epoch 7/10\n",
      "1250/1250 [==============================] - 4s 3ms/step - loss: 0.0493 - accuracy: 0.9912 - val_loss: 0.5212 - val_accuracy: 0.8266\n",
      "Epoch 8/10\n",
      "1250/1250 [==============================] - 4s 3ms/step - loss: 0.0262 - accuracy: 0.9981 - val_loss: 0.5590 - val_accuracy: 0.8308\n",
      "Epoch 9/10\n",
      "1250/1250 [==============================] - 11s 8ms/step - loss: 0.0132 - accuracy: 0.9997 - val_loss: 0.6099 - val_accuracy: 0.8292\n",
      "Epoch 10/10\n",
      "1250/1250 [==============================] - 4s 3ms/step - loss: 0.0070 - accuracy: 0.9998 - val_loss: 0.6605 - val_accuracy: 0.8291\n"
     ]
    }
   ],
   "source": [
    "history = model.fit(X_train, y_train, batch_size=batchsize, epochs=nepochs, verbose=1, validation_data=(X_test, y_test))"
   ]
  },
  {
   "cell_type": "code",
   "execution_count": 54,
   "metadata": {},
   "outputs": [
    {
     "name": "stdout",
     "output_type": "stream",
     "text": [
      "Train accuracy (end): 0.9998250007629395\n",
      "Train accuracy (max): 0.9998250007629395\n",
      "Test accuracy (end) : 0.8291000127792358\n",
      "Test accuracy (max) : 0.8385000228881836\n"
     ]
    },
    {
     "data": {
      "image/png": "[encoded data removed]",
      "text/plain": [
       "<Figure size 432x288 with 1 Axes>"
      ]
     },
     "metadata": {
      "needs_background": "light"
     },
     "output_type": "display_data"
    },
    {
     "data": {
      "image/png": "[encoded data removed]",
      "text/plain": [
       "<Figure size 432x288 with 1 Axes>"
      ]
     },
     "metadata": {
      "needs_background": "light"
     },
     "output_type": "display_data"
    },
    {
     "data": {
      "text/html": [
       "<div>\n",
       "<style scoped>\n",
       "    .dataframe tbody tr th:only-of-type {\n",
       "        vertical-align: middle;\n",
       "    }\n",
       "\n",
       "    .dataframe tbody tr th {\n",
       "        vertical-align: top;\n",
       "    }\n",
       "\n",
       "    .dataframe thead th {\n",
       "        text-align: right;\n",
       "    }\n",
       "</style>\n",
       "<table border=\"1\" class=\"dataframe\">\n",
       "  <thead>\n",
       "    <tr style=\"text-align: right;\">\n",
       "      <th></th>\n",
       "      <th>neg</th>\n",
       "      <th>pos</th>\n",
       "    </tr>\n",
       "  </thead>\n",
       "  <tbody>\n",
       "    <tr>\n",
       "      <th>neg</th>\n",
       "      <td>4064</td>\n",
       "      <td>897</td>\n",
       "    </tr>\n",
       "    <tr>\n",
       "      <th>pos</th>\n",
       "      <td>812</td>\n",
       "      <td>4227</td>\n",
       "    </tr>\n",
       "  </tbody>\n",
       "</table>\n",
       "</div>"
      ],
      "text/plain": [
       "      neg   pos\n",
       "neg  4064   897\n",
       "pos   812  4227"
      ]
     },
     "execution_count": 54,
     "metadata": {},
     "output_type": "execute_result"
    }
   ],
   "source": [
    "performance_plots(model, X_test, y_test, history, nepochs)\n",
    "confusion_matrix(model, X_test, y_test)"
   ]
  },
  {
   "cell_type": "markdown",
   "metadata": {},
   "source": [
    "The bias seems to be gone, but the variance increased even a little more than when using a random embedding initialization."
   ]
  },
  {
   "cell_type": "markdown",
   "metadata": {},
   "source": [
    "# SimpleRNN"
   ]
  },
  {
   "cell_type": "code",
   "execution_count": 57,
   "metadata": {},
   "outputs": [
    {
     "name": "stdout",
     "output_type": "stream",
     "text": [
      "Model: \"sequential_11\"\n",
      "_________________________________________________________________\n",
      "Layer (type)                 Output Shape              Param #   \n",
      "=================================================================\n",
      "embedding_12 (Embedding)     (None, 100, 50)           250000    \n",
      "_________________________________________________________________\n",
      "simple_rnn (SimpleRNN)       (None, 256)               78592     \n",
      "_________________________________________________________________\n",
      "dense_11 (Dense)             (None, 1)                 257       \n",
      "=================================================================\n",
      "Total params: 328,849\n",
      "Trainable params: 78,849\n",
      "Non-trainable params: 250,000\n",
      "_________________________________________________________________\n"
     ]
    }
   ],
   "source": [
    "# START YOUR CODE\n",
    "nepochs = 10\n",
    "embedding_dim = 50 \n",
    "batchsize = 32\n",
    "embedding_layer = tf.keras.layers.Embedding(num_words, embedding_dim, weights=[embedding_matrix], trainable=False)\n",
    "\n",
    "model = Sequential([\n",
    "    tf.keras.layers.Input(shape=(maxlen)),\n",
    "    embedding_layer,\n",
    "    tf.keras.layers.SimpleRNN(units=256),\n",
    "    tf.keras.layers.Dense(1, activation=\"sigmoid\")\n",
    "])\n",
    "\n",
    "# START YOUR CODE\n",
    "\n",
    "model.compile(loss=\"binary_crossentropy\", optimizer=tf.keras.optimizers.Adam(lr=0.001), metrics=\"accuracy\")\n",
    "\n",
    "model.summary()"
   ]
  },
  {
   "cell_type": "code",
   "execution_count": 58,
   "metadata": {},
   "outputs": [
    {
     "name": "stdout",
     "output_type": "stream",
     "text": [
      "Epoch 1/10\n",
      "1250/1250 [==============================] - 88s 71ms/step - loss: 0.6964 - accuracy: 0.5268 - val_loss: 0.6832 - val_accuracy: 0.5422\n",
      "Epoch 2/10\n",
      "1250/1250 [==============================] - 94s 75ms/step - loss: 0.6805 - accuracy: 0.5557 - val_loss: 0.6833 - val_accuracy: 0.5568\n",
      "Epoch 3/10\n",
      "1250/1250 [==============================] - 109s 87ms/step - loss: 0.6711 - accuracy: 0.5812 - val_loss: 0.6684 - val_accuracy: 0.5915\n",
      "Epoch 4/10\n",
      "1250/1250 [==============================] - 99s 79ms/step - loss: 0.6591 - accuracy: 0.6079 - val_loss: 0.6046 - val_accuracy: 0.6879\n",
      "Epoch 5/10\n",
      "1250/1250 [==============================] - 150s 120ms/step - loss: 0.6644 - accuracy: 0.5953 - val_loss: 0.6537 - val_accuracy: 0.6176\n",
      "Epoch 6/10\n",
      "1250/1250 [==============================] - 221s 177ms/step - loss: 0.6672 - accuracy: 0.5993 - val_loss: 0.6897 - val_accuracy: 0.5158\n",
      "Epoch 7/10\n",
      "1250/1250 [==============================] - 223s 178ms/step - loss: 0.6725 - accuracy: 0.5760 - val_loss: 0.6467 - val_accuracy: 0.6361\n",
      "Epoch 8/10\n",
      "1250/1250 [==============================] - 224s 179ms/step - loss: 0.6590 - accuracy: 0.6061 - val_loss: 0.6543 - val_accuracy: 0.5982\n",
      "Epoch 9/10\n",
      "1250/1250 [==============================] - 231s 185ms/step - loss: 0.6428 - accuracy: 0.6337 - val_loss: 0.6467 - val_accuracy: 0.6197\n",
      "Epoch 10/10\n",
      "1250/1250 [==============================] - 224s 179ms/step - loss: 0.6361 - accuracy: 0.6486 - val_loss: 0.6136 - val_accuracy: 0.6824\n"
     ]
    }
   ],
   "source": [
    "history = model.fit(X_train, y_train, batch_size=batchsize, epochs=nepochs, verbose=1, validation_data=(X_test, y_test))"
   ]
  },
  {
   "cell_type": "code",
   "execution_count": 59,
   "metadata": {},
   "outputs": [
    {
     "name": "stdout",
     "output_type": "stream",
     "text": [
      "Train accuracy (end): 0.6485999822616577\n",
      "Train accuracy (max): 0.6485999822616577\n",
      "Test accuracy (end) : 0.6823999881744385\n",
      "Test accuracy (max) : 0.6879000067710876\n"
     ]
    },
    {
     "data": {
      "image/png": "[encoded data removed]",
      "text/plain": [
       "<Figure size 432x288 with 1 Axes>"
      ]
     },
     "metadata": {
      "needs_background": "light"
     },
     "output_type": "display_data"
    },
    {
     "data": {
      "image/png": "[encoded data removed]",
      "text/plain": [
       "<Figure size 432x288 with 1 Axes>"
      ]
     },
     "metadata": {
      "needs_background": "light"
     },
     "output_type": "display_data"
    },
    {
     "data": {
      "text/html": [
       "<div>\n",
       "<style scoped>\n",
       "    .dataframe tbody tr th:only-of-type {\n",
       "        vertical-align: middle;\n",
       "    }\n",
       "\n",
       "    .dataframe tbody tr th {\n",
       "        vertical-align: top;\n",
       "    }\n",
       "\n",
       "    .dataframe thead th {\n",
       "        text-align: right;\n",
       "    }\n",
       "</style>\n",
       "<table border=\"1\" class=\"dataframe\">\n",
       "  <thead>\n",
       "    <tr style=\"text-align: right;\">\n",
       "      <th></th>\n",
       "      <th>neg</th>\n",
       "      <th>pos</th>\n",
       "    </tr>\n",
       "  </thead>\n",
       "  <tbody>\n",
       "    <tr>\n",
       "      <th>neg</th>\n",
       "      <td>3187</td>\n",
       "      <td>1774</td>\n",
       "    </tr>\n",
       "    <tr>\n",
       "      <th>pos</th>\n",
       "      <td>1402</td>\n",
       "      <td>3637</td>\n",
       "    </tr>\n",
       "  </tbody>\n",
       "</table>\n",
       "</div>"
      ],
      "text/plain": [
       "      neg   pos\n",
       "neg  3187  1774\n",
       "pos  1402  3637"
      ]
     },
     "execution_count": 59,
     "metadata": {},
     "output_type": "execute_result"
    }
   ],
   "source": [
    "performance_plots(model, X_test, y_test, history, nepochs)\n",
    "confusion_matrix(model, X_test, y_test)"
   ]
  },
  {
   "cell_type": "markdown",
   "metadata": {},
   "source": [
    "# LSTM"
   ]
  },
  {
   "cell_type": "code",
   "execution_count": 60,
   "metadata": {},
   "outputs": [
    {
     "name": "stdout",
     "output_type": "stream",
     "text": [
      "Model: \"sequential_12\"\n",
      "_________________________________________________________________\n",
      "Layer (type)                 Output Shape              Param #   \n",
      "=================================================================\n",
      "embedding_13 (Embedding)     (None, 100, 50)           250000    \n",
      "_________________________________________________________________\n",
      "lstm (LSTM)                  (None, 256)               314368    \n",
      "_________________________________________________________________\n",
      "flatten_11 (Flatten)         (None, 256)               0         \n",
      "_________________________________________________________________\n",
      "dense_12 (Dense)             (None, 1)                 257       \n",
      "=================================================================\n",
      "Total params: 564,625\n",
      "Trainable params: 564,625\n",
      "Non-trainable params: 0\n",
      "_________________________________________________________________\n"
     ]
    }
   ],
   "source": [
    "# START YOUR CODE\n",
    "nepochs = 10\n",
    "embedding_dim = 50 \n",
    "batchsize = 32\n",
    "embedding_layer = tf.keras.layers.Embedding(num_words, embedding_dim, weights=[embedding_matrix], trainable=True)\n",
    "\n",
    "model = Sequential([\n",
    "    tf.keras.layers.Input(shape=(maxlen)),\n",
    "    embedding_layer,\n",
    "    tf.keras.layers.LSTM(units=256),\n",
    "    tf.keras.layers.Dense(1, activation=\"sigmoid\")\n",
    "])\n",
    "\n",
    "# START YOUR CODE\n",
    "\n",
    "model.compile(loss=\"binary_crossentropy\", optimizer=tf.keras.optimizers.Adam(lr=0.001), metrics=\"accuracy\")\n",
    "\n",
    "model.summary()"
   ]
  },
  {
   "cell_type": "code",
   "execution_count": 61,
   "metadata": {},
   "outputs": [
    {
     "name": "stdout",
     "output_type": "stream",
     "text": [
      "Epoch 1/10\n",
      "1250/1250 [==============================] - 940s 752ms/step - loss: 0.4896 - accuracy: 0.7652 - val_loss: 0.3963 - val_accuracy: 0.8222\n",
      "Epoch 2/10\n",
      "1250/1250 [==============================] - 816s 653ms/step - loss: 0.3310 - accuracy: 0.8600 - val_loss: 0.3224 - val_accuracy: 0.8638\n",
      "Epoch 3/10\n",
      "1250/1250 [==============================] - 613s 490ms/step - loss: 0.2772 - accuracy: 0.8855 - val_loss: 0.2983 - val_accuracy: 0.8719\n",
      "Epoch 4/10\n",
      "1250/1250 [==============================] - 704s 563ms/step - loss: 0.2520 - accuracy: 0.8993 - val_loss: 0.2901 - val_accuracy: 0.8760\n",
      "Epoch 5/10\n",
      "1250/1250 [==============================] - 705s 564ms/step - loss: 0.2276 - accuracy: 0.9103 - val_loss: 0.3025 - val_accuracy: 0.8721\n",
      "Epoch 6/10\n",
      "1250/1250 [==============================] - 703s 562ms/step - loss: 0.1979 - accuracy: 0.9239 - val_loss: 0.3079 - val_accuracy: 0.8752\n",
      "Epoch 7/10\n",
      "1250/1250 [==============================] - 575s 460ms/step - loss: 0.1827 - accuracy: 0.9320 - val_loss: 0.3298 - val_accuracy: 0.8722\n",
      "Epoch 8/10\n",
      "1250/1250 [==============================] - 558s 446ms/step - loss: 0.1453 - accuracy: 0.9474 - val_loss: 0.4030 - val_accuracy: 0.8649\n",
      "Epoch 9/10\n",
      "1250/1250 [==============================] - 706s 565ms/step - loss: 0.1177 - accuracy: 0.9598 - val_loss: 0.3875 - val_accuracy: 0.8635\n",
      "Epoch 10/10\n",
      "1250/1250 [==============================] - 665s 532ms/step - loss: 0.0911 - accuracy: 0.9701 - val_loss: 0.4227 - val_accuracy: 0.8606\n"
     ]
    }
   ],
   "source": [
    "history = model.fit(X_train, y_train, batch_size=batchsize, epochs=nepochs, verbose=1, validation_data=(X_test, y_test))"
   ]
  },
  {
   "cell_type": "code",
   "execution_count": 62,
   "metadata": {},
   "outputs": [
    {
     "name": "stdout",
     "output_type": "stream",
     "text": [
      "Train accuracy (end): 0.9700750112533569\n",
      "Train accuracy (max): 0.9700750112533569\n",
      "Test accuracy (end) : 0.8605999946594238\n",
      "Test accuracy (max) : 0.8759999871253967\n"
     ]
    },
    {
     "data": {
      "image/png": "[encoded data removed]",
      "text/plain": [
       "<Figure size 432x288 with 1 Axes>"
      ]
     },
     "metadata": {
      "needs_background": "light"
     },
     "output_type": "display_data"
    },
    {
     "data": {
      "image/png": "[encoded data removed]",
      "text/plain": [
       "<Figure size 432x288 with 1 Axes>"
      ]
     },
     "metadata": {
      "needs_background": "light"
     },
     "output_type": "display_data"
    },
    {
     "data": {
      "text/html": [
       "<div>\n",
       "<style scoped>\n",
       "    .dataframe tbody tr th:only-of-type {\n",
       "        vertical-align: middle;\n",
       "    }\n",
       "\n",
       "    .dataframe tbody tr th {\n",
       "        vertical-align: top;\n",
       "    }\n",
       "\n",
       "    .dataframe thead th {\n",
       "        text-align: right;\n",
       "    }\n",
       "</style>\n",
       "<table border=\"1\" class=\"dataframe\">\n",
       "  <thead>\n",
       "    <tr style=\"text-align: right;\">\n",
       "      <th></th>\n",
       "      <th>neg</th>\n",
       "      <th>pos</th>\n",
       "    </tr>\n",
       "  </thead>\n",
       "  <tbody>\n",
       "    <tr>\n",
       "      <th>neg</th>\n",
       "      <td>4147</td>\n",
       "      <td>814</td>\n",
       "    </tr>\n",
       "    <tr>\n",
       "      <th>pos</th>\n",
       "      <td>580</td>\n",
       "      <td>4459</td>\n",
       "    </tr>\n",
       "  </tbody>\n",
       "</table>\n",
       "</div>"
      ],
      "text/plain": [
       "      neg   pos\n",
       "neg  4147   814\n",
       "pos   580  4459"
      ]
     },
     "execution_count": 62,
     "metadata": {},
     "output_type": "execute_result"
    }
   ],
   "source": [
    "performance_plots(model, X_test, y_test, history, nepochs)\n",
    "confusion_matrix(model, X_test, y_test)"
   ]
  },
  {
   "cell_type": "markdown",
   "metadata": {},
   "source": [
    "# GRU"
   ]
  },
  {
   "cell_type": "code",
   "execution_count": 63,
   "metadata": {},
   "outputs": [
    {
     "name": "stdout",
     "output_type": "stream",
     "text": [
      "Model: \"sequential_13\"\n",
      "_________________________________________________________________\n",
      "Layer (type)                 Output Shape              Param #   \n",
      "=================================================================\n",
      "embedding_14 (Embedding)     (None, 100, 50)           250000    \n",
      "_________________________________________________________________\n",
      "gru (GRU)                    (None, 256)               236544    \n",
      "_________________________________________________________________\n",
      "flatten_12 (Flatten)         (None, 256)               0         \n",
      "_________________________________________________________________\n",
      "dense_13 (Dense)             (None, 1)                 257       \n",
      "=================================================================\n",
      "Total params: 486,801\n",
      "Trainable params: 486,801\n",
      "Non-trainable params: 0\n",
      "_________________________________________________________________\n"
     ]
    }
   ],
   "source": [
    "# START YOUR CODE\n",
    "nepochs = 10\n",
    "embedding_dim = 50 \n",
    "batchsize = 32\n",
    "embedding_layer = tf.keras.layers.Embedding(num_words, embedding_dim, weights=[embedding_matrix], trainable=True)\n",
    "\n",
    "model = Sequential([\n",
    "    tf.keras.layers.Input(shape=(maxlen)),\n",
    "    embedding_layer,\n",
    "    tf.keras.layers.GRU(units=256),\n",
    "    tf.keras.layers.Dense(1, activation=\"sigmoid\")\n",
    "])\n",
    "\n",
    "# START YOUR CODE\n",
    "\n",
    "model.compile(loss=\"binary_crossentropy\", optimizer=tf.keras.optimizers.Adam(lr=0.001), metrics=\"accuracy\")\n",
    "\n",
    "model.summary()"
   ]
  },
  {
   "cell_type": "code",
   "execution_count": 64,
   "metadata": {},
   "outputs": [
    {
     "name": "stdout",
     "output_type": "stream",
     "text": [
      "Epoch 1/10\n",
      "1250/1250 [==============================] - 398s 318ms/step - loss: 0.4184 - accuracy: 0.8034 - val_loss: 0.3302 - val_accuracy: 0.8551\n",
      "Epoch 2/10\n",
      "1250/1250 [==============================] - 386s 309ms/step - loss: 0.2851 - accuracy: 0.8790 - val_loss: 0.2847 - val_accuracy: 0.8759\n",
      "Epoch 3/10\n",
      "1250/1250 [==============================] - 393s 315ms/step - loss: 0.2410 - accuracy: 0.9033 - val_loss: 0.2870 - val_accuracy: 0.8777\n",
      "Epoch 4/10\n",
      "1250/1250 [==============================] - 401s 321ms/step - loss: 0.2028 - accuracy: 0.9204 - val_loss: 0.3018 - val_accuracy: 0.8758\n",
      "Epoch 5/10\n",
      "1250/1250 [==============================] - 402s 322ms/step - loss: 0.1564 - accuracy: 0.9417 - val_loss: 0.3446 - val_accuracy: 0.8744\n",
      "Epoch 6/10\n",
      "1250/1250 [==============================] - 399s 319ms/step - loss: 0.1050 - accuracy: 0.9629 - val_loss: 0.4151 - val_accuracy: 0.8640\n",
      "Epoch 7/10\n",
      "1250/1250 [==============================] - 400s 320ms/step - loss: 0.0625 - accuracy: 0.9800 - val_loss: 0.5232 - val_accuracy: 0.8565\n",
      "Epoch 8/10\n",
      "1250/1250 [==============================] - 402s 321ms/step - loss: 0.0358 - accuracy: 0.9890 - val_loss: 0.6027 - val_accuracy: 0.8651\n",
      "Epoch 9/10\n",
      "1250/1250 [==============================] - 405s 324ms/step - loss: 0.0255 - accuracy: 0.9923 - val_loss: 0.7079 - val_accuracy: 0.8609\n",
      "Epoch 10/10\n",
      "1250/1250 [==============================] - 398s 319ms/step - loss: 0.0188 - accuracy: 0.9941 - val_loss: 0.7621 - val_accuracy: 0.8602\n"
     ]
    }
   ],
   "source": [
    "history = model.fit(X_train, y_train, batch_size=batchsize, epochs=nepochs, verbose=1, validation_data=(X_test, y_test))"
   ]
  },
  {
   "cell_type": "code",
   "execution_count": 65,
   "metadata": {},
   "outputs": [
    {
     "name": "stdout",
     "output_type": "stream",
     "text": [
      "Train accuracy (end): 0.9941250085830688\n",
      "Train accuracy (max): 0.9941250085830688\n",
      "Test accuracy (end) : 0.8601999878883362\n",
      "Test accuracy (max) : 0.8776999711990356\n"
     ]
    },
    {
     "data": {
      "image/png": "[encoded data removed]",
      "text/plain": [
       "<Figure size 432x288 with 1 Axes>"
      ]
     },
     "metadata": {
      "needs_background": "light"
     },
     "output_type": "display_data"
    },
    {
     "data": {
      "image/png": "[encoded data removed]",
      "text/plain": [
       "<Figure size 432x288 with 1 Axes>"
      ]
     },
     "metadata": {
      "needs_background": "light"
     },
     "output_type": "display_data"
    },
    {
     "data": {
      "text/html": [
       "<div>\n",
       "<style scoped>\n",
       "    .dataframe tbody tr th:only-of-type {\n",
       "        vertical-align: middle;\n",
       "    }\n",
       "\n",
       "    .dataframe tbody tr th {\n",
       "        vertical-align: top;\n",
       "    }\n",
       "\n",
       "    .dataframe thead th {\n",
       "        text-align: right;\n",
       "    }\n",
       "</style>\n",
       "<table border=\"1\" class=\"dataframe\">\n",
       "  <thead>\n",
       "    <tr style=\"text-align: right;\">\n",
       "      <th></th>\n",
       "      <th>neg</th>\n",
       "      <th>pos</th>\n",
       "    </tr>\n",
       "  </thead>\n",
       "  <tbody>\n",
       "    <tr>\n",
       "      <th>neg</th>\n",
       "      <td>4264</td>\n",
       "      <td>697</td>\n",
       "    </tr>\n",
       "    <tr>\n",
       "      <th>pos</th>\n",
       "      <td>701</td>\n",
       "      <td>4338</td>\n",
       "    </tr>\n",
       "  </tbody>\n",
       "</table>\n",
       "</div>"
      ],
      "text/plain": [
       "      neg   pos\n",
       "neg  4264   697\n",
       "pos   701  4338"
      ]
     },
     "execution_count": 65,
     "metadata": {},
     "output_type": "execute_result"
    }
   ],
   "source": [
    "performance_plots(model, X_test, y_test, history, nepochs)\n",
    "confusion_matrix(model, X_test, y_test)"
   ]
  },
  {
   "cell_type": "markdown",
   "metadata": {},
   "source": [
    "# Conv1D"
   ]
  },
  {
   "cell_type": "code",
   "execution_count": 66,
   "metadata": {},
   "outputs": [
    {
     "name": "stdout",
     "output_type": "stream",
     "text": [
      "Model: \"sequential_14\"\n",
      "_________________________________________________________________\n",
      "Layer (type)                 Output Shape              Param #   \n",
      "=================================================================\n",
      "embedding_15 (Embedding)     (None, 100, 50)           250000    \n",
      "_________________________________________________________________\n",
      "conv1d (Conv1D)              (None, 98, 32)            4832      \n",
      "_________________________________________________________________\n",
      "flatten_13 (Flatten)         (None, 3136)              0         \n",
      "_________________________________________________________________\n",
      "dense_14 (Dense)             (None, 1)                 3137      \n",
      "=================================================================\n",
      "Total params: 257,969\n",
      "Trainable params: 257,969\n",
      "Non-trainable params: 0\n",
      "_________________________________________________________________\n"
     ]
    }
   ],
   "source": [
    "# START YOUR CODE\n",
    "nepochs = 10\n",
    "embedding_dim = 50 \n",
    "batchsize = 32\n",
    "embedding_layer = tf.keras.layers.Embedding(num_words, embedding_dim, weights=[embedding_matrix], trainable=True)\n",
    "\n",
    "model = Sequential([\n",
    "    tf.keras.layers.Input(shape=(maxlen)),\n",
    "    embedding_layer,\n",
    "    tf.keras.layers.Conv1D(kernel_size=3, filters=32),\n",
    "    tf.keras.layers.Flatten(),\n",
    "    tf.keras.layers.Dense(1, activation=\"sigmoid\")\n",
    "])\n",
    "\n",
    "# START YOUR CODE\n",
    "\n",
    "model.compile(loss=\"binary_crossentropy\", optimizer=tf.keras.optimizers.Adam(lr=0.001), metrics=\"accuracy\")\n",
    "\n",
    "model.summary()"
   ]
  },
  {
   "cell_type": "code",
   "execution_count": 67,
   "metadata": {},
   "outputs": [
    {
     "name": "stdout",
     "output_type": "stream",
     "text": [
      "Epoch 1/10\n",
      "1250/1250 [==============================] - 19s 15ms/step - loss: 0.4859 - accuracy: 0.7586 - val_loss: 0.3717 - val_accuracy: 0.8354\n",
      "Epoch 2/10\n",
      "1250/1250 [==============================] - 18s 14ms/step - loss: 0.3175 - accuracy: 0.8650 - val_loss: 0.3494 - val_accuracy: 0.8425\n",
      "Epoch 3/10\n",
      "1250/1250 [==============================] - 18s 14ms/step - loss: 0.0059 - accuracy: 0.9989 - val_loss: 1.1359 - val_accuracy: 0.8251\n"
     ]
    }
   ],
   "source": [
    "history = model.fit(X_train, y_train, batch_size=batchsize, epochs=nepochs, verbose=1, validation_data=(X_test, y_test))"
   ]
  },
  {
   "cell_type": "code",
   "execution_count": 68,
   "metadata": {},
   "outputs": [
    {
     "name": "stdout",
     "output_type": "stream",
     "text": [
      "Train accuracy (end): 0.9988999962806702\n",
      "Train accuracy (max): 0.9988999962806702\n",
      "Test accuracy (end) : 0.8251000046730042\n",
      "Test accuracy (max) : 0.8424999713897705\n"
     ]
    },
    {
     "data": {
      "image/png": "[encoded data removed]",
      "text/plain": [
       "<Figure size 432x288 with 1 Axes>"
      ]
     },
     "metadata": {
      "needs_background": "light"
     },
     "output_type": "display_data"
    },
    {
     "data": {
      "image/png": "[encoded data removed]",
      "text/plain": [
       "<Figure size 432x288 with 1 Axes>"
      ]
     },
     "metadata": {
      "needs_background": "light"
     },
     "output_type": "display_data"
    },
    {
     "data": {
      "text/html": [
       "<div>\n",
       "<style scoped>\n",
       "    .dataframe tbody tr th:only-of-type {\n",
       "        vertical-align: middle;\n",
       "    }\n",
       "\n",
       "    .dataframe tbody tr th {\n",
       "        vertical-align: top;\n",
       "    }\n",
       "\n",
       "    .dataframe thead th {\n",
       "        text-align: right;\n",
       "    }\n",
       "</style>\n",
       "<table border=\"1\" class=\"dataframe\">\n",
       "  <thead>\n",
       "    <tr style=\"text-align: right;\">\n",
       "      <th></th>\n",
       "      <th>neg</th>\n",
       "      <th>pos</th>\n",
       "    </tr>\n",
       "  </thead>\n",
       "  <tbody>\n",
       "    <tr>\n",
       "      <th>neg</th>\n",
       "      <td>4194</td>\n",
       "      <td>767</td>\n",
       "    </tr>\n",
       "    <tr>\n",
       "      <th>pos</th>\n",
       "      <td>982</td>\n",
       "      <td>4057</td>\n",
       "    </tr>\n",
       "  </tbody>\n",
       "</table>\n",
       "</div>"
      ],
      "text/plain": [
       "      neg   pos\n",
       "neg  4194   767\n",
       "pos   982  4057"
      ]
     },
     "execution_count": 68,
     "metadata": {},
     "output_type": "execute_result"
    }
   ],
   "source": [
    "performance_plots(model, X_test, y_test, history, nepochs)\n",
    "confusion_matrix(model, X_test, y_test)"
   ]
  },
  {
   "cell_type": "markdown",
   "metadata": {},
   "source": [
    "# Conv2D"
   ]
  },
  {
   "cell_type": "code",
   "execution_count": 69,
   "metadata": {},
   "outputs": [
    {
     "name": "stdout",
     "output_type": "stream",
     "text": [
      "Model: \"sequential_15\"\n",
      "_________________________________________________________________\n",
      "Layer (type)                 Output Shape              Param #   \n",
      "=================================================================\n",
      "embedding_16 (Embedding)     (None, 100, 50)           250000    \n",
      "_________________________________________________________________\n",
      "reshape (Reshape)            (None, 100, 50, 1)        0         \n",
      "_________________________________________________________________\n",
      "conv2d (Conv2D)              (None, 98, 48, 32)        320       \n",
      "_________________________________________________________________\n",
      "conv2d_1 (Conv2D)            (None, 96, 46, 32)        9248      \n",
      "_________________________________________________________________\n",
      "max_pooling2d (MaxPooling2D) (None, 48, 23, 32)        0         \n",
      "_________________________________________________________________\n",
      "conv2d_2 (Conv2D)            (None, 46, 21, 64)        18496     \n",
      "_________________________________________________________________\n",
      "conv2d_3 (Conv2D)            (None, 44, 19, 64)        36928     \n",
      "_________________________________________________________________\n",
      "max_pooling2d_1 (MaxPooling2 (None, 22, 9, 64)         0         \n",
      "_________________________________________________________________\n",
      "flatten_14 (Flatten)         (None, 12672)             0         \n",
      "_________________________________________________________________\n",
      "dense_15 (Dense)             (None, 1)                 12673     \n",
      "=================================================================\n",
      "Total params: 327,665\n",
      "Trainable params: 327,665\n",
      "Non-trainable params: 0\n",
      "_________________________________________________________________\n"
     ]
    }
   ],
   "source": [
    "# START YOUR CODE\n",
    "nepochs = 10\n",
    "embedding_dim = 50 \n",
    "batchsize = 32\n",
    "embedding_layer = tf.keras.layers.Embedding(num_words, embedding_dim, weights=[embedding_matrix], trainable=True)\n",
    "\n",
    "model = Sequential([\n",
    "    tf.keras.layers.Input(shape=(maxlen)),\n",
    "    embedding_layer,\n",
    "    tf.keras.layers.Reshape((maxlen, embedding_dim, 1)),\n",
    "    tf.keras.layers.Conv2D(kernel_size=3, filters=32),\n",
    "    tf.keras.layers.Conv2D(kernel_size=3, filters=32),\n",
    "    tf.keras.layers.MaxPool2D(),\n",
    "    tf.keras.layers.Conv2D(kernel_size=3, filters=64),\n",
    "    tf.keras.layers.Conv2D(kernel_size=3, filters=64),\n",
    "    tf.keras.layers.MaxPool2D(),\n",
    "    tf.keras.layers.Flatten(),\n",
    "    tf.keras.layers.Dense(1, activation=\"sigmoid\")\n",
    "])\n",
    "\n",
    "# START YOUR CODE\n",
    "\n",
    "model.compile(loss=\"binary_crossentropy\", optimizer=tf.keras.optimizers.Adam(lr=0.001), metrics=\"accuracy\")\n",
    "\n",
    "model.summary()"
   ]
  },
  {
   "cell_type": "code",
   "execution_count": 70,
   "metadata": {},
   "outputs": [
    {
     "name": "stdout",
     "output_type": "stream",
     "text": [
      "Epoch 1/10\n",
      "1250/1250 [==============================] - 873s 698ms/step - loss: 0.4788 - accuracy: 0.7551 - val_loss: 0.3621 - val_accuracy: 0.8374\n",
      "Epoch 2/10\n",
      "1250/1250 [==============================] - 895s 716ms/step - loss: 0.3288 - accuracy: 0.8594 - val_loss: 0.3417 - val_accuracy: 0.8464\n",
      "Epoch 3/10\n",
      "1250/1250 [==============================] - 1344s 1s/step - loss: 0.2732 - accuracy: 0.8867 - val_loss: 0.3815 - val_accuracy: 0.8452\n",
      "Epoch 4/10\n",
      "1250/1250 [==============================] - 1176s 941ms/step - loss: 0.2126 - accuracy: 0.9150 - val_loss: 0.4596 - val_accuracy: 0.8263\n",
      "Epoch 5/10\n",
      "1250/1250 [==============================] - 1073s 858ms/step - loss: 0.1532 - accuracy: 0.9396 - val_loss: 0.5108 - val_accuracy: 0.8325\n",
      "Epoch 6/10\n",
      "1250/1250 [==============================] - 1008s 807ms/step - loss: 0.1026 - accuracy: 0.9606 - val_loss: 0.7390 - val_accuracy: 0.8274\n",
      "Epoch 7/10\n",
      "1250/1250 [==============================] - 1000s 800ms/step - loss: 0.0798 - accuracy: 0.9706 - val_loss: 0.8391 - val_accuracy: 0.8301\n",
      "Epoch 8/10\n",
      "1250/1250 [==============================] - 1005s 804ms/step - loss: 0.0648 - accuracy: 0.9777 - val_loss: 1.0546 - val_accuracy: 0.8290\n",
      "Epoch 9/10\n",
      "1250/1250 [==============================] - 986s 789ms/step - loss: 0.0698 - accuracy: 0.9777 - val_loss: 1.2104 - val_accuracy: 0.8177\n",
      "Epoch 10/10\n",
      "1250/1250 [==============================] - 959s 767ms/step - loss: 0.0638 - accuracy: 0.9797 - val_loss: 1.2517 - val_accuracy: 0.8276\n"
     ]
    }
   ],
   "source": [
    "history = model.fit(X_train, y_train, batch_size=batchsize, epochs=nepochs, verbose=1, validation_data=(X_test, y_test))"
   ]
  },
  {
   "cell_type": "code",
   "execution_count": 71,
   "metadata": {},
   "outputs": [
    {
     "name": "stdout",
     "output_type": "stream",
     "text": [
      "Train accuracy (end): 0.9796749949455261\n",
      "Train accuracy (max): 0.9796749949455261\n",
      "Test accuracy (end) : 0.8276000022888184\n",
      "Test accuracy (max) : 0.8464000225067139\n"
     ]
    },
    {
     "data": {
      "image/png": "[encoded data removed]",
      "text/plain": [
       "<Figure size 432x288 with 1 Axes>"
      ]
     },
     "metadata": {
      "needs_background": "light"
     },
     "output_type": "display_data"
    },
    {
     "data": {
      "image/png": "[encoded data removed]",
      "text/plain": [
       "<Figure size 432x288 with 1 Axes>"
      ]
     },
     "metadata": {
      "needs_background": "light"
     },
     "output_type": "display_data"
    },
    {
     "data": {
      "text/html": [
       "<div>\n",
       "<style scoped>\n",
       "    .dataframe tbody tr th:only-of-type {\n",
       "        vertical-align: middle;\n",
       "    }\n",
       "\n",
       "    .dataframe tbody tr th {\n",
       "        vertical-align: top;\n",
       "    }\n",
       "\n",
       "    .dataframe thead th {\n",
       "        text-align: right;\n",
       "    }\n",
       "</style>\n",
       "<table border=\"1\" class=\"dataframe\">\n",
       "  <thead>\n",
       "    <tr style=\"text-align: right;\">\n",
       "      <th></th>\n",
       "      <th>neg</th>\n",
       "      <th>pos</th>\n",
       "    </tr>\n",
       "  </thead>\n",
       "  <tbody>\n",
       "    <tr>\n",
       "      <th>neg</th>\n",
       "      <td>4047</td>\n",
       "      <td>914</td>\n",
       "    </tr>\n",
       "    <tr>\n",
       "      <th>pos</th>\n",
       "      <td>810</td>\n",
       "      <td>4229</td>\n",
       "    </tr>\n",
       "  </tbody>\n",
       "</table>\n",
       "</div>"
      ],
      "text/plain": [
       "      neg   pos\n",
       "neg  4047   914\n",
       "pos   810  4229"
      ]
     },
     "execution_count": 71,
     "metadata": {},
     "output_type": "execute_result"
    }
   ],
   "source": [
    "performance_plots(model, X_test, y_test, history, nepochs)\n",
    "confusion_matrix(model, X_test, y_test)"
   ]
  },
  {
   "cell_type": "markdown",
   "metadata": {},
   "source": [
    "## Report with your Findings"
   ]
  },
  {
   "cell_type": "markdown",
   "metadata": {},
   "source": [
    "The best accuracy is achieved by a GRU RNN with 87.7% on the test set. A very similar score is achieved by the LSTM architecture with 87.4%. Both networks use the pretrained Glove embedding matrix and are allowed to fine tune it durring training. In this exercise the benefit of the LSTM / GRU architecture over the SimpleRNN is clearly visible with a difference of ~20% in terms of test accuracy!\n",
    "\n",
    "The CNN architectures reach comparable scores, but clearly worse with 84.6% at best."
   ]
  }
 ],
 "metadata": {
  "kernelspec": {
   "display_name": "Python 3",
   "language": "python",
   "name": "python3"
  },
  "language_info": {
   "codemirror_mode": {
    "name": "ipython",
    "version": 3
   },
   "file_extension": ".py",
   "mimetype": "text/x-python",
   "name": "python",
   "nbconvert_exporter": "python",
   "pygments_lexer": "ipython3",
   "version": "3.8.5"
  }
 },
 "nbformat": 4,
 "nbformat_minor": 4
}
