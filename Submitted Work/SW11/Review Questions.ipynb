{
 "cells": [
  {
   "cell_type": "markdown",
   "metadata": {},
   "source": [
    "# (a)\n",
    "*What are the different forms of sequence mapping allowed by recurrent neural networks ? Give for each form an example of application.*\n",
    "\n",
    " - Many-to-One: Time-series classification\n",
    " - One-to-Many: Image captioning\n",
    " - Many-to-Many (shape of input and output the same): Named entity recognition\n",
    " - Many-to-Many (shape of input and output not the same): Language translation\n",
    "\n",
    "# (b)\n",
    "*Compute the number of parameters to be trained for a two-layer SimpleRNN and softmax with hidden state dimensions 32 and 64, respectively, 10 classes to classify in the softmax and inputs given by sequences of length 100 and each element a vector of dimension 30.*\n",
    "\n",
    "\n",
    "$$\n",
    "(32\\times 30 + 32 \\times 32 + 32) + (64\\times32 +64\\times 64 + 64) + (10\\times64 + 10) = 8874\n",
    "$$\n",
    "\n"
   ]
  },
  {
   "cell_type": "code",
   "execution_count": 1,
   "metadata": {},
   "outputs": [
    {
     "name": "stdout",
     "output_type": "stream",
     "text": [
      "Model: \"sequential\"\n",
      "_________________________________________________________________\n",
      "Layer (type)                 Output Shape              Param #   \n",
      "=================================================================\n",
      "simple_rnn (SimpleRNN)       (None, 100, 32)           2016      \n",
      "_________________________________________________________________\n",
      "simple_rnn_1 (SimpleRNN)     (None, 64)                6208      \n",
      "_________________________________________________________________\n",
      "dense (Dense)                (None, 10)                650       \n",
      "_________________________________________________________________\n",
      "activation (Activation)      (None, 10)                0         \n",
      "=================================================================\n",
      "Total params: 8,874\n",
      "Trainable params: 8,874\n",
      "Non-trainable params: 0\n",
      "_________________________________________________________________\n"
     ]
    }
   ],
   "source": [
    "import tensorflow.keras as keras\n",
    "model = keras.models.Sequential()\n",
    "model.add(keras.layers.SimpleRNN(32, input_shape=(100, 30), \n",
    "                    return_sequences=True))\n",
    "model.add(keras.layers.SimpleRNN(64, \n",
    "                    return_sequences=False))\n",
    "model.add(keras.layers.Dense(10))\n",
    "model.add(keras.layers.Activation('softmax'))\n",
    "model.compile(loss='categorical_crossentropy', optimizer='adam', \n",
    "              metrics=['accuracy'])\n",
    "model.summary()"
   ]
  },
  {
   "cell_type": "markdown",
   "metadata": {},
   "source": [
    "# (c)\n",
    "*Why is gradient clipping rather needed in long than in short sentences ?*\n",
    "\n",
    "Because as we have seen in class in order to calculate the partial gradient for the weight matrix $W_h$ we have to calculate a product term depending on the time dimension $t$.\n",
    "\n",
    "$$\n",
    "\\frac{\\partial L_{\\mathrm{ce}}}{\\partial W_{h}}=\\frac{\\partial L_{\\mathrm{ce}}}{\\partial \\hat{y}} \\frac{\\partial \\hat{y}}{\\partial h_{t}} \\sum_{s=1}^{t+1}\\left(\\prod_{\\tau=s}^{t} \\frac{\\partial h_{\\tau}}{\\partial h_{\\tau-1}}\\right) \\frac{\\partial h_{s-1}}{\\partial W_{h}}\n",
    "$$\n",
    "\n",
    "The longer the sequence, the more likely we are to observe an exploding gradient and hence need gradient clipping.\n",
    "\n",
    "\n",
    "# (d)\n",
    "*Describe why SimpleRNNs have problems in learning long-term dependencies.*\n",
    "\n",
    "When calculating the gradient for the weights of an RNN with sequence length $n$ in a Many-to-One setting, the gradient contribution of e.g. the operation $W_x \\cdot x_0$ to the total gradient of the weight matrix $W_x$ will be very small when compared to the operation $W_x \\cdot x_n$ due to the backpropagation through time explained in the answer above. Hence the network will not be able to really learn the dependency of the input at time step $0$ on the hiddenstate at time step $n$ which then will be used for further processing.\n",
    "\n",
    "# (e)\n",
    "*How can you define a generative system ? Describe the two approaches seen in the class to build generative systems with RNNs.*\n",
    "\n",
    " - Many-to-One: We try to predict the next token at timestep $x_{t}$ from a fixed given window with length $n$ of previous tokens $[x_{t-n},...,x_{t-1}]$\n",
    " - Many-to-Many: We try to predict the next token at each time step $[x_{t-(n+1)},...,x_{t}]$ from a fixed given window with length $n$ of previous tokens $[x_{t-n},...,x_{t-1}]$\n",
    " \n",
    "The two approaches only differ at training time. When infering predictions the models are equivalent.\n"
   ]
  }
 ],
 "metadata": {
  "kernelspec": {
   "display_name": "Python 3",
   "language": "python",
   "name": "python3"
  },
  "language_info": {
   "codemirror_mode": {
    "name": "ipython",
    "version": 3
   },
   "file_extension": ".py",
   "mimetype": "text/x-python",
   "name": "python",
   "nbconvert_exporter": "python",
   "pygments_lexer": "ipython3",
   "version": "3.8.5"
  }
 },
 "nbformat": 4,
 "nbformat_minor": 4
}
