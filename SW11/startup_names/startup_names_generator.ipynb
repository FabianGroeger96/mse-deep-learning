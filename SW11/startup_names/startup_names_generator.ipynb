{
 "cells": [
  {
   "cell_type": "code",
   "execution_count": 8,
   "metadata": {},
   "outputs": [],
   "source": [
    "import numpy as np\n",
    "import random\n",
    "import matplotlib.pyplot as plt\n",
    "import tensorflow as tf"
   ]
  },
  {
   "cell_type": "code",
   "execution_count": 12,
   "metadata": {},
   "outputs": [
    {
     "name": "stdout",
     "output_type": "stream",
     "text": [
      "Loaded a corpus of 2567986 characters\n"
     ]
    }
   ],
   "source": [
    "keras = tf.keras\n",
    "\n",
    "with open(\"companies.csv\" ,encoding='utf-8') as corpus_file:\n",
    "    corpus = corpus_file.read()\n",
    "    corpus_length = len(corpus)\n",
    "print(\"Loaded a corpus of {0} characters\".format(corpus_length))"
   ]
  },
  {
   "cell_type": "code",
   "execution_count": 53,
   "metadata": {},
   "outputs": [
    {
     "name": "stdout",
     "output_type": "stream",
     "text": [
      "Our corpus contains 150 unique characters.\n",
      "{'\\n': 0, ' ': 1, '!': 2, '\"': 3, '#': 4, '$': 5, '%': 6, '&': 7, \"'\": 8, '(': 9, ')': 10, '*': 11, '+': 12, ',': 13, '-': 14, '.': 15, '/': 16, '0': 17, '1': 18, '2': 19, '3': 20, '4': 21, '5': 22, '6': 23, '7': 24, '8': 25, '9': 26, ':': 27, '=': 28, '>': 29, '?': 30, '@': 31, 'A': 32, 'B': 33, 'C': 34, 'D': 35, 'E': 36, 'F': 37, 'G': 38, 'H': 39, 'I': 40, 'J': 41, 'K': 42, 'L': 43, 'M': 44, 'N': 45, 'O': 46, 'P': 47, 'Q': 48, 'R': 49, 'S': 50, 'T': 51, 'U': 52, 'V': 53, 'W': 54, 'X': 55, 'Y': 56, 'Z': 57, '[': 58, '\\\\': 59, ']': 60, '^': 61, '_': 62, 'a': 63, 'b': 64, 'c': 65, 'd': 66, 'e': 67, 'f': 68, 'g': 69, 'h': 70, 'i': 71, 'j': 72, 'k': 73, 'l': 74, 'm': 75, 'n': 76, 'o': 77, 'p': 78, 'q': 79, 'r': 80, 's': 81, 't': 82, 'u': 83, 'v': 84, 'w': 85, 'x': 86, 'y': 87, 'z': 88, '{': 89, '|': 90, '}': 91, '~': 92, '\\x81': 93, '\\x82': 94, '\\x83': 95, '\\x84': 96, '\\x85': 97, '\\x86': 98, '\\x87': 99, '\\x88': 100, '\\x89': 101, '\\x8a': 102, '\\x8b': 103, '\\x8c': 104, '\\x8d': 105, '\\x8e': 106, '\\x8f': 107, '\\x90': 108, '\\x91': 109, '\\x92': 110, '\\x93': 111, '\\x94': 112, '\\x95': 113, '\\x96': 114, '\\x97': 115, '\\x98': 116, '\\x99': 117, '\\x9a': 118, '\\x9b': 119, '\\x9c': 120, '\\x9f': 121, '¡': 122, '¥': 123, '§': 124, '¨': 125, '©': 126, 'ª': 127, '«': 128, '¯': 129, 'µ': 130, '¾': 131, '¿': 132, 'Ê': 133, 'Ë': 134, 'Ì': 135, 'Ï': 136, 'Ð': 137, 'Ñ': 138, 'Ô': 139, 'Õ': 140, 'ç': 141, 'è': 142, 'ê': 143, 'ì': 144, 'î': 145, 'ï': 146, 'ò': 147, 'õ': 148, 'û': 149}\n",
      "{0: '\\n', 1: ' ', 2: '!', 3: '\"', 4: '#', 5: '$', 6: '%', 7: '&', 8: \"'\", 9: '(', 10: ')', 11: '*', 12: '+', 13: ',', 14: '-', 15: '.', 16: '/', 17: '0', 18: '1', 19: '2', 20: '3', 21: '4', 22: '5', 23: '6', 24: '7', 25: '8', 26: '9', 27: ':', 28: '=', 29: '>', 30: '?', 31: '@', 32: 'A', 33: 'B', 34: 'C', 35: 'D', 36: 'E', 37: 'F', 38: 'G', 39: 'H', 40: 'I', 41: 'J', 42: 'K', 43: 'L', 44: 'M', 45: 'N', 46: 'O', 47: 'P', 48: 'Q', 49: 'R', 50: 'S', 51: 'T', 52: 'U', 53: 'V', 54: 'W', 55: 'X', 56: 'Y', 57: 'Z', 58: '[', 59: '\\\\', 60: ']', 61: '^', 62: '_', 63: 'a', 64: 'b', 65: 'c', 66: 'd', 67: 'e', 68: 'f', 69: 'g', 70: 'h', 71: 'i', 72: 'j', 73: 'k', 74: 'l', 75: 'm', 76: 'n', 77: 'o', 78: 'p', 79: 'q', 80: 'r', 81: 's', 82: 't', 83: 'u', 84: 'v', 85: 'w', 86: 'x', 87: 'y', 88: 'z', 89: '{', 90: '|', 91: '}', 92: '~', 93: '\\x81', 94: '\\x82', 95: '\\x83', 96: '\\x84', 97: '\\x85', 98: '\\x86', 99: '\\x87', 100: '\\x88', 101: '\\x89', 102: '\\x8a', 103: '\\x8b', 104: '\\x8c', 105: '\\x8d', 106: '\\x8e', 107: '\\x8f', 108: '\\x90', 109: '\\x91', 110: '\\x92', 111: '\\x93', 112: '\\x94', 113: '\\x95', 114: '\\x96', 115: '\\x97', 116: '\\x98', 117: '\\x99', 118: '\\x9a', 119: '\\x9b', 120: '\\x9c', 121: '\\x9f', 122: '¡', 123: '¥', 124: '§', 125: '¨', 126: '©', 127: 'ª', 128: '«', 129: '¯', 130: 'µ', 131: '¾', 132: '¿', 133: 'Ê', 134: 'Ë', 135: 'Ì', 136: 'Ï', 137: 'Ð', 138: 'Ñ', 139: 'Ô', 140: 'Õ', 141: 'ç', 142: 'è', 143: 'ê', 144: 'ì', 145: 'î', 146: 'ï', 147: 'ò', 148: 'õ', 149: 'û'}\n"
     ]
    }
   ],
   "source": [
    "# Get a unique identifier for each char in the corpus, \n",
    "# then make some dicts to ease encoding and decoding\n",
    "chars = sorted(list(set(corpus)))\n",
    "num_chars = len(chars)\n",
    "encoding = {c: i for i, c in enumerate(chars)}\n",
    "decoding = {i: c for i, c in enumerate(chars)}\n",
    "print(\"Our corpus contains {0} unique characters.\".format(num_chars))\n",
    "print(encoding)\n",
    "print(decoding)"
   ]
  },
  {
   "cell_type": "markdown",
   "metadata": {},
   "source": [
    "## Many to one approach"
   ]
  },
  {
   "cell_type": "code",
   "execution_count": 57,
   "metadata": {},
   "outputs": [
    {
     "name": "stdout",
     "output_type": "stream",
     "text": [
      "Sliced our corpus into 855992 sentences of length 10\n"
     ]
    }
   ],
   "source": [
    "# chop up our data into X and y, slice into roughly \n",
    "# (num_chars / skip) overlapping 'sentences' of length \n",
    "# sentence_length, and encode the chars\n",
    "sentence_length = 10\n",
    "skip = 3\n",
    "X_data = []\n",
    "y_data = []\n",
    "for i in range (0, len(corpus) - sentence_length, skip):\n",
    "    sentence = corpus[i:i + sentence_length]\n",
    "    next_char = corpus[i + sentence_length]\n",
    "    X_data.append([encoding[char] for char in sentence])\n",
    "    y_data.append(encoding[next_char])\n",
    "\n",
    "num_sentences = len(X_data)\n",
    "print(\"Sliced our corpus into {0} sentences of length {1}\"\n",
    "      .format(num_sentences, sentence_length))"
   ]
  },
  {
   "cell_type": "code",
   "execution_count": 58,
   "metadata": {},
   "outputs": [
    {
     "name": "stdout",
     "output_type": "stream",
     "text": [
      "[39, 63, 81, 70, 78, 74, 63, 87, 1, 40]\n",
      "['H', 'a', 's', 'h', 'p', 'l', 'a', 'y', ' ', 'I']\n",
      "n\n"
     ]
    }
   ],
   "source": [
    "print(X_data[0])\n",
    "print([decoding[idx] for idx in X_data[0]])\n",
    "print(decoding[y_data[0]])"
   ]
  },
  {
   "cell_type": "code",
   "execution_count": 59,
   "metadata": {},
   "outputs": [
    {
     "name": "stdout",
     "output_type": "stream",
     "text": [
      "Sanity check y. Dimension: (855992, 150) # Sentences: 855992 Characters in corpus: 150\n",
      "Sanity check X. Dimension: (855992, 10, 150) Sentence length: 10\n"
     ]
    }
   ],
   "source": [
    "# Vectorize our data and labels. We want everything in one-hot.\n",
    "X = np.zeros((num_sentences, sentence_length, num_chars), dtype=np.bool)\n",
    "y = np.zeros((num_sentences, num_chars), dtype=np.bool)\n",
    "for i, sentence in enumerate(X_data):\n",
    "    for t, encoded_char in enumerate(sentence):\n",
    "        X[i, t, encoded_char] = 1\n",
    "    y[i, y_data[i]] = 1\n",
    "\n",
    "# Double check our vectorized data before we sink hours into fitting a model\n",
    "print(\"Sanity check y. Dimension: {0} # Sentences: {1} Characters in corpus: {2}\"\n",
    "      .format(y.shape, num_sentences, len(chars)))\n",
    "print(\"Sanity check X. Dimension: {0} Sentence length: {1}\"\n",
    "      .format(X.shape, sentence_length))"
   ]
  },
  {
   "cell_type": "code",
   "execution_count": 60,
   "metadata": {},
   "outputs": [
    {
     "name": "stdout",
     "output_type": "stream",
     "text": [
      "Model: \"sequential\"\n",
      "_________________________________________________________________\n",
      "Layer (type)                 Output Shape              Param #   \n",
      "=================================================================\n",
      "simple_rnn (SimpleRNN)       (None, 256)               104192    \n",
      "_________________________________________________________________\n",
      "dense (Dense)                (None, 150)               38550     \n",
      "_________________________________________________________________\n",
      "activation (Activation)      (None, 150)               0         \n",
      "=================================================================\n",
      "Total params: 142,742\n",
      "Trainable params: 142,742\n",
      "Non-trainable params: 0\n",
      "_________________________________________________________________\n"
     ]
    }
   ],
   "source": [
    "# Define our model\n",
    "model = keras.models.Sequential()\n",
    "model.add(keras.layers.SimpleRNN(256, input_shape=(sentence_length, num_chars), \n",
    "                    return_sequences=False))\n",
    "model.add(keras.layers.Dense(num_chars))\n",
    "model.add(keras.layers.Activation('softmax'))\n",
    "model.compile(loss='categorical_crossentropy', optimizer='adam', \n",
    "              metrics=['accuracy'])\n",
    "model.summary()"
   ]
  },
  {
   "cell_type": "code",
   "execution_count": 61,
   "metadata": {},
   "outputs": [
    {
     "name": "stdout",
     "output_type": "stream",
     "text": [
      "Epoch 1/10\n",
      "6688/6688 [==============================] - 218s 33ms/step - loss: 2.4639 - accuracy: 0.3124\n",
      "Epoch 2/10\n",
      "6688/6688 [==============================] - 216s 32ms/step - loss: 2.1697 - accuracy: 0.3853s - loss: 2.1698 - accuracy: 0.38\n",
      "Epoch 3/10\n",
      "6688/6688 [==============================] - 165s 25ms/step - loss: 2.0776 - accuracy: 0.4101s - loss: 2.0777 - accuracy: 0.41\n",
      "Epoch 4/10\n",
      "6688/6688 [==============================] - 103s 15ms/step - loss: 2.0293 - accuracy: 0.4233\n",
      "Epoch 5/10\n",
      "6688/6688 [==============================] - 122s 18ms/step - loss: 1.9973 - accuracy: 0.4311\n",
      "Epoch 6/10\n",
      "6688/6688 [==============================] - 235s 35ms/step - loss: 1.9747 - accuracy: 0.4377\n",
      "Epoch 7/10\n",
      "6688/6688 [==============================] - 214s 32ms/step - loss: 1.9562 - accuracy: 0.4423\n",
      "Epoch 8/10\n",
      "6688/6688 [==============================] - 223s 33ms/step - loss: 1.9427 - accuracy: 0.4455\n",
      "Epoch 9/10\n",
      "6688/6688 [==============================] - 207s 31ms/step - loss: 1.9318 - accuracy: 0.4489\n",
      "Epoch 10/10\n",
      "6688/6688 [==============================] - 205s 31ms/step - loss: 1.9219 - accuracy: 0.4512s - loss: 1.921\n"
     ]
    },
    {
     "data": {
      "image/png": "[encoded data removed]",
      "text/plain": [
       "<Figure size 432x288 with 1 Axes>"
      ]
     },
     "metadata": {
      "needs_background": "light"
     },
     "output_type": "display_data"
    }
   ],
   "source": [
    "#training time\n",
    "log = model.fit(X, y, epochs=10, batch_size=128)\n",
    "plt.plot(log.history['loss'], label='Training')\n",
    "plt.legend()\n",
    "plt.grid()"
   ]
  },
  {
   "cell_type": "code",
   "execution_count": 84,
   "metadata": {},
   "outputs": [
    {
     "name": "stdout",
     "output_type": "stream",
     "text": [
      "seed = Robo 123 C\n",
      "Robo 123 Consulten P\n"
     ]
    }
   ],
   "source": [
    "\n",
    "def make_seed(seed_phrase=\"\"):\n",
    "        if seed_phrase:  # make sure the seed has the right length\n",
    "            phrase_length = len(seed_phrase)\n",
    "            pattern = \"\"\n",
    "            for i in range (0, sentence_length):\n",
    "                pattern += seed_phrase[i % phrase_length]\n",
    "        else:            # sample randomly the seed from corpus\n",
    "            seed = random.randint(0, corpus_length - sentence_length)\n",
    "            pattern = corpus[seed:seed + sentence_length]\n",
    "        return pattern\n",
    "\n",
    "seed_pattern = make_seed(\"Robo 123 Cop\")\n",
    "print(\"seed = \" + seed_pattern)\n",
    "\n",
    "X = np.zeros((1, sentence_length, num_chars), dtype=np.float)\n",
    "for i, character in enumerate(seed_pattern):\n",
    "    X[0, i, encoding[character]] = 1\n",
    "\n",
    "generated_text = \"\"\n",
    "for i in range(10):\n",
    "    output_prob = model.predict(X, verbose=0)[0]\n",
    "    # in previous line predict() gives a tensor of shape (1, 65) \n",
    "    # with 1 being the size of the batch, for that we use [0] to get a vector\n",
    "    prediction = np.random.choice(num_chars, p = output_prob )\n",
    "    generated_text += decoding[prediction]\n",
    "    activations = np.zeros((1, 1, num_chars), dtype=np.bool)\n",
    "    activations[0, 0, prediction] = 1\n",
    "    #now remove first char and glue the predicted one\n",
    "    X = np.concatenate((X[:, 1:, :], activations), axis=1)\n",
    "print(seed_pattern + generated_text)"
   ]
  },
  {
   "cell_type": "markdown",
   "metadata": {},
   "source": [
    "## Many to many approach"
   ]
  },
  {
   "cell_type": "code",
   "execution_count": 94,
   "metadata": {},
   "outputs": [
    {
     "name": "stdout",
     "output_type": "stream",
     "text": [
      "Sliced our corpus into 2567976 sentences of length 10\n"
     ]
    }
   ],
   "source": [
    "# chop up our data into X and y, slice into roughly \n",
    "# (num_chars / skip) overlapping 'sentences' of length \n",
    "# sentence_length, and encode the chars\n",
    "sentence_length = 10\n",
    "skip = 1\n",
    "X_data = []\n",
    "y_data = []\n",
    "for i in range (0, len(corpus) - sentence_length, skip):\n",
    "    sentence = corpus[i:i + sentence_length]\n",
    "    next_char = corpus[i+1:i+1 + sentence_length]\n",
    "    X_data.append([encoding[char] for char in sentence])\n",
    "    y_data.append([encoding[char] for char in next_char])\n",
    "\n",
    "num_sentences = len(X_data)\n",
    "print(\"Sliced our corpus into {0} sentences of length {1}\"\n",
    "      .format(num_sentences, sentence_length))"
   ]
  },
  {
   "cell_type": "code",
   "execution_count": 95,
   "metadata": {},
   "outputs": [
    {
     "name": "stdout",
     "output_type": "stream",
     "text": [
      "[39, 63, 81, 70, 78, 74, 63, 87, 1, 40]\n"
     ]
    }
   ],
   "source": [
    "print(X_data[0])"
   ]
  },
  {
   "cell_type": "code",
   "execution_count": 96,
   "metadata": {},
   "outputs": [
    {
     "name": "stdout",
     "output_type": "stream",
     "text": [
      "['H', 'a', 's', 'h', 'p', 'l', 'a', 'y', ' ', 'I']\n",
      "['a', 's', 'h', 'p', 'l', 'a', 'y', ' ', 'I', 'n']\n"
     ]
    }
   ],
   "source": [
    "print([decoding[idx] for idx in X_data[0]])\n",
    "print([decoding[idx] for idx in y_data[0]])"
   ]
  },
  {
   "cell_type": "code",
   "execution_count": 97,
   "metadata": {},
   "outputs": [],
   "source": [
    "# Vectorize our data and labels. We want everything in one-hot.\n",
    "X = np.zeros((num_sentences, sentence_length, num_chars), dtype=np.bool)\n",
    "y = np.zeros((num_sentences, sentence_length, num_chars), dtype=np.bool)\n",
    "for i, sentence in enumerate(X_data):\n",
    "    for t, encoded_char in enumerate(sentence):\n",
    "        X[i, t, encoded_char] = 1\n",
    "for i, sentence in enumerate(y_data):\n",
    "    for t, encoded_char in enumerate(sentence):\n",
    "        y[i, t, encoded_char] = 1"
   ]
  },
  {
   "cell_type": "code",
   "execution_count": 98,
   "metadata": {},
   "outputs": [
    {
     "name": "stdout",
     "output_type": "stream",
     "text": [
      "Model: \"sequential_3\"\n",
      "_________________________________________________________________\n",
      "Layer (type)                 Output Shape              Param #   \n",
      "=================================================================\n",
      "simple_rnn_4 (SimpleRNN)     (None, 10, 256)           104192    \n",
      "_________________________________________________________________\n",
      "time_distributed_1 (TimeDist (None, 10, 150)           38550     \n",
      "=================================================================\n",
      "Total params: 142,742\n",
      "Trainable params: 142,742\n",
      "Non-trainable params: 0\n",
      "_________________________________________________________________\n"
     ]
    }
   ],
   "source": [
    "# Define our model\n",
    "modelmm = keras.models.Sequential()\n",
    "modelmm.add(keras.layers.SimpleRNN(256, input_shape=(sentence_length, num_chars), \n",
    "                    return_sequences=True))\n",
    "modelmm.add(keras.layers.TimeDistributed(keras.layers.Dense(num_chars,\n",
    "                                                          activation='softmax')))\n",
    "modelmm.compile(loss='categorical_crossentropy', optimizer='adam', \n",
    "              metrics=['accuracy'])\n",
    "modelmm.summary()"
   ]
  },
  {
   "cell_type": "code",
   "execution_count": 99,
   "metadata": {},
   "outputs": [
    {
     "name": "stdout",
     "output_type": "stream",
     "text": [
      "Epoch 1/10\n",
      "20063/20063 [==============================] - 551s 27ms/step - loss: 2.1870 - accuracy: 0.3775\n",
      "Epoch 2/10\n",
      "20063/20063 [==============================] - 652s 32ms/step - loss: 2.0356 - accuracy: 0.4145\n",
      "Epoch 3/10\n",
      "20063/20063 [==============================] - 766s 38ms/step - loss: 2.0097 - accuracy: 0.4207\n",
      "Epoch 4/10\n",
      "20063/20063 [==============================] - 918s 46ms/step - loss: 1.9963 - accuracy: 0.4239\n",
      "Epoch 5/10\n",
      "20063/20063 [==============================] - 557s 28ms/step - loss: 1.9876 - accuracy: 0.4258\n",
      "Epoch 6/10\n",
      "20063/20063 [==============================] - 525s 26ms/step - loss: 1.9816 - accuracy: 0.4273\n",
      "Epoch 7/10\n",
      "20063/20063 [==============================] - 520s 26ms/step - loss: 1.9771 - accuracy: 0.4284\n",
      "Epoch 8/10\n",
      "20063/20063 [==============================] - 513s 26ms/step - loss: 1.9737 - accuracy: 0.4292\n",
      "Epoch 9/10\n",
      "20063/20063 [==============================] - 496s 25ms/step - loss: 1.9710 - accuracy: 0.4297\n",
      "Epoch 10/10\n",
      "20063/20063 [==============================] - 485s 24ms/step - loss: 1.9687 - accuracy: 0.4303\n"
     ]
    },
    {
     "data": {
      "image/png": "[encoded data removed]",
      "text/plain": [
       "<Figure size 432x288 with 1 Axes>"
      ]
     },
     "metadata": {
      "needs_background": "light"
     },
     "output_type": "display_data"
    }
   ],
   "source": [
    "#training time\n",
    "log = modelmm.fit(X, y, epochs=10, batch_size=128)\n",
    "plt.plot(log.history['loss'], label='Training')\n",
    "plt.legend()\n",
    "plt.grid()"
   ]
  },
  {
   "cell_type": "code",
   "execution_count": 108,
   "metadata": {},
   "outputs": [
    {
     "name": "stdout",
     "output_type": "stream",
     "text": [
      "     Swiss Higheralis Company\n",
      "Switch Harding Supplient\n",
      "Statiotec\n",
      "Lokruck\n",
      "PromauityMark Technologies\n",
      "MENHERS\n",
      "CUROO\n",
      "anCaliford\n",
      "FarilbelledSoft\n",
      "DigiPanda\n",
      "Xascoretros\n",
      "INPAC Therapeut\n",
      "ONOWVS\n",
      "Cardior Systems\n",
      "Batter D\n"
     ]
    }
   ],
   "source": [
    "def make_seed(seed_phrase=\"\"):\n",
    "        if seed_phrase:  # make sure the seed has the right length\n",
    "            phrase_length = len(seed_phrase)\n",
    "            pattern = \"\"\n",
    "            for i in range (0, sentence_length):\n",
    "                pattern += seed_phrase[i % phrase_length]\n",
    "        else:            # sample randomly the seed from corpus\n",
    "            seed = random.randint(0, corpus_length - sentence_length)\n",
    "            pattern = corpus[seed:seed + sentence_length]\n",
    "        return pattern\n",
    "\n",
    "seed_pattern = make_seed(\"     Swiss\")\n",
    "\n",
    "X = np.zeros((1, sentence_length, num_chars), dtype=np.float)\n",
    "for i, character in enumerate(seed_pattern):\n",
    "    X[0, i, encoding[character]] = 1\n",
    "\n",
    "generated_text = \"\"\n",
    "for i in range(200):\n",
    "    output_prob = modelmm.predict(X, verbose=0)[0][-1]\n",
    "    # in previous line predict() gives a tensor of shape (1, 20, 65) \n",
    "    # with 1 being the size of the batch, for that we use [0][-1] \n",
    "    # to remove the batch dim and get the last prediction : a vector of size 65\n",
    "    prediction = np.random.choice(num_chars, p = output_prob )\n",
    "    generated_text += decoding[prediction]\n",
    "    activations = np.zeros((1, 1, num_chars), dtype=np.bool)\n",
    "    activations[0, 0, prediction] = 1\n",
    "    #now remove first char and glue the predicted one\n",
    "    X = np.concatenate((X[:, 1:, :], activations), axis=1)\n",
    "print(f\"{seed_pattern}{generated_text}\")"
   ]
  },
  {
   "cell_type": "code",
   "execution_count": null,
   "metadata": {},
   "outputs": [],
   "source": []
  },
  {
   "cell_type": "code",
   "execution_count": null,
   "metadata": {},
   "outputs": [],
   "source": []
  }
 ],
 "metadata": {
  "kernelspec": {
   "display_name": "Python 3",
   "language": "python",
   "name": "python3"
  },
  "language_info": {
   "codemirror_mode": {
    "name": "ipython",
    "version": 3
   },
   "file_extension": ".py",
   "mimetype": "text/x-python",
   "name": "python",
   "nbconvert_exporter": "python",
   "pygments_lexer": "ipython3",
   "version": "3.8.5"
  }
 },
 "nbformat": 4,
 "nbformat_minor": 2
}
