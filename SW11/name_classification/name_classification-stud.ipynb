{
 "cells": [
  {
   "cell_type": "code",
   "execution_count": 1,
   "metadata": {
    "scrolled": true
   },
   "outputs": [],
   "source": [
    "import glob\n",
    "import os\n",
    "import string\n",
    "\n",
    "import numpy as np\n",
    "import pandas as pd\n",
    "\n",
    "from matplotlib import pyplot as plt\n",
    "import matplotlib.ticker as ticker\n",
    "\n",
    "import seaborn as sns\n",
    "\n",
    "from sklearn.metrics import confusion_matrix\n",
    "from sklearn.model_selection import train_test_split\n",
    "from sklearn.metrics import classification_report"
   ]
  },
  {
   "cell_type": "markdown",
   "metadata": {},
   "source": [
    "### Load Data\n",
    "\n",
    "The names can be found in text files in a src directory, one file per language.\n",
    "\n",
    "In the following you can find some utilities to load the data into pandas data frames. \n",
    "\n",
    "We will restrict to some common European languages. \n",
    "\n",
    "With the given selection, we will identify all the occurring characters and initialize an alphabet.<br>\n",
    "For this alphabet, we will use a one-hot-encoding to map them into a vector space representation. \n",
    "\n",
    "Foresee a suitable character for the end of the word, e.g. 'END'."
   ]
  },
  {
   "cell_type": "code",
   "execution_count": 2,
   "metadata": {},
   "outputs": [],
   "source": [
    "srcdir = 'data/names'\n",
    "languages = [\"English\",\"French\",\"Italian\",\"German\",\"Spanish\"]"
   ]
  },
  {
   "cell_type": "code",
   "execution_count": 3,
   "metadata": {},
   "outputs": [],
   "source": [
    "# inspect the data directory\n",
    "def findFiles(path): \n",
    "    return glob.glob(path)"
   ]
  },
  {
   "cell_type": "code",
   "execution_count": 4,
   "metadata": {},
   "outputs": [
    {
     "name": "stdout",
     "output_type": "stream",
     "text": [
      "data/names\\Arabic.txt\n",
      "data/names\\Chinese.txt\n",
      "data/names\\Czech.txt\n",
      "data/names\\Dutch.txt\n",
      "data/names\\English.txt\n",
      "data/names\\French.txt\n",
      "data/names\\German.txt\n",
      "data/names\\Greek.txt\n",
      "data/names\\Irish.txt\n",
      "data/names\\Italian.txt\n",
      "data/names\\Japanese.txt\n",
      "data/names\\Korean.txt\n",
      "data/names\\Polish.txt\n",
      "data/names\\Portuguese.txt\n",
      "data/names\\Russian.txt\n",
      "data/names\\Scottish.txt\n",
      "data/names\\Spanish.txt\n",
      "data/names\\Vietnamese.txt\n"
     ]
    }
   ],
   "source": [
    "print('\\n'.join(findFiles(os.path.join(srcdir,'*.txt'))))"
   ]
  },
  {
   "cell_type": "code",
   "execution_count": 5,
   "metadata": {},
   "outputs": [],
   "source": [
    "# Read a file and split into lines\n",
    "def readLines(filename):\n",
    "    lines = open(filename, encoding='utf-8').read().strip().split('\\n')\n",
    "    return lines\n",
    "\n",
    "def load_data(srcdir, categories=None):\n",
    "    names_list = []\n",
    "    for filename in findFiles(os.path.join(srcdir,'*.txt')):\n",
    "        category = os.path.splitext(os.path.basename(filename))[0]\n",
    "        if not categories or category in categories: \n",
    "            names = readLines(filename)\n",
    "            names_list.extend([(name,category) for name in names])\n",
    "    df = pd.DataFrame(names_list)\n",
    "    df.columns = [\"name\",\"lang\"]\n",
    "    return df"
   ]
  },
  {
   "cell_type": "code",
   "execution_count": 6,
   "metadata": {},
   "outputs": [
    {
     "data": {
      "text/html": [
       "<div>\n",
       "<style scoped>\n",
       "    .dataframe tbody tr th:only-of-type {\n",
       "        vertical-align: middle;\n",
       "    }\n",
       "\n",
       "    .dataframe tbody tr th {\n",
       "        vertical-align: top;\n",
       "    }\n",
       "\n",
       "    .dataframe thead th {\n",
       "        text-align: right;\n",
       "    }\n",
       "</style>\n",
       "<table border=\"1\" class=\"dataframe\">\n",
       "  <thead>\n",
       "    <tr style=\"text-align: right;\">\n",
       "      <th></th>\n",
       "      <th>name</th>\n",
       "      <th>lang</th>\n",
       "    </tr>\n",
       "  </thead>\n",
       "  <tbody>\n",
       "    <tr>\n",
       "      <th>0</th>\n",
       "      <td>Abbas</td>\n",
       "      <td>English</td>\n",
       "    </tr>\n",
       "    <tr>\n",
       "      <th>1</th>\n",
       "      <td>Abbey</td>\n",
       "      <td>English</td>\n",
       "    </tr>\n",
       "    <tr>\n",
       "      <th>2</th>\n",
       "      <td>Abbott</td>\n",
       "      <td>English</td>\n",
       "    </tr>\n",
       "    <tr>\n",
       "      <th>3</th>\n",
       "      <td>Abdi</td>\n",
       "      <td>English</td>\n",
       "    </tr>\n",
       "    <tr>\n",
       "      <th>4</th>\n",
       "      <td>Abel</td>\n",
       "      <td>English</td>\n",
       "    </tr>\n",
       "  </tbody>\n",
       "</table>\n",
       "</div>"
      ],
      "text/plain": [
       "     name     lang\n",
       "0   Abbas  English\n",
       "1   Abbey  English\n",
       "2  Abbott  English\n",
       "3    Abdi  English\n",
       "4    Abel  English"
      ]
     },
     "execution_count": 6,
     "metadata": {},
     "output_type": "execute_result"
    }
   ],
   "source": [
    "names = load_data(srcdir,categories=languages)\n",
    "names.head()"
   ]
  },
  {
   "cell_type": "code",
   "execution_count": 7,
   "metadata": {},
   "outputs": [
    {
     "name": "stdout",
     "output_type": "stream",
     "text": [
      "Maximum name length:  18\n"
     ]
    }
   ],
   "source": [
    "maxlen = np.max([len(name) for name in names.name])\n",
    "print(\"Maximum name length: \", maxlen)"
   ]
  },
  {
   "cell_type": "code",
   "execution_count": 8,
   "metadata": {},
   "outputs": [
    {
     "name": "stdout",
     "output_type": "stream",
     "text": [
      "Size of alphabet:  74\n",
      "[' ', \"'\", 'A', 'B', 'C', 'D', 'E', 'F', 'G', 'H', 'I', 'J', 'K', 'L', 'M', 'N', 'O', 'P', 'Q', 'R', 'S', 'T', 'U', 'V', 'W', 'X', 'Y', 'Z', 'a', 'b', 'c', 'd', 'e', 'f', 'g', 'h', 'i', 'j', 'k', 'l', 'm', 'n', 'o', 'p', 'q', 'r', 's', 't', 'u', 'v', 'w', 'x', 'y', 'z', 'Á', 'É', 'ß', 'à', 'á', 'ä', 'ç', 'è', 'é', 'ê', 'ì', 'í', 'ñ', 'ò', 'ó', 'ö', 'ù', 'ú', 'ü', 'END']\n"
     ]
    }
   ],
   "source": [
    "alphabet = sorted(list(set(''.join([name for name in names.name]))))\n",
    "alphabet.append('END')\n",
    "len_alphabet = len(alphabet)\n",
    "char_index = dict((c, i) for i, c in enumerate(alphabet))\n",
    "print(\"Size of alphabet: \",len_alphabet)\n",
    "print(alphabet)"
   ]
  },
  {
   "cell_type": "code",
   "execution_count": 9,
   "metadata": {},
   "outputs": [
    {
     "data": {
      "text/plain": [
       "lang\n",
       "English    0.646230\n",
       "French     0.048802\n",
       "German     0.127555\n",
       "Italian    0.124912\n",
       "Spanish    0.052502\n",
       "Name: name, dtype: float64"
      ]
     },
     "execution_count": 9,
     "metadata": {},
     "output_type": "execute_result"
    }
   ],
   "source": [
    "names.groupby('lang')['name'].count()/len(names)"
   ]
  },
  {
   "cell_type": "markdown",
   "metadata": {},
   "source": [
    "### Vector Representations\n",
    "\n",
    "Now construct the vector representation by using one-hot-vectors. "
   ]
  },
  {
   "cell_type": "code",
   "execution_count": 10,
   "metadata": {},
   "outputs": [],
   "source": [
    "language_to_index = {country:index for index,country in enumerate(names.lang.unique())}\n",
    "index_to_language = {index:country for index,country in enumerate(names.lang.unique())}\n",
    "\n",
    "def onehot(i, length):\n",
    "    v = np.zeros(length);\n",
    "    v[i] = 1\n",
    "    return v\n",
    "\n",
    "def name_representation(name, maxlen):\n",
    "    ### START YOUR CODE\n",
    "    name_trunc = str(name)[0:maxlen]\n",
    "    size = len(char_index)\n",
    "    vector = [onehot(char_index[j], size) for j in str(name)]\n",
    "    # fill the rest with \n",
    "    for k in range(0,maxlen - len(str(name))):\n",
    "        vector.append(onehot(char_index['END'], size))\n",
    "    return np.array(vector)\n",
    "    ### START YOUR CODE\n",
    "\n",
    "def lang_representation(language, language_to_index):\n",
    "    y = np.zeros(len(language_to_index))\n",
    "    y[language_to_index[language]]=1\n",
    "    return y\n",
    "\n",
    "def lang_from_output(score):\n",
    "    return index_to_language[np.argmax(score)]\n",
    "\n",
    "def predict(name, model):\n",
    "    score = model.predict(np.array([name_representation(name, maxlen)]))[0]\n",
    "    return lang_from_output(score)"
   ]
  },
  {
   "cell_type": "markdown",
   "metadata": {},
   "source": [
    "### Prepare train/test\n",
    "\n",
    "Split the data into train/test\n",
    "\n",
    "Shuffle the data\n",
    "\n",
    "Transform the names data into a suitable vector respresentation:\n",
    "* names into numpy arrays of shape (*,maxlen,len_alphabet)\n",
    "* language into numpy array of shape (*,len(languages))\n",
    "\n"
   ]
  },
  {
   "cell_type": "code",
   "execution_count": 11,
   "metadata": {},
   "outputs": [
    {
     "name": "stdout",
     "output_type": "stream",
     "text": [
      "X.shape:  (5676, 18, 74)  y.shape:  (5676, 5)\n"
     ]
    }
   ],
   "source": [
    "X = names[\"name\"].map(lambda x: name_representation(x, maxlen))\n",
    "y = names[\"lang\"].map(lambda x: lang_representation(x, language_to_index))\n",
    "\n",
    "X = np.stack(X, axis=0)\n",
    "y = np.stack(y, axis=0)\n",
    "print(\"X.shape: \", X.shape, \" y.shape: \", y.shape)\n",
    "\n",
    "### START YOUR CODE\n",
    "# Shuffle and split names data\n",
    "\n",
    "n = X.shape[0]\n",
    "indicies = list(range(n))\n",
    "np.random.shuffle(indicies)\n",
    "X = X[indicies]\n",
    "y = y[indicies]\n",
    "\n",
    "X_train, X_test, y_train, y_test = train_test_split(X, y, test_size=0.2)\n",
    "\n",
    "### END YOUR CODE"
   ]
  },
  {
   "cell_type": "markdown",
   "metadata": {},
   "source": [
    "### Utilities"
   ]
  },
  {
   "cell_type": "code",
   "execution_count": 12,
   "metadata": {},
   "outputs": [],
   "source": [
    "def performance_plots(model, X_test, Y_test, log, epochs):    \n",
    "    acc = log.history['accuracy']\n",
    "    val_acc = log.history['val_accuracy']\n",
    "    print('Train accuracy (end):', acc[-1])\n",
    "    print('Train accuracy (max):', np.max(acc))\n",
    "    print('Test accuracy (end) :', val_acc[-1])\n",
    "    print('Test accuracy (max) :', np.max(val_acc))\n",
    "\n",
    "    plt.plot(log.history['accuracy'])\n",
    "    plt.plot(log.history['val_accuracy'])\n",
    "    plt.title('model accuracy')\n",
    "    plt.ylabel('accuracy')\n",
    "    plt.xlabel('epoch')\n",
    "    plt.legend(['train','test'], loc='upper left')\n",
    "    plt.axis([0,epochs,0.0,1.0])\n",
    "    plt.show()\n",
    "\n",
    "    plt.plot(log.history['loss'])\n",
    "    plt.plot(log.history['val_loss'])\n",
    "    plt.title('model loss')\n",
    "    plt.ylabel('loss')\n",
    "    plt.xlabel('epoch')\n",
    "    plt.legend(['train','test'], loc = 'upper left')\n",
    "    plt.axis([0,epochs,0.0,2.0])\n",
    "    plt.show()"
   ]
  },
  {
   "cell_type": "code",
   "execution_count": 13,
   "metadata": {},
   "outputs": [],
   "source": [
    "import sklearn\n",
    "import pandas as pd\n",
    "\n",
    "def confusion_matrix(model, X_test, Y_test):\n",
    "    scores = model.predict(X_test)\n",
    "    predictions = np.argmax(scores, axis=1)\n",
    "    labels = np.argmax(Y_test, axis=1)\n",
    "    nsamples = Y_test.shape[0]\n",
    "    cm = sklearn.metrics.confusion_matrix(labels, predictions)\n",
    "    df = pd.DataFrame({languages[i] : cm[:,i] for i in range(len(languages))}, languages)\n",
    "    return df, cm"
   ]
  },
  {
   "cell_type": "markdown",
   "metadata": {},
   "source": [
    "### Define and Train Model: Single Layer with SimpleRNN\n",
    "\n",
    "Create an RNN consisting of a single layer with a SimpleRNN (keras) and a softmax.\n",
    "\n",
    "Then train the model. Play with different number of hidden units in the layer to obtain a good accuracy."
   ]
  },
  {
   "cell_type": "code",
   "execution_count": 14,
   "metadata": {
    "tags": []
   },
   "outputs": [
    {
     "name": "stdout",
     "output_type": "stream",
     "text": [
      "Model: \"functional_1\"\n",
      "_________________________________________________________________\n",
      "Layer (type)                 Output Shape              Param #   \n",
      "=================================================================\n",
      "input_1 (InputLayer)         [(None, None, 74)]        0         \n",
      "_________________________________________________________________\n",
      "simple_rnn (SimpleRNN)       (None, 32)                3424      \n",
      "_________________________________________________________________\n",
      "dense (Dense)                (None, 5)                 165       \n",
      "=================================================================\n",
      "Total params: 3,589\n",
      "Trainable params: 3,589\n",
      "Non-trainable params: 0\n",
      "_________________________________________________________________\n"
     ]
    }
   ],
   "source": [
    "import tensorflow as tf\n",
    "from tensorflow.keras.layers import Input, SimpleRNN, Dense\n",
    "\n",
    "### START YOUR CODE\n",
    "\n",
    "start_power = 5\n",
    "\n",
    "inp = Input(shape=(None, len_alphabet))\n",
    "\n",
    "x = SimpleRNN(units=2**start_power, activation='tanh', kernel_initializer='glorot_uniform', return_sequences=False)(inp)\n",
    "x = Dense(units=5, activation='softmax')(x)\n",
    "\n",
    "model = tf.keras.models.Model(inputs=inp, outputs=x)\n",
    "\n",
    "model.compile(loss=\"categorical_crossentropy\", optimizer=tf.keras.optimizers.Adam(0.001), metrics=\"accuracy\")\n",
    "model.summary()\n",
    "\n",
    "### END YOUR CODE"
   ]
  },
  {
   "cell_type": "code",
   "execution_count": 15,
   "metadata": {},
   "outputs": [
    {
     "name": "stdout",
     "output_type": "stream",
     "text": [
      "Epoch 1/20\n",
      "142/142 [==============================] - 1s 7ms/step - loss: 1.1442 - accuracy: 0.6225 - val_loss: 1.0038 - val_accuracy: 0.6664\n",
      "Epoch 2/20\n",
      "142/142 [==============================] - 1s 4ms/step - loss: 0.9658 - accuracy: 0.6733 - val_loss: 0.8497 - val_accuracy: 0.7077\n",
      "Epoch 3/20\n",
      "142/142 [==============================] - 1s 4ms/step - loss: 0.8558 - accuracy: 0.7015 - val_loss: 0.7803 - val_accuracy: 0.7245\n",
      "Epoch 4/20\n",
      "142/142 [==============================] - 1s 4ms/step - loss: 0.7881 - accuracy: 0.7231 - val_loss: 0.7379 - val_accuracy: 0.7447\n",
      "Epoch 5/20\n",
      "142/142 [==============================] - 1s 4ms/step - loss: 0.7449 - accuracy: 0.7361 - val_loss: 0.7046 - val_accuracy: 0.7614\n",
      "Epoch 6/20\n",
      "142/142 [==============================] - 1s 4ms/step - loss: 0.7151 - accuracy: 0.7430 - val_loss: 0.6904 - val_accuracy: 0.7667\n",
      "Epoch 7/20\n",
      "142/142 [==============================] - 1s 4ms/step - loss: 0.6782 - accuracy: 0.7540 - val_loss: 0.7172 - val_accuracy: 0.7482\n",
      "Epoch 8/20\n",
      "142/142 [==============================] - 1s 4ms/step - loss: 0.6642 - accuracy: 0.7632 - val_loss: 0.6648 - val_accuracy: 0.7694\n",
      "Epoch 9/20\n",
      "142/142 [==============================] - 1s 4ms/step - loss: 0.6272 - accuracy: 0.7813 - val_loss: 0.6572 - val_accuracy: 0.7799\n",
      "Epoch 10/20\n",
      "142/142 [==============================] - 1s 4ms/step - loss: 0.6120 - accuracy: 0.7837 - val_loss: 0.6574 - val_accuracy: 0.7720\n",
      "Epoch 11/20\n",
      "142/142 [==============================] - 1s 5ms/step - loss: 0.5946 - accuracy: 0.7941 - val_loss: 0.6515 - val_accuracy: 0.7782\n",
      "Epoch 12/20\n",
      "142/142 [==============================] - 1s 5ms/step - loss: 0.5773 - accuracy: 0.7971 - val_loss: 0.6635 - val_accuracy: 0.7808\n",
      "Epoch 13/20\n",
      "142/142 [==============================] - 1s 5ms/step - loss: 0.5609 - accuracy: 0.7976 - val_loss: 0.6553 - val_accuracy: 0.7764\n",
      "Epoch 14/20\n",
      "142/142 [==============================] - 1s 4ms/step - loss: 0.5499 - accuracy: 0.8048 - val_loss: 0.6748 - val_accuracy: 0.7667\n",
      "Epoch 15/20\n",
      "142/142 [==============================] - 1s 4ms/step - loss: 0.5312 - accuracy: 0.8139 - val_loss: 0.6534 - val_accuracy: 0.7694\n",
      "Epoch 16/20\n",
      "142/142 [==============================] - 1s 4ms/step - loss: 0.5204 - accuracy: 0.8183 - val_loss: 0.6655 - val_accuracy: 0.7702\n",
      "Epoch 17/20\n",
      "142/142 [==============================] - 1s 4ms/step - loss: 0.5061 - accuracy: 0.8258 - val_loss: 0.6936 - val_accuracy: 0.7544\n",
      "Epoch 18/20\n",
      "142/142 [==============================] - 1s 4ms/step - loss: 0.4972 - accuracy: 0.8264 - val_loss: 0.6586 - val_accuracy: 0.7694\n",
      "Epoch 19/20\n",
      "142/142 [==============================] - 1s 4ms/step - loss: 0.4836 - accuracy: 0.8304 - val_loss: 0.6897 - val_accuracy: 0.7588\n",
      "Epoch 20/20\n",
      "142/142 [==============================] - 1s 4ms/step - loss: 0.4785 - accuracy: 0.8324 - val_loss: 0.7060 - val_accuracy: 0.7667\n"
     ]
    }
   ],
   "source": [
    "### START YOUR CODE\n",
    "batch_size=32\n",
    "nepochs = 20\n",
    "\n",
    "log = model.fit(X_train, y_train, batch_size=batch_size, \\\n",
    "                epochs=nepochs, validation_data=(X_test, y_test))\n",
    "\n",
    "### END YOUR CODE"
   ]
  },
  {
   "cell_type": "code",
   "execution_count": 16,
   "metadata": {},
   "outputs": [
    {
     "name": "stdout",
     "output_type": "stream",
     "text": [
      "Train accuracy (end): 0.8323788642883301\n",
      "Train accuracy (max): 0.8323788642883301\n",
      "Test accuracy (end) : 0.7667253613471985\n",
      "Test accuracy (max) : 0.7808098793029785\n"
     ]
    },
    {
     "data": {
      "image/png": "[encoded data removed]",
      "text/plain": [
       "<Figure size 432x288 with 1 Axes>"
      ]
     },
     "metadata": {
      "needs_background": "light"
     },
     "output_type": "display_data"
    },
    {
     "data": {
      "image/png": "[encoded data removed]",
      "text/plain": [
       "<Figure size 432x288 with 1 Axes>"
      ]
     },
     "metadata": {
      "needs_background": "light"
     },
     "output_type": "display_data"
    }
   ],
   "source": [
    "performance_plots(model, X_test, y_test, log, nepochs)"
   ]
  },
  {
   "cell_type": "code",
   "execution_count": 17,
   "metadata": {},
   "outputs": [
    {
     "name": "stdout",
     "output_type": "stream",
     "text": [
      "              precision    recall  f1-score   support\n",
      "\n",
      "     English       0.81      0.94      0.87       747\n",
      "      French       0.43      0.07      0.12        43\n",
      "      German       0.61      0.43      0.50       139\n",
      "     Italian       0.68      0.69      0.68       150\n",
      "     Spanish       0.55      0.11      0.18        57\n",
      "\n",
      "    accuracy                           0.77      1136\n",
      "   macro avg       0.61      0.45      0.47      1136\n",
      "weighted avg       0.74      0.77      0.73      1136\n",
      "\n"
     ]
    },
    {
     "data": {
      "text/html": [
       "<div>\n",
       "<style scoped>\n",
       "    .dataframe tbody tr th:only-of-type {\n",
       "        vertical-align: middle;\n",
       "    }\n",
       "\n",
       "    .dataframe tbody tr th {\n",
       "        vertical-align: top;\n",
       "    }\n",
       "\n",
       "    .dataframe thead th {\n",
       "        text-align: right;\n",
       "    }\n",
       "</style>\n",
       "<table border=\"1\" class=\"dataframe\">\n",
       "  <thead>\n",
       "    <tr style=\"text-align: right;\">\n",
       "      <th></th>\n",
       "      <th>English</th>\n",
       "      <th>French</th>\n",
       "      <th>Italian</th>\n",
       "      <th>German</th>\n",
       "      <th>Spanish</th>\n",
       "    </tr>\n",
       "  </thead>\n",
       "  <tbody>\n",
       "    <tr>\n",
       "      <th>English</th>\n",
       "      <td>699</td>\n",
       "      <td>2</td>\n",
       "      <td>30</td>\n",
       "      <td>15</td>\n",
       "      <td>1</td>\n",
       "    </tr>\n",
       "    <tr>\n",
       "      <th>French</th>\n",
       "      <td>30</td>\n",
       "      <td>3</td>\n",
       "      <td>4</td>\n",
       "      <td>6</td>\n",
       "      <td>0</td>\n",
       "    </tr>\n",
       "    <tr>\n",
       "      <th>Italian</th>\n",
       "      <td>75</td>\n",
       "      <td>0</td>\n",
       "      <td>60</td>\n",
       "      <td>2</td>\n",
       "      <td>2</td>\n",
       "    </tr>\n",
       "    <tr>\n",
       "      <th>German</th>\n",
       "      <td>41</td>\n",
       "      <td>2</td>\n",
       "      <td>2</td>\n",
       "      <td>103</td>\n",
       "      <td>2</td>\n",
       "    </tr>\n",
       "    <tr>\n",
       "      <th>Spanish</th>\n",
       "      <td>23</td>\n",
       "      <td>0</td>\n",
       "      <td>3</td>\n",
       "      <td>25</td>\n",
       "      <td>6</td>\n",
       "    </tr>\n",
       "  </tbody>\n",
       "</table>\n",
       "</div>"
      ],
      "text/plain": [
       "         English  French  Italian  German  Spanish\n",
       "English      699       2       30      15        1\n",
       "French        30       3        4       6        0\n",
       "Italian       75       0       60       2        2\n",
       "German        41       2        2     103        2\n",
       "Spanish       23       0        3      25        6"
      ]
     },
     "execution_count": 17,
     "metadata": {},
     "output_type": "execute_result"
    }
   ],
   "source": [
    "print(classification_report(np.argmax(y_test, axis=-1), np.argmax(model(X_test), axis=-1),\n",
    "                            target_names=names['lang'].unique()))\n",
    "df, cm = confusion_matrix(model, X_test, y_test)\n",
    "df"
   ]
  },
  {
   "cell_type": "markdown",
   "metadata": {},
   "source": [
    "Using a larger number of hidden units leads to a better training as well as test accuracy up to some point. At that point (units=`1024`) the accuracy drops drastically. The reason for the drop is obvious when looking at the confusion matrix: The network only predicts the language `English` most probably due to the heavy class imbalance."
   ]
  },
  {
   "cell_type": "markdown",
   "metadata": {},
   "source": [
    "### Handle Class Imbalance, Resampling\n",
    "\n",
    "We can observe a quite significant class imbalance in the data.<br>\n",
    "\n",
    "One way to compensate for that would be to use resampling."
   ]
  },
  {
   "cell_type": "code",
   "execution_count": 18,
   "metadata": {},
   "outputs": [],
   "source": [
    "def handle_imbalance(names, languages, strategy=\"oversampling\"):\n",
    "    \n",
    "    ### START YOUR CODE\n",
    "    lang_length = names_train['lang'].value_counts()\n",
    "    \n",
    "    fig, (ax1, ax2) = plt.subplots(1, 2, figsize=(12, 3))\n",
    "    lang_length.plot(kind='bar', ax=ax1)\n",
    "    ax1.set_title(\"Previous distribution\")\n",
    "    \n",
    "    if strategy == \"oversampling\":        \n",
    "        samples_per_class = lang_length[max(lang_length.keys(), key=lambda x: lang_length[x])]\n",
    "    elif strategy == \"undersampling\":        \n",
    "        samples_per_class = lang_length[min(lang_length.keys(), key=lambda x: lang_length[x])]\n",
    "    \n",
    "    dfs = []\n",
    "    for lang in lang_length.keys():\n",
    "        df = names[names.lang == lang].sample(samples_per_class, replace=True)\n",
    "        dfs.append(df)\n",
    "\n",
    "    names_sampled = pd.concat(dfs)\n",
    "        \n",
    "    lang_length = names_sampled['lang'].value_counts()\n",
    "    lang_length.plot(kind='bar', ax=ax2)\n",
    "    ax2.set_title(\"Post distribution\")\n",
    "    \n",
    "    ### END YOUR CODE    \n",
    "    return names_sampled\n"
   ]
  },
  {
   "cell_type": "code",
   "execution_count": 19,
   "metadata": {},
   "outputs": [
    {
     "data": {
      "text/plain": [
       "<AxesSubplot:>"
      ]
     },
     "execution_count": 19,
     "metadata": {},
     "output_type": "execute_result"
    },
    {
     "data": {
      "image/png": "[encoded data removed]",
      "text/plain": [
       "<Figure size 864x216 with 2 Axes>"
      ]
     },
     "metadata": {
      "needs_background": "light"
     },
     "output_type": "display_data"
    }
   ],
   "source": [
    "names_train, names_test = train_test_split(names, test_size=0.2)\n",
    "\n",
    "fig, (ax1, ax2) = plt.subplots(1, 2, figsize=(12, 3))\n",
    "names_train['lang'].value_counts().plot(kind='bar', ax=ax1)\n",
    "names_test['lang'].value_counts().plot(kind='bar', ax=ax2)"
   ]
  },
  {
   "cell_type": "code",
   "execution_count": 20,
   "metadata": {},
   "outputs": [
    {
     "data": {
      "image/png": "[encoded data removed]",
      "text/plain": [
       "<Figure size 864x216 with 2 Axes>"
      ]
     },
     "metadata": {
      "needs_background": "light"
     },
     "output_type": "display_data"
    }
   ],
   "source": [
    "names_train_sampled = handle_imbalance(names_train, languages, strategy=\"oversampling\")"
   ]
  },
  {
   "cell_type": "markdown",
   "metadata": {},
   "source": [
    "#### Train Model\n",
    "\n",
    "Again prepare train and test data (X_train, X_test, Y_train, Y_test)\n",
    "\n",
    "Train the same model as above with the new data."
   ]
  },
  {
   "cell_type": "code",
   "execution_count": 22,
   "metadata": {},
   "outputs": [
    {
     "name": "stdout",
     "output_type": "stream",
     "text": [
      "X.shape:  (14745, 18, 74)  y.shape:  (14745, 5)\n",
      "X.shape:  (1136, 18, 74)  y.shape:  (1136, 5)\n"
     ]
    }
   ],
   "source": [
    "def map_data(df):\n",
    "    X = df[\"name\"].map(lambda x: name_representation(x, maxlen))\n",
    "    y = df[\"lang\"].map(lambda x: lang_representation(x, language_to_index))\n",
    "\n",
    "    X = np.stack(X, axis=0)\n",
    "    y = np.stack(y, axis=0)\n",
    "    print(\"X.shape: \", X.shape, \" y.shape: \", y.shape)\n",
    "    \n",
    "    return X, y\n",
    "    \n",
    "X_train_2, y_train_2 = map_data(names_train_sampled)\n",
    "X_test_2, y_test_2 = map_data(names_test)"
   ]
  },
  {
   "cell_type": "code",
   "execution_count": 31,
   "metadata": {},
   "outputs": [
    {
     "name": "stdout",
     "output_type": "stream",
     "text": [
      "Model: \"functional_9\"\n",
      "_________________________________________________________________\n",
      "Layer (type)                 Output Shape              Param #   \n",
      "=================================================================\n",
      "input_5 (InputLayer)         [(None, None, 74)]        0         \n",
      "_________________________________________________________________\n",
      "simple_rnn_6 (SimpleRNN)     (None, 32)                3424      \n",
      "_________________________________________________________________\n",
      "dense_4 (Dense)              (None, 5)                 165       \n",
      "=================================================================\n",
      "Total params: 3,589\n",
      "Trainable params: 3,589\n",
      "Non-trainable params: 0\n",
      "_________________________________________________________________\n",
      "Epoch 1/20\n",
      "461/461 [==============================] - 2s 4ms/step - loss: 1.2956 - accuracy: 0.4528 - val_loss: 1.2232 - val_accuracy: 0.4296\n",
      "Epoch 2/20\n",
      "461/461 [==============================] - 8s 18ms/step - loss: 0.9580 - accuracy: 0.6224 - val_loss: 1.1507 - val_accuracy: 0.4947\n",
      "Epoch 3/20\n",
      "461/461 [==============================] - 1s 3ms/step - loss: 0.8169 - accuracy: 0.6830 - val_loss: 1.1029 - val_accuracy: 0.5194\n",
      "Epoch 4/20\n",
      "461/461 [==============================] - 1s 3ms/step - loss: 0.7064 - accuracy: 0.7295 - val_loss: 1.0925 - val_accuracy: 0.5537\n",
      "Epoch 5/20\n",
      "461/461 [==============================] - 1s 3ms/step - loss: 0.6105 - accuracy: 0.7738 - val_loss: 1.1458 - val_accuracy: 0.5458\n",
      "Epoch 6/20\n",
      "461/461 [==============================] - 1s 3ms/step - loss: 0.5283 - accuracy: 0.8071 - val_loss: 1.1213 - val_accuracy: 0.5695\n",
      "Epoch 7/20\n",
      "461/461 [==============================] - 1s 3ms/step - loss: 0.4776 - accuracy: 0.8303 - val_loss: 1.1753 - val_accuracy: 0.5792\n",
      "Epoch 8/20\n",
      "461/461 [==============================] - 1s 3ms/step - loss: 0.4326 - accuracy: 0.8464 - val_loss: 1.2239 - val_accuracy: 0.5898\n",
      "Epoch 9/20\n",
      "461/461 [==============================] - 8s 18ms/step - loss: 0.3966 - accuracy: 0.8649 - val_loss: 1.1817 - val_accuracy: 0.5924\n",
      "Epoch 10/20\n",
      "461/461 [==============================] - 1s 3ms/step - loss: 0.3676 - accuracy: 0.8774 - val_loss: 1.2412 - val_accuracy: 0.6012\n",
      "Epoch 11/20\n",
      "461/461 [==============================] - 1s 3ms/step - loss: 0.3334 - accuracy: 0.8888 - val_loss: 1.2207 - val_accuracy: 0.5819\n",
      "Epoch 12/20\n",
      "461/461 [==============================] - 1s 3ms/step - loss: 0.3209 - accuracy: 0.8919 - val_loss: 1.3562 - val_accuracy: 0.6039\n",
      "Epoch 13/20\n",
      "461/461 [==============================] - 2s 3ms/step - loss: 0.3032 - accuracy: 0.8982 - val_loss: 1.3256 - val_accuracy: 0.5819\n",
      "Epoch 14/20\n",
      "461/461 [==============================] - 1s 3ms/step - loss: 0.2902 - accuracy: 0.9034 - val_loss: 1.3083 - val_accuracy: 0.5995\n",
      "Epoch 15/20\n",
      "461/461 [==============================] - 8s 18ms/step - loss: 0.2718 - accuracy: 0.9101 - val_loss: 1.3849 - val_accuracy: 0.5810\n",
      "Epoch 16/20\n",
      "461/461 [==============================] - 1s 3ms/step - loss: 0.2694 - accuracy: 0.9101 - val_loss: 1.3020 - val_accuracy: 0.6109\n",
      "Epoch 17/20\n",
      "461/461 [==============================] - 1s 3ms/step - loss: 0.2623 - accuracy: 0.9133 - val_loss: 1.3979 - val_accuracy: 0.6180\n",
      "Epoch 18/20\n",
      "461/461 [==============================] - 1s 3ms/step - loss: 0.2351 - accuracy: 0.9236 - val_loss: 1.3827 - val_accuracy: 0.6109\n",
      "Epoch 19/20\n",
      "461/461 [==============================] - 1s 3ms/step - loss: 0.2379 - accuracy: 0.9215 - val_loss: 1.5299 - val_accuracy: 0.5915\n",
      "Epoch 20/20\n",
      "461/461 [==============================] - 1s 3ms/step - loss: 0.2346 - accuracy: 0.9232 - val_loss: 1.3862 - val_accuracy: 0.6320\n"
     ]
    }
   ],
   "source": [
    "### START YOUR CODE\n",
    "\n",
    "start_power = 5\n",
    "\n",
    "inp = Input(shape=(None, len_alphabet))\n",
    "\n",
    "x = SimpleRNN(units=2**start_power, activation='tanh', kernel_initializer='glorot_uniform', return_sequences=False)(inp)\n",
    "x = Dense(units=5, activation='softmax')(x)\n",
    "\n",
    "model = tf.keras.models.Model(inputs=inp, outputs=x)\n",
    "\n",
    "model.compile(loss=\"categorical_crossentropy\", optimizer=tf.keras.optimizers.Adam(0.001), metrics=\"accuracy\")\n",
    "model.summary()\n",
    "\n",
    "\n",
    "# train model\n",
    "\n",
    "batch_size=32\n",
    "nepochs = 20\n",
    "\n",
    "log = model.fit(X_train_2, y_train_2, batch_size=batch_size, \\\n",
    "                epochs=nepochs, validation_data=(X_test_2, y_test_2))\n",
    "\n",
    "### END YOUR CODE"
   ]
  },
  {
   "cell_type": "code",
   "execution_count": 32,
   "metadata": {
    "scrolled": false
   },
   "outputs": [
    {
     "name": "stdout",
     "output_type": "stream",
     "text": [
      "Train accuracy (end): 0.9232282042503357\n",
      "Train accuracy (max): 0.9235672950744629\n",
      "Test accuracy (end) : 0.6320422291755676\n",
      "Test accuracy (max) : 0.6320422291755676\n"
     ]
    },
    {
     "data": {
      "image/png": "[encoded data removed]",
      "text/plain": [
       "<Figure size 432x288 with 1 Axes>"
      ]
     },
     "metadata": {
      "needs_background": "light"
     },
     "output_type": "display_data"
    },
    {
     "data": {
      "image/png": "[encoded data removed]",
      "text/plain": [
       "<Figure size 432x288 with 1 Axes>"
      ]
     },
     "metadata": {
      "needs_background": "light"
     },
     "output_type": "display_data"
    }
   ],
   "source": [
    "performance_plots(model, X_test_2, y_test_2, log, nepochs)"
   ]
  },
  {
   "cell_type": "code",
   "execution_count": 33,
   "metadata": {},
   "outputs": [
    {
     "name": "stdout",
     "output_type": "stream",
     "text": [
      "              precision    recall  f1-score   support\n",
      "\n",
      "     English       0.84      0.70      0.76       719\n",
      "      French       0.18      0.25      0.21        68\n",
      "      German       0.35      0.53      0.43       147\n",
      "     Italian       0.68      0.64      0.66       160\n",
      "     Spanish       0.23      0.36      0.28        42\n",
      "\n",
      "    accuracy                           0.63      1136\n",
      "   macro avg       0.46      0.50      0.47      1136\n",
      "weighted avg       0.69      0.63      0.65      1136\n",
      "\n"
     ]
    },
    {
     "data": {
      "text/html": [
       "<div>\n",
       "<style scoped>\n",
       "    .dataframe tbody tr th:only-of-type {\n",
       "        vertical-align: middle;\n",
       "    }\n",
       "\n",
       "    .dataframe tbody tr th {\n",
       "        vertical-align: top;\n",
       "    }\n",
       "\n",
       "    .dataframe thead th {\n",
       "        text-align: right;\n",
       "    }\n",
       "</style>\n",
       "<table border=\"1\" class=\"dataframe\">\n",
       "  <thead>\n",
       "    <tr style=\"text-align: right;\">\n",
       "      <th></th>\n",
       "      <th>English</th>\n",
       "      <th>French</th>\n",
       "      <th>Italian</th>\n",
       "      <th>German</th>\n",
       "      <th>Spanish</th>\n",
       "    </tr>\n",
       "  </thead>\n",
       "  <tbody>\n",
       "    <tr>\n",
       "      <th>English</th>\n",
       "      <td>384</td>\n",
       "      <td>60</td>\n",
       "      <td>129</td>\n",
       "      <td>100</td>\n",
       "      <td>46</td>\n",
       "    </tr>\n",
       "    <tr>\n",
       "      <th>French</th>\n",
       "      <td>40</td>\n",
       "      <td>5</td>\n",
       "      <td>11</td>\n",
       "      <td>7</td>\n",
       "      <td>5</td>\n",
       "    </tr>\n",
       "    <tr>\n",
       "      <th>Italian</th>\n",
       "      <td>80</td>\n",
       "      <td>6</td>\n",
       "      <td>27</td>\n",
       "      <td>20</td>\n",
       "      <td>14</td>\n",
       "    </tr>\n",
       "    <tr>\n",
       "      <th>German</th>\n",
       "      <td>81</td>\n",
       "      <td>16</td>\n",
       "      <td>32</td>\n",
       "      <td>16</td>\n",
       "      <td>15</td>\n",
       "    </tr>\n",
       "    <tr>\n",
       "      <th>Spanish</th>\n",
       "      <td>17</td>\n",
       "      <td>6</td>\n",
       "      <td>10</td>\n",
       "      <td>6</td>\n",
       "      <td>3</td>\n",
       "    </tr>\n",
       "  </tbody>\n",
       "</table>\n",
       "</div>"
      ],
      "text/plain": [
       "         English  French  Italian  German  Spanish\n",
       "English      384      60      129     100       46\n",
       "French        40       5       11       7        5\n",
       "Italian       80       6       27      20       14\n",
       "German        81      16       32      16       15\n",
       "Spanish       17       6       10       6        3"
      ]
     },
     "execution_count": 33,
     "metadata": {},
     "output_type": "execute_result"
    }
   ],
   "source": [
    "print(classification_report(np.argmax(y_test_2, axis=-1), np.argmax(model(X_test_2), axis=-1),\n",
    "                            target_names=names['lang'].unique()))\n",
    "df, cm = confusion_matrix(model, X_test, y_test_2)\n",
    "df"
   ]
  },
  {
   "cell_type": "markdown",
   "metadata": {},
   "source": [
    "#### Findings\n",
    "\n",
    "It seems like using the oversampling strategy, we get a test accuracy decrease from `0.77` to `0.63`. When using undersampling the results are even worse. The macro averaged f1 score also decreases, but the classwise f1 score seems to improve in some cases (e.g. For Frensh from `0.11` to `0.21`). As the used model is very limited in terms of capacity, this perfomance decrease could also be due to some kind of underfitting."
   ]
  },
  {
   "cell_type": "markdown",
   "metadata": {},
   "source": [
    "#### In which situations is class imbalance treatment important and why?  \n",
    "\n",
    "If we have an optimization algorithm like gradient descent, it is important that we treat a class imbalance or at least are aware of it when evaluating the results. In gradient descent we continuously nudge the weights in the opposite direction of the gradient. Using stochastic gradient descent we only use a subset of the dataset to approximate this gradient. If we now have a skewed data distribution over the target classes, we get at lot of gradient signals pointing to a local minima where the model will be biased towards a specific class (`English`in this example)."
   ]
  },
  {
   "cell_type": "markdown",
   "metadata": {},
   "source": [
    "### Implement Model with several SimpleRNN Layers"
   ]
  },
  {
   "cell_type": "code",
   "execution_count": 34,
   "metadata": {},
   "outputs": [
    {
     "name": "stdout",
     "output_type": "stream",
     "text": [
      "Model: \"functional_11\"\n",
      "_________________________________________________________________\n",
      "Layer (type)                 Output Shape              Param #   \n",
      "=================================================================\n",
      "input_6 (InputLayer)         [(None, None, 74)]        0         \n",
      "_________________________________________________________________\n",
      "simple_rnn_7 (SimpleRNN)     (None, None, 64)          8896      \n",
      "_________________________________________________________________\n",
      "simple_rnn_8 (SimpleRNN)     (None, None, 128)         24704     \n",
      "_________________________________________________________________\n",
      "simple_rnn_9 (SimpleRNN)     (None, 256)               98560     \n",
      "_________________________________________________________________\n",
      "dense_5 (Dense)              (None, 5)                 1285      \n",
      "=================================================================\n",
      "Total params: 133,445\n",
      "Trainable params: 133,445\n",
      "Non-trainable params: 0\n",
      "_________________________________________________________________\n",
      "Epoch 1/20\n",
      "461/461 [==============================] - 15s 32ms/step - loss: 0.9245 - accuracy: 0.6342 - val_loss: 1.1471 - val_accuracy: 0.5845\n",
      "Epoch 2/20\n",
      "461/461 [==============================] - 8s 17ms/step - loss: 0.4185 - accuracy: 0.8491 - val_loss: 0.9119 - val_accuracy: 0.6901\n",
      "Epoch 3/20\n",
      "461/461 [==============================] - 14s 31ms/step - loss: 0.2644 - accuracy: 0.9105 - val_loss: 0.9213 - val_accuracy: 0.7447\n",
      "Epoch 4/20\n",
      "461/461 [==============================] - 15s 32ms/step - loss: 0.2120 - accuracy: 0.9303 - val_loss: 0.9942 - val_accuracy: 0.7025\n",
      "Epoch 5/20\n",
      "461/461 [==============================] - 14s 31ms/step - loss: 0.1905 - accuracy: 0.9364 - val_loss: 1.0747 - val_accuracy: 0.7254\n",
      "Epoch 6/20\n",
      "461/461 [==============================] - 14s 31ms/step - loss: 0.1673 - accuracy: 0.9445 - val_loss: 0.9613 - val_accuracy: 0.7474\n",
      "Epoch 7/20\n",
      "461/461 [==============================] - 8s 16ms/step - loss: 0.1734 - accuracy: 0.9419 - val_loss: 0.9973 - val_accuracy: 0.7386\n",
      "Epoch 8/20\n",
      "461/461 [==============================] - 14s 31ms/step - loss: 0.1626 - accuracy: 0.9449 - val_loss: 1.0319 - val_accuracy: 0.7306\n",
      "Epoch 9/20\n",
      "461/461 [==============================] - 16s 36ms/step - loss: 0.1488 - accuracy: 0.9502 - val_loss: 1.0634 - val_accuracy: 0.7227\n",
      "Epoch 10/20\n",
      "461/461 [==============================] - 17s 37ms/step - loss: 0.1318 - accuracy: 0.9563 - val_loss: 1.1125 - val_accuracy: 0.7368\n",
      "Epoch 11/20\n",
      "461/461 [==============================] - 15s 32ms/step - loss: 0.1563 - accuracy: 0.9452 - val_loss: 1.2155 - val_accuracy: 0.6937\n",
      "Epoch 12/20\n",
      "461/461 [==============================] - 15s 32ms/step - loss: 0.1421 - accuracy: 0.9516 - val_loss: 1.1753 - val_accuracy: 0.6981\n",
      "Epoch 13/20\n",
      "461/461 [==============================] - 19s 41ms/step - loss: 0.1397 - accuracy: 0.9507 - val_loss: 1.0950 - val_accuracy: 0.7298\n",
      "Epoch 14/20\n",
      "461/461 [==============================] - 14s 31ms/step - loss: 0.1635 - accuracy: 0.9428 - val_loss: 1.0945 - val_accuracy: 0.7245\n",
      "Epoch 15/20\n",
      "461/461 [==============================] - 14s 31ms/step - loss: 0.1341 - accuracy: 0.9527 - val_loss: 1.1053 - val_accuracy: 0.7245\n",
      "Epoch 16/20\n",
      "461/461 [==============================] - 14s 31ms/step - loss: 0.1572 - accuracy: 0.9441 - val_loss: 1.1092 - val_accuracy: 0.7306\n",
      "Epoch 17/20\n",
      "461/461 [==============================] - 9s 19ms/step - loss: 0.1273 - accuracy: 0.9552 - val_loss: 1.0914 - val_accuracy: 0.7386\n",
      "Epoch 18/20\n",
      "461/461 [==============================] - 13s 28ms/step - loss: 0.1242 - accuracy: 0.9578 - val_loss: 1.1035 - val_accuracy: 0.7262\n",
      "Epoch 19/20\n",
      "461/461 [==============================] - 14s 31ms/step - loss: 0.1752 - accuracy: 0.9391 - val_loss: 1.1472 - val_accuracy: 0.6884\n",
      "Epoch 20/20\n",
      "461/461 [==============================] - 14s 31ms/step - loss: 0.1636 - accuracy: 0.9425 - val_loss: 1.0490 - val_accuracy: 0.7509\n"
     ]
    }
   ],
   "source": [
    "### START YOUR CODE\n",
    "\n",
    "start_power = 6\n",
    "\n",
    "inp = Input(shape=(None, len_alphabet))\n",
    "\n",
    "x = SimpleRNN(units=2**start_power, activation='tanh', kernel_initializer='glorot_uniform', return_sequences=True)(inp)\n",
    "x = SimpleRNN(units=2**(start_power+1), activation='tanh', kernel_initializer='glorot_uniform', return_sequences=True)(x)\n",
    "x = SimpleRNN(units=2**(start_power+2), activation='tanh', kernel_initializer='glorot_uniform', return_sequences=False)(x)\n",
    "x = Dense(units=5, activation='softmax')(x)\n",
    "\n",
    "model = tf.keras.models.Model(inputs=inp, outputs=x)\n",
    "\n",
    "model.compile(loss=\"categorical_crossentropy\", optimizer=tf.keras.optimizers.Adam(0.001), metrics=\"accuracy\")\n",
    "model.summary()\n",
    "\n",
    "\n",
    "# train model\n",
    "\n",
    "batch_size=32\n",
    "nepochs = 20\n",
    "\n",
    "log = model.fit(X_train_2, y_train_2, batch_size=batch_size, \\\n",
    "                epochs=nepochs, validation_data=(X_test_2, y_test_2))\n",
    "\n",
    "### END YOUR CODE"
   ]
  },
  {
   "cell_type": "code",
   "execution_count": 35,
   "metadata": {},
   "outputs": [
    {
     "name": "stdout",
     "output_type": "stream",
     "text": [
      "Train accuracy (end): 0.942488968372345\n",
      "Train accuracy (max): 0.9578161835670471\n",
      "Test accuracy (end) : 0.7508803009986877\n",
      "Test accuracy (max) : 0.7508803009986877\n"
     ]
    },
    {
     "data": {
      "image/png": "[encoded data removed]",
      "text/plain": [
       "<Figure size 432x288 with 1 Axes>"
      ]
     },
     "metadata": {
      "needs_background": "light"
     },
     "output_type": "display_data"
    },
    {
     "data": {
      "image/png": "[encoded data removed]",
      "text/plain": [
       "<Figure size 432x288 with 1 Axes>"
      ]
     },
     "metadata": {
      "needs_background": "light"
     },
     "output_type": "display_data"
    }
   ],
   "source": [
    "performance_plots(model, X_test_2, y_test_2, log, nepochs)"
   ]
  },
  {
   "cell_type": "code",
   "execution_count": 36,
   "metadata": {},
   "outputs": [
    {
     "name": "stdout",
     "output_type": "stream",
     "text": [
      "              precision    recall  f1-score   support\n",
      "\n",
      "     English       0.86      0.85      0.85       719\n",
      "      French       0.30      0.26      0.28        68\n",
      "      German       0.56      0.61      0.58       147\n",
      "     Italian       0.80      0.74      0.77       160\n",
      "     Spanish       0.30      0.43      0.35        42\n",
      "\n",
      "    accuracy                           0.75      1136\n",
      "   macro avg       0.56      0.58      0.57      1136\n",
      "weighted avg       0.76      0.75      0.75      1136\n",
      "\n"
     ]
    },
    {
     "data": {
      "text/html": [
       "<div>\n",
       "<style scoped>\n",
       "    .dataframe tbody tr th:only-of-type {\n",
       "        vertical-align: middle;\n",
       "    }\n",
       "\n",
       "    .dataframe tbody tr th {\n",
       "        vertical-align: top;\n",
       "    }\n",
       "\n",
       "    .dataframe thead th {\n",
       "        text-align: right;\n",
       "    }\n",
       "</style>\n",
       "<table border=\"1\" class=\"dataframe\">\n",
       "  <thead>\n",
       "    <tr style=\"text-align: right;\">\n",
       "      <th></th>\n",
       "      <th>English</th>\n",
       "      <th>French</th>\n",
       "      <th>Italian</th>\n",
       "      <th>German</th>\n",
       "      <th>Spanish</th>\n",
       "    </tr>\n",
       "  </thead>\n",
       "  <tbody>\n",
       "    <tr>\n",
       "      <th>English</th>\n",
       "      <td>609</td>\n",
       "      <td>26</td>\n",
       "      <td>55</td>\n",
       "      <td>14</td>\n",
       "      <td>15</td>\n",
       "    </tr>\n",
       "    <tr>\n",
       "      <th>French</th>\n",
       "      <td>27</td>\n",
       "      <td>18</td>\n",
       "      <td>13</td>\n",
       "      <td>6</td>\n",
       "      <td>4</td>\n",
       "    </tr>\n",
       "    <tr>\n",
       "      <th>Italian</th>\n",
       "      <td>48</td>\n",
       "      <td>5</td>\n",
       "      <td>90</td>\n",
       "      <td>2</td>\n",
       "      <td>2</td>\n",
       "    </tr>\n",
       "    <tr>\n",
       "      <th>German</th>\n",
       "      <td>12</td>\n",
       "      <td>6</td>\n",
       "      <td>3</td>\n",
       "      <td>118</td>\n",
       "      <td>21</td>\n",
       "    </tr>\n",
       "    <tr>\n",
       "      <th>Spanish</th>\n",
       "      <td>10</td>\n",
       "      <td>5</td>\n",
       "      <td>1</td>\n",
       "      <td>8</td>\n",
       "      <td>18</td>\n",
       "    </tr>\n",
       "  </tbody>\n",
       "</table>\n",
       "</div>"
      ],
      "text/plain": [
       "         English  French  Italian  German  Spanish\n",
       "English      609      26       55      14       15\n",
       "French        27      18       13       6        4\n",
       "Italian       48       5       90       2        2\n",
       "German        12       6        3     118       21\n",
       "Spanish       10       5        1       8       18"
      ]
     },
     "execution_count": 36,
     "metadata": {},
     "output_type": "execute_result"
    }
   ],
   "source": [
    "print(classification_report(np.argmax(y_test_2, axis=-1), np.argmax(model(X_test_2), axis=-1),\n",
    "                            target_names=names['lang'].unique()))\n",
    "df, cm = confusion_matrix(model, X_test_2, y_test_2)\n",
    "df"
   ]
  },
  {
   "cell_type": "markdown",
   "metadata": {},
   "source": [
    "#### Findings\n",
    "\n",
    "Using a larger model with multiple layers and more units per layer enabled a better result on the oversampled dataset. This indicates that the previous metric decrase is due to an underfitting."
   ]
  }
 ],
 "metadata": {
  "kernelspec": {
   "display_name": "Python 3",
   "language": "python",
   "name": "python3"
  },
  "language_info": {
   "codemirror_mode": {
    "name": "ipython",
    "version": 3
   },
   "file_extension": ".py",
   "mimetype": "text/x-python",
   "name": "python",
   "nbconvert_exporter": "python",
   "pygments_lexer": "ipython3",
   "version": "3.8.5"
  }
 },
 "nbformat": 4,
 "nbformat_minor": 4
}
