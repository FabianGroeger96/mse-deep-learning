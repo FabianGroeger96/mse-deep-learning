{
 "cells": [
  {
   "cell_type": "code",
   "execution_count": 28,
   "metadata": {
    "scrolled": true
   },
   "outputs": [],
   "source": [
    "import glob\n",
    "import os\n",
    "import string\n",
    "\n",
    "import numpy as np\n",
    "import pandas as pd\n",
    "\n",
    "from matplotlib import pyplot as plt\n",
    "import matplotlib.ticker as ticker\n",
    "\n",
    "from sklearn.metrics import confusion_matrix\n",
    "from sklearn.model_selection import train_test_split"
   ]
  },
  {
   "cell_type": "markdown",
   "metadata": {},
   "source": [
    "### Load Data\n",
    "\n",
    "The names can be found in text files in a src directory, one file per language.\n",
    "\n",
    "In the following you can find some utilities to load the data into pandas data frames. \n",
    "\n",
    "We will restrict to some common European languages. \n",
    "\n",
    "With the given selection, we will identify all the occurring characters and initialize an alphabet.<br>\n",
    "For this alphabet, we will use a one-hot-encoding to map them into a vector space representation. \n",
    "\n",
    "Foresee a suitable character for the end of the word, e.g. 'END'."
   ]
  },
  {
   "cell_type": "code",
   "execution_count": 3,
   "metadata": {},
   "outputs": [],
   "source": [
    "srcdir = 'data/names'\n",
    "languages = [\"English\",\"French\",\"Italian\",\"German\",\"Spanish\"]"
   ]
  },
  {
   "cell_type": "code",
   "execution_count": 4,
   "metadata": {},
   "outputs": [],
   "source": [
    "# inspect the data directory\n",
    "def findFiles(path): \n",
    "    return glob.glob(path)"
   ]
  },
  {
   "cell_type": "code",
   "execution_count": 5,
   "metadata": {},
   "outputs": [
    {
     "name": "stdout",
     "output_type": "stream",
     "text": [
      "data/names/Portuguese.txt\n",
      "data/names/Chinese.txt\n",
      "data/names/Vietnamese.txt\n",
      "data/names/Scottish.txt\n",
      "data/names/French.txt\n",
      "data/names/Irish.txt\n",
      "data/names/English.txt\n",
      "data/names/German.txt\n",
      "data/names/Korean.txt\n",
      "data/names/Czech.txt\n",
      "data/names/Polish.txt\n",
      "data/names/Russian.txt\n",
      "data/names/Greek.txt\n",
      "data/names/Arabic.txt\n",
      "data/names/Dutch.txt\n",
      "data/names/Japanese.txt\n",
      "data/names/Spanish.txt\n",
      "data/names/Italian.txt\n"
     ]
    }
   ],
   "source": [
    "print('\\n'.join(findFiles(os.path.join(srcdir,'*.txt'))))"
   ]
  },
  {
   "cell_type": "code",
   "execution_count": 6,
   "metadata": {},
   "outputs": [],
   "source": [
    "# Read a file and split into lines\n",
    "def readLines(filename):\n",
    "    lines = open(filename, encoding='utf-8').read().strip().split('\\n')\n",
    "    return lines\n",
    "\n",
    "def load_data(srcdir, categories=None):\n",
    "    names_list = []\n",
    "    for filename in findFiles(os.path.join(srcdir,'*.txt')):\n",
    "        category = os.path.splitext(os.path.basename(filename))[0]\n",
    "        if not categories or category in categories: \n",
    "            names = readLines(filename)\n",
    "            names_list.extend([(name,category) for name in names])\n",
    "    df = pd.DataFrame(names_list)\n",
    "    df.columns = [\"name\",\"lang\"]\n",
    "    return df"
   ]
  },
  {
   "cell_type": "code",
   "execution_count": 7,
   "metadata": {},
   "outputs": [
    {
     "data": {
      "text/html": [
       "<div>\n",
       "<style scoped>\n",
       "    .dataframe tbody tr th:only-of-type {\n",
       "        vertical-align: middle;\n",
       "    }\n",
       "\n",
       "    .dataframe tbody tr th {\n",
       "        vertical-align: top;\n",
       "    }\n",
       "\n",
       "    .dataframe thead th {\n",
       "        text-align: right;\n",
       "    }\n",
       "</style>\n",
       "<table border=\"1\" class=\"dataframe\">\n",
       "  <thead>\n",
       "    <tr style=\"text-align: right;\">\n",
       "      <th></th>\n",
       "      <th>name</th>\n",
       "      <th>lang</th>\n",
       "    </tr>\n",
       "  </thead>\n",
       "  <tbody>\n",
       "    <tr>\n",
       "      <th>0</th>\n",
       "      <td>Abel</td>\n",
       "      <td>French</td>\n",
       "    </tr>\n",
       "    <tr>\n",
       "      <th>1</th>\n",
       "      <td>Abraham</td>\n",
       "      <td>French</td>\n",
       "    </tr>\n",
       "    <tr>\n",
       "      <th>2</th>\n",
       "      <td>Adam</td>\n",
       "      <td>French</td>\n",
       "    </tr>\n",
       "    <tr>\n",
       "      <th>3</th>\n",
       "      <td>Albert</td>\n",
       "      <td>French</td>\n",
       "    </tr>\n",
       "    <tr>\n",
       "      <th>4</th>\n",
       "      <td>Allard</td>\n",
       "      <td>French</td>\n",
       "    </tr>\n",
       "  </tbody>\n",
       "</table>\n",
       "</div>"
      ],
      "text/plain": [
       "      name    lang\n",
       "0     Abel  French\n",
       "1  Abraham  French\n",
       "2     Adam  French\n",
       "3   Albert  French\n",
       "4   Allard  French"
      ]
     },
     "execution_count": 7,
     "metadata": {},
     "output_type": "execute_result"
    }
   ],
   "source": [
    "names = load_data(srcdir,categories=languages)\n",
    "names.head()"
   ]
  },
  {
   "cell_type": "code",
   "execution_count": 8,
   "metadata": {},
   "outputs": [
    {
     "name": "stdout",
     "output_type": "stream",
     "text": [
      "Maximum name length:  18\n"
     ]
    }
   ],
   "source": [
    "maxlen = np.max([len(name) for name in names.name])\n",
    "print(\"Maximum name length: \", maxlen)"
   ]
  },
  {
   "cell_type": "code",
   "execution_count": 9,
   "metadata": {},
   "outputs": [
    {
     "name": "stdout",
     "output_type": "stream",
     "text": [
      "Size of alphabet:  74\n",
      "[' ', \"'\", 'A', 'B', 'C', 'D', 'E', 'F', 'G', 'H', 'I', 'J', 'K', 'L', 'M', 'N', 'O', 'P', 'Q', 'R', 'S', 'T', 'U', 'V', 'W', 'X', 'Y', 'Z', 'a', 'b', 'c', 'd', 'e', 'f', 'g', 'h', 'i', 'j', 'k', 'l', 'm', 'n', 'o', 'p', 'q', 'r', 's', 't', 'u', 'v', 'w', 'x', 'y', 'z', 'Á', 'É', 'ß', 'à', 'á', 'ä', 'ç', 'è', 'é', 'ê', 'ì', 'í', 'ñ', 'ò', 'ó', 'ö', 'ù', 'ú', 'ü', 'END']\n"
     ]
    }
   ],
   "source": [
    "alphabet = sorted(list(set(''.join([name for name in names.name]))))\n",
    "alphabet.append('END')\n",
    "len_alphabet = len(alphabet)\n",
    "char_index = dict((c, i) for i, c in enumerate(alphabet))\n",
    "print(\"Size of alphabet: \", len_alphabet)\n",
    "print(alphabet)"
   ]
  },
  {
   "cell_type": "code",
   "execution_count": 10,
   "metadata": {},
   "outputs": [
    {
     "data": {
      "text/plain": [
       "lang\n",
       "English    0.646230\n",
       "French     0.048802\n",
       "German     0.127555\n",
       "Italian    0.124912\n",
       "Spanish    0.052502\n",
       "Name: name, dtype: float64"
      ]
     },
     "execution_count": 10,
     "metadata": {},
     "output_type": "execute_result"
    }
   ],
   "source": [
    "names.groupby('lang')['name'].count()/len(names)"
   ]
  },
  {
   "cell_type": "markdown",
   "metadata": {},
   "source": [
    "### Vector Representations\n",
    "\n",
    "Now construct the vector representation by using one-hot-vectors. "
   ]
  },
  {
   "cell_type": "code",
   "execution_count": 11,
   "metadata": {},
   "outputs": [],
   "source": [
    "language_to_index = {country:index for index,country in enumerate(names.lang.unique())}\n",
    "index_to_language = {index:country for index,country in enumerate(names.lang.unique())}\n",
    "\n",
    "def onehot(i, length):\n",
    "    v = np.zeros(length);\n",
    "    v[i] = 1\n",
    "    return v\n",
    "\n",
    "def name_representation(name, maxlen):\n",
    "    ### START YOUR CODE\n",
    "    name_trunc = str(name)[0:maxlen]\n",
    "    size = len(char_index)\n",
    "    vector = [onehot(char_index[j], size) for j in str(name)]\n",
    "    # fill the rest with \n",
    "    for k in range(0,maxlen - len(str(name))):\n",
    "        vector.append(onehot(char_index['END'], size))\n",
    "    return vector\n",
    "    ### START YOUR CODE\n",
    "\n",
    "def lang_representation(language, language_to_index):\n",
    "    y = np.zeros(len(language_to_index))\n",
    "    y[language_to_index[language]]=1\n",
    "    return y\n",
    "\n",
    "def lang_from_output(score):\n",
    "    return index_to_language[np.argmax(score)]\n",
    "\n",
    "def predict(name, model):\n",
    "    score = model.predict(np.array([name_representation(name, maxlen)]))[0]\n",
    "    return lang_from_output(score)"
   ]
  },
  {
   "cell_type": "markdown",
   "metadata": {},
   "source": [
    "### Prepare train/test\n",
    "\n",
    "Split the data into train/test\n",
    "\n",
    "Shuffle the data\n",
    "\n",
    "Transform the names data into a suitable vector respresentation:\n",
    "* names into numpy arrays of shape (*,maxlen,len_alphabet)\n",
    "* language into numpy array of shape (*,len(languages))\n",
    "\n"
   ]
  },
  {
   "cell_type": "code",
   "execution_count": 30,
   "metadata": {},
   "outputs": [
    {
     "name": "stdout",
     "output_type": "stream",
     "text": [
      "Shapes, X: (5676, 18, 74), y: (5676, 5)\n"
     ]
    }
   ],
   "source": [
    "test_split = 0.2\n",
    "\n",
    "### START YOUR CODE\n",
    "# Shuffle and split names data\n",
    "# Map train and test data into vector space (one-hot-vectors)\n",
    "names['name_ohot'] = names['name'].apply(lambda x: name_representation(x, maxlen))\n",
    "names['lang_ohot'] = names['lang'].apply(lambda x: lang_representation(x, language_to_index))\n",
    "\n",
    "X = np.stack(names['name_ohot'], axis=0)\n",
    "y = np.stack(names['lang_ohot'], axis=0)\n",
    "\n",
    "print('Shapes, X: {0}, y: {1}'.format(X.shape, y.shape))\n",
    "\n",
    "X_train, X_test, Y_train, Y_test = train_test_split(X, y, test_size=test_split, shuffle=True, random_state=42)\n",
    "### END YOUR CODE"
   ]
  },
  {
   "cell_type": "markdown",
   "metadata": {},
   "source": [
    "### Utilities"
   ]
  },
  {
   "cell_type": "code",
   "execution_count": 32,
   "metadata": {},
   "outputs": [],
   "source": [
    "def performance_plots(model, X_test, Y_test, log, epochs):    \n",
    "    acc = log.history['accuracy']\n",
    "    val_acc = log.history['val_accuracy']\n",
    "    print('Train accuracy (end):', acc[-1])\n",
    "    print('Train accuracy (max):', np.max(acc))\n",
    "    print('Test accuracy (end) :', val_acc[-1])\n",
    "    print('Test accuracy (max) :', np.max(val_acc))\n",
    "\n",
    "    plt.plot(log.history['accuracy'])\n",
    "    plt.plot(log.history['val_accuracy'])\n",
    "    plt.title('model accuracy')\n",
    "    plt.ylabel('accuracy')\n",
    "    plt.xlabel('epoch')\n",
    "    plt.legend(['train','test'], loc='upper left')\n",
    "    plt.axis([0,epochs,0.0,1.0])\n",
    "    plt.show()\n",
    "\n",
    "    plt.plot(log.history['loss'])\n",
    "    plt.plot(log.history['val_loss'])\n",
    "    plt.title('model loss')\n",
    "    plt.ylabel('loss')\n",
    "    plt.xlabel('epoch')\n",
    "    plt.legend(['train','test'], loc = 'upper left')\n",
    "    plt.axis([0,epochs,0.0,2.0])\n",
    "    plt.show()"
   ]
  },
  {
   "cell_type": "code",
   "execution_count": 33,
   "metadata": {},
   "outputs": [],
   "source": [
    "import sklearn\n",
    "import pandas as pd\n",
    "\n",
    "def confusion_matrix(model, X_test, Y_test):\n",
    "    scores = model.predict(X_test)\n",
    "    predictions = np.argmax(scores, axis=1)\n",
    "    labels = np.argmax(Y_test, axis=1)\n",
    "    nsamples = Y_test.shape[0]\n",
    "    cm = sklearn.metrics.confusion_matrix(labels, predictions)\n",
    "    df = pd.DataFrame({languages[i] : cm[:,i] for i in range(len(languages))}, languages)\n",
    "    return df, cm"
   ]
  },
  {
   "cell_type": "markdown",
   "metadata": {},
   "source": [
    "### Define and Train Model: Single Layer with SimpleRNN\n",
    "\n",
    "Create an RNN consisting of a single layer with a SimpleRNN (keras) and a softmax.\n",
    "\n",
    "Then train the model. Play with different number of hidden units in the layer to obtain a good accuracy."
   ]
  },
  {
   "cell_type": "code",
   "execution_count": 65,
   "metadata": {
    "tags": []
   },
   "outputs": [
    {
     "name": "stdout",
     "output_type": "stream",
     "text": [
      "Model: \"sequential_11\"\n",
      "_________________________________________________________________\n",
      "Layer (type)                 Output Shape              Param #   \n",
      "=================================================================\n",
      "simple_rnn_11 (SimpleRNN)    (None, 200)               55000     \n",
      "_________________________________________________________________\n",
      "dense_10 (Dense)             (None, 5)                 1005      \n",
      "=================================================================\n",
      "Total params: 56,005\n",
      "Trainable params: 56,005\n",
      "Non-trainable params: 0\n",
      "_________________________________________________________________\n"
     ]
    }
   ],
   "source": [
    "### START YOUR CODE\n",
    "from tensorflow.keras.models import Sequential\n",
    "from tensorflow.keras.layers import SimpleRNN, Dense, Input\n",
    "from tensorflow.keras.optimizers import Adam\n",
    "\n",
    "n_classes = 5\n",
    "n_hidden_units = 200\n",
    "\n",
    "# SImpleRNN, single layer with tf.keras....\n",
    "\n",
    "model = Sequential()\n",
    "model.add(Input((maxlen, len_alphabet)))\n",
    "model.add(SimpleRNN(n_hidden_units))\n",
    "model.add(Dense(n_classes, activation='softmax'))\n",
    "\n",
    "model.compile(optimizer=Adam(learning_rate=0.0001), loss='categorical_crossentropy', metrics='accuracy')\n",
    "\n",
    "model.summary()\n",
    "\n",
    "### END YOUR CODE"
   ]
  },
  {
   "cell_type": "code",
   "execution_count": 66,
   "metadata": {
    "scrolled": true
   },
   "outputs": [
    {
     "name": "stdout",
     "output_type": "stream",
     "text": [
      "Epoch 1/20\n",
      "142/142 [==============================] - 1s 7ms/step - loss: 1.1912 - accuracy: 0.5832 - val_loss: 1.0621 - val_accuracy: 0.6364\n",
      "Epoch 2/20\n",
      "142/142 [==============================] - 1s 6ms/step - loss: 0.9678 - accuracy: 0.6679 - val_loss: 0.8959 - val_accuracy: 0.6761\n",
      "Epoch 3/20\n",
      "142/142 [==============================] - 1s 6ms/step - loss: 0.8235 - accuracy: 0.7067 - val_loss: 0.7973 - val_accuracy: 0.7104\n",
      "Epoch 4/20\n",
      "142/142 [==============================] - 1s 6ms/step - loss: 0.7535 - accuracy: 0.7264 - val_loss: 0.7582 - val_accuracy: 0.7289\n",
      "Epoch 5/20\n",
      "142/142 [==============================] - 1s 6ms/step - loss: 0.6837 - accuracy: 0.7572 - val_loss: 0.7379 - val_accuracy: 0.7465\n",
      "Epoch 6/20\n",
      "142/142 [==============================] - 1s 6ms/step - loss: 0.6898 - accuracy: 0.7499 - val_loss: 0.7489 - val_accuracy: 0.7324\n",
      "Epoch 7/20\n",
      "142/142 [==============================] - 1s 6ms/step - loss: 0.6579 - accuracy: 0.7694 - val_loss: 0.7137 - val_accuracy: 0.7377\n",
      "Epoch 8/20\n",
      "142/142 [==============================] - 1s 6ms/step - loss: 0.6282 - accuracy: 0.7699 - val_loss: 0.6974 - val_accuracy: 0.7526\n",
      "Epoch 9/20\n",
      "142/142 [==============================] - 1s 6ms/step - loss: 0.6155 - accuracy: 0.7854 - val_loss: 0.6775 - val_accuracy: 0.7614\n",
      "Epoch 10/20\n",
      "142/142 [==============================] - 1s 6ms/step - loss: 0.5999 - accuracy: 0.7878 - val_loss: 0.6725 - val_accuracy: 0.7518\n",
      "Epoch 11/20\n",
      "142/142 [==============================] - 1s 6ms/step - loss: 0.6103 - accuracy: 0.7835 - val_loss: 0.6841 - val_accuracy: 0.7518\n",
      "Epoch 12/20\n",
      "142/142 [==============================] - 1s 6ms/step - loss: 0.5799 - accuracy: 0.7964 - val_loss: 0.6788 - val_accuracy: 0.7562\n",
      "Epoch 13/20\n",
      "142/142 [==============================] - 1s 6ms/step - loss: 0.5768 - accuracy: 0.8000 - val_loss: 0.7131 - val_accuracy: 0.7403\n",
      "Epoch 14/20\n",
      "142/142 [==============================] - 1s 6ms/step - loss: 0.5893 - accuracy: 0.7946 - val_loss: 0.6527 - val_accuracy: 0.7632\n",
      "Epoch 15/20\n",
      "142/142 [==============================] - 1s 6ms/step - loss: 0.5632 - accuracy: 0.7981 - val_loss: 0.6465 - val_accuracy: 0.7632\n",
      "Epoch 16/20\n",
      "142/142 [==============================] - 1s 6ms/step - loss: 0.5509 - accuracy: 0.8096 - val_loss: 0.6379 - val_accuracy: 0.7676\n",
      "Epoch 17/20\n",
      "142/142 [==============================] - 1s 6ms/step - loss: 0.5504 - accuracy: 0.8034 - val_loss: 0.6375 - val_accuracy: 0.7694\n",
      "Epoch 18/20\n",
      "142/142 [==============================] - 1s 6ms/step - loss: 0.5449 - accuracy: 0.8074 - val_loss: 0.6545 - val_accuracy: 0.7597\n",
      "Epoch 19/20\n",
      "142/142 [==============================] - 1s 6ms/step - loss: 0.5208 - accuracy: 0.8160 - val_loss: 0.6539 - val_accuracy: 0.7641\n",
      "Epoch 20/20\n",
      "142/142 [==============================] - 1s 6ms/step - loss: 0.5114 - accuracy: 0.8245 - val_loss: 0.6542 - val_accuracy: 0.7588\n"
     ]
    }
   ],
   "source": [
    "### START YOUR CODE\n",
    "batch_size = 32\n",
    "nepochs = 20\n",
    "\n",
    "log = model.fit(X_train, Y_train, batch_size=batch_size, \\\n",
    "                epochs=nepochs, validation_data=(X_test, Y_test))\n",
    "\n",
    "### END YOUR CODE"
   ]
  },
  {
   "cell_type": "code",
   "execution_count": 67,
   "metadata": {},
   "outputs": [
    {
     "name": "stdout",
     "output_type": "stream",
     "text": [
      "Train accuracy (end): 0.8132158517837524\n",
      "Train accuracy (max): 0.8132158517837524\n",
      "Test accuracy (end) : 0.7588028311729431\n",
      "Test accuracy (max) : 0.7693662047386169\n"
     ]
    },
    {
     "data": {
      "image/png": "[encoded data removed]",
      "text/plain": [
       "<Figure size 432x288 with 1 Axes>"
      ]
     },
     "metadata": {
      "needs_background": "light"
     },
     "output_type": "display_data"
    },
    {
     "data": {
      "image/png": "[encoded data removed]",
      "text/plain": [
       "<Figure size 432x288 with 1 Axes>"
      ]
     },
     "metadata": {
      "needs_background": "light"
     },
     "output_type": "display_data"
    },
    {
     "data": {
      "text/html": [
       "<div>\n",
       "<style scoped>\n",
       "    .dataframe tbody tr th:only-of-type {\n",
       "        vertical-align: middle;\n",
       "    }\n",
       "\n",
       "    .dataframe tbody tr th {\n",
       "        vertical-align: top;\n",
       "    }\n",
       "\n",
       "    .dataframe thead th {\n",
       "        text-align: right;\n",
       "    }\n",
       "</style>\n",
       "<table border=\"1\" class=\"dataframe\">\n",
       "  <thead>\n",
       "    <tr style=\"text-align: right;\">\n",
       "      <th></th>\n",
       "      <th>English</th>\n",
       "      <th>French</th>\n",
       "      <th>Italian</th>\n",
       "      <th>German</th>\n",
       "      <th>Spanish</th>\n",
       "    </tr>\n",
       "  </thead>\n",
       "  <tbody>\n",
       "    <tr>\n",
       "      <th>English</th>\n",
       "      <td>0</td>\n",
       "      <td>59</td>\n",
       "      <td>2</td>\n",
       "      <td>0</td>\n",
       "      <td>5</td>\n",
       "    </tr>\n",
       "    <tr>\n",
       "      <th>French</th>\n",
       "      <td>0</td>\n",
       "      <td>700</td>\n",
       "      <td>13</td>\n",
       "      <td>1</td>\n",
       "      <td>5</td>\n",
       "    </tr>\n",
       "    <tr>\n",
       "      <th>Italian</th>\n",
       "      <td>4</td>\n",
       "      <td>85</td>\n",
       "      <td>57</td>\n",
       "      <td>0</td>\n",
       "      <td>1</td>\n",
       "    </tr>\n",
       "    <tr>\n",
       "      <th>German</th>\n",
       "      <td>3</td>\n",
       "      <td>31</td>\n",
       "      <td>4</td>\n",
       "      <td>15</td>\n",
       "      <td>12</td>\n",
       "    </tr>\n",
       "    <tr>\n",
       "      <th>Spanish</th>\n",
       "      <td>0</td>\n",
       "      <td>44</td>\n",
       "      <td>0</td>\n",
       "      <td>5</td>\n",
       "      <td>90</td>\n",
       "    </tr>\n",
       "  </tbody>\n",
       "</table>\n",
       "</div>"
      ],
      "text/plain": [
       "         English  French  Italian  German  Spanish\n",
       "English        0      59        2       0        5\n",
       "French         0     700       13       1        5\n",
       "Italian        4      85       57       0        1\n",
       "German         3      31        4      15       12\n",
       "Spanish        0      44        0       5       90"
      ]
     },
     "execution_count": 67,
     "metadata": {},
     "output_type": "execute_result"
    }
   ],
   "source": [
    "performance_plots(model, X_test, Y_test, log, nepochs)\n",
    "df, cm = confusion_matrix(model, X_test, Y_test)\n",
    "df"
   ]
  },
  {
   "cell_type": "markdown",
   "metadata": {},
   "source": [
    "### Handle Class Imbalance, Resampling\n",
    "\n",
    "We can observe a quite significant class imbalance in the data.<br>\n",
    "\n",
    "One way to compensate for that would be to use resampling."
   ]
  },
  {
   "cell_type": "code",
   "execution_count": 94,
   "metadata": {},
   "outputs": [],
   "source": [
    "def handle_imbalance(names, languages):\n",
    "\n",
    "    ### START YOUR CODE\n",
    "    l_count = names['lang'].value_counts()\n",
    "    min_count = max(l_count.tolist())\n",
    "    \n",
    "    df = []\n",
    "    for lang in languages:\n",
    "        df_lang = names[names['lang'] == lang].sample(min_count, replace=True)\n",
    "        df.append(df_lang)\n",
    "\n",
    "    # treat class imbalance\n",
    "    names_upsampled = pd.concat(df)\n",
    "\n",
    "    ### END YOUR CODE    \n",
    "    return names_upsampled"
   ]
  },
  {
   "cell_type": "code",
   "execution_count": 96,
   "metadata": {},
   "outputs": [
    {
     "name": "stdout",
     "output_type": "stream",
     "text": [
      "Spanish    3668\n",
      "German     3668\n",
      "English    3668\n",
      "Italian    3668\n",
      "French     3668\n",
      "Name: lang, dtype: int64\n"
     ]
    },
    {
     "data": {
      "text/plain": [
       "lang\n",
       "English    0.2\n",
       "French     0.2\n",
       "German     0.2\n",
       "Italian    0.2\n",
       "Spanish    0.2\n",
       "Name: name, dtype: float64"
      ]
     },
     "execution_count": 96,
     "metadata": {},
     "output_type": "execute_result"
    }
   ],
   "source": [
    "names_upsampled = handle_imbalance(names, languages)\n",
    "print(names_upsampled['lang'].value_counts())\n",
    "names_upsampled.groupby('lang')['name'].count()/len(names_upsampled)"
   ]
  },
  {
   "cell_type": "markdown",
   "metadata": {},
   "source": [
    "#### Train Model\n",
    "\n",
    "Again prepare train and test data (X_train, X_test, Y_train, Y_test)\n",
    "\n",
    "Train the same model as above with the new data."
   ]
  },
  {
   "cell_type": "code",
   "execution_count": 97,
   "metadata": {},
   "outputs": [
    {
     "name": "stdout",
     "output_type": "stream",
     "text": [
      "Shapes, X: (18340, 18, 74), y: (18340, 5)\n"
     ]
    }
   ],
   "source": [
    "### START YOUR CODE\n",
    "\n",
    "# Shuffle and split names data\n",
    "# Map train and test data into vector space (one-hot-vectors)\n",
    "names_upsampled['name_ohot'] = names_upsampled['name'].apply(lambda x: name_representation(x, maxlen))\n",
    "names_upsampled['lang_ohot'] = names_upsampled['lang'].apply(lambda x: lang_representation(x, language_to_index))\n",
    "\n",
    "X = np.stack(names_upsampled['name_ohot'], axis=0)\n",
    "y = np.stack(names_upsampled['lang_ohot'], axis=0)\n",
    "\n",
    "print('Shapes, X: {0}, y: {1}'.format(X.shape, y.shape))\n",
    "\n",
    "X_train, X_test, Y_train, Y_test = train_test_split(X, y, test_size=test_split, shuffle=True, random_state=42)\n",
    "\n",
    "### END YOUR CODE"
   ]
  },
  {
   "cell_type": "code",
   "execution_count": 98,
   "metadata": {},
   "outputs": [
    {
     "name": "stdout",
     "output_type": "stream",
     "text": [
      "Model: \"sequential_12\"\n",
      "_________________________________________________________________\n",
      "Layer (type)                 Output Shape              Param #   \n",
      "=================================================================\n",
      "simple_rnn_12 (SimpleRNN)    (None, 200)               55000     \n",
      "_________________________________________________________________\n",
      "dense_11 (Dense)             (None, 5)                 1005      \n",
      "=================================================================\n",
      "Total params: 56,005\n",
      "Trainable params: 56,005\n",
      "Non-trainable params: 0\n",
      "_________________________________________________________________\n"
     ]
    }
   ],
   "source": [
    "### START YOUR CODE\n",
    "\n",
    "# train model\n",
    "\n",
    "n_classes = 5\n",
    "n_hidden_units = 200\n",
    "\n",
    "model = Sequential()\n",
    "model.add(Input((maxlen, len_alphabet)))\n",
    "model.add(SimpleRNN(n_hidden_units))\n",
    "model.add(Dense(n_classes, activation='softmax'))\n",
    "\n",
    "model.compile(optimizer=Adam(learning_rate=0.0001), loss='categorical_crossentropy', metrics='accuracy')\n",
    "\n",
    "batch_size = 32\n",
    "nepochs = 20\n",
    "\n",
    "log = model.fit(X_train, Y_train, batch_size=batch_size, \\\n",
    "                epochs=nepochs, validation_data=(X_test, Y_test))\n",
    "\n",
    "### END YOUR CODE"
   ]
  },
  {
   "cell_type": "code",
   "execution_count": 100,
   "metadata": {},
   "outputs": [
    {
     "name": "stdout",
     "output_type": "stream",
     "text": [
      "Train accuracy (end): 0.944656491279602\n",
      "Train accuracy (max): 0.944656491279602\n",
      "Test accuracy (end) : 0.919847309589386\n",
      "Test accuracy (max) : 0.929934561252594\n"
     ]
    },
    {
     "data": {
      "image/png": "[encoded data removed]",
      "text/plain": [
       "<Figure size 432x288 with 1 Axes>"
      ]
     },
     "metadata": {
      "needs_background": "light"
     },
     "output_type": "display_data"
    },
    {
     "data": {
      "image/png": "[encoded data removed]",
      "text/plain": [
       "<Figure size 432x288 with 1 Axes>"
      ]
     },
     "metadata": {
      "needs_background": "light"
     },
     "output_type": "display_data"
    },
    {
     "data": {
      "text/html": [
       "<div>\n",
       "<style scoped>\n",
       "    .dataframe tbody tr th:only-of-type {\n",
       "        vertical-align: middle;\n",
       "    }\n",
       "\n",
       "    .dataframe tbody tr th {\n",
       "        vertical-align: top;\n",
       "    }\n",
       "\n",
       "    .dataframe thead th {\n",
       "        text-align: right;\n",
       "    }\n",
       "</style>\n",
       "<table border=\"1\" class=\"dataframe\">\n",
       "  <thead>\n",
       "    <tr style=\"text-align: right;\">\n",
       "      <th></th>\n",
       "      <th>English</th>\n",
       "      <th>French</th>\n",
       "      <th>Italian</th>\n",
       "      <th>German</th>\n",
       "      <th>Spanish</th>\n",
       "    </tr>\n",
       "  </thead>\n",
       "  <tbody>\n",
       "    <tr>\n",
       "      <th>English</th>\n",
       "      <td>708</td>\n",
       "      <td>1</td>\n",
       "      <td>15</td>\n",
       "      <td>0</td>\n",
       "      <td>3</td>\n",
       "    </tr>\n",
       "    <tr>\n",
       "      <th>French</th>\n",
       "      <td>39</td>\n",
       "      <td>601</td>\n",
       "      <td>63</td>\n",
       "      <td>11</td>\n",
       "      <td>13</td>\n",
       "    </tr>\n",
       "    <tr>\n",
       "      <th>Italian</th>\n",
       "      <td>20</td>\n",
       "      <td>28</td>\n",
       "      <td>680</td>\n",
       "      <td>3</td>\n",
       "      <td>1</td>\n",
       "    </tr>\n",
       "    <tr>\n",
       "      <th>German</th>\n",
       "      <td>22</td>\n",
       "      <td>11</td>\n",
       "      <td>3</td>\n",
       "      <td>691</td>\n",
       "      <td>23</td>\n",
       "    </tr>\n",
       "    <tr>\n",
       "      <th>Spanish</th>\n",
       "      <td>2</td>\n",
       "      <td>4</td>\n",
       "      <td>1</td>\n",
       "      <td>31</td>\n",
       "      <td>694</td>\n",
       "    </tr>\n",
       "  </tbody>\n",
       "</table>\n",
       "</div>"
      ],
      "text/plain": [
       "         English  French  Italian  German  Spanish\n",
       "English      708       1       15       0        3\n",
       "French        39     601       63      11       13\n",
       "Italian       20      28      680       3        1\n",
       "German        22      11        3     691       23\n",
       "Spanish        2       4        1      31      694"
      ]
     },
     "execution_count": 100,
     "metadata": {},
     "output_type": "execute_result"
    }
   ],
   "source": [
    "performance_plots(model, X_test, Y_test, log, nepochs)\n",
    "df, cm = confusion_matrix(model, X_test, Y_test)\n",
    "df"
   ]
  },
  {
   "cell_type": "markdown",
   "metadata": {},
   "source": [
    "#### Findings\n",
    "\n",
    "The model trained on the balanced dataset seems to have much healtier results than the one trained on the unbalanced one. The confusion matrix further shows that there is not one class that is predicted more than the other as it was the case in the unbalanced one. The accuracy on both the train and test set was able to be increased by more than 10%."
   ]
  },
  {
   "cell_type": "markdown",
   "metadata": {},
   "source": [
    "#### In which situations is class imbalance treatment important and why?  \n",
    "\n",
    "When wanting to evaluate the model using the Accuracy its important to treat it. Or also when using SGD we get high gradients pointing to a local optima biased towards the majority class."
   ]
  },
  {
   "cell_type": "markdown",
   "metadata": {},
   "source": [
    "### Implement Model with several SimpleRNN Layers"
   ]
  },
  {
   "cell_type": "code",
   "execution_count": 101,
   "metadata": {},
   "outputs": [
    {
     "name": "stdout",
     "output_type": "stream",
     "text": [
      "Model: \"sequential_13\"\n",
      "_________________________________________________________________\n",
      "Layer (type)                 Output Shape              Param #   \n",
      "=================================================================\n",
      "simple_rnn_13 (SimpleRNN)    (None, 18, 200)           55000     \n",
      "_________________________________________________________________\n",
      "simple_rnn_14 (SimpleRNN)    (None, 18, 200)           80200     \n",
      "_________________________________________________________________\n",
      "simple_rnn_15 (SimpleRNN)    (None, 200)               80200     \n",
      "_________________________________________________________________\n",
      "dense_12 (Dense)             (None, 5)                 1005      \n",
      "=================================================================\n",
      "Total params: 216,405\n",
      "Trainable params: 216,405\n",
      "Non-trainable params: 0\n",
      "_________________________________________________________________\n"
     ]
    }
   ],
   "source": [
    "### START YOUR CODE\n",
    "\n",
    "n_classes = 5\n",
    "n_hidden_units = 200\n",
    "\n",
    "model = Sequential()\n",
    "model.add(Input((maxlen, len_alphabet)))\n",
    "model.add(SimpleRNN(n_hidden_units, return_sequences=True))\n",
    "model.add(SimpleRNN(n_hidden_units, return_sequences=True))\n",
    "model.add(SimpleRNN(n_hidden_units, return_sequences=False))\n",
    "model.add(Dense(n_classes, activation='softmax'))\n",
    "\n",
    "model.compile(optimizer=Adam(learning_rate=0.0001), loss='categorical_crossentropy', metrics='accuracy')\n",
    "\n",
    "### END YOUR CODE\n",
    "\n",
    "model.summary()"
   ]
  },
  {
   "cell_type": "code",
   "execution_count": 102,
   "metadata": {
    "scrolled": true
   },
   "outputs": [
    {
     "name": "stdout",
     "output_type": "stream",
     "text": [
      "Epoch 1/20\n",
      "459/459 [==============================] - 8s 16ms/step - loss: 1.2470 - accuracy: 0.4870 - val_loss: 0.7289 - val_accuracy: 0.7326\n",
      "Epoch 2/20\n",
      "459/459 [==============================] - 7s 16ms/step - loss: 0.6581 - accuracy: 0.7689 - val_loss: 0.5386 - val_accuracy: 0.8206\n",
      "Epoch 3/20\n",
      "459/459 [==============================] - 7s 15ms/step - loss: 0.4866 - accuracy: 0.8414 - val_loss: 0.4033 - val_accuracy: 0.8689\n",
      "Epoch 4/20\n",
      "459/459 [==============================] - 7s 15ms/step - loss: 0.3622 - accuracy: 0.8841 - val_loss: 0.3297 - val_accuracy: 0.8942\n",
      "Epoch 5/20\n",
      "459/459 [==============================] - 7s 15ms/step - loss: 0.2674 - accuracy: 0.9169 - val_loss: 0.2731 - val_accuracy: 0.9179\n",
      "Epoch 6/20\n",
      "459/459 [==============================] - 7s 15ms/step - loss: 0.2210 - accuracy: 0.9347 - val_loss: 0.2422 - val_accuracy: 0.9218\n",
      "Epoch 7/20\n",
      "459/459 [==============================] - 7s 15ms/step - loss: 0.1795 - accuracy: 0.9451 - val_loss: 0.2076 - val_accuracy: 0.9357\n",
      "Epoch 8/20\n",
      "459/459 [==============================] - 7s 15ms/step - loss: 0.1525 - accuracy: 0.9546 - val_loss: 0.1791 - val_accuracy: 0.9444\n",
      "Epoch 9/20\n",
      "459/459 [==============================] - 7s 15ms/step - loss: 0.1402 - accuracy: 0.9556 - val_loss: 0.1604 - val_accuracy: 0.9498\n",
      "Epoch 10/20\n",
      "459/459 [==============================] - 7s 15ms/step - loss: 0.1264 - accuracy: 0.9590 - val_loss: 0.1543 - val_accuracy: 0.9504\n",
      "Epoch 11/20\n",
      "459/459 [==============================] - 7s 15ms/step - loss: 0.1215 - accuracy: 0.9604 - val_loss: 0.1499 - val_accuracy: 0.9490\n",
      "Epoch 12/20\n",
      "459/459 [==============================] - 7s 15ms/step - loss: 0.1199 - accuracy: 0.9580 - val_loss: 0.1509 - val_accuracy: 0.9528\n",
      "Epoch 13/20\n",
      "459/459 [==============================] - 7s 15ms/step - loss: 0.1112 - accuracy: 0.9640 - val_loss: 0.1452 - val_accuracy: 0.9517\n",
      "Epoch 14/20\n",
      "459/459 [==============================] - 7s 15ms/step - loss: 0.0980 - accuracy: 0.9648 - val_loss: 0.1638 - val_accuracy: 0.9397\n",
      "Epoch 15/20\n",
      "459/459 [==============================] - 7s 15ms/step - loss: 0.0964 - accuracy: 0.9648 - val_loss: 0.1577 - val_accuracy: 0.9482\n",
      "Epoch 16/20\n",
      "459/459 [==============================] - 7s 15ms/step - loss: 0.0986 - accuracy: 0.9655 - val_loss: 0.1453 - val_accuracy: 0.9515\n",
      "Epoch 17/20\n",
      "459/459 [==============================] - 7s 15ms/step - loss: 0.0985 - accuracy: 0.9636 - val_loss: 0.1491 - val_accuracy: 0.9460\n",
      "Epoch 18/20\n",
      "459/459 [==============================] - 7s 15ms/step - loss: 0.0875 - accuracy: 0.9674 - val_loss: 0.1579 - val_accuracy: 0.9449\n",
      "Epoch 19/20\n",
      "459/459 [==============================] - 7s 15ms/step - loss: 0.0916 - accuracy: 0.9650 - val_loss: 0.1315 - val_accuracy: 0.9561\n",
      "Epoch 20/20\n",
      "459/459 [==============================] - 7s 15ms/step - loss: 0.0851 - accuracy: 0.9685 - val_loss: 0.1375 - val_accuracy: 0.9507\n"
     ]
    }
   ],
   "source": [
    "### START YOUR CODE\n",
    "\n",
    "batch_size = 32\n",
    "nepochs = 20\n",
    "\n",
    "log = model.fit(X_train, Y_train, batch_size=batch_size, \\\n",
    "                epochs=nepochs, validation_data=(X_test, Y_test))\n",
    "\n",
    "### END YOUR CODE"
   ]
  },
  {
   "cell_type": "code",
   "execution_count": 103,
   "metadata": {},
   "outputs": [
    {
     "name": "stdout",
     "output_type": "stream",
     "text": [
      "Train accuracy (end): 0.9661940932273865\n",
      "Train accuracy (max): 0.9664667248725891\n",
      "Test accuracy (end) : 0.9506543278694153\n",
      "Test accuracy (max) : 0.9561068415641785\n"
     ]
    },
    {
     "data": {
      "image/png": "[encoded data removed]",
      "text/plain": [
       "<Figure size 432x288 with 1 Axes>"
      ]
     },
     "metadata": {
      "needs_background": "light"
     },
     "output_type": "display_data"
    },
    {
     "data": {
      "image/png": "[encoded data removed]",
      "text/plain": [
       "<Figure size 432x288 with 1 Axes>"
      ]
     },
     "metadata": {
      "needs_background": "light"
     },
     "output_type": "display_data"
    },
    {
     "data": {
      "text/html": [
       "<div>\n",
       "<style scoped>\n",
       "    .dataframe tbody tr th:only-of-type {\n",
       "        vertical-align: middle;\n",
       "    }\n",
       "\n",
       "    .dataframe tbody tr th {\n",
       "        vertical-align: top;\n",
       "    }\n",
       "\n",
       "    .dataframe thead th {\n",
       "        text-align: right;\n",
       "    }\n",
       "</style>\n",
       "<table border=\"1\" class=\"dataframe\">\n",
       "  <thead>\n",
       "    <tr style=\"text-align: right;\">\n",
       "      <th></th>\n",
       "      <th>English</th>\n",
       "      <th>French</th>\n",
       "      <th>Italian</th>\n",
       "      <th>German</th>\n",
       "      <th>Spanish</th>\n",
       "    </tr>\n",
       "  </thead>\n",
       "  <tbody>\n",
       "    <tr>\n",
       "      <th>English</th>\n",
       "      <td>680</td>\n",
       "      <td>10</td>\n",
       "      <td>17</td>\n",
       "      <td>20</td>\n",
       "      <td>0</td>\n",
       "    </tr>\n",
       "    <tr>\n",
       "      <th>French</th>\n",
       "      <td>17</td>\n",
       "      <td>669</td>\n",
       "      <td>26</td>\n",
       "      <td>7</td>\n",
       "      <td>8</td>\n",
       "    </tr>\n",
       "    <tr>\n",
       "      <th>Italian</th>\n",
       "      <td>10</td>\n",
       "      <td>11</td>\n",
       "      <td>704</td>\n",
       "      <td>7</td>\n",
       "      <td>0</td>\n",
       "    </tr>\n",
       "    <tr>\n",
       "      <th>German</th>\n",
       "      <td>0</td>\n",
       "      <td>0</td>\n",
       "      <td>0</td>\n",
       "      <td>720</td>\n",
       "      <td>30</td>\n",
       "    </tr>\n",
       "    <tr>\n",
       "      <th>Spanish</th>\n",
       "      <td>1</td>\n",
       "      <td>0</td>\n",
       "      <td>0</td>\n",
       "      <td>17</td>\n",
       "      <td>714</td>\n",
       "    </tr>\n",
       "  </tbody>\n",
       "</table>\n",
       "</div>"
      ],
      "text/plain": [
       "         English  French  Italian  German  Spanish\n",
       "English      680      10       17      20        0\n",
       "French        17     669       26       7        8\n",
       "Italian       10      11      704       7        0\n",
       "German         0       0        0     720       30\n",
       "Spanish        1       0        0      17      714"
      ]
     },
     "execution_count": 103,
     "metadata": {},
     "output_type": "execute_result"
    }
   ],
   "source": [
    "performance_plots(model, X_test, Y_test, log, nepochs)\n",
    "df, cm = confusion_matrix(model, X_test, Y_test)\n",
    "df"
   ]
  },
  {
   "cell_type": "markdown",
   "metadata": {},
   "source": [
    "#### Findings\n",
    "\n",
    "The accuracy and loss look healthy and the model seems to have converged. From the confusion matrix it can be observed that the model is indeed doing a better job at predicting the correct classes than above and the model is more sure that one class is the correct one. The accuracy of the model was able to be increased by another 5% on the test set. "
   ]
  }
 ],
 "metadata": {
  "kernelspec": {
   "display_name": "Python 3",
   "language": "python",
   "name": "python3"
  },
  "language_info": {
   "codemirror_mode": {
    "name": "ipython",
    "version": 3
   },
   "file_extension": ".py",
   "mimetype": "text/x-python",
   "name": "python",
   "nbconvert_exporter": "python",
   "pygments_lexer": "ipython3",
   "version": "3.8.6"
  }
 },
 "nbformat": 4,
 "nbformat_minor": 4
}
