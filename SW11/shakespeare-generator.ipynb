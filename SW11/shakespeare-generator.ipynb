{
 "cells": [
  {
   "cell_type": "code",
   "execution_count": 7,
   "metadata": {},
   "outputs": [],
   "source": [
    "import numpy as np\n",
    "import random\n",
    "import matplotlib.pyplot as plt\n",
    "import pandas as pd\n",
    "import tensorflow as tf\n",
    "\n",
    "keras = tf.keras"
   ]
  },
  {
   "cell_type": "code",
   "execution_count": 11,
   "metadata": {},
   "outputs": [
    {
     "name": "stderr",
     "output_type": "stream",
     "text": [
      "b'Skipping line 31: expected 1 fields, saw 2\\nSkipping line 74: expected 1 fields, saw 2\\n'\n"
     ]
    },
    {
     "data": {
      "text/html": [
       "<div>\n",
       "<style scoped>\n",
       "    .dataframe tbody tr th:only-of-type {\n",
       "        vertical-align: middle;\n",
       "    }\n",
       "\n",
       "    .dataframe tbody tr th {\n",
       "        vertical-align: top;\n",
       "    }\n",
       "\n",
       "    .dataframe thead th {\n",
       "        text-align: right;\n",
       "    }\n",
       "</style>\n",
       "<table border=\"1\" class=\"dataframe\">\n",
       "  <thead>\n",
       "    <tr style=\"text-align: right;\">\n",
       "      <th></th>\n",
       "      <th>names</th>\n",
       "    </tr>\n",
       "  </thead>\n",
       "  <tbody>\n",
       "    <tr>\n",
       "      <th>0</th>\n",
       "      <td>Hashplay Inc.</td>\n",
       "    </tr>\n",
       "    <tr>\n",
       "      <th>1</th>\n",
       "      <td>New Incentives</td>\n",
       "    </tr>\n",
       "    <tr>\n",
       "      <th>2</th>\n",
       "      <td>GrabJobs</td>\n",
       "    </tr>\n",
       "    <tr>\n",
       "      <th>3</th>\n",
       "      <td>MediBookr</td>\n",
       "    </tr>\n",
       "    <tr>\n",
       "      <th>4</th>\n",
       "      <td>MelissaWithLove.co</td>\n",
       "    </tr>\n",
       "    <tr>\n",
       "      <th>...</th>\n",
       "      <td>...</td>\n",
       "    </tr>\n",
       "    <tr>\n",
       "      <th>172479</th>\n",
       "      <td>ZyroFisher</td>\n",
       "    </tr>\n",
       "    <tr>\n",
       "      <th>172480</th>\n",
       "      <td>Zytex group</td>\n",
       "    </tr>\n",
       "    <tr>\n",
       "      <th>172481</th>\n",
       "      <td>Zytoservice</td>\n",
       "    </tr>\n",
       "    <tr>\n",
       "      <th>172482</th>\n",
       "      <td>Zywave</td>\n",
       "    </tr>\n",
       "    <tr>\n",
       "      <th>172483</th>\n",
       "      <td>zZounds Music</td>\n",
       "    </tr>\n",
       "  </tbody>\n",
       "</table>\n",
       "<p>172484 rows × 1 columns</p>\n",
       "</div>"
      ],
      "text/plain": [
       "                     names\n",
       "0            Hashplay Inc.\n",
       "1           New Incentives\n",
       "2                 GrabJobs\n",
       "3                MediBookr\n",
       "4       MelissaWithLove.co\n",
       "...                    ...\n",
       "172479          ZyroFisher\n",
       "172480         Zytex group\n",
       "172481         Zytoservice\n",
       "172482              Zywave\n",
       "172483       zZounds Music\n",
       "\n",
       "[172484 rows x 1 columns]"
      ]
     },
     "execution_count": 11,
     "metadata": {},
     "output_type": "execute_result"
    }
   ],
   "source": [
    "df_companies = pd.read_csv('companies.csv', error_bad_lines=False, header=None)\n",
    "df_companies.columns = ['names']\n",
    "df_companies"
   ]
  },
  {
   "cell_type": "code",
   "execution_count": 17,
   "metadata": {},
   "outputs": [
    {
     "name": "stdout",
     "output_type": "stream",
     "text": [
      "Loaded a corpus of 2560310 characters\n"
     ]
    }
   ],
   "source": [
    "corpus = ' '.join(df_companies['names'].tolist())\n",
    "corpus_length = len(corpus)\n",
    "print(\"Loaded a corpus of {0} characters\".format(corpus_length))"
   ]
  },
  {
   "cell_type": "code",
   "execution_count": 18,
   "metadata": {},
   "outputs": [
    {
     "name": "stdout",
     "output_type": "stream",
     "text": [
      "Our corpus contains 149 unique characters.\n"
     ]
    }
   ],
   "source": [
    "# Get a unique identifier for each char in the corpus, \n",
    "# then make some dicts to ease encoding and decoding\n",
    "chars = sorted(list(set(corpus)))\n",
    "num_chars = len(chars)\n",
    "encoding = {c: i for i, c in enumerate(chars)}\n",
    "decoding = {i: c for i, c in enumerate(chars)}\n",
    "print(\"Our corpus contains {0} unique characters.\".format(num_chars))"
   ]
  },
  {
   "cell_type": "code",
   "execution_count": 19,
   "metadata": {},
   "outputs": [
    {
     "name": "stdout",
     "output_type": "stream",
     "text": [
      "{' ': 0, '!': 1, '\"': 2, '#': 3, '$': 4, '%': 5, '&': 6, \"'\": 7, '(': 8, ')': 9, '*': 10, '+': 11, ',': 12, '-': 13, '.': 14, '/': 15, '0': 16, '1': 17, '2': 18, '3': 19, '4': 20, '5': 21, '6': 22, '7': 23, '8': 24, '9': 25, ':': 26, '=': 27, '>': 28, '?': 29, '@': 30, 'A': 31, 'B': 32, 'C': 33, 'D': 34, 'E': 35, 'F': 36, 'G': 37, 'H': 38, 'I': 39, 'J': 40, 'K': 41, 'L': 42, 'M': 43, 'N': 44, 'O': 45, 'P': 46, 'Q': 47, 'R': 48, 'S': 49, 'T': 50, 'U': 51, 'V': 52, 'W': 53, 'X': 54, 'Y': 55, 'Z': 56, '[': 57, '\\\\': 58, ']': 59, '^': 60, '_': 61, 'a': 62, 'b': 63, 'c': 64, 'd': 65, 'e': 66, 'f': 67, 'g': 68, 'h': 69, 'i': 70, 'j': 71, 'k': 72, 'l': 73, 'm': 74, 'n': 75, 'o': 76, 'p': 77, 'q': 78, 'r': 79, 's': 80, 't': 81, 'u': 82, 'v': 83, 'w': 84, 'x': 85, 'y': 86, 'z': 87, '{': 88, '|': 89, '}': 90, '~': 91, '\\x81': 92, '\\x82': 93, '\\x83': 94, '\\x84': 95, '\\x85': 96, '\\x86': 97, '\\x87': 98, '\\x88': 99, '\\x89': 100, '\\x8a': 101, '\\x8b': 102, '\\x8c': 103, '\\x8d': 104, '\\x8e': 105, '\\x8f': 106, '\\x90': 107, '\\x91': 108, '\\x92': 109, '\\x93': 110, '\\x94': 111, '\\x95': 112, '\\x96': 113, '\\x97': 114, '\\x98': 115, '\\x99': 116, '\\x9a': 117, '\\x9b': 118, '\\x9c': 119, '\\x9f': 120, '¡': 121, '¥': 122, '§': 123, '¨': 124, '©': 125, 'ª': 126, '«': 127, '¯': 128, 'µ': 129, '¾': 130, '¿': 131, 'Ê': 132, 'Ë': 133, 'Ì': 134, 'Ï': 135, 'Ð': 136, 'Ñ': 137, 'Ô': 138, 'Õ': 139, 'ç': 140, 'è': 141, 'ê': 142, 'ì': 143, 'î': 144, 'ï': 145, 'ò': 146, 'õ': 147, 'û': 148}\n",
      "{0: ' ', 1: '!', 2: '\"', 3: '#', 4: '$', 5: '%', 6: '&', 7: \"'\", 8: '(', 9: ')', 10: '*', 11: '+', 12: ',', 13: '-', 14: '.', 15: '/', 16: '0', 17: '1', 18: '2', 19: '3', 20: '4', 21: '5', 22: '6', 23: '7', 24: '8', 25: '9', 26: ':', 27: '=', 28: '>', 29: '?', 30: '@', 31: 'A', 32: 'B', 33: 'C', 34: 'D', 35: 'E', 36: 'F', 37: 'G', 38: 'H', 39: 'I', 40: 'J', 41: 'K', 42: 'L', 43: 'M', 44: 'N', 45: 'O', 46: 'P', 47: 'Q', 48: 'R', 49: 'S', 50: 'T', 51: 'U', 52: 'V', 53: 'W', 54: 'X', 55: 'Y', 56: 'Z', 57: '[', 58: '\\\\', 59: ']', 60: '^', 61: '_', 62: 'a', 63: 'b', 64: 'c', 65: 'd', 66: 'e', 67: 'f', 68: 'g', 69: 'h', 70: 'i', 71: 'j', 72: 'k', 73: 'l', 74: 'm', 75: 'n', 76: 'o', 77: 'p', 78: 'q', 79: 'r', 80: 's', 81: 't', 82: 'u', 83: 'v', 84: 'w', 85: 'x', 86: 'y', 87: 'z', 88: '{', 89: '|', 90: '}', 91: '~', 92: '\\x81', 93: '\\x82', 94: '\\x83', 95: '\\x84', 96: '\\x85', 97: '\\x86', 98: '\\x87', 99: '\\x88', 100: '\\x89', 101: '\\x8a', 102: '\\x8b', 103: '\\x8c', 104: '\\x8d', 105: '\\x8e', 106: '\\x8f', 107: '\\x90', 108: '\\x91', 109: '\\x92', 110: '\\x93', 111: '\\x94', 112: '\\x95', 113: '\\x96', 114: '\\x97', 115: '\\x98', 116: '\\x99', 117: '\\x9a', 118: '\\x9b', 119: '\\x9c', 120: '\\x9f', 121: '¡', 122: '¥', 123: '§', 124: '¨', 125: '©', 126: 'ª', 127: '«', 128: '¯', 129: 'µ', 130: '¾', 131: '¿', 132: 'Ê', 133: 'Ë', 134: 'Ì', 135: 'Ï', 136: 'Ð', 137: 'Ñ', 138: 'Ô', 139: 'Õ', 140: 'ç', 141: 'è', 142: 'ê', 143: 'ì', 144: 'î', 145: 'ï', 146: 'ò', 147: 'õ', 148: 'û'}\n"
     ]
    }
   ],
   "source": [
    "print(encoding)\n",
    "print(decoding)"
   ]
  },
  {
   "cell_type": "markdown",
   "metadata": {},
   "source": [
    "## One to many approach"
   ]
  },
  {
   "cell_type": "code",
   "execution_count": 21,
   "metadata": {},
   "outputs": [
    {
     "name": "stdout",
     "output_type": "stream",
     "text": [
      "Sliced our corpus into 853434 sentences of length 10\n"
     ]
    }
   ],
   "source": [
    "# chop up our data into X and y, slice into roughly \n",
    "# (num_chars / skip) overlapping 'sentences' of length \n",
    "# sentence_length, and encode the chars\n",
    "sentence_length = 10\n",
    "skip = 3\n",
    "X_data = []\n",
    "y_data = []\n",
    "for i in range (0, len(corpus) - sentence_length, skip):\n",
    "    sentence = corpus[i:i + sentence_length]\n",
    "    next_char = corpus[i + sentence_length]\n",
    "    X_data.append([encoding[char] for char in sentence])\n",
    "    y_data.append(encoding[next_char])\n",
    "\n",
    "num_sentences = len(X_data)\n",
    "print(\"Sliced our corpus into {0} sentences of length {1}\"\n",
    "      .format(num_sentences, sentence_length))"
   ]
  },
  {
   "cell_type": "code",
   "execution_count": 22,
   "metadata": {},
   "outputs": [
    {
     "name": "stdout",
     "output_type": "stream",
     "text": [
      "[38, 62, 80, 69, 77, 73, 62, 86, 0, 39]\n",
      "['H', 'a', 's', 'h', 'p', 'l', 'a', 'y', ' ', 'I']\n",
      "n\n"
     ]
    }
   ],
   "source": [
    "print(X_data[0])\n",
    "print([decoding[idx] for idx in X_data[0]])\n",
    "print(decoding[y_data[0]])"
   ]
  },
  {
   "cell_type": "code",
   "execution_count": 23,
   "metadata": {},
   "outputs": [
    {
     "name": "stdout",
     "output_type": "stream",
     "text": [
      "Sanity check y. Dimension: (853434, 149) # Sentences: 853434 Characters in corpus: 149\n",
      "Sanity check X. Dimension: (853434, 10, 149) Sentence length: 10\n"
     ]
    }
   ],
   "source": [
    "# Vectorize our data and labels. We want everything in one-hot.\n",
    "X = np.zeros((num_sentences, sentence_length, num_chars), dtype=np.bool)\n",
    "y = np.zeros((num_sentences, num_chars), dtype=np.bool)\n",
    "for i, sentence in enumerate(X_data):\n",
    "    for t, encoded_char in enumerate(sentence):\n",
    "        X[i, t, encoded_char] = 1\n",
    "    y[i, y_data[i]] = 1\n",
    "\n",
    "# Double check our vectorized data before we sink hours into fitting a model\n",
    "print(\"Sanity check y. Dimension: {0} # Sentences: {1} Characters in corpus: {2}\"\n",
    "      .format(y.shape, num_sentences, len(chars)))\n",
    "print(\"Sanity check X. Dimension: {0} Sentence length: {1}\"\n",
    "      .format(X.shape, sentence_length))"
   ]
  },
  {
   "cell_type": "code",
   "execution_count": 24,
   "metadata": {},
   "outputs": [
    {
     "name": "stdout",
     "output_type": "stream",
     "text": [
      "Model: \"sequential\"\n",
      "_________________________________________________________________\n",
      "Layer (type)                 Output Shape              Param #   \n",
      "=================================================================\n",
      "simple_rnn (SimpleRNN)       (None, 64)                13696     \n",
      "_________________________________________________________________\n",
      "dense (Dense)                (None, 149)               9685      \n",
      "_________________________________________________________________\n",
      "activation (Activation)      (None, 149)               0         \n",
      "=================================================================\n",
      "Total params: 23,381\n",
      "Trainable params: 23,381\n",
      "Non-trainable params: 0\n",
      "_________________________________________________________________\n"
     ]
    }
   ],
   "source": [
    "# Define our model\n",
    "model = keras.models.Sequential()\n",
    "model.add(keras.layers.SimpleRNN(64, input_shape=(sentence_length, num_chars), \n",
    "                    return_sequences=False))\n",
    "model.add(keras.layers.Dense(num_chars))\n",
    "model.add(keras.layers.Activation('softmax'))\n",
    "model.compile(loss='categorical_crossentropy', optimizer='adam', \n",
    "              metrics=['accuracy'])\n",
    "model.summary()"
   ]
  },
  {
   "cell_type": "code",
   "execution_count": 25,
   "metadata": {},
   "outputs": [
    {
     "name": "stdout",
     "output_type": "stream",
     "text": [
      "Epoch 1/10\n",
      "6668/6668 [==============================] - 22s 3ms/step - loss: 2.8343 - accuracy: 0.2435\n",
      "Epoch 2/10\n",
      "6668/6668 [==============================] - 22s 3ms/step - loss: 2.3033 - accuracy: 0.3632\n",
      "Epoch 3/10\n",
      "6668/6668 [==============================] - 22s 3ms/step - loss: 2.2142 - accuracy: 0.3893\n",
      "Epoch 4/10\n",
      "6668/6668 [==============================] - 22s 3ms/step - loss: 2.1673 - accuracy: 0.4035\n",
      "Epoch 5/10\n",
      "6668/6668 [==============================] - 22s 3ms/step - loss: 2.1329 - accuracy: 0.4115\n",
      "Epoch 6/10\n",
      "6668/6668 [==============================] - 22s 3ms/step - loss: 2.1132 - accuracy: 0.4174\n",
      "Epoch 7/10\n",
      "6668/6668 [==============================] - 22s 3ms/step - loss: 2.0956 - accuracy: 0.4226\n",
      "Epoch 8/10\n",
      "6668/6668 [==============================] - 22s 3ms/step - loss: 2.0838 - accuracy: 0.4263\n",
      "Epoch 9/10\n",
      "6668/6668 [==============================] - 23s 3ms/step - loss: 2.0743 - accuracy: 0.4289\n",
      "Epoch 10/10\n",
      "6668/6668 [==============================] - 22s 3ms/step - loss: 2.0673 - accuracy: 0.4314\n"
     ]
    },
    {
     "data": {
      "image/png": "[encoded data removed]",
      "text/plain": [
       "<Figure size 432x288 with 1 Axes>"
      ]
     },
     "metadata": {
      "needs_background": "light"
     },
     "output_type": "display_data"
    }
   ],
   "source": [
    "#training time\n",
    "log = model.fit(X, y, epochs=10, batch_size=128)\n",
    "plt.plot(log.history['loss'], label='Training')\n",
    "plt.legend()\n",
    "plt.grid()"
   ]
  },
  {
   "cell_type": "code",
   "execution_count": 35,
   "metadata": {},
   "outputs": [
    {
     "name": "stdout",
     "output_type": "stream",
     "text": [
      "seed = Cooperatio\n",
      "\n",
      "Cooperation 12 22 Ockusinn TechMedical Inc. Notrica Oppomerych Maco Corpue Phanman Surteges Camsonix Newse Vin\n"
     ]
    }
   ],
   "source": [
    "def make_seed(seed_phrase=\"\"):\n",
    "    if seed_phrase:  # make sure the seed has the right length\n",
    "        phrase_length = len(seed_phrase)\n",
    "        pattern = \"\"\n",
    "        for i in range (0, sentence_length):\n",
    "            pattern += seed_phrase[i % phrase_length]\n",
    "    else:            # sample randomly the seed from corpus\n",
    "        seed = random.randint(0, corpus_length - sentence_length)\n",
    "        pattern = corpus[seed:seed + sentence_length]\n",
    "        \n",
    "    return pattern\n",
    "\n",
    "seed_pattern = make_seed(\"Cooperation \")\n",
    "print(\"seed = \" + seed_pattern)\n",
    "\n",
    "X = np.zeros((1, sentence_length, num_chars), dtype=np.float)\n",
    "for i, character in enumerate(seed_pattern):\n",
    "    X[0, i, encoding[character]] = 1\n",
    "\n",
    "print()\n",
    "generated_text = seed_pattern\n",
    "for i in range(100):\n",
    "    output_prob = model.predict(X, verbose=0)[0]\n",
    "    # in previous line predict() gives a tensor of shape (1, 65) \n",
    "    # with 1 being the size of the batch, for that we use [0] to get a vector\n",
    "    prediction = np.random.choice(num_chars, p = output_prob )\n",
    "    generated_text += decoding[prediction]\n",
    "    activations = np.zeros((1, 1, num_chars), dtype=np.bool)\n",
    "    activations[0, 0, prediction] = 1\n",
    "    #now remove first char and glue the predicted one\n",
    "    X = np.concatenate((X[:, 1:, :], activations), axis=1)\n",
    "print(generated_text)"
   ]
  }
 ],
 "metadata": {
  "kernelspec": {
   "display_name": "Python 3",
   "language": "python",
   "name": "python3"
  },
  "language_info": {
   "codemirror_mode": {
    "name": "ipython",
    "version": 3
   },
   "file_extension": ".py",
   "mimetype": "text/x-python",
   "name": "python",
   "nbconvert_exporter": "python",
   "pygments_lexer": "ipython3",
   "version": "3.8.6"
  }
 },
 "nbformat": 4,
 "nbformat_minor": 2
}
