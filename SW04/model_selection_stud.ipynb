{
 "cells": [
  {
   "cell_type": "markdown",
   "metadata": {},
   "source": [
    "# MNIST with sklearn\n",
    "\n",
    "The goal of this exercise is to \n",
    "* explore some of the sklearn functionality for training a MLP classifier (see https://scikit-learn.org/stable/modules/generated/sklearn.neural_network.MLPClassifier.html#sklearn.neural_network.MLPClassifier)  \n",
    "* by using cross validation \n",
    "* learn how to compute the confusion matrix and its derived quantities and how to interpret them\n",
    "* explore the test error as a function of the complexity (number of units, number of layers)\n",
    "* explore the impact of L2 regularisation\n",
    "\n",
    "__IMPORTANT REMARK__: We here follow the convention of sklearn to enumerate the samples with the first index. "
   ]
  },
  {
   "cell_type": "code",
   "execution_count": 2,
   "metadata": {},
   "outputs": [],
   "source": [
    "import numpy as np\n",
    "import matplotlib\n",
    "import matplotlib.pyplot as plt\n",
    "from sklearn.datasets import fetch_openml\n",
    "from sklearn.model_selection import train_test_split"
   ]
  },
  {
   "cell_type": "markdown",
   "metadata": {},
   "source": [
    "## Load and prepare the data "
   ]
  },
  {
   "cell_type": "code",
   "execution_count": 3,
   "metadata": {},
   "outputs": [],
   "source": [
    "datadir = '/Users/Apple/Documents/Deep Learning/Data'"
   ]
  },
  {
   "cell_type": "code",
   "execution_count": 4,
   "metadata": {},
   "outputs": [],
   "source": [
    "def normalize(x_train,x_test):\n",
    "    \"\"\"\n",
    "    Normalizes the pixels values of the images - mean and stdev are computed from the training set.\n",
    "    \n",
    "    Parameters:\n",
    "    x_train -- Array of training samples of shape (n,m1) where n,m1 are the number of features and samples, respectively.  \n",
    "    x_test -- Array of test samples of shape (n,m2) where n,m2 are the number of features and samples, respectively. \n",
    "    \n",
    "    Returns:\n",
    "    The arrays with the normalized train and test samples.  \n",
    "    \"\"\"\n",
    "    mean = np.mean(x_train)\n",
    "    std = np.std(x_train)\n",
    "    x_train -= mean\n",
    "    x_test -= mean\n",
    "    x_train /= std\n",
    "    x_test /= std\n",
    "    return x_train, x_test"
   ]
  },
  {
   "cell_type": "code",
   "execution_count": 5,
   "metadata": {},
   "outputs": [],
   "source": [
    "# in case you have trouble with the fetch_openml, use this code\n",
    "import ssl\n",
    "ssl._create_default_https_context = ssl._create_unverified_context"
   ]
  },
  {
   "cell_type": "code",
   "execution_count": 6,
   "metadata": {},
   "outputs": [],
   "source": [
    "x,y = fetch_openml('mnist_784', data_home=datadir, return_X_y=True)\n",
    "x_train0, x_test0, y_train, y_test = train_test_split(x, y, test_size=10000, random_state=1)\n",
    "x_train, x_test = normalize(x_train0, x_test0)"
   ]
  },
  {
   "cell_type": "markdown",
   "metadata": {},
   "source": [
    "## Specify Model Family and learn how to compute the metrics\n",
    "\n",
    "#### Model\n",
    "Use the functionality of scikit learn to configure a MLP and its training procedure with\n",
    "* hidden layers: 0-2 layers with suitable number of units per layer\n",
    "* mini-batch gradient descent with given batch_size (no advanced optimisers)\n",
    "* constant learning rate (no learning rate schedules)\n",
    "* number of epochs\n",
    "* no regularisation such as L2 penalty or early stopping\n",
    "\n",
    "#### Metrics\n",
    "Compute the train and test error resp. accuracy as well as the class precision, recall, f1-score.\n",
    "\n",
    "__See__:\n",
    "* https://scikit-learn.org/stable/modules/generated/sklearn.neural_network.MLPClassifier.html#sklearn.neural_network.MLPClassifier\n",
    "* https://scikit-learn.org/stable/modules/classes.html#module-sklearn.metrics"
   ]
  },
  {
   "cell_type": "markdown",
   "metadata": {},
   "source": [
    "## First Training Run\n",
    "\n",
    "Run the training and plot the training loss with a first set of values:\n",
    "* no hidden layers\n",
    "* mini-batchsize: 64\n",
    "* learning rate: 0.1\n",
    "* 100 epochs\n",
    "\n",
    "Compute the Metrics.\n",
    "Which digits are hard to predict?  "
   ]
  },
  {
   "cell_type": "markdown",
   "metadata": {},
   "source": [
    "#### MODEL"
   ]
  },
  {
   "cell_type": "code",
   "execution_count": 7,
   "metadata": {},
   "outputs": [
    {
     "name": "stdout",
     "output_type": "stream",
     "text": [
      "0.9289833333333334\n"
     ]
    },
    {
     "data": {
      "text/plain": [
       "[<matplotlib.lines.Line2D at 0x121940730>]"
      ]
     },
     "execution_count": 7,
     "metadata": {},
     "output_type": "execute_result"
    },
    {
     "data": {
      "image/png": "[encoded data removed]",
      "text/plain": [
       "<Figure size 432x288 with 1 Axes>"
      ]
     },
     "metadata": {
      "needs_background": "light"
     },
     "output_type": "display_data"
    }
   ],
   "source": [
    "from sklearn.neural_network import MLPClassifier\n",
    "\n",
    "# Basic Hyperparameters\n",
    "hidden_layer_sizes = ()\n",
    "batch_size = 64\n",
    "learning_rate = 0.1\n",
    "nepochs = 100\n",
    "\n",
    "# Regularisation:\n",
    "alpha = 0.0 # L2 regularisation constant\n",
    "early_stopping = False\n",
    "n_iter_no_change = 10\n",
    "\n",
    "### START YOUR CODE ###\n",
    "# Model instantiation and training\n",
    "\n",
    "model = MLPClassifier(activation='relu', alpha=learning_rate, batch_size=batch_size, early_stopping=False,\n",
    "       hidden_layer_sizes=(),\n",
    "       max_iter=100)\n",
    "\n",
    "model.fit(x_train0, y_train)\n",
    "\n",
    "\n",
    "# Plot loss curve\n",
    "\n",
    "print (model.score(x_train0,y_train))\n",
    "plt.plot(model.loss_curve_)\n",
    "\n",
    "\n",
    "\n",
    "### END YOUR CODE ###"
   ]
  },
  {
   "cell_type": "markdown",
   "metadata": {},
   "source": [
    "#### METRICS"
   ]
  },
  {
   "cell_type": "code",
   "execution_count": 8,
   "metadata": {},
   "outputs": [
    {
     "name": "stdout",
     "output_type": "stream",
     "text": [
      "Train Acc: 0.9289833333333334\n",
      "Test Acc: 0.9154\n",
      "              precision    recall  f1-score   support\n",
      "\n",
      "           0       0.97      0.95      0.96       959\n",
      "           1       0.96      0.96      0.96      1186\n",
      "           2       0.94      0.89      0.91      1035\n",
      "           3       0.90      0.89      0.89      1031\n",
      "           4       0.91      0.91      0.91       941\n",
      "           5       0.91      0.85      0.88       930\n",
      "           6       0.93      0.96      0.94       942\n",
      "           7       0.94      0.93      0.93      1050\n",
      "           8       0.83      0.91      0.87       936\n",
      "           9       0.87      0.91      0.89       990\n",
      "\n",
      "    accuracy                           0.92     10000\n",
      "   macro avg       0.92      0.91      0.91     10000\n",
      "weighted avg       0.92      0.92      0.92     10000\n",
      "\n"
     ]
    }
   ],
   "source": [
    "### START YOUR CODE ###\n",
    "\n",
    "# train and test error, accuracy\n",
    "# per class accuracy, precision, f1 score\n",
    "\n",
    "from sklearn.metrics import accuracy_score, classification_report\n",
    "\n",
    "pred_train = model.predict(x_train0)\n",
    "pred_test = model.predict(x_test0)\n",
    "\n",
    "\n",
    "print(\"Train Acc:\", accuracy_score(y_train, pred_train))\n",
    "print(\"Test Acc:\", accuracy_score(y_test, pred_test))\n",
    "\n",
    "print(classification_report(y_test,pred_test))\n",
    "\n",
    "\n",
    "\n",
    "\n",
    "### END YOUR CODE ###"
   ]
  },
  {
   "cell_type": "markdown",
   "metadata": {},
   "source": [
    "## Best Model without Hidden Layer\n",
    "\n",
    "By first varying just the parameters \n",
    "* mini-batchsize\n",
    "* learning rate\n",
    "* epochs\n",
    "\n",
    "with adding any hidden layer.\n",
    "\n",
    "Summarize what the best combination of the abover hyper-parameters is."
   ]
  },
  {
   "cell_type": "code",
   "execution_count": 9,
   "metadata": {},
   "outputs": [
    {
     "name": "stderr",
     "output_type": "stream",
     "text": [
      "/Users/Apple/opt/anaconda3/lib/python3.8/site-packages/sklearn/neural_network/_multilayer_perceptron.py:582: ConvergenceWarning: Stochastic Optimizer: Maximum iterations (50) reached and the optimization hasn't converged yet.\n",
      "  warnings.warn(\n"
     ]
    },
    {
     "data": {
      "text/plain": [
       "GridSearchCV(cv=3, estimator=MLPClassifier(hidden_layer_sizes=()), n_jobs=-1,\n",
       "             param_grid={'alpha': [0.01, 0.1, 0.2, 0.5], 'batch_size': [32, 64],\n",
       "                         'max_iter': [50, 100]})"
      ]
     },
     "execution_count": 9,
     "metadata": {},
     "output_type": "execute_result"
    }
   ],
   "source": [
    "### START YOUR CODE ###\n",
    "\n",
    "# Keep hidden_layer_sizes = () \n",
    "# Vary the following\n",
    "\n",
    "batch_size = 64\n",
    "learning_rate = 0.1\n",
    "nepochs = 100\n",
    "\n",
    "model = MLPClassifier(hidden_layer_sizes = ())\n",
    "\n",
    "parameter_space = {\n",
    "    'alpha': [0.01, 0.1, 0.2, 0.5],\n",
    "    'batch_size' : [32, 64],\n",
    "    'max_iter' : [50, 100] #epochs ?\n",
    "}\n",
    "\n",
    "from sklearn.model_selection import GridSearchCV\n",
    "clf = GridSearchCV(model, parameter_space, n_jobs=-1, cv=3)\n",
    "clf.fit(x_train0, y_train) \n",
    "\n",
    "\n",
    "### END YOUR CODE ###"
   ]
  },
  {
   "cell_type": "code",
   "execution_count": 13,
   "metadata": {},
   "outputs": [
    {
     "data": {
      "text/plain": [
       "{'alpha': 0.01, 'batch_size': 64, 'max_iter': 50}"
      ]
     },
     "execution_count": 13,
     "metadata": {},
     "output_type": "execute_result"
    }
   ],
   "source": [
    "clf.best_params_"
   ]
  },
  {
   "cell_type": "code",
   "execution_count": 14,
   "metadata": {},
   "outputs": [
    {
     "data": {
      "text/plain": [
       "0.9181666666666667"
      ]
     },
     "execution_count": 14,
     "metadata": {},
     "output_type": "execute_result"
    }
   ],
   "source": [
    "clf.best_score_"
   ]
  },
  {
   "cell_type": "code",
   "execution_count": 15,
   "metadata": {},
   "outputs": [
    {
     "name": "stdout",
     "output_type": "stream",
     "text": [
      "0.9361333333333334 0.9164\n"
     ]
    }
   ],
   "source": [
    "train_error = clf.score(x_train0, y_train)\n",
    "test_error = clf.score(x_test0, y_test)\n",
    "\n",
    "print (train_error, test_error)"
   ]
  },
  {
   "cell_type": "markdown",
   "metadata": {},
   "source": [
    "__BEST MODEL__ (no hidden layer)\n",
    "\n",
    "batch_size = 64\n",
    "\n",
    "learning_rate = 0.1\n",
    "\n",
    "nepochs = 50\n",
    "\n",
    "train / validation error : 0.93613 / 0.9164"
   ]
  },
  {
   "cell_type": "markdown",
   "metadata": {},
   "source": [
    "## Adding one Hidden layer\n",
    "\n",
    "Explore the performance of the model by varying the parameters \n",
    "* mini-batchsize\n",
    "* learning rate\n",
    "* epochs\n",
    "* complexity (number of units in the one hidden layer)\n",
    "\n",
    "For given complexity, summarize what the best combination of other hyper-parameters is - compute this for several complexities.\n",
    "\n",
    "Compute also the \"best\" train and validation error (or accuracy) for given complexity - as a function of the complexity and plot the curve (for selected number of units - e.g. 10 different values). \n"
   ]
  },
  {
   "cell_type": "code",
   "execution_count": null,
   "metadata": {},
   "outputs": [],
   "source": [
    "### START YOUR CODE ###\n",
    "\n",
    "# Keep hidden_layer_sizes = () \n",
    "# Vary the following\n",
    "\n",
    "hidden_layer_sizes = [(20,), (50,), (100,)] # just one layer \n",
    "batch_size = [32,64]\n",
    "learning_rate = [0.01, 0.1, 0.2]\n",
    "nepochs = [100, 150, 200]\n",
    "\n",
    "model = MLPClassifier()\n",
    "score = 'accuracy'\n",
    "\n",
    "parameter_space = {\n",
    "    'hidden_layer_sizes': hidden_layer_sizes,\n",
    "    'alpha': learning_rate,\n",
    "    'batch_size' : batch_size,\n",
    "    'max_iter' : nepochs\n",
    "}\n",
    "\n",
    "from sklearn.model_selection import GridSearchCV\n",
    "clf = GridSearchCV(MLPClassifier(solver=\"adam\"), parameter_space, scoring=score, cv=3, n_jobs=-1)\n",
    "clf.fit(x_train0, y_train)\n",
    "\n",
    "\n",
    "print(\"Best parameters set found on development set:\")\n",
    "print()\n",
    "print(clf.best_params_)\n",
    "print()\n",
    "print(\"Grid scores on development set:\")\n",
    "print()\n",
    "results = clf.cv_results_\n",
    "for i in range(len(results[\"params\"])):\n",
    "    print(\"%0.3f (+/-%0.03f) for %r\" % (results[\"mean_test_score\"][i], results[\"std_test_score\"][i] * 2, results[\"params\"][i]))\n",
    "\n",
    "\n",
    "### END YOUR CODE ###"
   ]
  },
  {
   "cell_type": "code",
   "execution_count": 47,
   "metadata": {},
   "outputs": [
    {
     "data": {
      "text/plain": [
       "dict_keys(['activation', 'alpha', 'batch_size', 'beta_1', 'beta_2', 'early_stopping', 'epsilon', 'hidden_layer_sizes', 'learning_rate', 'learning_rate_init', 'max_fun', 'max_iter', 'momentum', 'n_iter_no_change', 'nesterovs_momentum', 'power_t', 'random_state', 'shuffle', 'solver', 'tol', 'validation_fraction', 'verbose', 'warm_start'])"
      ]
     },
     "execution_count": 47,
     "metadata": {},
     "output_type": "execute_result"
    }
   ],
   "source": [
    "model.get_params().keys()"
   ]
  },
  {
   "cell_type": "code",
   "execution_count": null,
   "metadata": {},
   "outputs": [],
   "source": [
    "print('Best parameters found:\\n', clf.best_params_)\n",
    "means = clf.cv_results_['mean_test_score']\n",
    "stds = clf.cv_results_['std_test_score']\n",
    "for mean, std, params in zip(means, stds, clf.cv_results_['params']):\n",
    "    print(\"%0.3f (+/-%0.03f) for %r\" % (mean, std * 2, params))\n",
    "    "
   ]
  },
  {
   "cell_type": "code",
   "execution_count": null,
   "metadata": {},
   "outputs": [],
   "source": [
    "y_true, y_pred = y_test , clf.predict(X_test)\n",
    "from sklearn.metrics import classification_report\n",
    "print('Results on the test set:')\n",
    "print(classification_report(y_true, y_pred))"
   ]
  },
  {
   "cell_type": "code",
   "execution_count": null,
   "metadata": {},
   "outputs": [],
   "source": [
    "#fill them after you get the best parameters\n",
    "#batch_size = \n",
    "#alpha =\n",
    "#max_iter =\n",
    "\n",
    "clf = MLPClassifier(hidden_layer_sizes=(100,), solver=\"adam\", batch_size=batch_size, learning_rate_init=alpha, max_iter=max_iter)\n",
    "clf.fit(x_train0, y_train)\n",
    "\n",
    "train_error = clf.score(x_train0, y_train)\n",
    "test_error = clf.score(x_test0, y_test)\n",
    "\n",
    "print (train_error, test_error)"
   ]
  },
  {
   "cell_type": "markdown",
   "metadata": {},
   "source": [
    "__Error vs Complexity__:\n",
    "\n",
    "Plot with the train and test error vs complexity (number of units in the hidden layer)"
   ]
  },
  {
   "cell_type": "code",
   "execution_count": null,
   "metadata": {},
   "outputs": [],
   "source": [
    "model = MLPClassifier()\n",
    "\n",
    "parameter_space = {\n",
    "    'hidden_layer_sizes': [(100,), (50,), (10,), (5,)]\n",
    "}\n",
    "\n",
    "from sklearn.model_selection import GridSearchCV\n",
    "clf2 = GridSearchCV(model, parameter_space, n_jobs=-1, cv=5)\n",
    "clf2.fit(x_train0, y_train) # X is train samples and y is the corresponding labels\n",
    "\n",
    "\n",
    "\n",
    "#change into the bests\n",
    "#batch_size = \n",
    "#learning_rate = \n",
    "#nepochs = \n",
    "\n",
    "complexity = [10, 20, 50, 100]\n",
    "train_errors = []\n",
    "test_errors = []\n",
    "\n",
    "for i in complexity:\n",
    "    mlp = MLPClassifier(hidden_layer_sizes = (i,), batch_size=batch_size, learning_rate_init=learning_rate, max_iter=nepochs)\n",
    "    mlp.fit(x_train0, y_train)\n",
    "    test_errors.append(mlp.score(x_test0, y_test))\n",
    "    train_errors.append(mlp.score(x_train0, y_train))\n",
    "\n",
    "\n"
   ]
  },
  {
   "cell_type": "code",
   "execution_count": 1,
   "metadata": {},
   "outputs": [],
   "source": [
    "### START YOUR CODE ###\n",
    "\n",
    "plt.plot(complexity, train_errors, label=\"train error\")\n",
    "plt.plot(complexity, test_errors, label=\"test error\")\n",
    "plt.xlabel('Model Complexity')\n",
    "plt.legend()\n",
    "\n",
    "### END YOUR CODE ###"
   ]
  },
  {
   "cell_type": "markdown",
   "metadata": {},
   "source": [
    "__BEST MODEL__ (one hidden layer)\n",
    "\n",
    "hidden_layer_sizes = (100,)\n",
    "\n",
    "batch_size = 64\n",
    "\n",
    "learning_rate = 0.01 \n",
    "\n",
    "nepochs = 200 \n",
    "\n",
    "train / validation error :\n"
   ]
  },
  {
   "cell_type": "markdown",
   "metadata": {},
   "source": [
    "## Impact of Regularisation\n",
    "\n",
    "Explore the Impact of Using L2 Regularisation (still adding just one hidden layer) again by varying mini-batchsize, learning rate, epochs, complexity.\n",
    "\n",
    "Can you reach a better best model performance (on validation set)?"
   ]
  },
  {
   "cell_type": "code",
   "execution_count": 3,
   "metadata": {},
   "outputs": [],
   "source": [
    "### START YOUR CODE ###\n",
    "\n",
    "# Vary the following\n",
    "\n",
    "# Basic Hyperparameters\n",
    "hidden_layer_sizes = (100,)\n",
    "batch_size = 64\n",
    "learning_rate = 0.1\n",
    "nepochs = 100\n",
    "\n",
    "# Regularisation:\n",
    "alpha = 0.2 # L2 regularisation constant\n",
    "\n",
    "\n",
    "\n",
    "model3 = MLPClassifier(alpha = alpha)\n",
    "\n",
    "parameter_space = {\n",
    "    'hidden_layer_sizes': [(100,), (50,), (10,), (5,)],\n",
    "    'learning_rate': [0.01, 0.1, 0.5],\n",
    "    'batch_size' : [32, 64],\n",
    "    'max_iter' : [50, 100] #epochs ?\n",
    "}\n",
    "\n",
    "\n",
    "score = 'accuracy'\n",
    "\n",
    "clf = GridSearchCV(MLPClassifier(solver=\"adam\", alpha=alpha), parameter_space, scoring=score, cv=3, n_jobs=-1)\n",
    "clf.fit(x_train0, y_train)\n",
    "\n",
    "print(\"Best parameters set found on development set:\")\n",
    "print()\n",
    "print(clf.best_params_)\n",
    "print()\n",
    "print(\"Grid scores on development set:\")\n",
    "print()\n",
    "results = clf.cv_results_\n",
    "for i in range(len(results[\"params\"])):\n",
    "    print(\"%0.3f (+/-%0.03f) for %r\" % (results[\"mean_test_score\"][i], results[\"std_test_score\"][i] * 2, results[\"params\"][i]))\n",
    "\n",
    "\n",
    "### END YOUR CODE ###"
   ]
  },
  {
   "cell_type": "code",
   "execution_count": null,
   "metadata": {},
   "outputs": [],
   "source": [
    "batch_size =\n",
    "learning_rate =\n",
    "max_iter = \n",
    "\n",
    "clf = MLPClassifier(hidden_layer_sizes=(50,), solver=\"adam\", batch_size=batch_size, learning_rate_init=learning_rate, max_iter=100, alpha=0.2)\n",
    "clf.fit(x_train0, y_train)\n",
    "\n",
    "train_error = clf.score(x_train0, y_train)\n",
    "test_error = clf.score(x_test0, y_test)\n",
    "\n",
    "print (train_error, test_error)"
   ]
  },
  {
   "cell_type": "markdown",
   "metadata": {},
   "source": [
    "__Error vs Complexity__:\n",
    "\n",
    "Plot with the train and test error vs complexity (number of units in the hidden layer)"
   ]
  },
  {
   "cell_type": "code",
   "execution_count": 2,
   "metadata": {},
   "outputs": [],
   "source": [
    "### START YOUR CODE ###\n",
    "\n",
    "batch_size = \n",
    "learning_rate = \n",
    "nepochs = \n",
    "alpha = 0.2\n",
    "\n",
    "complexity = [10, 20, 50, 100]\n",
    "train_errors = []\n",
    "test_errors = []\n",
    "\n",
    "for i in complexity:\n",
    "    mlp = MLPClassifier(hidden_layer_sizes = (i,), solver=\"adam\", batch_size=batch_size, alpha=alpha, learning_rate_init=learning_rate, max_iter=nepochs)\n",
    "    mlp.fit(x_train0, y_train)\n",
    "    test_errors.append(mlp.score(x_test0, y_test))\n",
    "    train_errors.append(mlp.score(x_train0, y_train))\n",
    "\n",
    "\n",
    "### END YOUR CODE ###"
   ]
  },
  {
   "cell_type": "code",
   "execution_count": null,
   "metadata": {},
   "outputs": [],
   "source": [
    "plt.plot(complexity, train_errors, label=\"train error\")\n",
    "plt.plot(complexity, test_errors, label=\"test error\")\n",
    "plt.xlabel('Model Complexity')\n",
    "plt.legend()"
   ]
  },
  {
   "cell_type": "markdown",
   "metadata": {},
   "source": [
    "__BEST MODEL__ (one hidden layer)\n",
    "\n",
    "hidden_layer_sizes = (*,)\n",
    "\n",
    "batch_size = \n",
    "\n",
    "learning_rate = \n",
    "\n",
    "nepochs = \n",
    "\n",
    "alpha =  # L2 regularisation constant\n",
    "\n",
    "train / validation error :"
   ]
  },
  {
   "cell_type": "markdown",
   "metadata": {},
   "source": [
    "## Adding up to 3 Hidden Layers\n",
    "\n",
    "Now consider using a model with more than one hidden layer (at max 3).\n"
   ]
  },
  {
   "cell_type": "code",
   "execution_count": 3,
   "metadata": {},
   "outputs": [],
   "source": [
    "### START YOUR CODE ###\n",
    "\n",
    "# Vary the following\n",
    "\n",
    "# Basic Hyperparameters\n",
    "hidden_layer_sizes = (100,0,0)\n",
    "batch_size = 64\n",
    "learning_rate = 0.1\n",
    "nepochs = 100\n",
    "\n",
    "# Regularisation:\n",
    "alpha = 0.0 # L2 regularisation constant\n",
    "\n",
    "### END YOUR CODE ###"
   ]
  },
  {
   "cell_type": "markdown",
   "metadata": {},
   "source": [
    "__Error vs Complexity__:\n",
    "\n",
    "Plot with the train and test error vs complexity (number of units in the hidden layer)"
   ]
  },
  {
   "cell_type": "code",
   "execution_count": 2,
   "metadata": {},
   "outputs": [],
   "source": [
    "### START YOUR CODE ###\n",
    "\n",
    "parameter_space = {'hidden_layer' : [(20,), (50,), (100,), \n",
    "                (20,20,), (20,50,), (20,100,), \n",
    "                (20,20,20,), (20,20,50,), (20,20,100,)]\n",
    "               }\n",
    "\n",
    "\n",
    "score = 'accuracy'\n",
    "\n",
    "clf = GridSearchCV(MLPClassifier(solver=\"adam\", batch_size=batch_size, learning_rate_init=learning_rate,\n",
    "                                max_iter=nepochs), parameter_space, scoring=score, cv=3, n_jobs=-1)\n",
    "clf.fit(x_train0, y_train)\n",
    "\n",
    "print(\"Best parameters set found on development set:\")\n",
    "print()\n",
    "print(clf.best_params_)\n",
    "print()\n",
    "print(\"Grid scores on development set:\")\n",
    "print()\n",
    "results = clf.cv_results_\n",
    "for i in range(len(results[\"params\"])):\n",
    "    print(\"%0.3f (+/-%0.03f) for %r\" % (results[\"mean_test_score\"][i], results[\"std_test_score\"][i] * 2, results[\"params\"][i]))\n",
    "\n",
    "\n",
    "\n",
    "\n",
    "### END YOUR CODE ###"
   ]
  },
  {
   "cell_type": "markdown",
   "metadata": {},
   "source": [
    "__BEST MODEL__ (1-3 hidden layers)\n",
    "\n",
    "hidden_layer_sizes = (*,*,*)\n",
    "\n",
    "batch_size = \n",
    "\n",
    "learning_rate = \n",
    "\n",
    "nepochs = \n",
    "\n",
    "alpha =  # L2 regularisation constant\n",
    "\n",
    "train / validation error :"
   ]
  },
  {
   "cell_type": "markdown",
   "metadata": {},
   "source": [
    "## Test Performance of Best Model\n",
    "\n",
    "Test Error: "
   ]
  },
  {
   "cell_type": "code",
   "execution_count": null,
   "metadata": {},
   "outputs": [],
   "source": [
    "hidden_layer =\n",
    "\n",
    "clf = MLPClassifier(hidden_layer_sizes=hidden_layer, solver=\"adam\", batch_size=batch_size, \n",
    "                    learning_rate_init=learning_rate, max_iter=nepochs, alpha=alpha)\n",
    "clf.fit(x_train0, y_train)\n",
    "\n",
    "train_error = clf.score(x_train0, y_train)\n",
    "test_error = clf.score(x_test0, y_test)\n",
    "\n",
    "print (train_error, test_error)"
   ]
  }
 ],
 "metadata": {
  "kernelspec": {
   "display_name": "Python 3",
   "language": "python",
   "name": "python3"
  },
  "language_info": {
   "codemirror_mode": {
    "name": "ipython",
    "version": 3
   },
   "file_extension": ".py",
   "mimetype": "text/x-python",
   "name": "python",
   "nbconvert_exporter": "python",
   "pygments_lexer": "ipython3",
   "version": "3.8.5"
  }
 },
 "nbformat": 4,
 "nbformat_minor": 4
}
