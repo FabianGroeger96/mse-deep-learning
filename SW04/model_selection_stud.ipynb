{
 "cells": [
  {
   "cell_type": "markdown",
   "metadata": {},
   "source": [
    "# MNIST with sklearn\n",
    "\n",
    "The goal of this exercise is to \n",
    "* explore some of the sklearn functionality for training a MLP classifier (see https://scikit-learn.org/stable/modules/generated/sklearn.neural_network.MLPClassifier.html#sklearn.neural_network.MLPClassifier)  \n",
    "* by using cross validation \n",
    "* learn how to compute the confusion matrix and its derived quantities and how to interpret them\n",
    "* explore the test error as a function of the complexity (number of units, number of layers)\n",
    "* explore the impact of L2 regularisation\n",
    "\n",
    "__IMPORTANT REMARK__: We here follow the convention of sklearn to enumerate the samples with the first index. "
   ]
  },
  {
   "cell_type": "code",
   "execution_count": 1,
   "metadata": {},
   "outputs": [],
   "source": [
    "import numpy as np\n",
    "import matplotlib\n",
    "import matplotlib.pyplot as plt\n",
    "from sklearn.datasets import fetch_openml\n",
    "from sklearn.model_selection import train_test_split"
   ]
  },
  {
   "cell_type": "markdown",
   "metadata": {},
   "source": [
    "## Load and prepare the data "
   ]
  },
  {
   "cell_type": "code",
   "execution_count": 2,
   "metadata": {},
   "outputs": [],
   "source": [
    "datadir = 'data/'"
   ]
  },
  {
   "cell_type": "code",
   "execution_count": 3,
   "metadata": {},
   "outputs": [],
   "source": [
    "def normalize(x_train,x_test):\n",
    "    \"\"\"\n",
    "    Normalizes the pixels values of the images - mean and stdev are computed from the training set.\n",
    "    \n",
    "    Parameters:\n",
    "    x_train -- Array of training samples of shape (n,m1) where n,m1 are the number of features and samples, respectively.  \n",
    "    x_test -- Array of test samples of shape (n,m2) where n,m2 are the number of features and samples, respectively. \n",
    "    \n",
    "    Returns:\n",
    "    The arrays with the normalized train and test samples.  \n",
    "    \"\"\"\n",
    "    mean = np.mean(x_train)\n",
    "    std = np.std(x_train)\n",
    "    x_train -= mean\n",
    "    x_test -= mean\n",
    "    x_train /= std\n",
    "    x_test /= std\n",
    "    return x_train, x_test"
   ]
  },
  {
   "cell_type": "code",
   "execution_count": 4,
   "metadata": {},
   "outputs": [],
   "source": [
    "# in case you have trouble with the fetch_openml, use this code\n",
    "import ssl\n",
    "ssl._create_default_https_context = ssl._create_unverified_context"
   ]
  },
  {
   "cell_type": "code",
   "execution_count": 5,
   "metadata": {},
   "outputs": [],
   "source": [
    "x,y = fetch_openml('mnist_784', data_home=datadir, return_X_y=True)\n",
    "x_train0, x_test0, y_train, y_test = train_test_split(x, y, test_size=10000, random_state=1)\n",
    "x_train, x_test = normalize(x_train0, x_test0)"
   ]
  },
  {
   "cell_type": "markdown",
   "metadata": {},
   "source": [
    "## Specify Model Family and learn how to compute the metrics\n",
    "\n",
    "#### Model\n",
    "Use the functionality of scikit learn to configure a MLP and its training procedure with\n",
    "* hidden layers: 0-2 layers with suitable number of units per layer\n",
    "* mini-batch gradient descent with given batch_size (no advanced optimisers)\n",
    "* constant learning rate (no learning rate schedules)\n",
    "* number of epochs\n",
    "* no regularisation such as L2 penalty or early stopping\n",
    "\n",
    "#### Metrics\n",
    "Compute the train and test error resp. accuracy as well as the class precision, recall, f1-score.\n",
    "\n",
    "__See__:\n",
    "* https://scikit-learn.org/stable/modules/generated/sklearn.neural_network.MLPClassifier.html#sklearn.neural_network.MLPClassifier\n",
    "* https://scikit-learn.org/stable/modules/classes.html#module-sklearn.metrics"
   ]
  },
  {
   "cell_type": "markdown",
   "metadata": {},
   "source": [
    "## First Training Run\n",
    "\n",
    "Run the training and plot the training loss with a first set of values:\n",
    "* no hidden layers\n",
    "* mini-batchsize: 64\n",
    "* learning rate: 0.1\n",
    "* 100 epochs\n",
    "\n",
    "Compute the Metrics.\n",
    "Which digits are hard to predict?  "
   ]
  },
  {
   "cell_type": "markdown",
   "metadata": {},
   "source": [
    "#### MODEL"
   ]
  },
  {
   "cell_type": "code",
   "execution_count": 6,
   "metadata": {},
   "outputs": [
    {
     "data": {
      "text/plain": [
       "Text(0.5, 1.0, 'Loss curve')"
      ]
     },
     "execution_count": 6,
     "metadata": {},
     "output_type": "execute_result"
    },
    {
     "data": {
      "image/png": "[encoded data removed]",
      "text/plain": [
       "<Figure size 432x288 with 1 Axes>"
      ]
     },
     "metadata": {
      "needs_background": "light"
     },
     "output_type": "display_data"
    }
   ],
   "source": [
    "from sklearn.neural_network import MLPClassifier\n",
    "\n",
    "# Basic Hyperparameters\n",
    "hidden_layer_sizes = ()\n",
    "batch_size = 64\n",
    "learning_rate = 0.1\n",
    "nepochs = 100\n",
    "\n",
    "# Regularisation:\n",
    "alpha = 0.0 # L2 regularisation constant\n",
    "early_stopping = False\n",
    "n_iter_no_change = 10\n",
    "\n",
    "### START YOUR CODE ###\n",
    "# Model instantiation and training\n",
    "mlp = MLPClassifier(hidden_layer_sizes=hidden_layer_sizes,\n",
    "                    batch_size=batch_size,\n",
    "                    learning_rate='constant',\n",
    "                    learning_rate_init=learning_rate,\n",
    "                    max_iter=nepochs,\n",
    "                    alpha=alpha,\n",
    "                    early_stopping=early_stopping,\n",
    "                    n_iter_no_change=n_iter_no_change,\n",
    "                    solver='sgd')\n",
    "mlp.fit(x_train, y_train)\n",
    "\n",
    "# Plot loss curve\n",
    "plt.plot(mlp.loss_curve_)\n",
    "plt.title('Loss curve')\n",
    "### END YOUR CODE ###"
   ]
  },
  {
   "cell_type": "markdown",
   "metadata": {},
   "source": [
    "#### METRICS"
   ]
  },
  {
   "cell_type": "code",
   "execution_count": 7,
   "metadata": {},
   "outputs": [
    {
     "name": "stdout",
     "output_type": "stream",
     "text": [
      "Train Set:\n",
      "Accuracy Score: 0.90\n",
      "              precision    recall  f1-score   support\n",
      "\n",
      "           0       0.98      0.91      0.94       959\n",
      "           1       0.98      0.91      0.95      1186\n",
      "           2       0.81      0.92      0.86      1035\n",
      "           3       0.93      0.72      0.81      1031\n",
      "           4       0.87      0.89      0.88       941\n",
      "           5       0.76      0.90      0.82       930\n",
      "           6       0.92      0.93      0.92       942\n",
      "           7       0.87      0.94      0.90      1050\n",
      "           8       0.78      0.82      0.80       936\n",
      "           9       0.91      0.82      0.86       990\n",
      "\n",
      "    accuracy                           0.88     10000\n",
      "   macro avg       0.88      0.88      0.87     10000\n",
      "weighted avg       0.88      0.88      0.88     10000\n",
      "\n",
      "\n",
      "\n",
      "Test Set:\n",
      "Accuracy Score: 0.88\n",
      "              precision    recall  f1-score   support\n",
      "\n",
      "           0       0.98      0.91      0.94       959\n",
      "           1       0.98      0.91      0.95      1186\n",
      "           2       0.81      0.92      0.86      1035\n",
      "           3       0.93      0.72      0.81      1031\n",
      "           4       0.87      0.89      0.88       941\n",
      "           5       0.76      0.90      0.82       930\n",
      "           6       0.92      0.93      0.92       942\n",
      "           7       0.87      0.94      0.90      1050\n",
      "           8       0.78      0.82      0.80       936\n",
      "           9       0.91      0.82      0.86       990\n",
      "\n",
      "    accuracy                           0.88     10000\n",
      "   macro avg       0.88      0.88      0.87     10000\n",
      "weighted avg       0.88      0.88      0.88     10000\n",
      "\n"
     ]
    }
   ],
   "source": [
    "### START YOUR CODE ###\n",
    "# train and test error, accuracy\n",
    "# per class accuracy, precision, f1 score\n",
    "from sklearn.metrics import accuracy_score, classification_report\n",
    "\n",
    "y_pred_train = mlp.predict(x_train)\n",
    "y_pred_test = mlp.predict(x_test)\n",
    "\n",
    "print('Train Set:')\n",
    "print('Accuracy Score: %.2f' % accuracy_score(y_train, y_pred_train))\n",
    "print(classification_report(y_test, y_pred_test))\n",
    "\n",
    "print('\\n')\n",
    "print('Test Set:')\n",
    "print('Accuracy Score: %.2f' % accuracy_score(y_test, y_pred_test))\n",
    "print(classification_report(y_test, y_pred_test))\n",
    "### END YOUR CODE ###"
   ]
  },
  {
   "cell_type": "markdown",
   "metadata": {},
   "source": [
    "## Best Model without Hidden Layer\n",
    "\n",
    "By first varying just the parameters \n",
    "* mini-batchsize\n",
    "* learning rate\n",
    "* epochs\n",
    "\n",
    "with adding any hidden layer.\n",
    "\n",
    "Summarize what the best combination of the abover hyper-parameters is."
   ]
  },
  {
   "cell_type": "code",
   "execution_count": 8,
   "metadata": {},
   "outputs": [
    {
     "name": "stdout",
     "output_type": "stream",
     "text": [
      "Fitting 5 folds for each of 60 candidates, totalling 300 fits\n"
     ]
    },
    {
     "name": "stderr",
     "output_type": "stream",
     "text": [
      "[Parallel(n_jobs=-1)]: Using backend LokyBackend with 24 concurrent workers.\n",
      "[Parallel(n_jobs=-1)]: Done 114 tasks      | elapsed:  4.8min\n",
      "[Parallel(n_jobs=-1)]: Done 300 out of 300 | elapsed: 19.9min finished\n",
      "/opt/conda/lib/python3.8/site-packages/sklearn/neural_network/_multilayer_perceptron.py:582: ConvergenceWarning: Stochastic Optimizer: Maximum iterations (100) reached and the optimization hasn't converged yet.\n",
      "  warnings.warn(\n"
     ]
    },
    {
     "data": {
      "text/plain": [
       "GridSearchCV(cv=5, estimator=MLPClassifier(hidden_layer_sizes=()), n_jobs=-1,\n",
       "             param_grid={'batch_size': [32, 64, 128, 256, 512],\n",
       "                         'learning_rate_init': [0.0001, 0.001, 0.01, 0.1],\n",
       "                         'max_iter': [25, 50, 100]},\n",
       "             return_train_score=True, verbose=2)"
      ]
     },
     "execution_count": 8,
     "metadata": {},
     "output_type": "execute_result"
    }
   ],
   "source": [
    "### START YOUR CODE ###\n",
    "from sklearn.model_selection import GridSearchCV\n",
    "\n",
    "# Keep hidden_layer_sizes = () \n",
    "# Vary the following\n",
    "\n",
    "batch_size = 64\n",
    "learning_rate = 0.1\n",
    "nepochs = 100\n",
    "\n",
    "mlp = MLPClassifier(hidden_layer_sizes=(),\n",
    "                    learning_rate='constant')\n",
    "\n",
    "parameters = {\n",
    "    'batch_size': [32, 64, 128, 256, 512],\n",
    "    'learning_rate_init': [0.0001, 0.001, 0.01, 0.1,],\n",
    "    'max_iter': [25, 50, 100],\n",
    "}\n",
    "\n",
    "grid_clf = GridSearchCV(mlp, parameters, \n",
    "                        n_jobs=-1, cv=5, \n",
    "                        verbose=2, return_train_score=True)\n",
    "grid_clf.fit(x_train, y_train)\n",
    "### END YOUR CODE ###"
   ]
  },
  {
   "cell_type": "code",
   "execution_count": 9,
   "metadata": {},
   "outputs": [
    {
     "name": "stdout",
     "output_type": "stream",
     "text": [
      "Best parameters found:\n",
      " {'batch_size': 128, 'learning_rate_init': 0.0001, 'max_iter': 100}\n",
      "Scores:\n",
      "test err: 0.923 (+/-0.001) for {'batch_size': 32, 'learning_rate_init': 0.0001, 'max_iter': 25}\n",
      "test err: 0.924 (+/-0.003) for {'batch_size': 32, 'learning_rate_init': 0.0001, 'max_iter': 50}\n",
      "test err: 0.924 (+/-0.002) for {'batch_size': 32, 'learning_rate_init': 0.0001, 'max_iter': 100}\n",
      "test err: 0.919 (+/-0.003) for {'batch_size': 32, 'learning_rate_init': 0.001, 'max_iter': 25}\n",
      "test err: 0.915 (+/-0.002) for {'batch_size': 32, 'learning_rate_init': 0.001, 'max_iter': 50}\n",
      "test err: 0.914 (+/-0.004) for {'batch_size': 32, 'learning_rate_init': 0.001, 'max_iter': 100}\n",
      "test err: 0.883 (+/-0.021) for {'batch_size': 32, 'learning_rate_init': 0.01, 'max_iter': 25}\n",
      "test err: 0.893 (+/-0.011) for {'batch_size': 32, 'learning_rate_init': 0.01, 'max_iter': 50}\n",
      "test err: 0.876 (+/-0.021) for {'batch_size': 32, 'learning_rate_init': 0.01, 'max_iter': 100}\n",
      "test err: 0.883 (+/-0.033) for {'batch_size': 32, 'learning_rate_init': 0.1, 'max_iter': 25}\n",
      "test err: 0.886 (+/-0.014) for {'batch_size': 32, 'learning_rate_init': 0.1, 'max_iter': 50}\n",
      "test err: 0.884 (+/-0.027) for {'batch_size': 32, 'learning_rate_init': 0.1, 'max_iter': 100}\n",
      "test err: 0.921 (+/-0.002) for {'batch_size': 64, 'learning_rate_init': 0.0001, 'max_iter': 25}\n",
      "test err: 0.924 (+/-0.002) for {'batch_size': 64, 'learning_rate_init': 0.0001, 'max_iter': 50}\n",
      "test err: 0.924 (+/-0.001) for {'batch_size': 64, 'learning_rate_init': 0.0001, 'max_iter': 100}\n",
      "test err: 0.918 (+/-0.004) for {'batch_size': 64, 'learning_rate_init': 0.001, 'max_iter': 25}\n",
      "test err: 0.919 (+/-0.006) for {'batch_size': 64, 'learning_rate_init': 0.001, 'max_iter': 50}\n",
      "test err: 0.914 (+/-0.009) for {'batch_size': 64, 'learning_rate_init': 0.001, 'max_iter': 100}\n",
      "test err: 0.891 (+/-0.024) for {'batch_size': 64, 'learning_rate_init': 0.01, 'max_iter': 25}\n",
      "test err: 0.887 (+/-0.017) for {'batch_size': 64, 'learning_rate_init': 0.01, 'max_iter': 50}\n",
      "test err: 0.898 (+/-0.007) for {'batch_size': 64, 'learning_rate_init': 0.01, 'max_iter': 100}\n",
      "test err: 0.885 (+/-0.021) for {'batch_size': 64, 'learning_rate_init': 0.1, 'max_iter': 25}\n",
      "test err: 0.880 (+/-0.022) for {'batch_size': 64, 'learning_rate_init': 0.1, 'max_iter': 50}\n",
      "test err: 0.877 (+/-0.023) for {'batch_size': 64, 'learning_rate_init': 0.1, 'max_iter': 100}\n",
      "test err: 0.919 (+/-0.004) for {'batch_size': 128, 'learning_rate_init': 0.0001, 'max_iter': 25}\n",
      "test err: 0.923 (+/-0.002) for {'batch_size': 128, 'learning_rate_init': 0.0001, 'max_iter': 50}\n",
      "test err: 0.925 (+/-0.001) for {'batch_size': 128, 'learning_rate_init': 0.0001, 'max_iter': 100}\n",
      "test err: 0.921 (+/-0.003) for {'batch_size': 128, 'learning_rate_init': 0.001, 'max_iter': 25}\n",
      "test err: 0.921 (+/-0.001) for {'batch_size': 128, 'learning_rate_init': 0.001, 'max_iter': 50}\n",
      "test err: 0.918 (+/-0.004) for {'batch_size': 128, 'learning_rate_init': 0.001, 'max_iter': 100}\n",
      "test err: 0.894 (+/-0.010) for {'batch_size': 128, 'learning_rate_init': 0.01, 'max_iter': 25}\n",
      "test err: 0.892 (+/-0.018) for {'batch_size': 128, 'learning_rate_init': 0.01, 'max_iter': 50}\n",
      "test err: 0.895 (+/-0.020) for {'batch_size': 128, 'learning_rate_init': 0.01, 'max_iter': 100}\n",
      "test err: 0.881 (+/-0.014) for {'batch_size': 128, 'learning_rate_init': 0.1, 'max_iter': 25}\n",
      "test err: 0.883 (+/-0.012) for {'batch_size': 128, 'learning_rate_init': 0.1, 'max_iter': 50}\n",
      "test err: 0.886 (+/-0.019) for {'batch_size': 128, 'learning_rate_init': 0.1, 'max_iter': 100}\n",
      "test err: 0.916 (+/-0.004) for {'batch_size': 256, 'learning_rate_init': 0.0001, 'max_iter': 25}\n",
      "test err: 0.921 (+/-0.003) for {'batch_size': 256, 'learning_rate_init': 0.0001, 'max_iter': 50}\n",
      "test err: 0.923 (+/-0.002) for {'batch_size': 256, 'learning_rate_init': 0.0001, 'max_iter': 100}\n",
      "test err: 0.923 (+/-0.003) for {'batch_size': 256, 'learning_rate_init': 0.001, 'max_iter': 25}\n",
      "test err: 0.922 (+/-0.003) for {'batch_size': 256, 'learning_rate_init': 0.001, 'max_iter': 50}\n",
      "test err: 0.919 (+/-0.001) for {'batch_size': 256, 'learning_rate_init': 0.001, 'max_iter': 100}\n",
      "test err: 0.905 (+/-0.008) for {'batch_size': 256, 'learning_rate_init': 0.01, 'max_iter': 25}\n",
      "test err: 0.903 (+/-0.005) for {'batch_size': 256, 'learning_rate_init': 0.01, 'max_iter': 50}\n",
      "test err: 0.901 (+/-0.010) for {'batch_size': 256, 'learning_rate_init': 0.01, 'max_iter': 100}\n",
      "test err: 0.880 (+/-0.018) for {'batch_size': 256, 'learning_rate_init': 0.1, 'max_iter': 25}\n",
      "test err: 0.877 (+/-0.021) for {'batch_size': 256, 'learning_rate_init': 0.1, 'max_iter': 50}\n",
      "test err: 0.887 (+/-0.008) for {'batch_size': 256, 'learning_rate_init': 0.1, 'max_iter': 100}\n",
      "test err: 0.905 (+/-0.002) for {'batch_size': 512, 'learning_rate_init': 0.0001, 'max_iter': 25}\n",
      "test err: 0.917 (+/-0.003) for {'batch_size': 512, 'learning_rate_init': 0.0001, 'max_iter': 50}\n",
      "test err: 0.922 (+/-0.003) for {'batch_size': 512, 'learning_rate_init': 0.0001, 'max_iter': 100}\n",
      "test err: 0.922 (+/-0.001) for {'batch_size': 512, 'learning_rate_init': 0.001, 'max_iter': 25}\n",
      "test err: 0.924 (+/-0.001) for {'batch_size': 512, 'learning_rate_init': 0.001, 'max_iter': 50}\n",
      "test err: 0.922 (+/-0.001) for {'batch_size': 512, 'learning_rate_init': 0.001, 'max_iter': 100}\n",
      "test err: 0.906 (+/-0.008) for {'batch_size': 512, 'learning_rate_init': 0.01, 'max_iter': 25}\n",
      "test err: 0.907 (+/-0.006) for {'batch_size': 512, 'learning_rate_init': 0.01, 'max_iter': 50}\n",
      "test err: 0.909 (+/-0.012) for {'batch_size': 512, 'learning_rate_init': 0.01, 'max_iter': 100}\n",
      "test err: 0.884 (+/-0.011) for {'batch_size': 512, 'learning_rate_init': 0.1, 'max_iter': 25}\n",
      "test err: 0.878 (+/-0.026) for {'batch_size': 512, 'learning_rate_init': 0.1, 'max_iter': 50}\n",
      "test err: 0.889 (+/-0.006) for {'batch_size': 512, 'learning_rate_init': 0.1, 'max_iter': 100}\n"
     ]
    }
   ],
   "source": [
    "print('Best parameters found:\\n %s' % grid_clf.best_params_)\n",
    "\n",
    "print('Scores:')\n",
    "means = grid_clf.cv_results_['mean_test_score']\n",
    "stds = grid_clf.cv_results_['std_test_score']\n",
    "for mean, std, params in zip(means, stds, grid_clf.cv_results_['params']):\n",
    "    print(\"test err: %0.3f (+/-%0.03f) for %r\" % (mean, std * 2, params))"
   ]
  },
  {
   "cell_type": "code",
   "execution_count": 10,
   "metadata": {},
   "outputs": [
    {
     "name": "stdout",
     "output_type": "stream",
     "text": [
      "Train error: 0.920 (+/-0.005)\n",
      "Test error: 0.905 (+/-0.005)\n"
     ]
    }
   ],
   "source": [
    "print('Train error: %.3f (+/-%0.03f)' % (grid_clf.cv_results_['mean_train_score'].mean(),\n",
    "                                        grid_clf.cv_results_['std_train_score'].mean()))\n",
    "print('Test error: %.3f (+/-%0.03f)' % (grid_clf.cv_results_['mean_test_score'].mean(),\n",
    "                                        grid_clf.cv_results_['std_test_score'].mean()))"
   ]
  },
  {
   "cell_type": "markdown",
   "metadata": {},
   "source": [
    "__BEST MODEL__ (no hidden layer)\n",
    "\n",
    "batch_size = 128\n",
    "\n",
    "learning_rate = 0.0001\n",
    "\n",
    "nepochs = 100\n",
    "\n",
    "train / validation error : 0.920 (+/-0.005) / 0.905 (+/-0.005)"
   ]
  },
  {
   "cell_type": "markdown",
   "metadata": {},
   "source": [
    "## Adding one Hidden layer\n",
    "\n",
    "Explore the performance of the model by varying the parameters \n",
    "* mini-batchsize\n",
    "* learning rate\n",
    "* epochs\n",
    "* complexity (number of units in the one hidden layer)\n",
    "\n",
    "For given complexity, summarize what the best combination of other hyper-parameters is - compute this for several complexities.\n",
    "\n",
    "Compute also the \"best\" train and validation error (or accuracy) for given complexity - as a function of the complexity and plot the curve (for selected number of units - e.g. 10 different values). \n"
   ]
  },
  {
   "cell_type": "code",
   "execution_count": 12,
   "metadata": {},
   "outputs": [
    {
     "name": "stdout",
     "output_type": "stream",
     "text": [
      "Fitting 5 folds for each of 10 candidates, totalling 50 fits\n"
     ]
    },
    {
     "name": "stderr",
     "output_type": "stream",
     "text": [
      "[Parallel(n_jobs=-1)]: Using backend LokyBackend with 24 concurrent workers.\n",
      "[Parallel(n_jobs=-1)]: Done  29 out of  50 | elapsed: 151.1min remaining: 109.4min\n",
      "[Parallel(n_jobs=-1)]: Done  50 out of  50 | elapsed: 232.5min finished\n"
     ]
    },
    {
     "data": {
      "text/plain": [
       "GridSearchCV(cv=5, estimator=MLPClassifier(hidden_layer_sizes=()), n_jobs=-1,\n",
       "             param_grid={'batch_size': [128],\n",
       "                         'hidden_layer_sizes': [(10,), (120,), (230,), (340,),\n",
       "                                                (450,), (560,), (670,), (780,),\n",
       "                                                (890,), (1000,)],\n",
       "                         'learning_rate_init': [0.0001], 'max_iter': [100]},\n",
       "             return_train_score=True, verbose=2)"
      ]
     },
     "execution_count": 12,
     "metadata": {},
     "output_type": "execute_result"
    }
   ],
   "source": [
    "### START YOUR CODE ###\n",
    "\n",
    "# Keep hidden_layer_sizes = () \n",
    "# Vary the following\n",
    "\n",
    "hidden_layer_sizes = (100,) # just one layer \n",
    "batch_size = 64\n",
    "learning_rate = 0.1\n",
    "nepochs = 100\n",
    "\n",
    "mlp = MLPClassifier(hidden_layer_sizes=(),\n",
    "                    learning_rate='constant')\n",
    "\n",
    "parameters = {\n",
    "    'batch_size': [128],\n",
    "    'learning_rate_init': [0.0001],\n",
    "    'max_iter': [100],\n",
    "    'hidden_layer_sizes': [(int(x),) for x in np.linspace(10, 1000, 10)],\n",
    "}\n",
    "\n",
    "grid_clf = GridSearchCV(mlp, parameters, \n",
    "                        n_jobs=-1, cv=5, \n",
    "                        verbose=2, return_train_score=True)\n",
    "grid_clf.fit(x_train, y_train)\n",
    "### END YOUR CODE ###"
   ]
  },
  {
   "cell_type": "code",
   "execution_count": 13,
   "metadata": {},
   "outputs": [
    {
     "name": "stdout",
     "output_type": "stream",
     "text": [
      "Best parameters found:\n",
      " {'batch_size': 128, 'hidden_layer_sizes': (780,), 'learning_rate_init': 0.0001, 'max_iter': 100}\n",
      "Scores:\n",
      "test err: 0.932 (+/-0.004) for {'batch_size': 128, 'hidden_layer_sizes': (10,), 'learning_rate_init': 0.0001, 'max_iter': 100}\n",
      "test err: 0.976 (+/-0.001) for {'batch_size': 128, 'hidden_layer_sizes': (120,), 'learning_rate_init': 0.0001, 'max_iter': 100}\n",
      "test err: 0.978 (+/-0.001) for {'batch_size': 128, 'hidden_layer_sizes': (230,), 'learning_rate_init': 0.0001, 'max_iter': 100}\n",
      "test err: 0.980 (+/-0.002) for {'batch_size': 128, 'hidden_layer_sizes': (340,), 'learning_rate_init': 0.0001, 'max_iter': 100}\n",
      "test err: 0.980 (+/-0.001) for {'batch_size': 128, 'hidden_layer_sizes': (450,), 'learning_rate_init': 0.0001, 'max_iter': 100}\n",
      "test err: 0.980 (+/-0.001) for {'batch_size': 128, 'hidden_layer_sizes': (560,), 'learning_rate_init': 0.0001, 'max_iter': 100}\n",
      "test err: 0.980 (+/-0.001) for {'batch_size': 128, 'hidden_layer_sizes': (670,), 'learning_rate_init': 0.0001, 'max_iter': 100}\n",
      "test err: 0.981 (+/-0.001) for {'batch_size': 128, 'hidden_layer_sizes': (780,), 'learning_rate_init': 0.0001, 'max_iter': 100}\n",
      "test err: 0.981 (+/-0.001) for {'batch_size': 128, 'hidden_layer_sizes': (890,), 'learning_rate_init': 0.0001, 'max_iter': 100}\n",
      "test err: 0.981 (+/-0.001) for {'batch_size': 128, 'hidden_layer_sizes': (1000,), 'learning_rate_init': 0.0001, 'max_iter': 100}\n"
     ]
    }
   ],
   "source": [
    "print('Best parameters found:\\n %s' % grid_clf.best_params_)\n",
    "\n",
    "print('Scores:')\n",
    "means = grid_clf.cv_results_['mean_test_score']\n",
    "stds = grid_clf.cv_results_['std_test_score']\n",
    "for mean, std, params in zip(means, stds, grid_clf.cv_results_['params']):\n",
    "    print(\"test err: %0.3f (+/-%0.03f) for %r\" % (mean, std * 2, params))"
   ]
  },
  {
   "cell_type": "code",
   "execution_count": 14,
   "metadata": {},
   "outputs": [
    {
     "name": "stdout",
     "output_type": "stream",
     "text": [
      "Train error: 0.994 (+/-0.000)\n",
      "Test error: 0.975 (+/-0.001)\n"
     ]
    }
   ],
   "source": [
    "print('Train error: %.3f (+/-%0.03f)' % (grid_clf.cv_results_['mean_train_score'].mean(),\n",
    "                                        grid_clf.cv_results_['std_train_score'].mean()))\n",
    "print('Test error: %.3f (+/-%0.03f)' % (grid_clf.cv_results_['mean_test_score'].mean(),\n",
    "                                        grid_clf.cv_results_['std_test_score'].mean()))"
   ]
  },
  {
   "cell_type": "markdown",
   "metadata": {},
   "source": [
    "__Error vs Complexity__:\n",
    "\n",
    "Plot with the train and test error vs complexity (number of units in the hidden layer)"
   ]
  },
  {
   "cell_type": "code",
   "execution_count": 52,
   "metadata": {},
   "outputs": [],
   "source": [
    "def plot_grid_search(cv_results, grid_param_1, grid_param_2, name_param_1, name_param_2, big=False):\n",
    "    # Get Train/Test Scores Mean\n",
    "    scores_mean = cv_results['mean_test_score']\n",
    "    scores_mean = np.array(scores_mean).reshape(len(grid_param_2),len(grid_param_1))\n",
    "    \n",
    "    scores_mean_train = cv_results['mean_train_score']\n",
    "    scores_mean_train = np.array(scores_mean_train).reshape(len(grid_param_2),len(grid_param_1))\n",
    "\n",
    "    # Plot Grid search scores\n",
    "    if big:\n",
    "        _, ax = plt.subplots(1,1, figsize=(16,4))\n",
    "    else:\n",
    "        _, ax = plt.subplots(1,1)\n",
    "\n",
    "    # Param1 is the X-axis, Param 2 is represented as a different curve (color line)\n",
    "    for idx, val in enumerate(grid_param_2):\n",
    "        ax.plot(grid_param_1, scores_mean[idx,:], '-o', label= name_param_2 + ': ' + str(val) + ' (test)')\n",
    "        ax.plot(grid_param_1, scores_mean_train[idx,:], '-.o', label= name_param_2 + ': ' + str(val) + ' (train)')\n",
    "\n",
    "    ax.set_title(\"Error vs. Complexity\")\n",
    "    ax.set_xlabel(name_param_1)\n",
    "    ax.set_ylabel('CV Average Score')\n",
    "    if big:\n",
    "        ax.tick_params(axis='x', labelsize=6)\n",
    "    ax.legend(loc=\"best\")\n",
    "    ax.grid('on')"
   ]
  },
  {
   "cell_type": "code",
   "execution_count": 20,
   "metadata": {},
   "outputs": [
    {
     "data": {
      "image/png": "[encoded data removed]",
      "text/plain": [
       "<Figure size 432x288 with 1 Axes>"
      ]
     },
     "metadata": {
      "needs_background": "light"
     },
     "output_type": "display_data"
    }
   ],
   "source": [
    "### START YOUR CODE ###\n",
    "\n",
    "plot_grid_search(grid_clf.cv_results_, [(int(x),) for x in np.linspace(10, 1000, 10)], [128], 'N. of hidden layers', 'Batch size')\n",
    "\n",
    "### END YOUR CODE ###"
   ]
  },
  {
   "cell_type": "markdown",
   "metadata": {},
   "source": [
    "__BEST MODEL__ (one hidden layer)\n",
    "\n",
    "hidden_layer_sizes = (780,)\n",
    "\n",
    "batch_size = 128\n",
    "\n",
    "learning_rate = 0.0001\n",
    "\n",
    "nepochs = 100\n",
    "\n",
    "train / validation error : 0.994 (+/-0.000) / 0.975 (+/-0.001)"
   ]
  },
  {
   "cell_type": "markdown",
   "metadata": {},
   "source": [
    "## Impact of Regularisation\n",
    "\n",
    "Explore the Impact of Using L2 Regularisation (still adding just one hidden layer) again by varying mini-batchsize, learning rate, epochs, complexity.\n",
    "\n",
    "Can you reach a better best model performance (on validation set)?"
   ]
  },
  {
   "cell_type": "code",
   "execution_count": 22,
   "metadata": {},
   "outputs": [
    {
     "name": "stdout",
     "output_type": "stream",
     "text": [
      "Fitting 5 folds for each of 10 candidates, totalling 50 fits\n"
     ]
    },
    {
     "name": "stderr",
     "output_type": "stream",
     "text": [
      "[Parallel(n_jobs=-1)]: Using backend LokyBackend with 24 concurrent workers.\n",
      "[Parallel(n_jobs=-1)]: Done  29 out of  50 | elapsed: 162.6min remaining: 117.7min\n",
      "[Parallel(n_jobs=-1)]: Done  50 out of  50 | elapsed: 296.7min finished\n",
      "/opt/conda/lib/python3.8/site-packages/sklearn/neural_network/_multilayer_perceptron.py:582: ConvergenceWarning: Stochastic Optimizer: Maximum iterations (100) reached and the optimization hasn't converged yet.\n",
      "  warnings.warn(\n"
     ]
    },
    {
     "data": {
      "text/plain": [
       "GridSearchCV(cv=5, estimator=MLPClassifier(hidden_layer_sizes=()), n_jobs=-1,\n",
       "             param_grid={'alpha': [0.0, 0.1], 'batch_size': [128],\n",
       "                         'hidden_layer_sizes': [(10,), (257,), (505,), (752,),\n",
       "                                                (1000,)],\n",
       "                         'learning_rate_init': [0.0001], 'max_iter': [100]},\n",
       "             return_train_score=True, verbose=2)"
      ]
     },
     "execution_count": 22,
     "metadata": {},
     "output_type": "execute_result"
    }
   ],
   "source": [
    "### START YOUR CODE ###\n",
    "\n",
    "# Vary the following\n",
    "\n",
    "# Basic Hyperparameters\n",
    "hidden_layer_sizes = (100,)\n",
    "batch_size = 64\n",
    "learning_rate = 0.1\n",
    "nepochs = 100\n",
    "\n",
    "# Regularisation:\n",
    "alpha = 0.0 # L2 regularisation constant\n",
    "\n",
    "mlp = MLPClassifier(hidden_layer_sizes=(),\n",
    "                    learning_rate='constant')\n",
    "\n",
    "parameters = {\n",
    "    'batch_size': [128],\n",
    "    'learning_rate_init': [0.0001],\n",
    "    'max_iter': [100],\n",
    "    'hidden_layer_sizes': [(int(x),) for x in np.linspace(10, 1000, 5)],\n",
    "    'alpha': [0.0, 0.1],\n",
    "}\n",
    "\n",
    "grid_clf = GridSearchCV(mlp, parameters, \n",
    "                        n_jobs=-1, cv=5, \n",
    "                        verbose=2, return_train_score=True)\n",
    "grid_clf.fit(x_train, y_train)\n",
    "\n",
    "### END YOUR CODE ###"
   ]
  },
  {
   "cell_type": "code",
   "execution_count": 23,
   "metadata": {},
   "outputs": [
    {
     "name": "stdout",
     "output_type": "stream",
     "text": [
      "Best parameters found:\n",
      " {'alpha': 0.1, 'batch_size': 128, 'hidden_layer_sizes': (752,), 'learning_rate_init': 0.0001, 'max_iter': 100}\n",
      "Scores:\n",
      "test err: 0.934 (+/-0.004) for {'alpha': 0.0, 'batch_size': 128, 'hidden_layer_sizes': (10,), 'learning_rate_init': 0.0001, 'max_iter': 100}\n",
      "test err: 0.979 (+/-0.002) for {'alpha': 0.0, 'batch_size': 128, 'hidden_layer_sizes': (257,), 'learning_rate_init': 0.0001, 'max_iter': 100}\n",
      "test err: 0.980 (+/-0.001) for {'alpha': 0.0, 'batch_size': 128, 'hidden_layer_sizes': (505,), 'learning_rate_init': 0.0001, 'max_iter': 100}\n",
      "test err: 0.980 (+/-0.002) for {'alpha': 0.0, 'batch_size': 128, 'hidden_layer_sizes': (752,), 'learning_rate_init': 0.0001, 'max_iter': 100}\n",
      "test err: 0.981 (+/-0.001) for {'alpha': 0.0, 'batch_size': 128, 'hidden_layer_sizes': (1000,), 'learning_rate_init': 0.0001, 'max_iter': 100}\n",
      "test err: 0.931 (+/-0.004) for {'alpha': 0.1, 'batch_size': 128, 'hidden_layer_sizes': (10,), 'learning_rate_init': 0.0001, 'max_iter': 100}\n",
      "test err: 0.980 (+/-0.002) for {'alpha': 0.1, 'batch_size': 128, 'hidden_layer_sizes': (257,), 'learning_rate_init': 0.0001, 'max_iter': 100}\n",
      "test err: 0.981 (+/-0.002) for {'alpha': 0.1, 'batch_size': 128, 'hidden_layer_sizes': (505,), 'learning_rate_init': 0.0001, 'max_iter': 100}\n",
      "test err: 0.982 (+/-0.002) for {'alpha': 0.1, 'batch_size': 128, 'hidden_layer_sizes': (752,), 'learning_rate_init': 0.0001, 'max_iter': 100}\n",
      "test err: 0.981 (+/-0.001) for {'alpha': 0.1, 'batch_size': 128, 'hidden_layer_sizes': (1000,), 'learning_rate_init': 0.0001, 'max_iter': 100}\n"
     ]
    }
   ],
   "source": [
    "print('Best parameters found:\\n %s' % grid_clf.best_params_)\n",
    "\n",
    "print('Scores:')\n",
    "means = grid_clf.cv_results_['mean_test_score']\n",
    "stds = grid_clf.cv_results_['std_test_score']\n",
    "for mean, std, params in zip(means, stds, grid_clf.cv_results_['params']):\n",
    "    print(\"test err: %0.3f (+/-%0.03f) for %r\" % (mean, std * 2, params))"
   ]
  },
  {
   "cell_type": "markdown",
   "metadata": {},
   "source": [
    "__Error vs Complexity__:\n",
    "\n",
    "Plot with the train and test error vs complexity (number of units in the hidden layer)"
   ]
  },
  {
   "cell_type": "code",
   "execution_count": 26,
   "metadata": {},
   "outputs": [
    {
     "data": {
      "image/png": "[encoded data removed]",
      "text/plain": [
       "<Figure size 432x288 with 1 Axes>"
      ]
     },
     "metadata": {
      "needs_background": "light"
     },
     "output_type": "display_data"
    }
   ],
   "source": [
    "### START YOUR CODE ###\n",
    "\n",
    "plot_grid_search(grid_clf.cv_results_, [(int(x),) for x in np.linspace(10, 1000, 5)], [0.0, 0.1], 'Hidden layer sizes', 'Batch size')\n",
    "\n",
    "### END YOUR CODE ###"
   ]
  },
  {
   "cell_type": "markdown",
   "metadata": {},
   "source": [
    "__BEST MODEL__ (one hidden layer)\n",
    "\n",
    "hidden_layer_sizes = (752,)\n",
    "\n",
    "batch_size = 128\n",
    "\n",
    "learning_rate = 0.0001\n",
    "\n",
    "nepochs = 100\n",
    "\n",
    "alpha =  0.1 # L2 regularisation constant\n",
    "\n",
    "train / validation error : 0.982 (+/-0.002)"
   ]
  },
  {
   "cell_type": "markdown",
   "metadata": {},
   "source": [
    "## Adding up to 3 Hidden Layers\n",
    "\n",
    "Now consider using a model with more than one hidden layer (at max 3).\n"
   ]
  },
  {
   "cell_type": "code",
   "execution_count": 29,
   "metadata": {},
   "outputs": [
    {
     "name": "stdout",
     "output_type": "stream",
     "text": [
      "Fitting 5 folds for each of 15 candidates, totalling 75 fits\n"
     ]
    },
    {
     "name": "stderr",
     "output_type": "stream",
     "text": [
      "[Parallel(n_jobs=-1)]: Using backend LokyBackend with 24 concurrent workers.\n",
      "[Parallel(n_jobs=-1)]: Done  66 out of  75 | elapsed: 342.2min remaining: 46.7min\n",
      "[Parallel(n_jobs=-1)]: Done  75 out of  75 | elapsed: 361.5min finished\n",
      "/opt/conda/lib/python3.8/site-packages/sklearn/neural_network/_multilayer_perceptron.py:582: ConvergenceWarning: Stochastic Optimizer: Maximum iterations (100) reached and the optimization hasn't converged yet.\n",
      "  warnings.warn(\n"
     ]
    },
    {
     "data": {
      "text/plain": [
       "GridSearchCV(cv=5, estimator=MLPClassifier(hidden_layer_sizes=()), n_jobs=-1,\n",
       "             param_grid={'alpha': [0.1], 'batch_size': [128],\n",
       "                         'hidden_layer_sizes': [(10,), (132,), (255,), (377,),\n",
       "                                                (500,), (10, 10), (132, 132),\n",
       "                                                (255, 255), (377, 377),\n",
       "                                                (500, 500), (10, 10, 10),\n",
       "                                                (132, 132, 132),\n",
       "                                                (255, 255, 255),\n",
       "                                                (377, 377, 377),\n",
       "                                                (500, 500, 500)],\n",
       "                         'learning_rate_init': [0.0001], 'max_iter': [100]},\n",
       "             return_train_score=True, verbose=2)"
      ]
     },
     "execution_count": 29,
     "metadata": {},
     "output_type": "execute_result"
    }
   ],
   "source": [
    "### START YOUR CODE ###\n",
    "\n",
    "# Vary the following\n",
    "\n",
    "# Basic Hyperparameters\n",
    "hidden_layer_sizes = (100,0,0)\n",
    "batch_size = 64\n",
    "learning_rate = 0.1\n",
    "nepochs = 100\n",
    "\n",
    "# Regularisation:\n",
    "alpha = 0.0 # L2 regularisation constant\n",
    "\n",
    "mlp = MLPClassifier(hidden_layer_sizes=(),\n",
    "                    learning_rate='constant')\n",
    "\n",
    "hidden_layer_sizes =  [(int(x),) for x in np.linspace(10, 500, 5)] # single\n",
    "hidden_layer_sizes += [(int(x),int(x)) for x in np.linspace(10, 500, 5)] # double\n",
    "hidden_layer_sizes += [(int(x),int(x), int(x)) for x in np.linspace(10, 500, 5)] # trible\n",
    "\n",
    "parameters = {\n",
    "    'batch_size': [128],\n",
    "    'learning_rate_init': [0.0001],\n",
    "    'max_iter': [100],\n",
    "    'hidden_layer_sizes': hidden_layer_sizes,\n",
    "    'alpha': [0.1],\n",
    "}\n",
    "\n",
    "grid_clf = GridSearchCV(mlp, parameters, \n",
    "                        n_jobs=-1, cv=5, \n",
    "                        verbose=2, return_train_score=True)\n",
    "grid_clf.fit(x_train, y_train)\n",
    "\n",
    "### END YOUR CODE ###"
   ]
  },
  {
   "cell_type": "code",
   "execution_count": 30,
   "metadata": {},
   "outputs": [
    {
     "name": "stdout",
     "output_type": "stream",
     "text": [
      "Best parameters found:\n",
      " {'alpha': 0.1, 'batch_size': 128, 'hidden_layer_sizes': (500, 500), 'learning_rate_init': 0.0001, 'max_iter': 100}\n",
      "Scores:\n",
      "test err: 0.932 (+/-0.005) for {'alpha': 0.1, 'batch_size': 128, 'hidden_layer_sizes': (10,), 'learning_rate_init': 0.0001, 'max_iter': 100}\n",
      "test err: 0.979 (+/-0.002) for {'alpha': 0.1, 'batch_size': 128, 'hidden_layer_sizes': (132,), 'learning_rate_init': 0.0001, 'max_iter': 100}\n",
      "test err: 0.980 (+/-0.002) for {'alpha': 0.1, 'batch_size': 128, 'hidden_layer_sizes': (255,), 'learning_rate_init': 0.0001, 'max_iter': 100}\n",
      "test err: 0.981 (+/-0.001) for {'alpha': 0.1, 'batch_size': 128, 'hidden_layer_sizes': (377,), 'learning_rate_init': 0.0001, 'max_iter': 100}\n",
      "test err: 0.981 (+/-0.002) for {'alpha': 0.1, 'batch_size': 128, 'hidden_layer_sizes': (500,), 'learning_rate_init': 0.0001, 'max_iter': 100}\n",
      "test err: 0.934 (+/-0.003) for {'alpha': 0.1, 'batch_size': 128, 'hidden_layer_sizes': (10, 10), 'learning_rate_init': 0.0001, 'max_iter': 100}\n",
      "test err: 0.979 (+/-0.002) for {'alpha': 0.1, 'batch_size': 128, 'hidden_layer_sizes': (132, 132), 'learning_rate_init': 0.0001, 'max_iter': 100}\n",
      "test err: 0.981 (+/-0.002) for {'alpha': 0.1, 'batch_size': 128, 'hidden_layer_sizes': (255, 255), 'learning_rate_init': 0.0001, 'max_iter': 100}\n",
      "test err: 0.981 (+/-0.001) for {'alpha': 0.1, 'batch_size': 128, 'hidden_layer_sizes': (377, 377), 'learning_rate_init': 0.0001, 'max_iter': 100}\n",
      "test err: 0.981 (+/-0.001) for {'alpha': 0.1, 'batch_size': 128, 'hidden_layer_sizes': (500, 500), 'learning_rate_init': 0.0001, 'max_iter': 100}\n",
      "test err: 0.934 (+/-0.005) for {'alpha': 0.1, 'batch_size': 128, 'hidden_layer_sizes': (10, 10, 10), 'learning_rate_init': 0.0001, 'max_iter': 100}\n",
      "test err: 0.978 (+/-0.002) for {'alpha': 0.1, 'batch_size': 128, 'hidden_layer_sizes': (132, 132, 132), 'learning_rate_init': 0.0001, 'max_iter': 100}\n",
      "test err: 0.979 (+/-0.002) for {'alpha': 0.1, 'batch_size': 128, 'hidden_layer_sizes': (255, 255, 255), 'learning_rate_init': 0.0001, 'max_iter': 100}\n",
      "test err: 0.980 (+/-0.001) for {'alpha': 0.1, 'batch_size': 128, 'hidden_layer_sizes': (377, 377, 377), 'learning_rate_init': 0.0001, 'max_iter': 100}\n",
      "test err: 0.980 (+/-0.005) for {'alpha': 0.1, 'batch_size': 128, 'hidden_layer_sizes': (500, 500, 500), 'learning_rate_init': 0.0001, 'max_iter': 100}\n"
     ]
    }
   ],
   "source": [
    "print('Best parameters found:\\n %s' % grid_clf.best_params_)\n",
    "\n",
    "print('Scores:')\n",
    "means = grid_clf.cv_results_['mean_test_score']\n",
    "stds = grid_clf.cv_results_['std_test_score']\n",
    "for mean, std, params in zip(means, stds, grid_clf.cv_results_['params']):\n",
    "    print(\"test err: %0.3f (+/-%0.03f) for %r\" % (mean, std * 2, params))"
   ]
  },
  {
   "cell_type": "markdown",
   "metadata": {},
   "source": [
    "__Error vs Complexity__:\n",
    "\n",
    "Plot with the train and test error vs complexity (number of units in the hidden layer)"
   ]
  },
  {
   "cell_type": "code",
   "execution_count": 51,
   "metadata": {},
   "outputs": [
    {
     "data": {
      "image/png": "[encoded data removed]",
      "text/plain": [
       "<Figure size 1152x288 with 1 Axes>"
      ]
     },
     "metadata": {
      "needs_background": "light"
     },
     "output_type": "display_data"
    }
   ],
   "source": [
    "### START YOUR CODE ###\n",
    "\n",
    "plot_grid_search(grid_clf.cv_results_, [str(x) for x in hidden_layer_sizes], \n",
    "                 [128], 'N. of hidden layers', 'Batch size', big=True)\n",
    "\n",
    "### END YOUR CODE ###"
   ]
  },
  {
   "cell_type": "markdown",
   "metadata": {},
   "source": [
    "__BEST MODEL__ (1-3 hidden layers)\n",
    "\n",
    "hidden_layer_sizes = (500, 500)\n",
    "\n",
    "batch_size = 128\n",
    "\n",
    "learning_rate = 0.0001\n",
    "\n",
    "nepochs = 100\n",
    "\n",
    "alpha =  0.1 # L2 regularisation constant\n",
    "\n",
    "train / validation error : 0.981 (+/-0.001)"
   ]
  },
  {
   "cell_type": "markdown",
   "metadata": {},
   "source": [
    "## Test Performance of Best Model\n",
    "\n",
    "Test Error: 0.984"
   ]
  },
  {
   "cell_type": "code",
   "execution_count": 53,
   "metadata": {},
   "outputs": [
    {
     "name": "stdout",
     "output_type": "stream",
     "text": [
      "Train acc: 1.000\n",
      "Test acc: 0.984\n"
     ]
    }
   ],
   "source": [
    "y_pred_train = grid_clf.best_estimator_.predict(x_train)\n",
    "y_pred_test = grid_clf.best_estimator_.predict(x_test)\n",
    "\n",
    "acc_train = accuracy_score(y_train, y_pred_train)\n",
    "acc_test = accuracy_score(y_test, y_pred_test)\n",
    "\n",
    "print('Train acc: %.3f' % acc_train)\n",
    "print('Test acc: %.3f' % acc_test)"
   ]
  }
 ],
 "metadata": {
  "kernelspec": {
   "display_name": "Python 3",
   "language": "python",
   "name": "python3"
  },
  "language_info": {
   "codemirror_mode": {
    "name": "ipython",
    "version": 3
   },
   "file_extension": ".py",
   "mimetype": "text/x-python",
   "name": "python",
   "nbconvert_exporter": "python",
   "pygments_lexer": "ipython3",
   "version": "3.8.6"
  }
 },
 "nbformat": 4,
 "nbformat_minor": 4
}
