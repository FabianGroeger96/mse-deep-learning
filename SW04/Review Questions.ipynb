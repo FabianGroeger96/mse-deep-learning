{
 "cells": [
  {
   "cell_type": "markdown",
   "metadata": {},
   "source": [
    "## (a)\n",
    "\n",
    "Bias describes the difference between the underling true function and the estimated function. Often estimated by the training error / cost (~lower bound, better for larger training sets).\n",
    "\n",
    "$$\n",
    "E_{\\mathcal{D}}\\left[\\left(E_{\\hat{\\theta}}\\left[g_{\\hat{\\theta}}(X)\\right]-g(X)\\right)^{2}\\right]\n",
    "$$\n",
    "\n",
    "It will be large if the approximated function $g_{\\hat{\\theta}}(X)$ is not complex enough or even if it is but the choosen parameters are not optimal (local minima). To fight this we can increase the model complexity, or add more data / regularization to find better (more optimal) parameters. \n",
    "\n",
    "Variance on the other hand describes a generalisation error in terms of the expected difference of the function values using the current estimated parameters (which will vary depending on the training data) minus the function values using the expected parameters.  Often estimated by the difference between validation / test and training error / cost.\n",
    "\n",
    "$$\n",
    "E_{\\mathcal{D}}\\left[\\left(g_{\\hat{\\theta}}(X)-E_{\\hat{\\theta}}\\left[g_{\\hat{\\theta}}(X)\\right]\\right)^{2}\\right]\n",
    "$$\n",
    "\n",
    "This term will be large if the model overfitts the data as this will lead to very different parameters $\\hat \\theta$ when using a slightly different training set. To fight this we can again add more data / regularization to find better (more general) parameters.\n",
    "\n",
    "## (b)\n",
    "\n",
    "If we use more data for training, the model will be forced to be more general in order to account for the increase in data. This is will lead to an increase in the training error. As the model will be more general, the validation error will be smaller.\n",
    "\n",
    "## (c)\n",
    "\n",
    "The confusion matrix has the true label in the row dimension ($i$) and the predicted label in the column dimension ($j$). In order to calculate the cell $m_{ij}$, I just calculate how many times the model predicted the label $j$ when the true label was $i$. In order to calculate the accuracy from the model for the $i$'th label we can use the $i$'th row\n",
    "\n",
    "$$\n",
    "A_i = \\frac{m_{ii}}{\\sum_{j=0}^c{m_{ij}}}\n",
    "$$\n",
    "\n",
    "The accuracy is nothing but the amout of samples that were classified correctly. Hence in order to calculate the error rate, we can just invert the accuracy.\n",
    "\n",
    "$$\n",
    "E_i=1-A_i\n",
    "$$\n",
    "\n",
    "## (d)\n",
    "\n",
    "- *Accuracy*: Amount of samples that were classified correctly\n",
    "\n",
    "$$\n",
    "\\frac{TP+TN}{TP+FP+TN+FN}\n",
    "$$\n",
    "\n",
    "- *Recall*: Amout of the samples of class $i$ that were classified correclty. If the true class of a sample is $i$, the recall describes with what probability it will be classifed correctly. In a medical test let's say for Covid-19, you wo want a very high recall, because if the patient will be falsely classified as negative, he will infect a lot of people.\n",
    "\n",
    "$$\n",
    "\\frac{TP}{TP+FN}\n",
    "$$\n",
    "\n",
    "- *Precision*: Amout of the samples classified as class $i$ that truly have the label $i$. If the predicted class of a sample is $i$, the precision describes with what probability the prediction corresponds to the true class. In a medical test let's say for aids, you wo want a very high precision, because this diagnosis has a large impact on the life of the patient.\n",
    "\n",
    "$$\n",
    "\\frac{TP}{TP+FP}\n",
    "$$"
   ]
  }
 ],
 "metadata": {
  "kernelspec": {
   "display_name": "Python 3",
   "language": "python",
   "name": "python3"
  },
  "language_info": {
   "codemirror_mode": {
    "name": "ipython",
    "version": 3
   },
   "file_extension": ".py",
   "mimetype": "text/x-python",
   "name": "python",
   "nbconvert_exporter": "python",
   "pygments_lexer": "ipython3",
   "version": "3.8.5"
  }
 },
 "nbformat": 4,
 "nbformat_minor": 4
}
