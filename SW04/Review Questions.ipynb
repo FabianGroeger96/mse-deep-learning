{
 "cells": [
  {
   "cell_type": "markdown",
   "metadata": {},
   "source": [
    "# SW04 Exercise 4: Review Questions"
   ]
  },
  {
   "cell_type": "markdown",
   "metadata": {},
   "source": [
    "a) Explain the terms bias and variance. What are the factors that make the bias larger or how can it be made smaller? What factors lead to a large variance or how can it be reduced ?"
   ]
  },
  {
   "cell_type": "markdown",
   "metadata": {},
   "source": [
    "Bias is the difference between the average prediction of our model and the correct value which we are trying to predict. <br>\n",
    "Model with high bias oversimplifies the model. <br>\n",
    "Variance is the variability of model prediction for a given data point or a value which tells us spread of our data. <br>\n",
    "Model with high variance pays a lot of attention to training data and does not generalize on the data which it hasn’t seen before.<br>\n",
    "Increasing the complexity of a model, training model with a big amount of training data makes the bias smaller. <br>\n",
    "While increasing the complexity of a model, variance gets larger. Also training model with a small amount of data enlarges the variance. <br>\n",
    "To lower the variance, less complexity, same type of train set with test set, regularization can be used.\n"
   ]
  },
  {
   "cell_type": "markdown",
   "metadata": {},
   "source": [
    "b) Why is the training error an increasing function of the split ratio (fraction of samples used for training) ? Why is the validation error a decreasing function of the split ratio ?"
   ]
  },
  {
   "cell_type": "code",
   "execution_count": null,
   "metadata": {},
   "outputs": [],
   "source": []
  },
  {
   "cell_type": "markdown",
   "metadata": {},
   "source": [
    "c) Describe in words how you construct a confusion matrix. How can you compute the accuracy from it ? How does this relate to the error rate ?"
   ]
  },
  {
   "cell_type": "code",
   "execution_count": null,
   "metadata": {},
   "outputs": [],
   "source": [
    "A confusion matrix is a tabular summary of the number of correct and incorrect predictions made by a classifier. <br>\n",
    "It can be constructed by crosstab the actual and predicted values of a data. <br>\n",
    "Correctly predicted values lie down in diagonal elements of the matrix. <br>\n",
    "Accuracy can be computed as the sum of the diagonal terms over the total count. <br>\n",
    "Error Rate is 1 - Accuracy.\n"
   ]
  },
  {
   "cell_type": "markdown",
   "metadata": {},
   "source": [
    "\n",
    "d) Describe the terms class accuracy, recall and precision. Describe typical situations where you would like to obtain a high recall or a high precision, respectively.\n"
   ]
  },
  {
   "cell_type": "code",
   "execution_count": null,
   "metadata": {},
   "outputs": [],
   "source": [
    "Precision (also called positive predictive value) is the fraction of relevant instances among the retrieved instances.<br> \n",
    "Recall (also known as sensitivity) is the fraction of relevant instances that were retrieved. <br>\n"
   ]
  }
 ],
 "metadata": {
  "kernelspec": {
   "display_name": "Python 3",
   "language": "python",
   "name": "python3"
  },
  "language_info": {
   "codemirror_mode": {
    "name": "ipython",
    "version": 3
   },
   "file_extension": ".py",
   "mimetype": "text/x-python",
   "name": "python",
   "nbconvert_exporter": "python",
   "pygments_lexer": "ipython3",
   "version": "3.8.5"
  }
 },
 "nbformat": 4,
 "nbformat_minor": 4
}
