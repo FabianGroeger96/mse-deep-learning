{
 "cells": [
  {
   "cell_type": "markdown",
   "metadata": {},
   "source": [
    "# Review Questions SW04\n",
    "\n",
    "## a)\n",
    "Explain the terms bias and variance. What are the factors that make the bias larger, or how can it be made smaller? What factors lead to a large variance, or how can it be reduced?\n",
    "\n",
    "*Answer:* \n",
    "\n",
    "* The term bias refers to the amount of error a specific algorithm makes compared to the true underlying function, and variance explains how dependant the algorithm is regarding specific examples. Thus refers to the generalisation error.\n",
    "\n",
    "* High bias is often caused by an insufficient model that is not capable of modelling the underlying distribution (underfitting). It can be reduced by choosing a model with more complexity.\n",
    "\n",
    "* High variance is often caused by a model that is to complex for the given problem and thus remembers specific examples and is therefore not able to generalise to unseen examples. It can be reduced by a number of ways, e.g. regularisation, more training data, ...\n",
    "\n",
    "## b)\n",
    "Why is the training error an increasing function of the split ratio (fraction of samples used for training)? Why is the validation error a decreasing function of the split ratio?\n",
    "\n",
    "*Answer:*\n",
    "\n",
    "* When using an increasing amount of training samples, the model will get more general, and thus the error will increase since it is not overfitting\n",
    "* When the model gets more general, the validation error gets smaller since the model is better able to generalise\n",
    "\n",
    "## c)\n",
    "Describe in words how you construct a confusion matrix. How can you compute the\n",
    "accuracy from it? How does this relate to the error rate?\n",
    "\n",
    "*Answer:*\n",
    "\n",
    "* Construct a matrix of size (N, N) where N is the number of classes\n",
    "* For each predicted example, get the true prediction and increase the number in the field of the predicted and true label (e.g. cm[pred][true])\n",
    "* The accuracy can be computed by summing the diagonal values divided by the sum of all entries\n",
    "* The error rate is just 1 - the accuracy\n",
    "\n",
    "## d)\n",
    "Describe the terms class accuracy, recall and precision. Describe typical situations where\n",
    "you would like to obtain a high recall or a high precision, respectively.\n",
    "\n",
    "*Answer:*\n",
    "\n",
    "* Accuracy: Amount of correctly classified samples\n",
    "* Recall: Amount of correctly classified samples of class i\n",
    "* Precision: Amount of samples classified as class i with true label i"
   ]
  }
 ],
 "metadata": {
  "kernelspec": {
   "display_name": "Python 3",
   "language": "python",
   "name": "python3"
  },
  "language_info": {
   "codemirror_mode": {
    "name": "ipython",
    "version": 3
   },
   "file_extension": ".py",
   "mimetype": "text/x-python",
   "name": "python",
   "nbconvert_exporter": "python",
   "pygments_lexer": "ipython3",
   "version": "3.8.6"
  }
 },
 "nbformat": 4,
 "nbformat_minor": 4
}
