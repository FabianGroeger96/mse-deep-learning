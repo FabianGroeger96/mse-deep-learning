{
 "cells": [
  {
   "cell_type": "markdown",
   "metadata": {},
   "source": [
    "# Task 2\n",
    "\n",
    "## (a)"
   ]
  },
  {
   "cell_type": "markdown",
   "metadata": {},
   "source": [
    "\\begin{aligned}\n",
    "\\sigma(z)&=\\frac{1}{1+e^{-z}}\\\\\n",
    "\\frac{d}{dz} \\sigma(z) &= \\frac{d}{dz}(1+e^{-z})^-1=-(1+e^{-z})^{-2}(-e^{-z})=\\frac{e^{-z}}{(1+e^{-z})^{2}}\n",
    "\\end{aligned}"
   ]
  },
  {
   "cell_type": "markdown",
   "metadata": {},
   "source": [
    "## (b)"
   ]
  },
  {
   "cell_type": "markdown",
   "metadata": {},
   "source": [
    "\\begin{aligned}\n",
    "\\sigma(z)&=\\frac{1}{1+e^{-z}}\\\\\n",
    "\\frac{d}{dz} \\sigma(z) &= \\frac{e^{-z}}{(1+e^{-z})^{2}}=\\frac{1+e^{-z}-1}{(1+e^{-z})^{2}}=\\sigma(z)^2(1+e^{-z}-1)\\\\\n",
    "&=\\sigma(z)^2(\\sigma(z)^{-1}-1)=\\sigma(z)(1-\\sigma(z))\n",
    "\\end{aligned}"
   ]
  },
  {
   "cell_type": "markdown",
   "metadata": {},
   "source": [
    "## (c)"
   ]
  },
  {
   "cell_type": "markdown",
   "metadata": {},
   "source": [
    "\\begin{aligned}\n",
    "\t\\zeta(z)&=-\\text{log}(\\sigma(-z))=-\\text{log}\\left(\\frac{1}{1+e^z}\\right)\\\\\n",
    "\t\\\\\n",
    "\t\\frac{d}{dz} \\zeta(z) &= -\\frac{1}{\\sigma(-z)} \\sigma(-z)(1-\\sigma(-z)) = (1-\\sigma(-z)) \\\\\n",
    "\t\\\\\n",
    "\t\\frac{d^2}{dz^2} \\zeta(z) &=\\frac{d}{dz} (1-\\sigma(-z))=-(-\\sigma(-z)(1-\\sigma(-z)))\\\\\n",
    "\t&=\\sigma(-z)(1-\\sigma(-z))\n",
    "\\end{aligned}"
   ]
  },
  {
   "cell_type": "markdown",
   "metadata": {},
   "source": [
    "Now in order to find the boundaries we let the variable $z$ run to infinity in both directions"
   ]
  },
  {
   "cell_type": "markdown",
   "metadata": {},
   "source": [
    "\\begin{aligned}\n",
    "\\lim_{z\\to+\\infty}\\zeta(z)&=-\\text{log}\\left(\\frac{1}{1+e^\\infty}\\right)\n",
    "=-\\text{log}\\left(\\frac{1}{\\infty}\\right)\n",
    "=-\\text{log}\\left(0\\right)=\\infty \\\\\n",
    "\\lim_{z\\to-\\infty}\\zeta(z)&=-\\text{log}\\left(\\frac{1}{1+e^{-\\infty}}\\right)\n",
    "=-\\text{log}\\left(\\frac{1}{1+0}\\right)\n",
    "=-\\text{log}\\left(1\\right)=0\n",
    "\\end{aligned}"
   ]
  },
  {
   "cell_type": "code",
   "execution_count": 2,
   "metadata": {},
   "outputs": [
    {
     "data": {
      "text/plain": [
       "<matplotlib.legend.Legend at 0x1e9a9342490>"
      ]
     },
     "execution_count": 2,
     "metadata": {},
     "output_type": "execute_result"
    },
    {
     "data": {
      "image/png": "[encoded data removed]",
      "text/plain": [
       "<Figure size 432x288 with 1 Axes>"
      ]
     },
     "metadata": {
      "needs_background": "light"
     },
     "output_type": "display_data"
    }
   ],
   "source": [
    "import numpy as np\n",
    "import matplotlib.pyplot as plt\n",
    "\n",
    "def sigmoid(x):\n",
    "    return 1 / (1 + np.e**(-x))\n",
    "\n",
    "def zeta(x):\n",
    "    return -np.log(sigmoid(-x))\n",
    "\n",
    "def zeta_prime(x):\n",
    "    return 1-sigmoid(-x)\n",
    "\n",
    "def zeta_double_prime(x):\n",
    "    return sigmoid(-x)*(1-sigmoid(-x))\n",
    "\n",
    "x_range = np.arange(-7, 7, .5)\n",
    "plt.plot(x_range, zeta(x_range), label=\"$\\zeta(x)$\")\n",
    "plt.plot(x_range, zeta_prime(x_range), c=\"orange\", label=\"$\\zeta^\\prime(x)$\")\n",
    "plt.plot(x_range, zeta_double_prime(x_range), c=\"red\", label=\"$\\zeta^{\\prime\\prime}(x)$\")\n",
    "plt.legend()"
   ]
  },
  {
   "cell_type": "markdown",
   "metadata": {},
   "source": [
    "## (d)"
   ]
  },
  {
   "cell_type": "code",
   "execution_count": 3,
   "metadata": {},
   "outputs": [
    {
     "data": {
      "text/plain": [
       "<matplotlib.legend.Legend at 0x1e9b460caf0>"
      ]
     },
     "execution_count": 3,
     "metadata": {},
     "output_type": "execute_result"
    },
    {
     "data": {
      "image/png": "[encoded data removed]",
      "text/plain": [
       "<Figure size 432x288 with 1 Axes>"
      ]
     },
     "metadata": {
      "needs_background": "light"
     },
     "output_type": "display_data"
    }
   ],
   "source": [
    "def sigmoid_prime(x):\n",
    "    return sigmoid(x) * (1 - sigmoid(x))\n",
    "\n",
    "x_range = np.arange(-7, 7, .25)\n",
    "plt.plot(x_range, sigmoid(x_range), label=\"$\\sigma(x)$\")\n",
    "plt.plot(x_range, sigmoid_prime(x_range), c=\"orange\", label=\"$\\sigma^\\prime(x)$\")\n",
    "plt.legend()"
   ]
  },
  {
   "cell_type": "markdown",
   "metadata": {},
   "source": [
    "## (f)"
   ]
  },
  {
   "cell_type": "markdown",
   "metadata": {},
   "source": [
    "\\begin{aligned}\n",
    "c_1(x)=SE(x) &= (\\sigma(x)-1)^2 \\\\\n",
    "\\\\\n",
    "\\frac{d}{d x} SE(x)&= 2(\\sigma(x)-1)\\sigma(x)(1-\\sigma(x))=2\\sigma(x)(\\sigma(x)-1) (1-\\sigma(x)) \\\\\n",
    "&=2\\sigma(x)(\\sigma(x)-\\sigma(x)^2-1+\\sigma(x))=-2\\sigma(x)(\\sigma(x)^2-2\\sigma(x)+1) \\\\\n",
    "&=-2\\sigma(x)(\\sigma(x)-1)^2 \\\\\n",
    "\\\\\n",
    "\\frac{d^2}{d x^2} SE(x)&=-2\\sigma(x)(1-\\sigma(x))(\\sigma(x)-1)^2-2\\sigma(x)2(\\sigma(x)-1)\\sigma(x)(1-\\sigma(x))\\\\\n",
    "&=-2\\sigma(x)(1-\\sigma(x))((\\sigma(x)-1)^2+2\\sigma(x)(\\sigma(x)-1))=-2\\sigma(x)(1-\\sigma(x))(\\sigma(x)-1)(\\sigma(x)-1+2\\sigma(x)) \\\\\n",
    "&=-2\\sigma(x)(\\sigma(x)-1)^2(3\\sigma(x)-1) \\\\\n",
    "&=\\sigma(x)(\\sigma(x)-1)^2(2-6\\sigma(x)) \n",
    "\\\\ \\\\\n",
    "\\sigma(x)&\\to(0,1) \\\\\n",
    "(\\sigma(x)-1)^2&\\to(0,1) \\\\\n",
    "(2-6\\sigma(x)) &\\to \\left\\{\\begin{array}{lr}\n",
    "        (0, 2), & \\text{for } x < -ln(2) \\\\\n",
    "        (-4, 0], & \\text{for } x >= -ln(2)\n",
    "        \\end{array}\\right\\} \\to \\text{hence SE is non convex}\n",
    "\\end{aligned}"
   ]
  },
  {
   "cell_type": "markdown",
   "metadata": {},
   "source": [
    "If we start at some initial point $x_0 << 0$ we will have a gradient that is very close to zero because\n",
    "\n",
    "$$\n",
    "\\lim_{x\\to-\\infty}{\\frac{d}{d x} SE(x)}=\\lim_{x\\to-\\infty}{-2\\sigma(x)(\\sigma(x)-1)^2 }={-2\\sigma(-\\infty)(\\sigma(-\\infty)-1)^2 }={-2\\cdot 0(0-1)^2 }=0\n",
    "$$\n",
    "\n",
    "Hence the gradient update step $x_{t}\\leftarrow x_{t-1}-\\frac{d}{dx}f(x_{t-1})$ will push the algorithm only very little into the correct direction. That direction will still minimize the squared error $c_1$, but it will do so very slowly. This phenomenon is also known as the vanishing gradient problem."
   ]
  },
  {
   "cell_type": "code",
   "execution_count": 42,
   "metadata": {},
   "outputs": [
    {
     "data": {
      "text/plain": [
       "<matplotlib.legend.Legend at 0x1e9b7532f70>"
      ]
     },
     "execution_count": 42,
     "metadata": {},
     "output_type": "execute_result"
    },
    {
     "data": {
      "image/png": "[encoded data removed]",
      "text/plain": [
       "<Figure size 432x288 with 1 Axes>"
      ]
     },
     "metadata": {
      "needs_background": "light"
     },
     "output_type": "display_data"
    }
   ],
   "source": [
    "def c1(x):\n",
    "    return (sigmoid(x) - 1)**2\n",
    "\n",
    "def c1_prime(x):\n",
    "    return -2*sigmoid(x)*(sigmoid(x)-1)**2\n",
    "\n",
    "def c1_prime_prime(x):\n",
    "    return sigmoid(x)*(sigmoid(x)-1)**2*(2-6*sigmoid(x))\n",
    "\n",
    "x_range = np.arange(-7, 7, .25)\n",
    "plt.plot(x_range, c1(x_range), label=\"$c_1(x)$\")\n",
    "plt.plot(x_range, c1_prime(x_range), label=\"$c_1(x)^\\prime$\")\n",
    "plt.plot(x_range, c1_prime_prime(x_range), label=\"$c_1(x)^{\\prime\\prime}$\")\n",
    "plt.axvline(-np.log(2), c=\"r\", label=\"$x=-ln(2)$\")\n",
    "plt.legend()"
   ]
  },
  {
   "cell_type": "markdown",
   "metadata": {},
   "source": [
    "## (g)"
   ]
  },
  {
   "cell_type": "markdown",
   "metadata": {},
   "source": [
    "\\begin{aligned}\n",
    "c_{2}(x)=CE(x)&=-(y \\log (\\sigma(w \\cdot x))+(1-y) \\log (1-\\sigma(w \\cdot x))) \\\\ \\\\\n",
    "\\frac{\\partial}{\\partial w} CE(x)&=\\frac{\\partial}{\\partial w}-\\left(y-\\log \\sigma(wx)+(1-y) \\log \\left(1-\\sigma(wx)\\right)\\right)=-\\left(\\frac{-y}{\\sigma(wx)}\\sigma(wx)^\\prime x+\\frac{1-y}{1-\\sigma(wx)}\\sigma(wx)^\\prime x\\right) \\\\\n",
    "&=-\\sigma(wx)^\\prime x\\left(\\frac{-y}{\\sigma(wx)}+\\frac{1-y}{1-\\sigma(wx)}\\right)=-\\sigma(wx)^\\prime x\\left(\\frac{-y(1-\\sigma(wx))+(1-y)\\sigma(wx)}{\\sigma(wx)^\\prime}\\right) \\\\\n",
    "&=-x(\\sigma(wx)-y)=x(y-\\sigma(wx)) \\\\\n",
    "\\\\\n",
    "\\frac{\\partial^2}{\\partial w^2} CE(x) &= \\frac{\\partial}{\\partial w} x(y-\\sigma(wx)) = \\sigma^\\prime(wx) x^2 \\\\\n",
    "&= \\sigma(wx)(1-\\sigma(wx) x^2 \\\\\n",
    "\\\\ \\\\\n",
    "\\sigma(wx)&\\to(0,1) \\\\\n",
    "(1-\\sigma(wx))^2&\\to(0,1) \\\\\n",
    "x^2 &\\to [0, \\infty) \\to \\text{hence } CE(x) \\text{ is convex}\n",
    "\\end{aligned}"
   ]
  }
 ],
 "metadata": {
  "kernelspec": {
   "display_name": "Python 3",
   "language": "python",
   "name": "python3"
  },
  "language_info": {
   "codemirror_mode": {
    "name": "ipython",
    "version": 3
   },
   "file_extension": ".py",
   "mimetype": "text/x-python",
   "name": "python",
   "nbconvert_exporter": "python",
   "pygments_lexer": "ipython3",
   "version": "3.8.5"
  }
 },
 "nbformat": 4,
 "nbformat_minor": 4
}
