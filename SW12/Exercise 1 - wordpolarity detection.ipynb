{
 "cells": [
  {
   "cell_type": "code",
   "execution_count": 39,
   "metadata": {},
   "outputs": [],
   "source": [
    "import os \n",
    "import tensorflow as tf\n",
    "import numpy as np\n",
    "import matplotlib.pyplot as plt"
   ]
  },
  {
   "cell_type": "code",
   "execution_count": 9,
   "metadata": {},
   "outputs": [],
   "source": [
    "def read_voca_from_file(file_name):\n",
    "    with open(file_name, 'r', encoding=\"ISO-8859-1\") as f:\n",
    "        content = f.readlines()\n",
    "        content = [x.strip() for x in content] # remove newline chars \n",
    "        content = [x for x in content if x != \"\"] # remove empty words\n",
    "        content = [x for x in content if x[0] not in [';', '+']] # remove invalid words\n",
    "        content = [x for x in content if x[-1] not in [';', '+']] # remove invalid words\n",
    "        \n",
    "        return content\n",
    "    \n",
    "def load_glove_embeddings(path):\n",
    "    embeddings = {}\n",
    "    with open(path , 'r', encoding='utf-8') as f:\n",
    "        for line in f:\n",
    "            values = line.strip().split()\n",
    "            w = values[0]\n",
    "            vectors = np.asarray(values[1:], dtype='float32')\n",
    "            embeddings[w] = vectors\n",
    "    return embeddings"
   ]
  },
  {
   "cell_type": "code",
   "execution_count": 10,
   "metadata": {},
   "outputs": [
    {
     "name": "stdout",
     "output_type": "stream",
     "text": [
      "positive words:  2005\n",
      "negative words:  4783\n"
     ]
    }
   ],
   "source": [
    "positive_words = read_voca_from_file(\"opinion-lexicon-English/positive-words.txt\")\n",
    "negative_words = read_voca_from_file(\"opinion-lexicon-English/negative-words.txt\")\n",
    "\n",
    "print(\"positive words: \", len(positive_words))\n",
    "print(\"negative words: \", len(negative_words))"
   ]
  },
  {
   "cell_type": "code",
   "execution_count": 15,
   "metadata": {},
   "outputs": [
    {
     "name": "stdout",
     "output_type": "stream",
     "text": [
      "nr of loaded embeddings:  400000\n"
     ]
    }
   ],
   "source": [
    "word_dict = load_glove_embeddings('glove.6B.50d.txt')\n",
    "\n",
    "print(\"nr of loaded embeddings: \", len(word_dict))"
   ]
  },
  {
   "cell_type": "code",
   "execution_count": 19,
   "metadata": {},
   "outputs": [
    {
     "name": "stdout",
     "output_type": "stream",
     "text": [
      "embedding of word happy :\n",
      " [ 0.092086  0.2571   -0.58693  -0.37029   1.0828   -0.55466  -0.78142\n",
      "  0.58696  -0.58714   0.46318  -0.11267   0.2606   -0.26928  -0.072466\n",
      "  1.247     0.30571   0.56731   0.30509  -0.050312 -0.64443  -0.54513\n",
      "  0.86429   0.20914   0.56334   1.1228   -1.0516   -0.78105   0.29656\n",
      "  0.7261   -0.61392   2.4225    1.0142   -0.17753   0.4147   -0.12966\n",
      " -0.47064   0.3807    0.16309  -0.323    -0.77899  -0.42473  -0.30826\n",
      " -0.42242   0.055069  0.38267   0.037415 -0.4302   -0.39442   0.10511\n",
      "  0.87286 ]\n"
     ]
    }
   ],
   "source": [
    "word = 'happy'\n",
    "vector = word_dict[word] # if word is in word_dict\n",
    "print(\"embedding of word\", word, \":\\n\", vector)"
   ]
  },
  {
   "cell_type": "code",
   "execution_count": 24,
   "metadata": {},
   "outputs": [
    {
     "name": "stdout",
     "output_type": "stream",
     "text": [
      "positive word embeddings:  (1893, 50)\n",
      "negative word embeddings:  (4345, 50)\n"
     ]
    }
   ],
   "source": [
    "positive_word_embeddings = np.array([word_dict[w] for w in positive_words if w in word_dict])\n",
    "negative_word_embeddings = np.array([word_dict[w] for w in negative_words if w in word_dict])\n",
    "\n",
    "print(\"positive word embeddings: \", positive_word_embeddings.shape)\n",
    "print(\"negative word embeddings: \", negative_word_embeddings.shape)"
   ]
  },
  {
   "cell_type": "code",
   "execution_count": 46,
   "metadata": {},
   "outputs": [
    {
     "name": "stdout",
     "output_type": "stream",
     "text": [
      "X_train: (3000, 50) y_train: (3000,)\n",
      "X_test: (3238, 50) y_test: (3238,)\n"
     ]
    }
   ],
   "source": [
    "n = 1500\n",
    "\n",
    "X_train = np.concatenate((positive_word_embeddings[:n], negative_word_embeddings[:n]), axis=0)\n",
    "X_test = np.concatenate((positive_word_embeddings[n:], negative_word_embeddings[n:]), axis=0)\n",
    "\n",
    "y_train = np.concatenate((np.ones(n), np.zeros(n)))\n",
    "y_test = np.concatenate((np.ones(positive_word_embeddings[n:].shape[0]),\n",
    "                         np.zeros(negative_word_embeddings[n:].shape[0])))\n",
    "\n",
    "train_indices = np.random.permutation(X_train.shape[0])\n",
    "# test_indices = np.random.permutation(X_test.shape[0])\n",
    "\n",
    "X_train, y_train = X_train[train_indices], y_train[train_indices]\n",
    "# X_test, y_test = X_test[test_indices], y_test[test_indices]\n",
    "\n",
    "print(\"X_train:\", X_train.shape, \"y_train:\", y_train.shape)\n",
    "print(\"X_test:\", X_test.shape, \"y_test:\", y_test.shape)"
   ]
  },
  {
   "cell_type": "code",
   "execution_count": 56,
   "metadata": {},
   "outputs": [],
   "source": [
    "model = tf.keras.models.Sequential([\n",
    "    tf.keras.layers.Dense(100, activation=\"relu\", kernel_initializer=\"he_normal\"),\n",
    "    tf.keras.layers.Dense(50, activation=\"relu\", kernel_initializer=\"he_normal\"),\n",
    "    tf.keras.layers.Dense(1, activation=\"sigmoid\")\n",
    "])\n",
    "\n",
    "model.compile(loss=\"binary_crossentropy\", metrics=\"accuracy\", optimizer=tf.keras.optimizers.Adam(lr=0.001))"
   ]
  },
  {
   "cell_type": "code",
   "execution_count": 57,
   "metadata": {},
   "outputs": [
    {
     "data": {
      "image/png": "[encoded data removed]",
      "text/plain": [
       "<Figure size 432x288 with 1 Axes>"
      ]
     },
     "metadata": {
      "needs_background": "light"
     },
     "output_type": "display_data"
    }
   ],
   "source": [
    "log = model.fit(X_train, y_train, batch_size=32, epochs=100, verbose=0, validation_data=(X_test, y_test))\n",
    "\n",
    "plt.plot(log.history[\"accuracy\"])\n",
    "plt.plot(log.history[\"val_accuracy\"])\n",
    "plt.title(f\"max test accuracy: {round(max(log.history['val_accuracy']), 3)}\")\n",
    "plt.show()"
   ]
  },
  {
   "cell_type": "markdown",
   "metadata": {},
   "source": [
    "We see that the model overfitts the data but still reaches the expected test accuarcy of 85%. Maybe some regularization could push the test score."
   ]
  },
  {
   "cell_type": "code",
   "execution_count": 69,
   "metadata": {},
   "outputs": [
    {
     "name": "stdout",
     "output_type": "stream",
     "text": [
      "positive test words: 393 negative test words: 2845\n",
      "total test words: 3238\n"
     ]
    }
   ],
   "source": [
    "positive_words_test = [w for w in positive_words if w in word_dict]\n",
    "negative_words_test = [w for w in negative_words if w in word_dict]\n",
    "positive_words_test = [w for w in positive_words_test if positive_words_test.index(w) >= n]\n",
    "negative_words_test = [w for w in negative_words_test if negative_words_test.index(w) >= n]\n",
    "\n",
    "print(\"positive test words:\", len(positive_words_test), \"negative test words:\", len(negative_words_test))\n",
    "\n",
    "test_words = positive_words_test + negative_words_test\n",
    "print(\"total test words:\", len(test_words))"
   ]
  },
  {
   "cell_type": "code",
   "execution_count": 74,
   "metadata": {},
   "outputs": [],
   "source": [
    "test_pred = model.predict(X_test)\n",
    "test_word_predictions = [(test_words[i], y_test[i], test_pred[i][0]) for i in range(X_test.shape[0])]"
   ]
  },
  {
   "cell_type": "code",
   "execution_count": 101,
   "metadata": {},
   "outputs": [
    {
     "name": "stdout",
     "output_type": "stream",
     "text": [
      "serene\n",
      "( positive , prob= 1.0 )\n",
      "\n",
      "serenity\n",
      "( positive , prob= 1.0 )\n",
      "\n",
      "sexy\n",
      "( positive , prob= 1.0 )\n",
      "\n",
      "shimmering\n",
      "( positive , prob= 1.0 )\n",
      "\n",
      "shine\n",
      "( positive , prob= 1.0 )\n",
      "\n",
      "lawlessness\n",
      "( negative , prob= 0.0 )\n",
      "\n",
      "infested\n",
      "( negative , prob= 0.0 )\n",
      "\n",
      "irresolvable\n",
      "( negative , prob= 0.0 )\n",
      "\n",
      "militancy\n",
      "( negative , prob= 0.0 )\n",
      "\n",
      "unrest\n",
      "( negative , prob= 0.0 )\n",
      "\n"
     ]
    }
   ],
   "source": [
    "positive_sorted = sorted(test_word_predictions, key=lambda x: x[-1], reverse=True)[:5]\n",
    "negative_sorted = sorted(test_word_predictions, key=lambda x: x[-1], reverse=False)[:5]\n",
    "\n",
    "for w, l, p in positive_sorted + negative_sorted:\n",
    "    print(w)\n",
    "    print(\"(\", \"positive\" if l == 1 else \"negative\", \", prob=\", round(p, 3), \")\")\n",
    "    print()"
   ]
  },
  {
   "cell_type": "markdown",
   "metadata": {},
   "source": [
    "The positive as well as the negative examples seem to be very reasonable."
   ]
  },
  {
   "cell_type": "code",
   "execution_count": 104,
   "metadata": {},
   "outputs": [
    {
     "name": "stdout",
     "output_type": "stream",
     "text": [
      "inextricably\n",
      "( negative , prob= 0.5 )\n",
      "\n",
      "steal\n",
      "( negative , prob= 0.5 )\n",
      "\n",
      "foulness\n",
      "( negative , prob= 0.503 )\n",
      "\n",
      "freakishly\n",
      "( negative , prob= 0.505 )\n",
      "\n",
      "impede\n",
      "( negative , prob= 0.507 )\n",
      "\n"
     ]
    }
   ],
   "source": [
    "unsure = sorted(test_word_predictions, key=lambda x: abs(0.5 - x[-1]), reverse=False)[:5]\n",
    "\n",
    "for w, l, p in unsure:\n",
    "    print(w)\n",
    "    print(\"(\", \"positive\" if l == 1 else \"negative\", \", prob=\", round(p, 3), \")\")\n",
    "    print()"
   ]
  },
  {
   "cell_type": "markdown",
   "metadata": {},
   "source": [
    "All the top 5 most unsure examples seem to be negatively labled words. Their semtiment is also not very clear to me, e.g. `inextricably` can have both a negative or positive sentiment."
   ]
  },
  {
   "cell_type": "markdown",
   "metadata": {},
   "source": [
    "*Could you use the above system to make a polarity detection for the comments given by clients on products, e.g. on www.digitech.ch ?*\n",
    "\n",
    "Yes in principle we could use it. In order to do that we could just calculate the predictions for each seperate word and then average the individual preditions into a global one.\n",
    "\n",
    "*What would be the limitations of such system and how could we improve it ?*\n",
    "\n",
    "Such a system would not be able to detect a context based sentiment of a word and hence cannot really detect the semtiment of a comment as a whole. This could be improved by using e.g. an RNN to classify whole text sections (comments) for a specific sentiment. This approach would also require the training data to be in Text2Label form.\n",
    "\n",
    "*What is happening when a word is not in the dictionary of the embedding ?*\n",
    "\n",
    "I guess there are different approaches\n",
    " - If some vocabulary words are not yet part of the used embedding space, we could just initialize them randomly and let the model learn it during the training. For this to be possible we need a lot of data.\n",
    " - We could learn the whole embedding space durring training. For this to be possible we would need even more data.\n",
    " - We could use n-grams based embeddings like FastText.\n",
    " - We could just neglect those words (which is what I did in this notebook)."
   ]
  },
  {
   "cell_type": "code",
   "execution_count": null,
   "metadata": {},
   "outputs": [],
   "source": []
  }
 ],
 "metadata": {
  "kernelspec": {
   "display_name": "Python 3",
   "language": "python",
   "name": "python3"
  },
  "language_info": {
   "codemirror_mode": {
    "name": "ipython",
    "version": 3
   },
   "file_extension": ".py",
   "mimetype": "text/x-python",
   "name": "python",
   "nbconvert_exporter": "python",
   "pygments_lexer": "ipython3",
   "version": "3.8.5"
  }
 },
 "nbformat": 4,
 "nbformat_minor": 4
}
