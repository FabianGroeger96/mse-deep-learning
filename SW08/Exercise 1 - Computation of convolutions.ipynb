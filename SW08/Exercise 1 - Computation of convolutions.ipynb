{
 "cells": [
  {
   "cell_type": "markdown",
   "metadata": {},
   "source": [
    "# Exercise 1"
   ]
  },
  {
   "cell_type": "code",
   "execution_count": 1,
   "metadata": {},
   "outputs": [],
   "source": [
    "import numpy as np\n",
    "import itertools\n",
    "\n",
    "import tensorflow as tf\n",
    "from tensorflow.keras.models import Sequential\n",
    "from tensorflow.keras.layers import Conv1D, Conv2D\n",
    "\n",
    "tf.compat.v1.logging.set_verbosity(tf.compat.v1.logging.ERROR)"
   ]
  },
  {
   "cell_type": "markdown",
   "metadata": {},
   "source": [
    "## a)"
   ]
  },
  {
   "cell_type": "code",
   "execution_count": 2,
   "metadata": {},
   "outputs": [
    {
     "name": "stdout",
     "output_type": "stream",
     "text": [
      "S=1, P=valid: \t[9.0, 6.0, -4.0, 5.0, 2.0, 2.0, 7.0] (7 elements)\n",
      "S=1, P=same: \t[0.0, 9.0, 6.0, -4.0, 5.0, 2.0, 2.0, 7.0, 6.0] (9 elements)\n",
      "S=2, P=valid: \t[9.0, -4.0, 2.0, 7.0] (4 elements)\n",
      "S=2, P=same: \t[0.0, 6.0, 5.0, 2.0, 6.0] (5 elements)\n",
      "S=4, P=valid: \t[9.0, 2.0] (2 elements)\n",
      "S=4, P=same: \t[0.0, 5.0, 6.0] (3 elements)\n"
     ]
    }
   ],
   "source": [
    "data = [[1, 3, -2, 0, 2, -1, 3, 1, 2]]\n",
    "data = np.asarray(data)\n",
    "data = data.reshape(1, 9, 1)\n",
    "\n",
    "strides = [1, 2, 4]\n",
    "paddings = ['valid', 'same']\n",
    "\n",
    "for stride, pad in itertools.product(strides, paddings):\n",
    "    # create model\n",
    "    model = Sequential()\n",
    "    model.add(Conv1D(1, 3, strides=stride, padding=pad, input_shape=(9,1)))\n",
    "\n",
    "    # define a weights and bias\n",
    "    weights = np.asarray([[[2, 1, -1]]])\n",
    "    weights = np.einsum('ijk -> kij', weights)\n",
    "    bias = np.asarray([2.0])\n",
    "    layer_weights = [weights, bias]\n",
    "    # store the weights in the model\n",
    "    model.set_weights(layer_weights)\n",
    "\n",
    "    # apply filter to input data\n",
    "    yhat = model.predict(data)\n",
    "    yout = [yhat[0,c,0] for c in range(yhat.shape[1])]\n",
    "    print('S={0}, P={1}: \\t{2} ({3} elements)'.format(stride, pad, yout, len(yout)))"
   ]
  },
  {
   "cell_type": "markdown",
   "metadata": {},
   "source": [
    "## b)"
   ]
  },
  {
   "cell_type": "code",
   "execution_count": 3,
   "metadata": {},
   "outputs": [
    {
     "name": "stdout",
     "output_type": "stream",
     "text": [
      "--------------------Stride: 1--------------------\n",
      "Output dimension: (3, 3, 2)\n",
      "Activation map: 0\n",
      "[[ 1.  1.  2.]\n",
      " [ 3. -1.  6.]\n",
      " [ 6.  2.  4.]]\n",
      "Activation map: 1\n",
      "[[ 3.  2.  7.]\n",
      " [-1.  3.  7.]\n",
      " [ 4.  1.  6.]]\n",
      "--------------------Stride: 2--------------------\n",
      "Output dimension: (2, 2, 2)\n",
      "Activation map: 0\n",
      "[[1. 2.]\n",
      " [6. 4.]]\n",
      "Activation map: 1\n",
      "[[3. 7.]\n",
      " [4. 6.]]\n"
     ]
    }
   ],
   "source": [
    "data_r = np.asarray([[2, 1, 0, 2],\n",
    "                    [2, 0, 1, 2],\n",
    "                    [0, 2, 1, 2],\n",
    "                    [0, 0, 1, 0]])\n",
    "data_g = np.asarray([[0, 2, 2, 1],\n",
    "                    [0, 2, 2, 1],\n",
    "                    [2, 0, 2, 0],\n",
    "                    [1, 1, 0, 2]])\n",
    "data_b = np.asarray([[0, 2, 0, 0],\n",
    "                    [2, 1, 1, 1],\n",
    "                    [2, 0, 0, 2],\n",
    "                    [0, 2, 0, 2]])\n",
    "data = np.stack([data_r, data_g, data_b], axis=-1)\n",
    "data = data.reshape(1, 4, 4, 3)\n",
    "\n",
    "for stride in [1, 2]:\n",
    "    print('-'*20 + 'Stride: {}'.format(stride) + '-'*20)\n",
    "    # create model\n",
    "    model = Sequential()\n",
    "    model.add(Conv2D(2, (2,2), strides=stride, padding='valid', input_shape=(4, 4, 3)))\n",
    "\n",
    "    # define a weights and bias\n",
    "    weights = np.asarray([\n",
    "        [ \n",
    "            [ # index (0, 0)\n",
    "                [1, 0, 1], # filter 1, values for R G B\n",
    "                [0, 1, -1], # filter 2, values for R G B\n",
    "            ],\n",
    "            [ # index (1, 0)\n",
    "                [1, -1, 0],\n",
    "                [1, 0, 0],\n",
    "            ],\n",
    "        ],\n",
    "        [\n",
    "            [ # index (0, 1)\n",
    "                [0, 0, 0],\n",
    "                [1, 1, 0],\n",
    "            ],\n",
    "            [ # index (1, 1)\n",
    "                [0, -1, 1],\n",
    "                [0, 0, 1],\n",
    "            ],\n",
    "        ]\n",
    "    ])\n",
    "    weights = np.einsum('...ij -> ...ji', weights)\n",
    "    bias = np.asarray([1, -1])\n",
    "    layer_weights = [weights, bias]\n",
    "    # store the weights in the model\n",
    "    model.set_weights(layer_weights)\n",
    "\n",
    "    # apply filter to input data\n",
    "    yhat = model.predict(data)\n",
    "    print('Output dimension: {}'.format(yhat.squeeze().shape))\n",
    "    for a in range(yhat.shape[-1]):\n",
    "        print('Activation map: {}'.format(a))\n",
    "        print(yhat[0, :, :, a])"
   ]
  }
 ],
 "metadata": {
  "kernelspec": {
   "display_name": "Python 3",
   "language": "python",
   "name": "python3"
  },
  "language_info": {
   "codemirror_mode": {
    "name": "ipython",
    "version": 3
   },
   "file_extension": ".py",
   "mimetype": "text/x-python",
   "name": "python",
   "nbconvert_exporter": "python",
   "pygments_lexer": "ipython3",
   "version": "3.8.6"
  }
 },
 "nbformat": 4,
 "nbformat_minor": 4
}