{
 "cells": [
  {
   "cell_type": "markdown",
   "metadata": {},
   "source": [
    "## (a)\n",
    "*What is the difference between a Dense and a Conv2D layer in Keras ?*\n",
    "\n",
    "In a dense layer a neuron is connected to all the neurons of the previous layer. When using a convolutional layer a neuron is only connected to a specified, local set of neurons of the previous layer. In the Conv2D layer this set is defined by a two dimensional grid which is parametrized by the kernel size.\n",
    "\n",
    "## (b) \n",
    "*In CNN, explain what it means to “preserve the spatial structure” ?*\n",
    "\n",
    "In a CNN each neuron activation depends only on a local window or receptive field in the previous layer. Hence it depends on the spatial structure of the previous layer. As we shift this window across the activations of the previous layer, we get different values for different spatial locations. Thus the spatial structure of the data is preserved.\n",
    "\n",
    "## (c) \n",
    "*In CNN, explain the different operations taking place when performing a convolution of a filter on an input, e.g. an image. How is the filter defined in terms of hyper-parameters ?*\n",
    "\n",
    "The convolution is parametrized by the kernel size (spatial size of the local sliding window), stride (amout of pixels the window is shifted after each step) and the padding. For a convolution with a $3\\times 3$ kernel we have $3\\times3 + 1$ weights. The result of the convolution for a given window is just the dot product of the kernel $w$ with the window values $v$ and adding the bias term $b$.\n",
    "\n",
    "$$\n",
    "\\text{logit} = w\\cdot v + b\n",
    "$$\n",
    "\n",
    "\n",
    "## (d) \n",
    "*Define what is meant by receptive field and activation map.*\n",
    "\n",
    "The receptive field of a specific neuron are all the neurons (in the previous layers) that are affecting the calculation of it's specific activation. \n",
    "\n",
    "An activation map is the result of a convolution of a single filter with some given input.\n",
    "\n",
    "\n",
    "## (e) \n",
    "*Explain the effect of a given stride or zero-padding value.*\n",
    "\n",
    "The stride determines the amount of pixels the local window is shifted after each step. Hence using a stride larger than one will result in a spatially significant smaller output tensor.\n",
    "\n",
    "When applying a convolution to an image, the output tensor wil always be spatially smaller than the input tensor. This is due to the fact that the used local window does not fit $n$ times into the input with size $n$ as it is not allowed to go over the input borders. In order to prevent the output from shrinking, we cann apply zero-padding and add zeros at the border of the input in order for the output to have the same spatial size as the input.  \n",
    "\n",
    "\n",
    "## (f) \n",
    "*For a given configuration of a convolution layer, compute the number of parameters (weights, bias).*\n",
    "\n",
    "Given an input tensor with shape $(32, 32, 3)$ and a layer with $3\\times 3$ kernel and $16$ filters we have $((3\\times 3)\\times 3 + 1)\\times 16=448$ parameters.\n",
    "\n",
    "\n",
    "## (g) \n",
    "*Define what is a max pooling layer and what is its role in a CNN architecture.*\n",
    "\n",
    "The max pooling layer reduces the spatial resolution of an activation map by only keeping the maximum value within a spatially defined local window."
   ]
  }
 ],
 "metadata": {
  "kernelspec": {
   "display_name": "Python 3",
   "language": "python",
   "name": "python3"
  },
  "language_info": {
   "codemirror_mode": {
    "name": "ipython",
    "version": 3
   },
   "file_extension": ".py",
   "mimetype": "text/x-python",
   "name": "python",
   "nbconvert_exporter": "python",
   "pygments_lexer": "ipython3",
   "version": "3.8.5"
  }
 },
 "nbformat": 4,
 "nbformat_minor": 4
}
