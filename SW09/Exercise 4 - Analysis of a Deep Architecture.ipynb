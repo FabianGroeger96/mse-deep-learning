{
 "cells": [
  {
   "cell_type": "markdown",
   "metadata": {},
   "source": [
    "# Inception-v4\n",
    "\n",
    "The authors of the `Inception-v4` network leveraged multiple advances to improve on their architecture\n",
    "\n",
    " - **Parallel convolutions**: Similar to the GoogLeNet architecture within their *modules* the authors simultaneously use multiple convolutional branches with different receptive field sizes on the same input activation maps and again concatenate those activations for further processing.\n",
    " - **Reduction modules**: Instead of simply applying a single max pooling or a 2-stride convolution to downsize the spatial dimensions, the authors dedicated whole modules to this task again employing parallel branches. \n",
    " - **Strong usage of small convolutional kernels** (e.g. $3 \\times 3$): Throughout the network the authors pefer smaller convolutional kernel size over larger ones, as this enables the same receptive field with less parameters (e.g. a single $5\\times 5$ convolution \\[$\\sim 25$ params \\] results in the same receptive field as 2 consecutive $3\\times 3$ convolutions \\[$\\sim 18$ params \\], but the later has less parameters)\n",
    " - **Factorization of convolutions**: They factorize convolutions of filter size $n\\times n$ to a combination of $1\\times n$ and $n\\times 1$ convolutions, in order to reduce the nr of parameters even further (e.g. $7\\times 7$ \\[$\\sim 49$ params \\] results in $1\\times7$ and $7\\times 1$ \\[$\\sim 14$ params \\]!)\n",
    " - **Residual connections**: In the `Inception-ResNet-v1` and `Inception-ResNet-v2` the authors employ the usage of residual connections. Although the residual version of the networks converge faster, the final accuracy seems to mainly depend on the model size.\n",
    " - **Usage of bottleneck layers**: In order to reduce the cost of the individual convolutional branches within their modules, they apply $1\\times 1$ convolutions at the beginning to reduce the depth of the input activation maps.\n",
    " \n",
    "src:\n",
    " - https://arxiv.org/pdf/1602.07261.pdf\n",
    " - https://towardsdatascience.com/a-simple-guide-to-the-versions-of-the-inception-network-7fc52b863202"
   ]
  }
 ],
 "metadata": {
  "kernelspec": {
   "display_name": "Python 3",
   "language": "python",
   "name": "python3"
  },
  "language_info": {
   "codemirror_mode": {
    "name": "ipython",
    "version": 3
   },
   "file_extension": ".py",
   "mimetype": "text/x-python",
   "name": "python",
   "nbconvert_exporter": "python",
   "pygments_lexer": "ipython3",
   "version": "3.8.5"
  }
 },
 "nbformat": 4,
 "nbformat_minor": 4
}
